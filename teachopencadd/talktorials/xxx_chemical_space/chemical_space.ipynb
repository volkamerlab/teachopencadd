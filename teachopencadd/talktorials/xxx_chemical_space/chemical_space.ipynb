{
 "cells": [
  {
   "cell_type": "markdown",
   "metadata": {},
   "source": [
    "# Visualize chemical space"
   ]
  },
  {
   "cell_type": "markdown",
   "metadata": {},
   "source": [
    "## Aim of this talktorial\n",
    "\n",
    "This notebook explores different ways to visualize chemical space using molecular fingerprints as input, i.e., PCA, t-SNE, UMAP, TMAP. Activity data for three kinases from ChEMBL will be used as example data. The following command will create an environment named `chemical_space` that contains all needed packages:  \n",
    "`conda create -n chemical_space -c conda-forge -c rdkit -c tmap rdkit tmap umap-learn matplotlib jupyterlab`"
   ]
  },
  {
   "cell_type": "markdown",
   "metadata": {},
   "source": [
    "### Contents in Theory\n",
    "- PCA\n",
    "- t-SNE\n",
    "- UMAP\n",
    "- TMAP"
   ]
  },
  {
   "cell_type": "markdown",
   "metadata": {},
   "source": [
    "### Contents in Practical\n",
    "- Data preparation\n",
    "- PCA\n",
    "- t-SNE\n",
    "- UMAP\n",
    "- TMAP"
   ]
  },
  {
   "cell_type": "markdown",
   "metadata": {},
   "source": [
    "### References\n",
    "- PCA ([wikipedia](https://en.wikipedia.org/wiki/Principal_component_analysis), [sklearn documentation](https://scikit-learn.org/stable/modules/generated/sklearn.decomposition.PCA.html))\n",
    "- t-SNE ([article](https://www.jmlr.org/papers/volume9/vandermaaten08a/vandermaaten08a.pdf), [wikipedia](https://en.wikipedia.org/wiki/T-distributed_stochastic_neighbor_embedding), [sklearn documentation](https://scikit-learn.org/stable/modules/generated/sklearn.manifold.TSNE.html))\n",
    "- UMAP ([article](https://arxiv.org/abs/1802.03426), [repo](https://github.com/lmcinnes/umap), [documentation](https://umap-learn.readthedocs.io/en/latest/))\n",
    "- TMAP ([article](https://jcheminf.biomedcentral.com/articles/10.1186/s13321-020-0416-x), [repo](https://github.com/reymond-group/tmap), [documentation](https://tmap.gdb.tools/))"
   ]
  },
  {
   "cell_type": "markdown",
   "metadata": {},
   "source": [
    "## Theory"
   ]
  },
  {
   "cell_type": "markdown",
   "metadata": {},
   "source": [
    "### PCA\n",
    "\n",
    "**P**rincipal **C**omponent **A**nalysis\n",
    "\n",
    "Principal components are the directions (vectors), in which the data shows the most variance. They are defined by Eigenvector and Eigenvalues that correspond the the direction of the variance and the intensity of the varience (Fig. 1).\n",
    "\n",
    "![Scatter plot of a PCA](images/GaussianScatterPCA.svg)\n",
    "**Fig. 1:** Example of a principal component analysis. The vectors correspond to the two Eigenvectors explaing most of the observed variance in the underlying data. The length each Eigenvector is the Eigenvalue, which corresponds to the intensity of the observed variance."
   ]
  },
  {
   "cell_type": "markdown",
   "metadata": {},
   "source": [
    "### t-SNE\n",
    "\n",
    "**t**-distributed **S**tochastic **N**eighbor **E**mbedding\n",
    "\n",
    "[theory](https://mlexplained.com/2018/09/14/paper-dissected-visualizing-data-using-t-sne-explained/)\n",
    "\n",
    "- unlike PCA, t-SNE is not a linear projection\n",
    "- t-SNE creates a probability distribution using the Gaussian distribution that defines the relationships between the points in high-dimensional space\n",
    "- doesn't have the crowding problem in low-dimensional space"
   ]
  },
  {
   "cell_type": "markdown",
   "metadata": {},
   "source": [
    "### UMAP\n",
    "\n",
    "amazing examples --> [theory](https://pair-code.github.io/understanding-umap/)\n",
    "\n",
    "- t-SNE computational expensive, problematic for bigger datasets\n",
    "- similar to t-SNE but preserves the global structure better"
   ]
  },
  {
   "cell_type": "markdown",
   "metadata": {},
   "source": [
    "### TMAP"
   ]
  },
  {
   "cell_type": "markdown",
   "metadata": {},
   "source": [
    "## Practical"
   ]
  },
  {
   "cell_type": "code",
   "execution_count": 1,
   "metadata": {},
   "outputs": [],
   "source": [
    "import matplotlib.pyplot as plt\n",
    "import numpy as np\n",
    "import pandas as pd\n",
    "from sklearn.decomposition import PCA\n",
    "from sklearn.manifold import TSNE\n",
    "import umap\n",
    "\n",
    "from rdkit import Chem, rdBase, DataStructs\n",
    "from rdkit.Chem import AllChem\n",
    "\n",
    "from IPython.display import Image"
   ]
  },
  {
   "cell_type": "markdown",
   "metadata": {},
   "source": [
    "### Data preparation\n",
    "\n",
    "First, let's prepare data for visualization by loading the activity data and generating Morgan fingerprint with RDKit."
   ]
  },
  {
   "cell_type": "code",
   "execution_count": 2,
   "metadata": {},
   "outputs": [],
   "source": [
    "# load data\n",
    "abl1 = pd.read_csv(\"data/chembl27_abl1_ki.csv\", sep=\";\", quotechar='\"')\n",
    "abl1[\"target_short\"] = \"ABL1\"\n",
    "aura = pd.read_csv(\"data/chembl27_aura_ki.csv\", sep=\";\", quotechar='\"')\n",
    "aura[\"target_short\"] = \"AURA\"\n",
    "cdk2 = pd.read_csv(\"data/chembl27_cdk2_ki.csv\", sep=\";\", quotechar='\"')\n",
    "cdk2[\"target_short\"] = \"CDK2\""
   ]
  },
  {
   "cell_type": "code",
   "execution_count": 3,
   "metadata": {},
   "outputs": [
    {
     "data": {
      "text/plain": [
       "(4085, 42)"
      ]
     },
     "execution_count": 3,
     "metadata": {},
     "output_type": "execute_result"
    }
   ],
   "source": [
    "# combine data\n",
    "data = pd.concat([abl1, aura, cdk2], ignore_index=True)\n",
    "data.shape"
   ]
  },
  {
   "cell_type": "code",
   "execution_count": 4,
   "metadata": {},
   "outputs": [
    {
     "data": {
      "text/plain": [
       "(1074, 42)"
      ]
     },
     "execution_count": 4,
     "metadata": {},
     "output_type": "execute_result"
    }
   ],
   "source": [
    "# filter data for most active molecules\n",
    "data = data[data[\"Standard Relation\"] == \"'='\"]\n",
    "data = data[data[\"Standard Units\"] == \"nM\"]\n",
    "data = data[data[\"Standard Value\"] <= 100]\n",
    "data.shape"
   ]
  },
  {
   "cell_type": "code",
   "execution_count": 5,
   "metadata": {},
   "outputs": [],
   "source": [
    "# generate fingerprints\n",
    "data['mol'] = data[\"Smiles\"].apply(Chem.MolFromSmiles)\n",
    "data['ecfp'] = data['mol'].apply(AllChem.GetMorganFingerprintAsBitVect, radius=2)"
   ]
  },
  {
   "cell_type": "code",
   "execution_count": 6,
   "metadata": {},
   "outputs": [],
   "source": [
    "# generate an array of fingerprints as numpy arrays\n",
    "ecfp_arrays = []\n",
    "for index, row in data.iterrows():\n",
    "    array = np.zeros((0,), dtype=np.int8)\n",
    "    DataStructs.ConvertToNumpyArray(row['ecfp'], array)\n",
    "    ecfp_arrays.append(array)\n",
    "ecfp_arrays = np.asarray(ecfp_arrays)"
   ]
  },
  {
   "cell_type": "markdown",
   "metadata": {},
   "source": [
    "### PCA"
   ]
  },
  {
   "cell_type": "code",
   "execution_count": 7,
   "metadata": {},
   "outputs": [],
   "source": [
    "pca = PCA(n_components=2)\n",
    "pca_result = pca.fit_transform(ecfp_arrays)"
   ]
  },
  {
   "cell_type": "code",
   "execution_count": 8,
   "metadata": {},
   "outputs": [],
   "source": [
    "data['pca_one'] = pca_result[:,0]\n",
    "data['pca_two'] = pca_result[:,1]"
   ]
  },
  {
   "cell_type": "code",
   "execution_count": 9,
   "metadata": {},
   "outputs": [
    {
     "data": {
      "text/plain": [
       "array([0.13106408, 0.05694998])"
      ]
     },
     "execution_count": 9,
     "metadata": {},
     "output_type": "execute_result"
    }
   ],
   "source": [
    "pca.explained_variance_ratio_"
   ]
  },
  {
   "cell_type": "code",
   "execution_count": 10,
   "metadata": {},
   "outputs": [
    {
     "data": {
      "text/plain": [
       "<matplotlib.legend.Legend at 0x7fe5bf956a10>"
      ]
     },
     "execution_count": 10,
     "metadata": {},
     "output_type": "execute_result"
    },
    {
     "data": {
      "image/png": "[encoded data removed]",
      "text/plain": [
       "<Figure size 432x288 with 1 Axes>"
      ]
     },
     "metadata": {
      "needs_background": "light"
     },
     "output_type": "display_data"
    }
   ],
   "source": [
    "abl1_pca = data[data['target_short'] == \"ABL1\"]\n",
    "aura_pca = data[data['target_short'] == \"AURA\"]\n",
    "cdk2_pca = data[data['target_short'] == \"CDK2\"]\n",
    "a = plt.scatter(abl1_pca['pca_one'], abl1_pca['pca_two'], 4)\n",
    "b = plt.scatter(aura_pca['pca_one'], aura_pca['pca_two'], 4)\n",
    "c = plt.scatter(cdk2_pca['pca_one'], cdk2_pca['pca_two'], 4)\n",
    "plt.xlabel(\"first principal component\")\n",
    "plt.ylabel(\"second principal component\")\n",
    "plt.legend((a, b, c), ('ABL1', 'AURA', 'CDK2'))"
   ]
  },
  {
   "cell_type": "markdown",
   "metadata": {},
   "source": [
    "### t-SNE"
   ]
  },
  {
   "cell_type": "code",
   "execution_count": 11,
   "metadata": {},
   "outputs": [],
   "source": [
    "tsne = TSNE(n_components=2)\n",
    "tsne_results = tsne.fit_transform(ecfp_arrays)"
   ]
  },
  {
   "cell_type": "code",
   "execution_count": 12,
   "metadata": {},
   "outputs": [],
   "source": [
    "data['tsne_one'] = tsne_results[:,0]\n",
    "data['tsne_two'] = tsne_results[:,1]"
   ]
  },
  {
   "cell_type": "code",
   "execution_count": 13,
   "metadata": {},
   "outputs": [
    {
     "data": {
      "text/plain": [
       "<matplotlib.legend.Legend at 0x7fe5bfc5dcd0>"
      ]
     },
     "execution_count": 13,
     "metadata": {},
     "output_type": "execute_result"
    },
    {
     "data": {
      "image/png": "[encoded data removed]",
      "text/plain": [
       "<Figure size 432x288 with 1 Axes>"
      ]
     },
     "metadata": {
      "needs_background": "light"
     },
     "output_type": "display_data"
    }
   ],
   "source": [
    "abl1_tsne = data[data['target_short'] == \"ABL1\"]\n",
    "aura_tsne = data[data['target_short'] == \"AURA\"]\n",
    "cdk2_tsne = data[data['target_short'] == \"CDK2\"]\n",
    "a = plt.scatter(abl1_tsne['tsne_one'], abl1_tsne['tsne_two'], 4)\n",
    "b = plt.scatter(aura_tsne['tsne_one'], aura_tsne['tsne_two'], 4)\n",
    "c = plt.scatter(cdk2_tsne['tsne_one'], cdk2_tsne['tsne_two'], 4)\n",
    "plt.xlabel(\"first t-SNE dimension\")\n",
    "plt.ylabel(\"second t-SNE dimension\")\n",
    "plt.legend((a, b, c), ('ABL1', 'AURA', 'CDK2'))"
   ]
  },
  {
   "cell_type": "markdown",
   "metadata": {},
   "source": [
    "### UMAP"
   ]
  },
  {
   "cell_type": "code",
   "execution_count": 14,
   "metadata": {},
   "outputs": [],
   "source": [
    "embedding = umap.UMAP().fit_transform(ecfp_arrays)\n",
    "data['umap_one'] = embedding.T[0]\n",
    "data['umap_two'] = embedding.T[1]"
   ]
  },
  {
   "cell_type": "code",
   "execution_count": 15,
   "metadata": {},
   "outputs": [
    {
     "data": {
      "text/plain": [
       "<matplotlib.legend.Legend at 0x7fe5ab723650>"
      ]
     },
     "execution_count": 15,
     "metadata": {},
     "output_type": "execute_result"
    },
    {
     "data": {
      "image/png": "[encoded data removed]",
      "text/plain": [
       "<Figure size 432x288 with 1 Axes>"
      ]
     },
     "metadata": {
      "needs_background": "light"
     },
     "output_type": "display_data"
    }
   ],
   "source": [
    "abl1_umap = data[data['target_short'] == \"ABL1\"]\n",
    "aura_umap = data[data['target_short'] == \"AURA\"]\n",
    "cdk2_umap = data[data['target_short'] == \"CDK2\"]\n",
    "a = plt.scatter(abl1_umap['umap_one'], abl1_umap['umap_two'], 4)\n",
    "b = plt.scatter(aura_umap['umap_one'], aura_umap['umap_two'], 4)\n",
    "c = plt.scatter(cdk2_umap['umap_one'], cdk2_umap['umap_two'], 4)\n",
    "plt.xlabel(\"first UMAP dimension\")\n",
    "plt.ylabel(\"second UMAP dimension\")\n",
    "plt.legend((a, b, c), ('ABL1', 'AURA', 'CDK2'))"
   ]
  },
  {
   "cell_type": "markdown",
   "metadata": {},
   "source": [
    "## TMAP"
   ]
  },
  {
   "cell_type": "code",
   "execution_count": 16,
   "metadata": {},
   "outputs": [
    {
     "data": {
      "text/html": [
       "<img src=\"https://tmap.gdb.tools/src/npatlas/npatlas.jpg\"/>"
      ],
      "text/plain": [
       "<IPython.core.display.Image object>"
      ]
     },
     "execution_count": 16,
     "metadata": {},
     "output_type": "execute_result"
    }
   ],
   "source": [
    "Image(url=\"https://tmap.gdb.tools/src/npatlas/npatlas.jpg\")"
   ]
  }
 ],
 "metadata": {
  "kernelspec": {
   "display_name": "Python 3",
   "language": "python",
   "name": "python3"
  },
  "language_info": {
   "codemirror_mode": {
    "name": "ipython",
    "version": 3
   },
   "file_extension": ".py",
   "mimetype": "text/x-python",
   "name": "python",
   "nbconvert_exporter": "python",
   "pygments_lexer": "ipython3",
   "version": "3.7.8"
  }
 },
 "nbformat": 4,
 "nbformat_minor": 4
}
