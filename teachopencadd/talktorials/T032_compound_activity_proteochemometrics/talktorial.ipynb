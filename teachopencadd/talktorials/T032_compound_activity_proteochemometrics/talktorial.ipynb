{
 "cells": [
  {
   "cell_type": "markdown",
   "metadata": {},
   "source": [
    "# T032 · Compound activity: Proteochemometrics\n",
    "\n",
    "**Note:** This talktorial is a part of TeachOpenCADD, a platform that aims to teach domain-specific skills and to provide pipeline templates as starting points for research projects.\n",
    "\n",
    "Authors:\n",
    "\n",
    "- Marina Gorostiola González, 2022, [Computational Drug Discovery](https://www.universiteitleiden.nl/en/science/drug-research/drug-discovery-and-safety/computational-drug-discovery), Drug Discovery & Safety Leiden University (The Netherlands)\n",
    "- Olivier J.M. Béquignon, 2022, Computational Drug Discovery, Drug Discovery & Safety Leiden University (The Netherlands)\n",
    "- Willem Jespers, 2022, Computational Drug Discovery, Drug Discovery & Safety Leiden University (The Netherlands)"
   ]
  },
  {
   "cell_type": "markdown",
   "metadata": {},
   "source": [
    "## Aim of this talktorial\n",
    "\n",
    "While activity data is very abundant for some protein targets, there are still a number of underexplored proteins where the use of machine learning (ML) for activity prediction is very difficult due to the lack of data. This issue can be partially solved by leveraging similarities and differences between proteins. In this talktorial, we use proteochemometrics (PCM) modeling to enrich our activity models with protein data to predict the activity of novel compounds against the four [adenosine receptor](https://journals.physiology.org/doi/full/10.1152/physrev.00049.2017) isoforms (A1, A2A, A2B, A3)."
   ]
  },
  {
   "cell_type": "markdown",
   "metadata": {},
   "source": [
    "### Contents in *Theory*\n",
    "* Proteochemometrics (PCM) modeling\n",
    "* Data preparation\n",
    "    * Papyrus dataset\n",
    "    * Molecule encoding: molecular descriptors\n",
    "    * Protein encoding: protein descriptors\n",
    "* Machine learning principles: regression\n",
    "    * Data splitting methods\n",
    "    * Regression evaluation metrics\n",
    "    * ML algorithm: Random Forest\n",
    "* Applications of PCM in drug discovery"
   ]
  },
  {
   "cell_type": "markdown",
   "metadata": {},
   "source": [
    "### Contents in *Practical*\n",
    "\n",
    "* Download Papyrus dataset\n",
    "* Data preparation\n",
    "    * Filter activity data for targets of interest\n",
    "    * Align target sequences\n",
    "    * Calculate protein descriptors\n",
    "    * Calculate compound descriptors\n",
    "* Proteochemometrics modeling\n",
    "    * Helper functions\n",
    "    * Preprocessing\n",
    "    * Model training and validation\n",
    "        * Random split PCM model\n",
    "        * Random split QSAR models\n",
    "        * Leave one target out split PCM model"
   ]
  },
  {
   "cell_type": "markdown",
   "metadata": {},
   "source": [
    "### References\n",
    "\n",
    "* Papyrus scripts [GitHub](https://github.com/OlivierBeq/Papyrus-scripts)\n",
    "* Papyrus dataset preprint: [*ChemRvix* (2021)](https://chemrxiv.org/engage/chemrxiv/article-details/617aa2467a002162403d71f0)\n",
    "* Molecular descriptors (Modred): [*J. Cheminf.*, 10, (2018)](https://jcheminf.biomedcentral.com/articles/10.1186/s13321-018-0258-y)\n",
    "* Protein descriptors (ProDEC) [GitHub](https://github.com/OlivierBeq/ProDEC)\n",
    "* Regression metrics [(Scikit learn)](https://scikit-learn.org/stable/modules/model_evaluation.html#regression-metrics)\n",
    "* XGBoost [Documentation](https://xgboost.readthedocs.io/en/stable/index.html)\n",
    "* Proteochemometrics review: [*Drug Discov.* (2019), **32**, 89-98](https://www.sciencedirect.com/science/article/pii/S1740674920300111?via%3Dihub)\n",
    "\n"
   ]
  },
  {
   "cell_type": "markdown",
   "metadata": {},
   "source": [
    "## Theory"
   ]
  },
  {
   "cell_type": "markdown",
   "metadata": {
    "pycharm": {
     "name": "#%% md\n"
    }
   },
   "source": [
    "### Proteochemometrics (PCM) modeling"
   ]
  },
  {
   "cell_type": "markdown",
   "metadata": {},
   "source": [
    "Proteochemometrics (PCM) models a biological endpoint (e.g. compound activity) via supervised ML algorithms based on a series of features derived from chemical compounds and target proteins. PCM is an extension of a more widespread bioactivity modeling technique, Quantitative Structure Activity Relationship (QSAR) modeling, which relies solely on chemical features and that was introduced on **Talktorial T007**. Explore that talktorial to know more about the basic principle of activity prediction using ML.\n",
    "\n",
    "To successfully apply PCM modeling, we need a large dataset of molecule-protein pairs with known bioactivity values, a way of describing molecules and proteins, and an ML algorithm to train a model. Then, we can make predictions for new molecule-protein pairs.\n"
   ]
  },
  {
   "cell_type": "markdown",
   "metadata": {},
   "source": [
    "<img src='images/PCM_model_text-01.png' width=\"700\">\n",
    "\n",
    "*Figure 1:*\n",
    "Proteochemometrics modeling construction from protein and molecular descriptors for which protein-compound pair bioactivity data is known.\n",
    "Figure made by Marina Gorostiola González."
   ]
  },
  {
   "cell_type": "markdown",
   "metadata": {},
   "source": [
    "### Data preparation"
   ]
  },
  {
   "cell_type": "markdown",
   "metadata": {},
   "source": [
    "#### Papyrus dataset"
   ]
  },
  {
   "cell_type": "markdown",
   "metadata": {},
   "source": [
    "The Papyrus dataset is a highly curated compilation of bioactivity data intended for modeling in drug discovery. Apart from the bioactivity data contained in the [ChEMBL database](https://www.ebi.ac.uk/chembl/) (see also  **Talktorial T001**), the Papyrus dataset contains binary data for classification tasks from the [ExCAPE-DB](https://solr.ideaconsult.net/search/excape/), and bioactivity data from a number of kinase-specific papers (Figure 1). The Papyrus dataset consists of almost 60M compound-protein pairs, representing data of around 1.2M unique compounds and 7K proteins across 499 different organisms.\n",
    "\n",
    "The aggregated bioactivity data is standardized, repaired, and normalized to form the Papyrus dataset, which is updated with every new version of ChEMBL released. The Papyrus dataset contains \"high quality\" data associated with pChEMBL values for regression or classification tasks. pChEMBL value is a canonical activity metric defined as $-log_{10}(molar IC_{50}, XC_{50}, EC_{50}, AC_{50}, Ki, Kd, or potency)$. Moreover, \"low quality\" data that is only associated with an active/inactive label can be used for classification tasks (read more about ML applications in **Talktorial T007**)."
   ]
  },
  {
   "cell_type": "markdown",
   "metadata": {},
   "source": [
    "<img src='images/papyrus_workflow.png' width=\"700\">\n",
    "\n",
    "*Figure 2:*\n",
    "Papyrus dataset generation scheme.\n",
    "Figure taken from: Papyrus scripts [GitHub](https://github.com/OlivierBeq/Papyrus-scripts)."
   ]
  },
  {
   "cell_type": "markdown",
   "metadata": {
    "pycharm": {
     "name": "#%% md\n"
    }
   },
   "source": [
    "#### Molecule encoding: molecular descriptors"
   ]
  },
  {
   "cell_type": "markdown",
   "metadata": {
    "pycharm": {
     "name": "#%% md\n"
    }
   },
   "source": [
    "For the ML models used in PCM, molecules need to be converted into a list of features. In **Talktorial T007**, molecular fingerprints were introduced. In this talktorial, we will use a different type of representation that is often used on its own or in combination with fingerprints: molecular descriptors.\n",
    "\n",
    "**Molecular descriptors** are the \"final result of a logical and mathematical procedure, which transforms chemical information encoded within a symbolic representation of a molecule into a useful number or the result of some standardized experiment\" ([*J. Cheminf.*, 10, (2018)](https://jcheminf.biomedcentral.com/articles/10.1186/s13321-018-0258-y)). These descriptors can be, for example, molecular weight, ring count, Eccentric Connectivity Index (calculated from the 2D structure), or Geometrical Index (calculated from the 3D structure).\n",
    "\n",
    "In this talktorial, we use [Modred](https://github.com/mordred-descriptor/mordred) as a software engine to calculate molecular descriptors. Modred calculates more than 1,800 molecular descriptors, including the ones implemented in RDKit. The algorithm starts with an automatic preprocessing step that is common for all possible descriptors calculated. For simplicity, here we calculate only four types of descriptors from the vast list of possibilities from Modred, excluding their 3D representation. These four descriptors are:\n",
    "\n",
    "* **ABC Index**: 2 descriptors that represent the atom-bond connectivity index or the Graovac-Ghorbani atom-bond connectivity index (see Modred `ABCIndex` [docs](https://mordred-descriptor.github.io/documentation/master/api/mordred.ABCIndex.html))\n",
    "* **Acid-Base**: 2 descriptors that count acidic and basic groups, respectively (see Modred `AcidBase` [docs](https://mordred-descriptor.github.io/documentation/master/api/mordred.AcidBase.html?highlight=acidbase))\n",
    "* **Atom count**: 16 descriptors that represent a count of different types of atoms (see Modred `AtomCount` [docs](https://mordred-descriptor.github.io/documentation/master/api/mordred.AtomCount.html?highlight=atomcount))\n",
    "* **Balaban J index**: 1 descriptor that represents a topological index (see Modred `BalabanJ` [docs](https://mordred-descriptor.github.io/documentation/master/api/mordred.BalabanJ.html?highlight=balaban#module-mordred.BalabanJ))"
   ]
  },
  {
   "cell_type": "markdown",
   "metadata": {},
   "source": [
    "#### Protein encoding: protein descriptors"
   ]
  },
  {
   "cell_type": "markdown",
   "metadata": {
    "pycharm": {
     "name": "#%% md\n"
    }
   },
   "source": [
    "As done for molecules, the proteins of interest need to be converted to a list of features or protein descriptors. Protein descriptors used in PCM applications are commonly based on the protein sequence and represent physicochemical characteristics of the amino acids that make up the sequence (e.g. Z-scales). Other protein descriptors represent topological (e.g. ST-scales) or electrostatic properties (e.g. MS-WHIM) of the protein sequence. Moreover, if structural information is available, protein descriptors can be derived from the 3D structure of the protein (e.g. sPairs) or the ligand-protein interaction in 3D (e.g. interaction fingerprints). Finally, with the widespread use of deep learning, protein embeddings can be obtained after parsing the protein sequence through the network (e.g. UniRep, AlphaFold embeddings). To read more about protein descriptors, check out this selection of articles ([*Brief. Bioinform.*,18, (2017)](https://pubmed.ncbi.nlm.nih.gov/26873661/), [*Int. J. Mol. Sci.*, 22, (2021)](https://pubmed.ncbi.nlm.nih.gov/34884688/), [*Comput. Struct. Biotechnol. J.*, 20, (2022)](https://pubmed.ncbi.nlm.nih.gov/35222841/)).\n",
    "\n",
    "For protein descriptors based on the protein sequence, an aspect to take into account is that for ML the length of the protein descriptor needs to be the same. However, most proteins do not have the same sequence length. To solve this issue, there are two main approaches:\n",
    "\n",
    "* **Multiple sequence alignment (MSA)**: If the entire protein is to be included in the model, an MSA can be performed. The final descriptor has as many entries as the number of features per amino acid multiplied by the number of aligned positions. To account for gaps in the alignment, zeros are introduced in the descriptor. An MSA is a tool to identify common patterns between three or more biological sequences, usually DNA, RNA, or protein. One of the most common tools to perform MSA is Clustal Omega (or ClustalO), available as a [webtool](https://www.ebi.ac.uk/Tools/msa/clustalo/).\n",
    "* **Binding pocket selection**: To avoid unnecessary features, a binding pocket of the same length can be selected for each protein. Normally, the binding pocket selection is preceded by a multiple sequence alignment and driven by known structural or mutagenesis data.\n",
    "\n",
    "Other options are available when proteins are not of the same family or do not share a binding pocket (see [*Drug Discov.* (2019), **32**, 89-98](https://www.sciencedirect.com/science/article/pii/S1740674920300111?via%3Dihub))\n",
    "\n",
    "In this talktorial, we will focus on physicochemical protein descriptors, mainly **Z-scales** ([*J. Med. Chem*, 30 (1987)](https://pubs.acs.org/doi/10.1021/jm00390a003)). The Z-scales descriptor assigns three pre-determined values (Z~1~, Z~2~, Z~3~) to each amino acid in the sequence. The Z~1~, Z~2~, and Z~3~ values are the first principal components of a principal component analysis (PCA) including 29 different physicochemical variables to characterize the amino acids.\n",
    "Since we are calculating activity for four proteins with very high sequence similarity (Adenosine receptors A1, A2A, A2B, and A3), we will use **multiple sequence alignment** prior to calculation of the Z-scales. To calculate Z-scales we will use [ProDEC](https://github.com/OlivierBeq/ProDEC), an open source resource that compiles a large number of protein descriptors."
   ]
  },
  {
   "cell_type": "markdown",
   "metadata": {
    "pycharm": {
     "name": "#%% md\n"
    }
   },
   "source": [
    "### Machine learning principles: regression"
   ]
  },
  {
   "cell_type": "markdown",
   "metadata": {},
   "source": [
    "The ML principles for PCM modeling are equivalent to those explained for QSAR modeling. However, in this talktorial we will explore a supervised ML application other than classification, this is **regression**. For regression tasks, a continuous target variable is needed, for example pChEMBL values.\n",
    "\n",
    "**Note**: Target variable is the variable we want to predict in ML. Not to be confused with (protein) target."
   ]
  },
  {
   "cell_type": "markdown",
   "metadata": {
    "pycharm": {
     "name": "#%% md\n"
    }
   },
   "source": [
    "#### Data splitting methods"
   ]
  },
  {
   "cell_type": "markdown",
   "metadata": {},
   "source": [
    "Similarly to classification tasks, in supervised ML regression applications the model is first fitted to a training set and subsequently the predictive performance is evaluated on a test set. Therefore, the original dataset needs to be split between training and test sets. The split needs to ensure that the fitting process has enough data, and that the test set is representative. Normally, the distribution between train and test set is 80/20 or 70/30. Depending on the applicability domain, the split can be done in multiple ways. In PCM modeling, some of the most common splitting methods are:\n",
    "\n",
    "* **Random split**: This method is not particularly relevant in drug discovery applications as it does not reflect the reality of a drug discovery campaign and it will most likely lead to data leaks between the training and test set. This is, very similar data will be found in both sets, which will lead to an overestimation of the predictive performance of the model. This type of split is commonly used, however, as a baseline and point of reference for other splitting methods, or as a starting point for quick model comparisons.\n",
    "* **Leave one target out (LOTO) split**: To evaluate the ability of the model to extrapolate to targets not previously seen, one of the targets can be completely moved to the test set. In a big enough set, instead of one \"some\" targets can be moved to the test set (i.e. Leave some targets out, or LSTO).\n",
    "* **Leave one compound cluster out (LOCCO) split**: This method evaluates the ability of the model to extrapolate to compounds with properties not previously seen by the model. Clustering can be done based on different molecular characteristics, such as physicochemical properties or scaffold, for example (see **Talktorial T005** to learn more about clustering). One (or several, LSCCO) cluster(s) can then be left out for testing. This method prevents data leaking in terms of chemistry between training and test sets.\n",
    "* **Temporal split**: This method was developed in order to account for the usual timeline of drug discovery campaigns, where chemical series are populated sequentially over time. In this approach, the molecules included in the training set are those released until a certain date and the rest (most novel) are included in the test set.\n",
    "* **Stratified split per target**: This method can be applied to any of the splitting methods described above (except LOTO), and aims to include data of all targets in both the training and test set, so that additional target-compound interactions can be extracted by the model. (**NOTE:** stratification can be also done in regards to other reference points apart from targets, for example classes in classification tasks, to make sure that the distribution is similar across training and test set)."
   ]
  },
  {
   "cell_type": "markdown",
   "metadata": {
    "pycharm": {
     "name": "#%% md\n"
    }
   },
   "source": [
    "<img src='images/splitting_methods.png' width=\"700\">\n",
    "\n",
    "*Figure 3:*\n",
    "Overview of splitting methods, including target-stratified random and temporal splits and leave one target out approach.\n",
    "Figure made by Marina Gorostiola González."
   ]
  },
  {
   "cell_type": "markdown",
   "metadata": {
    "pycharm": {
     "name": "#%% md\n"
    }
   },
   "source": [
    "#### Regression evaluation metrics"
   ]
  },
  {
   "cell_type": "markdown",
   "metadata": {},
   "source": [
    "\n",
    "To evaluate the predictive performance of a regression model, there are several metrics that in simple terms measure the differences between the true target values and the predictions made by the model. These metrics can be used in cross-validation on the training set (see **Talktorial T007**) or in the test set. The most commonly used metrics include:\n",
    "\n",
    "* **Coefficient of determination (**$R^{2}$ **score)**: Represents the portion of variance of the target variable that has been explained by the independent variables (features) in the model. $R^{2}$ score varies between 1.0 (best score) and minus infinite, where 0.0 represents a model that always predicts the average target variable. As the variance is dataset-dependent, it might not be a meaningful metric to compare between datasets. When dealing with linear regression, and model fitting and evaluation are performed on a single dataset, $R^{2}$ is equivalent to the square of the Pearson correlation coefficient, described below, and can be noted as $r^{2}$.\n",
    "* **Pearson's correlation coefficient (Pearson's** $r$**)**: Is a measure of the linear correlation between the true and predicted values of the target variable. It is calculated as the covariance of the two variables divided by the product of their standard deviation. Pearson's $r$ can vary between 1.0 (a perfect positive correlation) and -1.0 (a perfect negative correlation), where 1.0 would represent a perfect prediction.\n",
    "* **Mean absolute error (MAE)**: Measures the average absolute difference between the predicted and the true values. MAE is interpreted based on the scale of the data, and it varies between infinite and 0.0 (best).\n",
    "* **Mean squared error (MSE)**: Measures the average of the squares of the difference between the predicted and the true values. It varies between infinite and 0.0 (best).\n",
    "* **Root mean square error (RMSE)**: It is the square root of the MSE and represents the standard deviation of the prediction errors with respect to the line of best fit. RMSE is a measure of accuracy and it cannot be applied to compare  between datasets, as it is scale-dependent. It varies between infinite and 0.0 (best).\n",
    "\n",
    "To learn more about evaluation metrics, you can consult scikit learn's `regression metrics` [Docs](https://scikit-learn.org/stable/modules/model_evaluation.html#regression-metrics)."
   ]
  },
  {
   "cell_type": "markdown",
   "metadata": {
    "pycharm": {
     "name": "#%% md\n"
    }
   },
   "source": [
    "#### ML algorithm: Random Forest"
   ]
  },
  {
   "cell_type": "markdown",
   "metadata": {
    "pycharm": {
     "name": "#%% md\n"
    }
   },
   "source": [
    "Different ML algorithms can be used to train PCM models. Some of them include support vector machines (SVM), **random forest (RF)**, and neural networks (NN), which were described in **Talktorial T007**. RF models have been used extensively in PCM applications due to their efficiency in large datasets and resistance to overfitting with more features. However, deep learning applications are also gaining momentum. See [*J. Cheminform.*, 45, (2017)](https://pubmed.ncbi.nlm.nih.gov/29086168/) for a comparative use of ML methods in PCM modeling.\n",
    "In this talktorial, we will use RF. RF is a decision tree-based algorithm, more in detail a bagging ensemble method. This means that there are multiple decision trees trained independently with subsets of features and data and the final prediction is made from a consensus between the independent predictions.\n"
   ]
  },
  {
   "cell_type": "markdown",
   "metadata": {
    "pycharm": {
     "name": "#%% md\n"
    }
   },
   "source": [
    "### Applications of PCM in drug discovery"
   ]
  },
  {
   "cell_type": "markdown",
   "metadata": {
    "pycharm": {
     "name": "#%% md\n"
    }
   },
   "source": [
    "The possibility to predict bioactivity for multiple targets in one model with PCM is very interesting in drug discovery and expands the applicability domain of QSAR modeling. Some applications of this technique are listed below and help answer the following questions in drug discovery:\n",
    "\n",
    "* **Poly-pharmacology**: Is it possible to target several proteins of interest simultaneously with one single drug?\n",
    "* **Off-target prediction**: What other proteins do these compounds target apart from the intended therapeutic target? Are maybe these off-targets responsible for side effects?\n",
    "* **Selectivity prediction**: Do certain novel compounds target one protein isoform while avoiding others (off-targets) known to cause adverse effects?\n",
    "\n",
    "To know more about applications of PCM in drug discovery, have a look at this review [*Drug Discov.* (2019), **32**, 89-98](https://www.sciencedirect.com/science/article/pii/S1740674920300111?via%3Dihub)."
   ]
  },
  {
   "cell_type": "markdown",
   "metadata": {},
   "source": [
    "## Practical"
   ]
  },
  {
   "cell_type": "markdown",
   "metadata": {},
   "source": [
    "In the practical section of this talktorial we will create a PCM regression model for the four adenosine receptors (A1, A2A, A2B, A3) with data from the Papyrus dataset and molecular and protein descriptors as features."
   ]
  },
  {
   "cell_type": "markdown",
   "metadata": {},
   "source": [
    "Before we start, let's install a few packages that are not part of TeachOpenCADD's [global environment file](https://github.com/volkamerlab/teachopencadd/blob/master/devtools/test_env.yml) because they are only relevant to this notebook (this setup will change in the future, see discussion [here](https://github.com/volkamerlab/teachopencadd/discussions/277))."
   ]
  },
  {
   "cell_type": "code",
   "execution_count": null,
   "metadata": {},
   "outputs": [],
   "source": [
    "!pip install prodec rich-msa xmltramp2"
   ]
  },
  {
   "cell_type": "code",
   "execution_count": null,
   "metadata": {},
   "outputs": [],
   "source": [
    "!pip install git+https://github.com/OlivierBeq/Papyrus-scripts.git"
   ]
  },
  {
   "cell_type": "code",
   "execution_count": 4,
   "metadata": {
    "tags": []
   },
   "outputs": [],
   "source": [
    "import json\n",
    "from pathlib import Path\n",
    "import re\n",
    "\n",
    "import matplotlib.pyplot as plt\n",
    "import numpy as np\n",
    "import pandas as pd\n",
    "import seaborn as sns\n",
    "from sklearn.preprocessing import RobustScaler\n",
    "from sklearn.model_selection import train_test_split\n",
    "from sklearn.ensemble import RandomForestRegressor\n",
    "from sklearn.metrics import r2_score, mean_absolute_error\n",
    "from scipy.stats import pearsonr\n",
    "import Bio\n",
    "import Bio.SeqIO as Bio_SeqIO\n",
    "from rdkit import Chem\n",
    "import rich\n",
    "import rich_msa\n",
    "import papyrus_scripts\n",
    "import mordred\n",
    "import mordred.descriptors as mordred_descriptors\n",
    "import prodec"
   ]
  },
  {
   "cell_type": "code",
   "execution_count": 5,
   "metadata": {},
   "outputs": [],
   "source": [
    "# Set path to this notebook\n",
    "HERE = Path(_dh[-1])\n",
    "DATA = HERE / \"data\""
   ]
  },
  {
   "cell_type": "markdown",
   "metadata": {},
   "source": [
    "**Note**: We will lateron use the ClustalO web service to align multiple sequences. In order to use the service, we need to provide an email address (see the [docs](https://www.ebi.ac.uk/seqdb/confluence/display/JDSAT/Clustal+Omega+Help+and+Documentation)).\n",
    "Please set your email address here; for the purpose of this template talktorial, we set the email to `None` and use pre-calculated data (see \"Practical\" section of this talktorial and [this discussion](https://github.com/volkamerlab/teachopencadd/discussions/283))."
   ]
  },
  {
   "cell_type": "code",
   "execution_count": 6,
   "metadata": {},
   "outputs": [],
   "source": [
    "# Set your email for the ClustalO service\n",
    "# Replace None with your email address\n",
    "MY_EMAIL = None"
   ]
  },
  {
   "cell_type": "markdown",
   "metadata": {},
   "source": [
    "### Download Papyrus dataset"
   ]
  },
  {
   "cell_type": "markdown",
   "metadata": {},
   "source": [
    "To work with the Papyrus dataset, we use the `papyrus_scripts` [library](https://github.com/OlivierBeq/Papyrus-scripts). This library allows us to download, read, and explore the dataset. Many other features, including bioactivity modeling, are possible using the `papyrus_scripts`. If you want to dive into them, feel free to follow the [notebook with simple examples](https://github.com/OlivierBeq/Papyrus-scripts/blob/master/notebook_examples/simple_examples.ipynb). By default, the `download_papyrus` function retrieves bioactivity, target and other information for the latest version of the Papyrus dataset. The data retrieved consists of the highest quality continuous bioactivity data (Papyrus++) without stereochemistry annotated (i.e. `nostereo=True` and `stereo=False`). Check out the [documentation](https://github.com/OlivierBeq/Papyrus-scripts/blob/master/src/papyrus_scripts/download.py) to learn more about the options available."
   ]
  },
  {
   "cell_type": "code",
   "execution_count": 7,
   "metadata": {
    "collapsed": false,
    "jupyter": {
     "outputs_hidden": false
    },
    "pycharm": {
     "name": "#%%\n"
    }
   },
   "outputs": [],
   "source": [
    "# Let's specify the Papyrus version for the rest of the work\n",
    "PAPYRUS_VERSION = \"05.5\""
   ]
  },
  {
   "cell_type": "code",
   "execution_count": 8,
   "metadata": {
    "collapsed": false,
    "jupyter": {
     "outputs_hidden": false
    },
    "pycharm": {
     "name": "#%%\n"
    }
   },
   "outputs": [
    {
     "name": "stdout",
     "output_type": "stream",
     "text": [
      "Number of files to be donwloaded: 6\n",
      "Total size: 118MB\n"
     ]
    },
    {
     "data": {
      "application/vnd.jupyter.widget-view+json": {
       "model_id": "262b8dd13bf2485496146b0ac53fcc0d",
       "version_major": 2,
       "version_minor": 0
      },
      "text/plain": [
       "Donwloading version 05.5:   0%|          | 0.00/118M [00:00<?, ?B/s]"
      ]
     },
     "metadata": {},
     "output_type": "display_data"
    },
    {
     "name": "stdout",
     "output_type": "stream",
     "text": [
      "CPU times: user 1.86 s, sys: 829 ms, total: 2.69 s\n",
      "Wall time: 57.3 s\n"
     ]
    }
   ],
   "source": [
    "%%time\n",
    "papyrus_scripts.download_papyrus(\n",
    "    outdir=DATA, version=PAPYRUS_VERSION, nostereo=True, stereo=False, descriptors=None\n",
    ")\n",
    "# If you want to download the latest version of the Papyrus dataset, change 'PAPYRUS_VERSION' to 'latest'"
   ]
  },
  {
   "cell_type": "markdown",
   "metadata": {},
   "source": [
    "### Data preparation"
   ]
  },
  {
   "cell_type": "markdown",
   "metadata": {
    "pycharm": {
     "name": "#%% md\n"
    }
   },
   "source": [
    "#### Filter activity data for targets of interest"
   ]
  },
  {
   "cell_type": "markdown",
   "metadata": {
    "pycharm": {
     "name": "#%% md\n"
    }
   },
   "source": [
    "From the Papyrus dataset, we want to extract continuous activity data for all compound-protein pairs for the four human Adenosine receptors; unique compound-target activity values are reported by aggregating data from different assays available. To account for the different types of bioactivity units available, a canonical activity metric defined by ChEMBL is used, pChEMBL value. From the activity aggregation strategies available with the Papyrus set, we will use the Mean (`pchembl_value_Mean` variable).\n",
    "\n",
    "|Receptor|UniProt accession|\n",
    "|---|---|\n",
    "|A1|P30542|\n",
    "|A2A|P29274|\n",
    "|A2B|P29275|\n",
    "|A3|P0DMS8|"
   ]
  },
  {
   "cell_type": "code",
   "execution_count": 9,
   "metadata": {
    "collapsed": false,
    "jupyter": {
     "outputs_hidden": false
    },
    "pycharm": {
     "name": "#%%\n"
    }
   },
   "outputs": [],
   "source": [
    "def filter_explore_activity_data(papyrus_version, targets):\n",
    "    \"\"\"\n",
    "    Filter Papyrus dataset for targets of interest and explore the statistics of the resulting dataset\n",
    "\n",
    "    Parameters\n",
    "    ----------\n",
    "    papyrus_version : str\n",
    "        Version of the Papyrus dataset to read\n",
    "    targets : dict\n",
    "        Dictionary with target labels as keys and UniProt accession codes as values\n",
    "\n",
    "    Returns\n",
    "    -------\n",
    "    pandas.DataFrame\n",
    "        Filtered bioactivity dataset for input targets\n",
    "    \"\"\"\n",
    "    # Read downloaded Papyrus dataset in chunks, as it does not fit in memory\n",
    "    CHUNKSIZE = 100000\n",
    "    data = papyrus_scripts.read_papyrus(\n",
    "        version=papyrus_version, chunksize=CHUNKSIZE, source_path=DATA\n",
    "    )\n",
    "\n",
    "    # Create filter for targets of interest\n",
    "    target_accession_list = targets.values()\n",
    "    filter = papyrus_scripts.keep_accession(data, target_accession_list)\n",
    "\n",
    "    # Iterate through chunks and apply the filter defined\n",
    "    filtered_data = papyrus_scripts.preprocess.consume_chunks(\n",
    "        filter,\n",
    "        total=-(\n",
    "            -papyrus_scripts.utils.IO.get_num_rows_in_file(\"bioactivities\", False) // CHUNKSIZE\n",
    "        ),\n",
    "    )\n",
    "    # Add column named 'Target' for easier data visualization\n",
    "    filtered_data[\"Target\"] = filtered_data[\"accession\"].apply(\n",
    "        lambda x: [i for i in targets.keys() if targets[i] == x][0]\n",
    "    )\n",
    "\n",
    "    # Print number of bioactivity datapoints per target\n",
    "    print(\"Number of bioactivity datapoints\")\n",
    "    for target, accession in zip(targets.keys(), targets.values()):\n",
    "        print(\n",
    "            f'{target} ({accession}) : {filtered_data[filtered_data[\"accession\"]==accession].shape[0]}'\n",
    "        )\n",
    "\n",
    "    # Plot distribution of activity values (pchembl_value_Mean) per target\n",
    "    g = sns.displot(\n",
    "        filtered_data,\n",
    "        x=\"pchembl_value_Mean\",\n",
    "        hue=\"Target\",\n",
    "        element=\"step\",\n",
    "        hue_order=targets.keys(),\n",
    "    )\n",
    "\n",
    "    return filtered_data"
   ]
  },
  {
   "cell_type": "code",
   "execution_count": 10,
   "metadata": {
    "collapsed": false,
    "jupyter": {
     "outputs_hidden": false
    },
    "pycharm": {
     "name": "#%%\n"
    },
    "tags": []
   },
   "outputs": [
    {
     "data": {
      "application/vnd.jupyter.widget-view+json": {
       "model_id": "e6132a1eee284886aa6d717d91b1aeb2",
       "version_major": 2,
       "version_minor": 0
      },
      "text/plain": [
       "  0%|          | 0/13 [00:00<?, ?it/s]"
      ]
     },
     "metadata": {},
     "output_type": "display_data"
    },
    {
     "name": "stdout",
     "output_type": "stream",
     "text": [
      "Number of bioactivity datapoints\n",
      "A1 (P30542) : 3519\n",
      "A2A (P29274) : 3991\n",
      "A2B (P29275) : 1988\n",
      "A3 (P0DMS8) : 3221\n"
     ]
    },
    {
     "data": {
      "image/png": "[encoded data removed]",
      "text/plain": [
       "<Figure size 578x500 with 1 Axes>"
      ]
     },
     "metadata": {},
     "output_type": "display_data"
    }
   ],
   "source": [
    "# Define the set of receptors of interest with a label and their UniProt accession\n",
    "adenosine_receptors = {\"A1\": \"P30542\", \"A2A\": \"P29274\", \"A2B\": \"P29275\", \"A3\": \"P0DMS8\"}\n",
    "\n",
    "# Filter the Papyrus bioactivity dataset and plot the distribution of activity values for the targets of interest\n",
    "ar_dataset = filter_explore_activity_data(PAPYRUS_VERSION, adenosine_receptors)"
   ]
  },
  {
   "cell_type": "markdown",
   "metadata": {
    "pycharm": {
     "name": "#%% md\n"
    }
   },
   "source": [
    "For PCM modeling, we keep from our bioactivity dataset three variables:\n",
    "\n",
    "* Bioactivity (`pchembl_value_mean`), which is our target variable to predict\n",
    "* Target IDs (`accession`), which is the UniProt code to link the protein descriptors that we will calculate with ProDEC\n",
    "* Compound IDs (`SMILES`), to link the compound descriptors that we will calculate with Mordred"
   ]
  },
  {
   "cell_type": "code",
   "execution_count": 11,
   "metadata": {
    "collapsed": false,
    "jupyter": {
     "outputs_hidden": false
    },
    "pycharm": {
     "name": "#%%\n"
    }
   },
   "outputs": [
    {
     "data": {
      "text/html": [
       "<div>\n",
       "<style scoped>\n",
       "    .dataframe tbody tr th:only-of-type {\n",
       "        vertical-align: middle;\n",
       "    }\n",
       "\n",
       "    .dataframe tbody tr th {\n",
       "        vertical-align: top;\n",
       "    }\n",
       "\n",
       "    .dataframe thead th {\n",
       "        text-align: right;\n",
       "    }\n",
       "</style>\n",
       "<table border=\"1\" class=\"dataframe\">\n",
       "  <thead>\n",
       "    <tr style=\"text-align: right;\">\n",
       "      <th></th>\n",
       "      <th>SMILES</th>\n",
       "      <th>accession</th>\n",
       "      <th>pchembl_value_Mean</th>\n",
       "    </tr>\n",
       "  </thead>\n",
       "  <tbody>\n",
       "    <tr>\n",
       "      <th>222</th>\n",
       "      <td>Cc1nn(-c2cc(NC(=O)CCN(C)C)nc(-c3ccc(C)o3)n2)c(...</td>\n",
       "      <td>P29274</td>\n",
       "      <td>8.6800</td>\n",
       "    </tr>\n",
       "    <tr>\n",
       "      <th>223</th>\n",
       "      <td>Cc1nn(-c2cc(NC(=O)CCN(C)C)nc(-c3ccc(C)o3)n2)c(...</td>\n",
       "      <td>P30542</td>\n",
       "      <td>6.6800</td>\n",
       "    </tr>\n",
       "    <tr>\n",
       "      <th>383</th>\n",
       "      <td>Nc1c(C(=O)Nc2ccc([N+](=O)[O-])cc2)sc2c1cc1CCCC...</td>\n",
       "      <td>P29274</td>\n",
       "      <td>4.8200</td>\n",
       "    </tr>\n",
       "    <tr>\n",
       "      <th>462</th>\n",
       "      <td>O=C(Nc1nc2ncccc2n2c(=O)n(-c3ccccc3)nc12)c1ccccc1</td>\n",
       "      <td>P0DMS8</td>\n",
       "      <td>7.1515</td>\n",
       "    </tr>\n",
       "    <tr>\n",
       "      <th>464</th>\n",
       "      <td>O=C(Nc1nc2ncccc2n2c(=O)n(-c3ccccc3)nc12)c1ccccc1</td>\n",
       "      <td>P29274</td>\n",
       "      <td>5.6500</td>\n",
       "    </tr>\n",
       "  </tbody>\n",
       "</table>\n",
       "</div>"
      ],
      "text/plain": [
       "                                                SMILES accession  \\\n",
       "222  Cc1nn(-c2cc(NC(=O)CCN(C)C)nc(-c3ccc(C)o3)n2)c(...    P29274   \n",
       "223  Cc1nn(-c2cc(NC(=O)CCN(C)C)nc(-c3ccc(C)o3)n2)c(...    P30542   \n",
       "383  Nc1c(C(=O)Nc2ccc([N+](=O)[O-])cc2)sc2c1cc1CCCC...    P29274   \n",
       "462   O=C(Nc1nc2ncccc2n2c(=O)n(-c3ccccc3)nc12)c1ccccc1    P0DMS8   \n",
       "464   O=C(Nc1nc2ncccc2n2c(=O)n(-c3ccccc3)nc12)c1ccccc1    P29274   \n",
       "\n",
       "     pchembl_value_Mean  \n",
       "222              8.6800  \n",
       "223              6.6800  \n",
       "383              4.8200  \n",
       "462              7.1515  \n",
       "464              5.6500  "
      ]
     },
     "execution_count": 11,
     "metadata": {},
     "output_type": "execute_result"
    }
   ],
   "source": [
    "ar_dataset = ar_dataset[[\"SMILES\", \"accession\", \"pchembl_value_Mean\"]]\n",
    "ar_dataset.head()"
   ]
  },
  {
   "cell_type": "markdown",
   "metadata": {
    "pycharm": {
     "name": "#%% md\n"
    }
   },
   "source": [
    "#### Align target sequences"
   ]
  },
  {
   "cell_type": "markdown",
   "metadata": {},
   "source": [
    "In order to ensure protein descriptors are of the same length, we first need to align the target sequences. We do this by creating an MSA with the software Clustal Omega (ClustalO). To begin with, we extract the protein sequences from the target files in Papyrus. The sequences could also be obtained from UniProt, but this way we ensure we are always retrieving the canonical isoform sequence.\n",
    "Since Papyrus also contains bioactivity data for different mutants and species, the main protein identifier (`target_id` variable) consists of the UniProt accession code and the mutant ('WT' for wild type). Even though we are interested in the wild type, to map our targets of interest we calculate a new variable called `accession` to be consistent with the rest of the talktorial."
   ]
  },
  {
   "cell_type": "code",
   "execution_count": 12,
   "metadata": {
    "collapsed": false,
    "jupyter": {
     "outputs_hidden": false
    },
    "pycharm": {
     "name": "#%%\n"
    }
   },
   "outputs": [
    {
     "data": {
      "text/html": [
       "<div>\n",
       "<style scoped>\n",
       "    .dataframe tbody tr th:only-of-type {\n",
       "        vertical-align: middle;\n",
       "    }\n",
       "\n",
       "    .dataframe tbody tr th {\n",
       "        vertical-align: top;\n",
       "    }\n",
       "\n",
       "    .dataframe thead th {\n",
       "        text-align: right;\n",
       "    }\n",
       "</style>\n",
       "<table border=\"1\" class=\"dataframe\">\n",
       "  <thead>\n",
       "    <tr style=\"text-align: right;\">\n",
       "      <th></th>\n",
       "      <th>target_id</th>\n",
       "      <th>HGNC_symbol</th>\n",
       "      <th>UniProtID</th>\n",
       "      <th>Status</th>\n",
       "      <th>Organism</th>\n",
       "      <th>Classification</th>\n",
       "      <th>Length</th>\n",
       "      <th>Sequence</th>\n",
       "      <th>accession</th>\n",
       "    </tr>\n",
       "  </thead>\n",
       "  <tbody>\n",
       "    <tr>\n",
       "      <th>47</th>\n",
       "      <td>P29275_WT</td>\n",
       "      <td>ADORA2B</td>\n",
       "      <td>AA2BR_HUMAN</td>\n",
       "      <td>reviewed</td>\n",
       "      <td>Homo sapiens (Human)</td>\n",
       "      <td>Membrane receptor-&gt;Family A G protein-coupled ...</td>\n",
       "      <td>332</td>\n",
       "      <td>MLLETQDALYVALELVIAALSVAGNVLVCAAVGTANTLQTPTNYFL...</td>\n",
       "      <td>P29275</td>\n",
       "    </tr>\n",
       "    <tr>\n",
       "      <th>80</th>\n",
       "      <td>P30542_WT</td>\n",
       "      <td>ADORA1</td>\n",
       "      <td>AA1R_HUMAN</td>\n",
       "      <td>reviewed</td>\n",
       "      <td>Homo sapiens (Human)</td>\n",
       "      <td>Membrane receptor-&gt;Family A G protein-coupled ...</td>\n",
       "      <td>326</td>\n",
       "      <td>MPPSISAFQAAYIGIEVLIALVSVPGNVLVIWAVKVNQALRDATFC...</td>\n",
       "      <td>P30542</td>\n",
       "    </tr>\n",
       "    <tr>\n",
       "      <th>81</th>\n",
       "      <td>P29274_WT</td>\n",
       "      <td>ADORA2A</td>\n",
       "      <td>AA2AR_HUMAN</td>\n",
       "      <td>reviewed</td>\n",
       "      <td>Homo sapiens (Human)</td>\n",
       "      <td>Membrane receptor-&gt;Family A G protein-coupled ...</td>\n",
       "      <td>412</td>\n",
       "      <td>MPIMGSSVYITVELAIAVLAILGNVLVCWAVWLNSNLQNVTNYFVV...</td>\n",
       "      <td>P29274</td>\n",
       "    </tr>\n",
       "    <tr>\n",
       "      <th>82</th>\n",
       "      <td>P0DMS8_WT</td>\n",
       "      <td>ADORA3</td>\n",
       "      <td>AA3R_HUMAN</td>\n",
       "      <td>reviewed</td>\n",
       "      <td>Homo sapiens (Human)</td>\n",
       "      <td>Membrane receptor-&gt;Family A G protein-coupled ...</td>\n",
       "      <td>318</td>\n",
       "      <td>MPNNSTALSLANVTYITMEIFIGLCAIVGNVLVICVVKLNPSLQTT...</td>\n",
       "      <td>P0DMS8</td>\n",
       "    </tr>\n",
       "  </tbody>\n",
       "</table>\n",
       "</div>"
      ],
      "text/plain": [
       "    target_id HGNC_symbol    UniProtID    Status              Organism  \\\n",
       "47  P29275_WT     ADORA2B  AA2BR_HUMAN  reviewed  Homo sapiens (Human)   \n",
       "80  P30542_WT      ADORA1   AA1R_HUMAN  reviewed  Homo sapiens (Human)   \n",
       "81  P29274_WT     ADORA2A  AA2AR_HUMAN  reviewed  Homo sapiens (Human)   \n",
       "82  P0DMS8_WT      ADORA3   AA3R_HUMAN  reviewed  Homo sapiens (Human)   \n",
       "\n",
       "                                       Classification  Length  \\\n",
       "47  Membrane receptor->Family A G protein-coupled ...     332   \n",
       "80  Membrane receptor->Family A G protein-coupled ...     326   \n",
       "81  Membrane receptor->Family A G protein-coupled ...     412   \n",
       "82  Membrane receptor->Family A G protein-coupled ...     318   \n",
       "\n",
       "                                             Sequence accession  \n",
       "47  MLLETQDALYVALELVIAALSVAGNVLVCAAVGTANTLQTPTNYFL...    P29275  \n",
       "80  MPPSISAFQAAYIGIEVLIALVSVPGNVLVIWAVKVNQALRDATFC...    P30542  \n",
       "81  MPIMGSSVYITVELAIAVLAILGNVLVCWAVWLNSNLQNVTNYFVV...    P29274  \n",
       "82  MPNNSTALSLANVTYITMEIFIGLCAIVGNVLVICVVKLNPSLQTT...    P0DMS8  "
      ]
     },
     "execution_count": 12,
     "metadata": {},
     "output_type": "execute_result"
    }
   ],
   "source": [
    "protein_data = papyrus_scripts.read_protein_set(version=PAPYRUS_VERSION)\n",
    "# Create new variable 'accession' with the UniProt accession codes by splitting target_id and keeping the first part\n",
    "protein_data[\"accession\"] = protein_data[\"target_id\"].apply(lambda x: x.split(\"_\")[0])\n",
    "# Filter protein data for our targets of interest based on accession code\n",
    "targets = protein_data[protein_data.accession.isin(adenosine_receptors.values())]\n",
    "targets"
   ]
  },
  {
   "cell_type": "markdown",
   "metadata": {},
   "source": [
    "In order to align the sequences with ClustalO, we first need to write them into a FASTA file."
   ]
  },
  {
   "cell_type": "code",
   "execution_count": 13,
   "metadata": {
    "collapsed": false,
    "jupyter": {
     "outputs_hidden": false
    },
    "pycharm": {
     "name": "#%%\n"
    }
   },
   "outputs": [],
   "source": [
    "# Create object with sequences and descriptions\n",
    "records = []\n",
    "for index, row in targets.reset_index(drop=True).iterrows():\n",
    "    records.append(\n",
    "        Bio_SeqIO.SeqRecord(\n",
    "            seq=Bio.Seq.Seq(row[\"Sequence\"]),\n",
    "            id=str(index),\n",
    "            name=row[\"accession\"],\n",
    "            description=\" \".join([row[\"UniProtID\"], row[\"Organism\"], row[\"Classification\"]]),\n",
    "        )\n",
    "    )\n",
    "sequences_path = Path(DATA / \"sequences.fasta\")\n",
    "# Write sequences as .fasta file\n",
    "_ = Bio_SeqIO.write(records, sequences_path, \"fasta\")"
   ]
  },
  {
   "cell_type": "markdown",
   "metadata": {
    "pycharm": {
     "name": "#%% md\n"
    }
   },
   "source": [
    "Now, we use ClustalO to align the sequences and write out the alignment file. We do this by calling the ClustalO webservice from the command line."
   ]
  },
  {
   "cell_type": "code",
   "execution_count": 14,
   "metadata": {},
   "outputs": [],
   "source": [
    "def align(entry_name):\n",
    "    \"\"\"\n",
    "    From the GPCRdb, get protein annotations associated with the input UniProt entry name.\n",
    "\n",
    "    Parameters\n",
    "    ----------\n",
    "    entry_name : str\n",
    "        UniProt entry name for GPCR of interest.\n",
    "\n",
    "    Returns\n",
    "    -------\n",
    "    dict\n",
    "        Protein annotations deposited in the GPCRdb.\n",
    "    \"\"\"\n",
    "\n",
    "    url = f\"https://www.ebi.ac.uk/Tools/common/tools/help/index.html?tool=clustalo#!/Submit32job/post_run\"\n",
    "    url = f\"https://gpcrdb.org/services/protein/{entry_name}/\"\n",
    "    response = requests.get(url)\n",
    "    data = response.json()\n",
    "    return data"
   ]
  },
  {
   "cell_type": "markdown",
   "metadata": {},
   "source": [
    "<div class=\"alert alert-block alert-info\">\n",
    "\n",
    "If you are running this notebook on your own data, please set your email address in the `MY_EMAIL` variable.\n",
    "\n",
    "</div>"
   ]
  },
  {
   "cell_type": "code",
   "execution_count": 15,
   "metadata": {
    "collapsed": false,
    "jupyter": {
     "outputs_hidden": false
    },
    "pycharm": {
     "name": "#%%\n"
    }
   },
   "outputs": [
    {
     "name": "stdout",
     "output_type": "stream",
     "text": [
      "Email (MY_EMAIL) was not set; use pre-calculated alignments.\n"
     ]
    }
   ],
   "source": [
    "%%bash -s \"$MY_EMAIL\"\n",
    "# ClustalO service requires an email address\n",
    "# If email was set, run ClustalO service, else use pre-calculated alignments\n",
    "if [ $1 != \"None\" ]; then\n",
    "    echo \"Email (MY_EMAIL) was set to \"$1\n",
    "    # Query ClustalO webservice from command line\n",
    "    python scripts/clustalo.py --email $1 --stype protein --sequence data/sequences.fasta --outfmt fa --outdir data --outfile aligned_sequences --order input --pollFreq 20\n",
    "else\n",
    "    echo \"Email (MY_EMAIL) was not set; use pre-calculated alignments.\"\n",
    "fi"
   ]
  },
  {
   "cell_type": "markdown",
   "metadata": {
    "pycharm": {
     "name": "#%% md\n"
    }
   },
   "source": [
    "Finally we parse the aligned sequences."
   ]
  },
  {
   "cell_type": "code",
   "execution_count": 16,
   "metadata": {
    "collapsed": false,
    "jupyter": {
     "outputs_hidden": false
    },
    "pycharm": {
     "name": "#%%\n"
    }
   },
   "outputs": [],
   "source": [
    "alignment_file = Path(DATA / \"aligned_sequences.aln-fasta.fasta\")\n",
    "aligned_sequences = [str(seq.seq) for seq in Bio.SeqIO.parse(alignment_file, \"fasta\")]"
   ]
  },
  {
   "cell_type": "markdown",
   "metadata": {
    "pycharm": {
     "name": "#%% md\n"
    }
   },
   "source": [
    "And we visualize the MSA."
   ]
  },
  {
   "cell_type": "code",
   "execution_count": 17,
   "metadata": {
    "collapsed": false,
    "jupyter": {
     "outputs_hidden": false
    },
    "pycharm": {
     "name": "#%%\n"
    }
   },
   "outputs": [
    {
     "data": {
      "text/html": [
       "<pre style=\"white-space:pre;overflow-x:auto;line-height:normal;font-family:Menlo,'DejaVu Sans Mono',consolas,'Courier New',monospace\">╭────────────────────────────────────────── Multiple sequence alignment ──────────────────────────────────────────╮\n",
       "│ 0 AA2BR_H…   <span style=\"color: #008080; text-decoration-color: #008080; font-weight: bold\">  1</span>  <span style=\"color: #4e4e4e; text-decoration-color: #4e4e4e; font-weight: bold\">-----</span><span style=\"color: #800000; text-decoration-color: #800000; font-weight: bold\">MLL</span><span style=\"color: #000080; text-decoration-color: #000080; font-weight: bold\">E</span><span style=\"color: #008000; text-decoration-color: #008000; font-weight: bold\">TQ</span><span style=\"color: #000080; text-decoration-color: #000080; font-weight: bold\">D</span><span style=\"color: #800000; text-decoration-color: #800000; font-weight: bold\">AL</span><span style=\"color: #008000; text-decoration-color: #008000; font-weight: bold\">Y</span><span style=\"color: #800000; text-decoration-color: #800000; font-weight: bold\">VAL</span><span style=\"color: #000080; text-decoration-color: #000080; font-weight: bold\">E</span><span style=\"color: #800000; text-decoration-color: #800000; font-weight: bold\">LVIAAL</span><span style=\"color: #008000; text-decoration-color: #008000; font-weight: bold\">S</span><span style=\"color: #800000; text-decoration-color: #800000; font-weight: bold\">VA</span><span style=\"color: #008000; text-decoration-color: #008000; font-weight: bold\">GN</span><span style=\"color: #800000; text-decoration-color: #800000; font-weight: bold\">VLV</span><span style=\"color: #008000; text-decoration-color: #008000; font-weight: bold\">C</span><span style=\"color: #800000; text-decoration-color: #800000; font-weight: bold\">AAV</span><span style=\"color: #008000; text-decoration-color: #008000; font-weight: bold\">GT</span><span style=\"color: #800000; text-decoration-color: #800000; font-weight: bold\">A</span><span style=\"color: #008000; text-decoration-color: #008000; font-weight: bold\">NT</span><span style=\"color: #800000; text-decoration-color: #800000; font-weight: bold\">L</span><span style=\"color: #008000; text-decoration-color: #008000; font-weight: bold\">QT</span><span style=\"color: #800000; text-decoration-color: #800000; font-weight: bold\">P</span><span style=\"color: #008000; text-decoration-color: #008000; font-weight: bold\">TNY</span><span style=\"color: #800000; text-decoration-color: #800000; font-weight: bold\">FLV</span><span style=\"color: #008000; text-decoration-color: #008000; font-weight: bold\">S</span><span style=\"color: #800000; text-decoration-color: #800000; font-weight: bold\">LAAA</span><span style=\"color: #000080; text-decoration-color: #000080; font-weight: bold\">D</span><span style=\"color: #800000; text-decoration-color: #800000; font-weight: bold\">VAV</span><span style=\"color: #008000; text-decoration-color: #008000; font-weight: bold\">G</span><span style=\"color: #800000; text-decoration-color: #800000; font-weight: bold\">LFAIPFAI</span><span style=\"color: #008000; text-decoration-color: #008000; font-weight: bold\">T</span><span style=\"color: #800000; text-decoration-color: #800000; font-weight: bold\">I</span><span style=\"color: #008000; text-decoration-color: #008000; font-weight: bold\">S</span><span style=\"color: #800000; text-decoration-color: #800000; font-weight: bold\">L</span><span style=\"color: #008000; text-decoration-color: #008000; font-weight: bold\">G</span><span style=\"color: #800000; text-decoration-color: #800000; font-weight: bold\">F</span><span style=\"color: #008000; text-decoration-color: #008000; font-weight: bold\">CT</span><span style=\"color: #000080; text-decoration-color: #000080; font-weight: bold\">D</span><span style=\"color: #800000; text-decoration-color: #800000; font-weight: bold\">F</span><span style=\"color: #008000; text-decoration-color: #008000; font-weight: bold\">YGC</span><span style=\"color: #800000; text-decoration-color: #800000; font-weight: bold\">LFLA</span><span style=\"color: #008000; text-decoration-color: #008000; font-weight: bold\">C</span><span style=\"color: #800000; text-decoration-color: #800000; font-weight: bold\">FVLV</span>  │\n",
       "│ 1 AA1R_HU…   <span style=\"color: #008080; text-decoration-color: #008080; font-weight: bold\">  1</span>  <span style=\"color: #4e4e4e; text-decoration-color: #4e4e4e; font-weight: bold\">---</span><span style=\"color: #800000; text-decoration-color: #800000; font-weight: bold\">MPP</span><span style=\"color: #008000; text-decoration-color: #008000; font-weight: bold\">S</span><span style=\"color: #800000; text-decoration-color: #800000; font-weight: bold\">I</span><span style=\"color: #008000; text-decoration-color: #008000; font-weight: bold\">S</span><span style=\"color: #800000; text-decoration-color: #800000; font-weight: bold\">AF</span><span style=\"color: #008000; text-decoration-color: #008000; font-weight: bold\">Q</span><span style=\"color: #800000; text-decoration-color: #800000; font-weight: bold\">AA</span><span style=\"color: #008000; text-decoration-color: #008000; font-weight: bold\">Y</span><span style=\"color: #800000; text-decoration-color: #800000; font-weight: bold\">I</span><span style=\"color: #008000; text-decoration-color: #008000; font-weight: bold\">G</span><span style=\"color: #800000; text-decoration-color: #800000; font-weight: bold\">I</span><span style=\"color: #000080; text-decoration-color: #000080; font-weight: bold\">E</span><span style=\"color: #800000; text-decoration-color: #800000; font-weight: bold\">VLIALV</span><span style=\"color: #008000; text-decoration-color: #008000; font-weight: bold\">S</span><span style=\"color: #800000; text-decoration-color: #800000; font-weight: bold\">VP</span><span style=\"color: #008000; text-decoration-color: #008000; font-weight: bold\">GN</span><span style=\"color: #800000; text-decoration-color: #800000; font-weight: bold\">VLVIWAV</span><span style=\"color: #af00ff; text-decoration-color: #af00ff; font-weight: bold\">K</span><span style=\"color: #800000; text-decoration-color: #800000; font-weight: bold\">V</span><span style=\"color: #008000; text-decoration-color: #008000; font-weight: bold\">NQ</span><span style=\"color: #800000; text-decoration-color: #800000; font-weight: bold\">AL</span><span style=\"color: #af00ff; text-decoration-color: #af00ff; font-weight: bold\">R</span><span style=\"color: #000080; text-decoration-color: #000080; font-weight: bold\">D</span><span style=\"color: #800000; text-decoration-color: #800000; font-weight: bold\">A</span><span style=\"color: #008000; text-decoration-color: #008000; font-weight: bold\">T</span><span style=\"color: #800000; text-decoration-color: #800000; font-weight: bold\">F</span><span style=\"color: #008000; text-decoration-color: #008000; font-weight: bold\">C</span><span style=\"color: #800000; text-decoration-color: #800000; font-weight: bold\">FIV</span><span style=\"color: #008000; text-decoration-color: #008000; font-weight: bold\">S</span><span style=\"color: #800000; text-decoration-color: #800000; font-weight: bold\">LAVA</span><span style=\"color: #000080; text-decoration-color: #000080; font-weight: bold\">D</span><span style=\"color: #800000; text-decoration-color: #800000; font-weight: bold\">VAV</span><span style=\"color: #008000; text-decoration-color: #008000; font-weight: bold\">G</span><span style=\"color: #800000; text-decoration-color: #800000; font-weight: bold\">ALVIPLAILI</span><span style=\"color: #008000; text-decoration-color: #008000; font-weight: bold\">N</span><span style=\"color: #800000; text-decoration-color: #800000; font-weight: bold\">I</span><span style=\"color: #008000; text-decoration-color: #008000; font-weight: bold\">G</span><span style=\"color: #800000; text-decoration-color: #800000; font-weight: bold\">P</span><span style=\"color: #008000; text-decoration-color: #008000; font-weight: bold\">QTY</span><span style=\"color: #800000; text-decoration-color: #800000; font-weight: bold\">F</span><span style=\"color: #008000; text-decoration-color: #008000; font-weight: bold\">HTC</span><span style=\"color: #800000; text-decoration-color: #800000; font-weight: bold\">LMVA</span><span style=\"color: #008000; text-decoration-color: #008000; font-weight: bold\">C</span><span style=\"color: #800000; text-decoration-color: #800000; font-weight: bold\">PVLI</span>  │\n",
       "│ 2 AA2AR_H…   <span style=\"color: #008080; text-decoration-color: #008080; font-weight: bold\">  1</span>  <span style=\"color: #4e4e4e; text-decoration-color: #4e4e4e; font-weight: bold\">------</span><span style=\"color: #800000; text-decoration-color: #800000; font-weight: bold\">MPIM</span><span style=\"color: #008000; text-decoration-color: #008000; font-weight: bold\">GSS</span><span style=\"color: #800000; text-decoration-color: #800000; font-weight: bold\">V</span><span style=\"color: #008000; text-decoration-color: #008000; font-weight: bold\">Y</span><span style=\"color: #800000; text-decoration-color: #800000; font-weight: bold\">I</span><span style=\"color: #008000; text-decoration-color: #008000; font-weight: bold\">T</span><span style=\"color: #800000; text-decoration-color: #800000; font-weight: bold\">V</span><span style=\"color: #000080; text-decoration-color: #000080; font-weight: bold\">E</span><span style=\"color: #800000; text-decoration-color: #800000; font-weight: bold\">LAIAVLAIL</span><span style=\"color: #008000; text-decoration-color: #008000; font-weight: bold\">GN</span><span style=\"color: #800000; text-decoration-color: #800000; font-weight: bold\">VLV</span><span style=\"color: #008000; text-decoration-color: #008000; font-weight: bold\">C</span><span style=\"color: #800000; text-decoration-color: #800000; font-weight: bold\">WAVWL</span><span style=\"color: #008000; text-decoration-color: #008000; font-weight: bold\">NSN</span><span style=\"color: #800000; text-decoration-color: #800000; font-weight: bold\">L</span><span style=\"color: #008000; text-decoration-color: #008000; font-weight: bold\">QN</span><span style=\"color: #800000; text-decoration-color: #800000; font-weight: bold\">V</span><span style=\"color: #008000; text-decoration-color: #008000; font-weight: bold\">TNY</span><span style=\"color: #800000; text-decoration-color: #800000; font-weight: bold\">FVV</span><span style=\"color: #008000; text-decoration-color: #008000; font-weight: bold\">S</span><span style=\"color: #800000; text-decoration-color: #800000; font-weight: bold\">LAAA</span><span style=\"color: #000080; text-decoration-color: #000080; font-weight: bold\">D</span><span style=\"color: #800000; text-decoration-color: #800000; font-weight: bold\">IAV</span><span style=\"color: #008000; text-decoration-color: #008000; font-weight: bold\">G</span><span style=\"color: #800000; text-decoration-color: #800000; font-weight: bold\">VLAIPFAI</span><span style=\"color: #008000; text-decoration-color: #008000; font-weight: bold\">T</span><span style=\"color: #800000; text-decoration-color: #800000; font-weight: bold\">I</span><span style=\"color: #008000; text-decoration-color: #008000; font-weight: bold\">STG</span><span style=\"color: #800000; text-decoration-color: #800000; font-weight: bold\">F</span><span style=\"color: #008000; text-decoration-color: #008000; font-weight: bold\">C</span><span style=\"color: #800000; text-decoration-color: #800000; font-weight: bold\">AA</span><span style=\"color: #008000; text-decoration-color: #008000; font-weight: bold\">CHGC</span><span style=\"color: #800000; text-decoration-color: #800000; font-weight: bold\">LFIA</span><span style=\"color: #008000; text-decoration-color: #008000; font-weight: bold\">C</span><span style=\"color: #800000; text-decoration-color: #800000; font-weight: bold\">FVLV</span>  │\n",
       "│ 3 AA3R_HU…   <span style=\"color: #008080; text-decoration-color: #008080; font-weight: bold\">  1</span>  <span style=\"color: #800000; text-decoration-color: #800000; font-weight: bold\">MP</span><span style=\"color: #008000; text-decoration-color: #008000; font-weight: bold\">NNST</span><span style=\"color: #800000; text-decoration-color: #800000; font-weight: bold\">AL</span><span style=\"color: #008000; text-decoration-color: #008000; font-weight: bold\">S</span><span style=\"color: #800000; text-decoration-color: #800000; font-weight: bold\">LA</span><span style=\"color: #008000; text-decoration-color: #008000; font-weight: bold\">N</span><span style=\"color: #800000; text-decoration-color: #800000; font-weight: bold\">V</span><span style=\"color: #008000; text-decoration-color: #008000; font-weight: bold\">TY</span><span style=\"color: #800000; text-decoration-color: #800000; font-weight: bold\">I</span><span style=\"color: #008000; text-decoration-color: #008000; font-weight: bold\">T</span><span style=\"color: #800000; text-decoration-color: #800000; font-weight: bold\">M</span><span style=\"color: #000080; text-decoration-color: #000080; font-weight: bold\">E</span><span style=\"color: #800000; text-decoration-color: #800000; font-weight: bold\">IFI</span><span style=\"color: #008000; text-decoration-color: #008000; font-weight: bold\">G</span><span style=\"color: #800000; text-decoration-color: #800000; font-weight: bold\">L</span><span style=\"color: #008000; text-decoration-color: #008000; font-weight: bold\">C</span><span style=\"color: #800000; text-decoration-color: #800000; font-weight: bold\">AIV</span><span style=\"color: #008000; text-decoration-color: #008000; font-weight: bold\">GN</span><span style=\"color: #800000; text-decoration-color: #800000; font-weight: bold\">VLVI</span><span style=\"color: #008000; text-decoration-color: #008000; font-weight: bold\">C</span><span style=\"color: #800000; text-decoration-color: #800000; font-weight: bold\">VV</span><span style=\"color: #af00ff; text-decoration-color: #af00ff; font-weight: bold\">K</span><span style=\"color: #800000; text-decoration-color: #800000; font-weight: bold\">L</span><span style=\"color: #008000; text-decoration-color: #008000; font-weight: bold\">N</span><span style=\"color: #800000; text-decoration-color: #800000; font-weight: bold\">P</span><span style=\"color: #008000; text-decoration-color: #008000; font-weight: bold\">S</span><span style=\"color: #800000; text-decoration-color: #800000; font-weight: bold\">L</span><span style=\"color: #008000; text-decoration-color: #008000; font-weight: bold\">QTTT</span><span style=\"color: #800000; text-decoration-color: #800000; font-weight: bold\">F</span><span style=\"color: #008000; text-decoration-color: #008000; font-weight: bold\">Y</span><span style=\"color: #800000; text-decoration-color: #800000; font-weight: bold\">FIV</span><span style=\"color: #008000; text-decoration-color: #008000; font-weight: bold\">S</span><span style=\"color: #800000; text-decoration-color: #800000; font-weight: bold\">LALA</span><span style=\"color: #000080; text-decoration-color: #000080; font-weight: bold\">D</span><span style=\"color: #800000; text-decoration-color: #800000; font-weight: bold\">IAV</span><span style=\"color: #008000; text-decoration-color: #008000; font-weight: bold\">G</span><span style=\"color: #800000; text-decoration-color: #800000; font-weight: bold\">VLVMPLAIVV</span><span style=\"color: #008000; text-decoration-color: #008000; font-weight: bold\">S</span><span style=\"color: #800000; text-decoration-color: #800000; font-weight: bold\">L</span><span style=\"color: #008000; text-decoration-color: #008000; font-weight: bold\">G</span><span style=\"color: #800000; text-decoration-color: #800000; font-weight: bold\">I</span><span style=\"color: #008000; text-decoration-color: #008000; font-weight: bold\">T</span><span style=\"color: #800000; text-decoration-color: #800000; font-weight: bold\">I</span><span style=\"color: #008000; text-decoration-color: #008000; font-weight: bold\">H</span><span style=\"color: #800000; text-decoration-color: #800000; font-weight: bold\">F</span><span style=\"color: #008000; text-decoration-color: #008000; font-weight: bold\">YSC</span><span style=\"color: #800000; text-decoration-color: #800000; font-weight: bold\">LFM</span><span style=\"color: #008000; text-decoration-color: #008000; font-weight: bold\">TC</span><span style=\"color: #800000; text-decoration-color: #800000; font-weight: bold\">LLLI</span>  │\n",
       "│                                                                                                                 │\n",
       "│ 0 AA2BR_H…   <span style=\"color: #008080; text-decoration-color: #008080; font-weight: bold\"> 88</span>  <span style=\"color: #800000; text-decoration-color: #800000; font-weight: bold\">L</span><span style=\"color: #008000; text-decoration-color: #008000; font-weight: bold\">TQSS</span><span style=\"color: #800000; text-decoration-color: #800000; font-weight: bold\">IF</span><span style=\"color: #008000; text-decoration-color: #008000; font-weight: bold\">S</span><span style=\"color: #800000; text-decoration-color: #800000; font-weight: bold\">LLAVAV</span><span style=\"color: #000080; text-decoration-color: #000080; font-weight: bold\">D</span><span style=\"color: #af00ff; text-decoration-color: #af00ff; font-weight: bold\">R</span><span style=\"color: #008000; text-decoration-color: #008000; font-weight: bold\">Y</span><span style=\"color: #800000; text-decoration-color: #800000; font-weight: bold\">LAI</span><span style=\"color: #008000; text-decoration-color: #008000; font-weight: bold\">C</span><span style=\"color: #800000; text-decoration-color: #800000; font-weight: bold\">VPL</span><span style=\"color: #af00ff; text-decoration-color: #af00ff; font-weight: bold\">R</span><span style=\"color: #008000; text-decoration-color: #008000; font-weight: bold\">Y</span><span style=\"color: #af00ff; text-decoration-color: #af00ff; font-weight: bold\">K</span><span style=\"color: #008000; text-decoration-color: #008000; font-weight: bold\">S</span><span style=\"color: #800000; text-decoration-color: #800000; font-weight: bold\">LV</span><span style=\"color: #008000; text-decoration-color: #008000; font-weight: bold\">TGT</span><span style=\"color: #af00ff; text-decoration-color: #af00ff; font-weight: bold\">R</span><span style=\"color: #800000; text-decoration-color: #800000; font-weight: bold\">A</span><span style=\"color: #af00ff; text-decoration-color: #af00ff; font-weight: bold\">R</span><span style=\"color: #008000; text-decoration-color: #008000; font-weight: bold\">G</span><span style=\"color: #800000; text-decoration-color: #800000; font-weight: bold\">VIAVLWVLAF</span><span style=\"color: #008000; text-decoration-color: #008000; font-weight: bold\">G</span><span style=\"color: #800000; text-decoration-color: #800000; font-weight: bold\">I</span><span style=\"color: #008000; text-decoration-color: #008000; font-weight: bold\">G</span><span style=\"color: #800000; text-decoration-color: #800000; font-weight: bold\">L</span><span style=\"color: #008000; text-decoration-color: #008000; font-weight: bold\">T</span><span style=\"color: #800000; text-decoration-color: #800000; font-weight: bold\">PFL</span><span style=\"color: #008000; text-decoration-color: #008000; font-weight: bold\">G</span><span style=\"color: #800000; text-decoration-color: #800000; font-weight: bold\">W</span><span style=\"color: #008000; text-decoration-color: #008000; font-weight: bold\">NS</span><span style=\"color: #af00ff; text-decoration-color: #af00ff; font-weight: bold\">K</span><span style=\"color: #000080; text-decoration-color: #000080; font-weight: bold\">D</span><span style=\"color: #008000; text-decoration-color: #008000; font-weight: bold\">S</span><span style=\"color: #800000; text-decoration-color: #800000; font-weight: bold\">A</span><span style=\"color: #008000; text-decoration-color: #008000; font-weight: bold\">TNNCT</span><span style=\"color: #000080; text-decoration-color: #000080; font-weight: bold\">E</span><span style=\"color: #800000; text-decoration-color: #800000; font-weight: bold\">PW</span><span style=\"color: #000080; text-decoration-color: #000080; font-weight: bold\">D</span><span style=\"color: #008000; text-decoration-color: #008000; font-weight: bold\">GTTN</span><span style=\"color: #000080; text-decoration-color: #000080; font-weight: bold\">E</span><span style=\"color: #008000; text-decoration-color: #008000; font-weight: bold\">SCC</span><span style=\"color: #4e4e4e; text-decoration-color: #4e4e4e; font-weight: bold\">---</span><span style=\"color: #800000; text-decoration-color: #800000; font-weight: bold\">LV</span><span style=\"color: #af00ff; text-decoration-color: #af00ff; font-weight: bold\">K</span><span style=\"color: #008000; text-decoration-color: #008000; font-weight: bold\">C</span><span style=\"color: #800000; text-decoration-color: #800000; font-weight: bold\">LF</span><span style=\"color: #000080; text-decoration-color: #000080; font-weight: bold\">E</span><span style=\"color: #008000; text-decoration-color: #008000; font-weight: bold\">N</span><span style=\"color: #800000; text-decoration-color: #800000; font-weight: bold\">V</span>  │\n",
       "│ 1 AA1R_HU…   <span style=\"color: #008080; text-decoration-color: #008080; font-weight: bold\"> 90</span>  <span style=\"color: #800000; text-decoration-color: #800000; font-weight: bold\">L</span><span style=\"color: #008000; text-decoration-color: #008000; font-weight: bold\">TQSS</span><span style=\"color: #800000; text-decoration-color: #800000; font-weight: bold\">ILALLAIAV</span><span style=\"color: #000080; text-decoration-color: #000080; font-weight: bold\">D</span><span style=\"color: #af00ff; text-decoration-color: #af00ff; font-weight: bold\">R</span><span style=\"color: #008000; text-decoration-color: #008000; font-weight: bold\">Y</span><span style=\"color: #800000; text-decoration-color: #800000; font-weight: bold\">L</span><span style=\"color: #af00ff; text-decoration-color: #af00ff; font-weight: bold\">R</span><span style=\"color: #800000; text-decoration-color: #800000; font-weight: bold\">V</span><span style=\"color: #af00ff; text-decoration-color: #af00ff; font-weight: bold\">K</span><span style=\"color: #800000; text-decoration-color: #800000; font-weight: bold\">IPL</span><span style=\"color: #af00ff; text-decoration-color: #af00ff; font-weight: bold\">R</span><span style=\"color: #008000; text-decoration-color: #008000; font-weight: bold\">Y</span><span style=\"color: #af00ff; text-decoration-color: #af00ff; font-weight: bold\">K</span><span style=\"color: #800000; text-decoration-color: #800000; font-weight: bold\">MVV</span><span style=\"color: #008000; text-decoration-color: #008000; font-weight: bold\">T</span><span style=\"color: #800000; text-decoration-color: #800000; font-weight: bold\">P</span><span style=\"color: #af00ff; text-decoration-color: #af00ff; font-weight: bold\">RR</span><span style=\"color: #800000; text-decoration-color: #800000; font-weight: bold\">AAVAIA</span><span style=\"color: #008000; text-decoration-color: #008000; font-weight: bold\">GC</span><span style=\"color: #800000; text-decoration-color: #800000; font-weight: bold\">WIL</span><span style=\"color: #008000; text-decoration-color: #008000; font-weight: bold\">S</span><span style=\"color: #800000; text-decoration-color: #800000; font-weight: bold\">FVV</span><span style=\"color: #008000; text-decoration-color: #008000; font-weight: bold\">G</span><span style=\"color: #800000; text-decoration-color: #800000; font-weight: bold\">L</span><span style=\"color: #008000; text-decoration-color: #008000; font-weight: bold\">T</span><span style=\"color: #800000; text-decoration-color: #800000; font-weight: bold\">PMF</span><span style=\"color: #008000; text-decoration-color: #008000; font-weight: bold\">G</span><span style=\"color: #800000; text-decoration-color: #800000; font-weight: bold\">W</span><span style=\"color: #008000; text-decoration-color: #008000; font-weight: bold\">NN</span><span style=\"color: #800000; text-decoration-color: #800000; font-weight: bold\">L</span><span style=\"color: #008000; text-decoration-color: #008000; font-weight: bold\">S</span><span style=\"color: #800000; text-decoration-color: #800000; font-weight: bold\">AV</span><span style=\"color: #000080; text-decoration-color: #000080; font-weight: bold\">E</span><span style=\"color: #af00ff; text-decoration-color: #af00ff; font-weight: bold\">R</span><span style=\"color: #4e4e4e; text-decoration-color: #4e4e4e; font-weight: bold\">----</span><span style=\"color: #800000; text-decoration-color: #800000; font-weight: bold\">AWA</span><span style=\"color: #4e4e4e; text-decoration-color: #4e4e4e; font-weight: bold\">---</span><span style=\"color: #800000; text-decoration-color: #800000; font-weight: bold\">A</span><span style=\"color: #008000; text-decoration-color: #008000; font-weight: bold\">NGS</span><span style=\"color: #800000; text-decoration-color: #800000; font-weight: bold\">M</span><span style=\"color: #008000; text-decoration-color: #008000; font-weight: bold\">G</span><span style=\"color: #000080; text-decoration-color: #000080; font-weight: bold\">E</span><span style=\"color: #800000; text-decoration-color: #800000; font-weight: bold\">PVI</span><span style=\"color: #af00ff; text-decoration-color: #af00ff; font-weight: bold\">K</span><span style=\"color: #008000; text-decoration-color: #008000; font-weight: bold\">C</span><span style=\"color: #000080; text-decoration-color: #000080; font-weight: bold\">E</span><span style=\"color: #800000; text-decoration-color: #800000; font-weight: bold\">F</span><span style=\"color: #000080; text-decoration-color: #000080; font-weight: bold\">E</span><span style=\"color: #af00ff; text-decoration-color: #af00ff; font-weight: bold\">K</span><span style=\"color: #800000; text-decoration-color: #800000; font-weight: bold\">V</span>  │\n",
       "│ 2 AA2AR_H…   <span style=\"color: #008080; text-decoration-color: #008080; font-weight: bold\"> 87</span>  <span style=\"color: #800000; text-decoration-color: #800000; font-weight: bold\">L</span><span style=\"color: #008000; text-decoration-color: #008000; font-weight: bold\">TQSS</span><span style=\"color: #800000; text-decoration-color: #800000; font-weight: bold\">IF</span><span style=\"color: #008000; text-decoration-color: #008000; font-weight: bold\">S</span><span style=\"color: #800000; text-decoration-color: #800000; font-weight: bold\">LLAIAI</span><span style=\"color: #000080; text-decoration-color: #000080; font-weight: bold\">D</span><span style=\"color: #af00ff; text-decoration-color: #af00ff; font-weight: bold\">R</span><span style=\"color: #008000; text-decoration-color: #008000; font-weight: bold\">Y</span><span style=\"color: #800000; text-decoration-color: #800000; font-weight: bold\">IAI</span><span style=\"color: #af00ff; text-decoration-color: #af00ff; font-weight: bold\">R</span><span style=\"color: #800000; text-decoration-color: #800000; font-weight: bold\">IPL</span><span style=\"color: #af00ff; text-decoration-color: #af00ff; font-weight: bold\">R</span><span style=\"color: #008000; text-decoration-color: #008000; font-weight: bold\">YNG</span><span style=\"color: #800000; text-decoration-color: #800000; font-weight: bold\">LV</span><span style=\"color: #008000; text-decoration-color: #008000; font-weight: bold\">TGT</span><span style=\"color: #af00ff; text-decoration-color: #af00ff; font-weight: bold\">R</span><span style=\"color: #800000; text-decoration-color: #800000; font-weight: bold\">A</span><span style=\"color: #af00ff; text-decoration-color: #af00ff; font-weight: bold\">K</span><span style=\"color: #008000; text-decoration-color: #008000; font-weight: bold\">G</span><span style=\"color: #800000; text-decoration-color: #800000; font-weight: bold\">IIAI</span><span style=\"color: #008000; text-decoration-color: #008000; font-weight: bold\">C</span><span style=\"color: #800000; text-decoration-color: #800000; font-weight: bold\">WVL</span><span style=\"color: #008000; text-decoration-color: #008000; font-weight: bold\">S</span><span style=\"color: #800000; text-decoration-color: #800000; font-weight: bold\">FAI</span><span style=\"color: #008000; text-decoration-color: #008000; font-weight: bold\">G</span><span style=\"color: #800000; text-decoration-color: #800000; font-weight: bold\">L</span><span style=\"color: #008000; text-decoration-color: #008000; font-weight: bold\">T</span><span style=\"color: #800000; text-decoration-color: #800000; font-weight: bold\">PML</span><span style=\"color: #008000; text-decoration-color: #008000; font-weight: bold\">G</span><span style=\"color: #800000; text-decoration-color: #800000; font-weight: bold\">W</span><span style=\"color: #008000; text-decoration-color: #008000; font-weight: bold\">NN</span><span style=\"color: #4e4e4e; text-decoration-color: #4e4e4e; font-weight: bold\">-------</span><span style=\"color: #008000; text-decoration-color: #008000; font-weight: bold\">CGQ</span><span style=\"color: #800000; text-decoration-color: #800000; font-weight: bold\">P</span><span style=\"color: #af00ff; text-decoration-color: #af00ff; font-weight: bold\">K</span><span style=\"color: #000080; text-decoration-color: #000080; font-weight: bold\">E</span><span style=\"color: #008000; text-decoration-color: #008000; font-weight: bold\">G</span><span style=\"color: #af00ff; text-decoration-color: #af00ff; font-weight: bold\">K</span><span style=\"color: #008000; text-decoration-color: #008000; font-weight: bold\">NHSQGCG</span><span style=\"color: #000080; text-decoration-color: #000080; font-weight: bold\">E</span><span style=\"color: #008000; text-decoration-color: #008000; font-weight: bold\">GQ</span><span style=\"color: #800000; text-decoration-color: #800000; font-weight: bold\">VA</span><span style=\"color: #008000; text-decoration-color: #008000; font-weight: bold\">C</span><span style=\"color: #800000; text-decoration-color: #800000; font-weight: bold\">LF</span><span style=\"color: #000080; text-decoration-color: #000080; font-weight: bold\">ED</span><span style=\"color: #800000; text-decoration-color: #800000; font-weight: bold\">V</span>  │\n",
       "│ 3 AA3R_HU…   <span style=\"color: #008080; text-decoration-color: #008080; font-weight: bold\"> 93</span>  <span style=\"color: #800000; text-decoration-color: #800000; font-weight: bold\">F</span><span style=\"color: #008000; text-decoration-color: #008000; font-weight: bold\">TH</span><span style=\"color: #800000; text-decoration-color: #800000; font-weight: bold\">A</span><span style=\"color: #008000; text-decoration-color: #008000; font-weight: bold\">S</span><span style=\"color: #800000; text-decoration-color: #800000; font-weight: bold\">IM</span><span style=\"color: #008000; text-decoration-color: #008000; font-weight: bold\">S</span><span style=\"color: #800000; text-decoration-color: #800000; font-weight: bold\">LLAIAV</span><span style=\"color: #000080; text-decoration-color: #000080; font-weight: bold\">D</span><span style=\"color: #af00ff; text-decoration-color: #af00ff; font-weight: bold\">R</span><span style=\"color: #008000; text-decoration-color: #008000; font-weight: bold\">Y</span><span style=\"color: #800000; text-decoration-color: #800000; font-weight: bold\">L</span><span style=\"color: #af00ff; text-decoration-color: #af00ff; font-weight: bold\">R</span><span style=\"color: #800000; text-decoration-color: #800000; font-weight: bold\">V</span><span style=\"color: #af00ff; text-decoration-color: #af00ff; font-weight: bold\">K</span><span style=\"color: #800000; text-decoration-color: #800000; font-weight: bold\">L</span><span style=\"color: #008000; text-decoration-color: #008000; font-weight: bold\">T</span><span style=\"color: #800000; text-decoration-color: #800000; font-weight: bold\">V</span><span style=\"color: #af00ff; text-decoration-color: #af00ff; font-weight: bold\">R</span><span style=\"color: #008000; text-decoration-color: #008000; font-weight: bold\">Y</span><span style=\"color: #af00ff; text-decoration-color: #af00ff; font-weight: bold\">KR</span><span style=\"color: #800000; text-decoration-color: #800000; font-weight: bold\">V</span><span style=\"color: #008000; text-decoration-color: #008000; font-weight: bold\">TTH</span><span style=\"color: #af00ff; text-decoration-color: #af00ff; font-weight: bold\">RR</span><span style=\"color: #800000; text-decoration-color: #800000; font-weight: bold\">IWLAL</span><span style=\"color: #008000; text-decoration-color: #008000; font-weight: bold\">G</span><span style=\"color: #800000; text-decoration-color: #800000; font-weight: bold\">L</span><span style=\"color: #008000; text-decoration-color: #008000; font-weight: bold\">C</span><span style=\"color: #800000; text-decoration-color: #800000; font-weight: bold\">WLV</span><span style=\"color: #008000; text-decoration-color: #008000; font-weight: bold\">S</span><span style=\"color: #800000; text-decoration-color: #800000; font-weight: bold\">FLV</span><span style=\"color: #008000; text-decoration-color: #008000; font-weight: bold\">G</span><span style=\"color: #800000; text-decoration-color: #800000; font-weight: bold\">L</span><span style=\"color: #008000; text-decoration-color: #008000; font-weight: bold\">T</span><span style=\"color: #800000; text-decoration-color: #800000; font-weight: bold\">PMF</span><span style=\"color: #008000; text-decoration-color: #008000; font-weight: bold\">G</span><span style=\"color: #800000; text-decoration-color: #800000; font-weight: bold\">W</span><span style=\"color: #008000; text-decoration-color: #008000; font-weight: bold\">N</span><span style=\"color: #800000; text-decoration-color: #800000; font-weight: bold\">M</span><span style=\"color: #af00ff; text-decoration-color: #af00ff; font-weight: bold\">K</span><span style=\"color: #800000; text-decoration-color: #800000; font-weight: bold\">L</span><span style=\"color: #008000; text-decoration-color: #008000; font-weight: bold\">TS</span><span style=\"color: #000080; text-decoration-color: #000080; font-weight: bold\">E</span><span style=\"color: #008000; text-decoration-color: #008000; font-weight: bold\">YH</span><span style=\"color: #4e4e4e; text-decoration-color: #4e4e4e; font-weight: bold\">-------------</span><span style=\"color: #af00ff; text-decoration-color: #af00ff; font-weight: bold\">R</span><span style=\"color: #008000; text-decoration-color: #008000; font-weight: bold\">N</span><span style=\"color: #800000; text-decoration-color: #800000; font-weight: bold\">V</span><span style=\"color: #008000; text-decoration-color: #008000; font-weight: bold\">T</span><span style=\"color: #800000; text-decoration-color: #800000; font-weight: bold\">FL</span><span style=\"color: #008000; text-decoration-color: #008000; font-weight: bold\">SCQ</span><span style=\"color: #800000; text-decoration-color: #800000; font-weight: bold\">FV</span><span style=\"color: #008000; text-decoration-color: #008000; font-weight: bold\">S</span><span style=\"color: #800000; text-decoration-color: #800000; font-weight: bold\">V</span>  │\n",
       "│                                                                                                                 │\n",
       "│ 0 AA2BR_H…   <span style=\"color: #008080; text-decoration-color: #008080; font-weight: bold\">177</span>  <span style=\"color: #800000; text-decoration-color: #800000; font-weight: bold\">VPM</span><span style=\"color: #008000; text-decoration-color: #008000; font-weight: bold\">SY</span><span style=\"color: #800000; text-decoration-color: #800000; font-weight: bold\">MV</span><span style=\"color: #008000; text-decoration-color: #008000; font-weight: bold\">Y</span><span style=\"color: #800000; text-decoration-color: #800000; font-weight: bold\">F</span><span style=\"color: #008000; text-decoration-color: #008000; font-weight: bold\">N</span><span style=\"color: #800000; text-decoration-color: #800000; font-weight: bold\">FF</span><span style=\"color: #008000; text-decoration-color: #008000; font-weight: bold\">GC</span><span style=\"color: #800000; text-decoration-color: #800000; font-weight: bold\">VLPPLLIMLVI</span><span style=\"color: #008000; text-decoration-color: #008000; font-weight: bold\">Y</span><span style=\"color: #800000; text-decoration-color: #800000; font-weight: bold\">I</span><span style=\"color: #af00ff; text-decoration-color: #af00ff; font-weight: bold\">K</span><span style=\"color: #800000; text-decoration-color: #800000; font-weight: bold\">IFLVA</span><span style=\"color: #008000; text-decoration-color: #008000; font-weight: bold\">C</span><span style=\"color: #af00ff; text-decoration-color: #af00ff; font-weight: bold\">R</span><span style=\"color: #008000; text-decoration-color: #008000; font-weight: bold\">Q</span><span style=\"color: #800000; text-decoration-color: #800000; font-weight: bold\">L</span><span style=\"color: #008000; text-decoration-color: #008000; font-weight: bold\">Q</span><span style=\"color: #af00ff; text-decoration-color: #af00ff; font-weight: bold\">R</span><span style=\"color: #008000; text-decoration-color: #008000; font-weight: bold\">T</span><span style=\"color: #000080; text-decoration-color: #000080; font-weight: bold\">E</span><span style=\"color: #800000; text-decoration-color: #800000; font-weight: bold\">L</span><span style=\"color: #4e4e4e; text-decoration-color: #4e4e4e; font-weight: bold\">----</span><span style=\"color: #800000; text-decoration-color: #800000; font-weight: bold\">M</span><span style=\"color: #000080; text-decoration-color: #000080; font-weight: bold\">D</span><span style=\"color: #008000; text-decoration-color: #008000; font-weight: bold\">HS</span><span style=\"color: #af00ff; text-decoration-color: #af00ff; font-weight: bold\">R</span><span style=\"color: #008000; text-decoration-color: #008000; font-weight: bold\">TT</span><span style=\"color: #800000; text-decoration-color: #800000; font-weight: bold\">L</span><span style=\"color: #008000; text-decoration-color: #008000; font-weight: bold\">Q</span><span style=\"color: #af00ff; text-decoration-color: #af00ff; font-weight: bold\">R</span><span style=\"color: #000080; text-decoration-color: #000080; font-weight: bold\">E</span><span style=\"color: #800000; text-decoration-color: #800000; font-weight: bold\">I</span><span style=\"color: #008000; text-decoration-color: #008000; font-weight: bold\">H</span><span style=\"color: #800000; text-decoration-color: #800000; font-weight: bold\">AA</span><span style=\"color: #af00ff; text-decoration-color: #af00ff; font-weight: bold\">K</span><span style=\"color: #008000; text-decoration-color: #008000; font-weight: bold\">S</span><span style=\"color: #800000; text-decoration-color: #800000; font-weight: bold\">LAMIV</span><span style=\"color: #008000; text-decoration-color: #008000; font-weight: bold\">G</span><span style=\"color: #800000; text-decoration-color: #800000; font-weight: bold\">IFAL</span><span style=\"color: #008000; text-decoration-color: #008000; font-weight: bold\">C</span><span style=\"color: #800000; text-decoration-color: #800000; font-weight: bold\">WLPV</span><span style=\"color: #008000; text-decoration-color: #008000; font-weight: bold\">H</span><span style=\"color: #800000; text-decoration-color: #800000; font-weight: bold\">AV</span><span style=\"color: #008000; text-decoration-color: #008000; font-weight: bold\">NC</span><span style=\"color: #800000; text-decoration-color: #800000; font-weight: bold\">V</span><span style=\"color: #008000; text-decoration-color: #008000; font-weight: bold\">T</span><span style=\"color: #800000; text-decoration-color: #800000; font-weight: bold\">LF</span><span style=\"color: #008000; text-decoration-color: #008000; font-weight: bold\">Q</span><span style=\"color: #800000; text-decoration-color: #800000; font-weight: bold\">PA</span><span style=\"color: #008000; text-decoration-color: #008000; font-weight: bold\">QG</span>  │\n",
       "│ 1 AA1R_HU…   <span style=\"color: #008080; text-decoration-color: #008080; font-weight: bold\">175</span>  <span style=\"color: #800000; text-decoration-color: #800000; font-weight: bold\">I</span><span style=\"color: #008000; text-decoration-color: #008000; font-weight: bold\">S</span><span style=\"color: #800000; text-decoration-color: #800000; font-weight: bold\">M</span><span style=\"color: #000080; text-decoration-color: #000080; font-weight: bold\">E</span><span style=\"color: #008000; text-decoration-color: #008000; font-weight: bold\">Y</span><span style=\"color: #800000; text-decoration-color: #800000; font-weight: bold\">MV</span><span style=\"color: #008000; text-decoration-color: #008000; font-weight: bold\">Y</span><span style=\"color: #800000; text-decoration-color: #800000; font-weight: bold\">F</span><span style=\"color: #008000; text-decoration-color: #008000; font-weight: bold\">N</span><span style=\"color: #800000; text-decoration-color: #800000; font-weight: bold\">FFVWVLPPLLLMVLI</span><span style=\"color: #008000; text-decoration-color: #008000; font-weight: bold\">Y</span><span style=\"color: #800000; text-decoration-color: #800000; font-weight: bold\">L</span><span style=\"color: #000080; text-decoration-color: #000080; font-weight: bold\">E</span><span style=\"color: #800000; text-decoration-color: #800000; font-weight: bold\">VF</span><span style=\"color: #008000; text-decoration-color: #008000; font-weight: bold\">Y</span><span style=\"color: #800000; text-decoration-color: #800000; font-weight: bold\">LI</span><span style=\"color: #af00ff; text-decoration-color: #af00ff; font-weight: bold\">RK</span><span style=\"color: #008000; text-decoration-color: #008000; font-weight: bold\">Q</span><span style=\"color: #800000; text-decoration-color: #800000; font-weight: bold\">L</span><span style=\"color: #008000; text-decoration-color: #008000; font-weight: bold\">N</span><span style=\"color: #af00ff; text-decoration-color: #af00ff; font-weight: bold\">KK</span><span style=\"color: #800000; text-decoration-color: #800000; font-weight: bold\">V</span><span style=\"color: #008000; text-decoration-color: #008000; font-weight: bold\">S</span><span style=\"color: #800000; text-decoration-color: #800000; font-weight: bold\">A</span><span style=\"color: #008000; text-decoration-color: #008000; font-weight: bold\">S</span><span style=\"color: #4e4e4e; text-decoration-color: #4e4e4e; font-weight: bold\">--</span><span style=\"color: #008000; text-decoration-color: #008000; font-weight: bold\">SG</span><span style=\"color: #000080; text-decoration-color: #000080; font-weight: bold\">D</span><span style=\"color: #800000; text-decoration-color: #800000; font-weight: bold\">P</span><span style=\"color: #008000; text-decoration-color: #008000; font-weight: bold\">Q</span><span style=\"color: #af00ff; text-decoration-color: #af00ff; font-weight: bold\">K</span><span style=\"color: #008000; text-decoration-color: #008000; font-weight: bold\">YYG</span><span style=\"color: #af00ff; text-decoration-color: #af00ff; font-weight: bold\">K</span><span style=\"color: #000080; text-decoration-color: #000080; font-weight: bold\">E</span><span style=\"color: #800000; text-decoration-color: #800000; font-weight: bold\">L</span><span style=\"color: #af00ff; text-decoration-color: #af00ff; font-weight: bold\">K</span><span style=\"color: #800000; text-decoration-color: #800000; font-weight: bold\">IA</span><span style=\"color: #af00ff; text-decoration-color: #af00ff; font-weight: bold\">K</span><span style=\"color: #008000; text-decoration-color: #008000; font-weight: bold\">S</span><span style=\"color: #800000; text-decoration-color: #800000; font-weight: bold\">LALILFLFAL</span><span style=\"color: #008000; text-decoration-color: #008000; font-weight: bold\">S</span><span style=\"color: #800000; text-decoration-color: #800000; font-weight: bold\">WLPL</span><span style=\"color: #008000; text-decoration-color: #008000; font-weight: bold\">H</span><span style=\"color: #800000; text-decoration-color: #800000; font-weight: bold\">IL</span><span style=\"color: #008000; text-decoration-color: #008000; font-weight: bold\">NC</span><span style=\"color: #800000; text-decoration-color: #800000; font-weight: bold\">I</span><span style=\"color: #008000; text-decoration-color: #008000; font-weight: bold\">T</span><span style=\"color: #800000; text-decoration-color: #800000; font-weight: bold\">LF</span><span style=\"color: #008000; text-decoration-color: #008000; font-weight: bold\">C</span><span style=\"color: #800000; text-decoration-color: #800000; font-weight: bold\">P</span><span style=\"color: #008000; text-decoration-color: #008000; font-weight: bold\">SC</span><span style=\"color: #4e4e4e; text-decoration-color: #4e4e4e; font-weight: bold\">-</span>  │\n",
       "│ 2 AA2AR_H…   <span style=\"color: #008080; text-decoration-color: #008080; font-weight: bold\">172</span>  <span style=\"color: #800000; text-decoration-color: #800000; font-weight: bold\">VPM</span><span style=\"color: #008000; text-decoration-color: #008000; font-weight: bold\">NY</span><span style=\"color: #800000; text-decoration-color: #800000; font-weight: bold\">MV</span><span style=\"color: #008000; text-decoration-color: #008000; font-weight: bold\">Y</span><span style=\"color: #800000; text-decoration-color: #800000; font-weight: bold\">F</span><span style=\"color: #008000; text-decoration-color: #008000; font-weight: bold\">N</span><span style=\"color: #800000; text-decoration-color: #800000; font-weight: bold\">FFA</span><span style=\"color: #008000; text-decoration-color: #008000; font-weight: bold\">C</span><span style=\"color: #800000; text-decoration-color: #800000; font-weight: bold\">VLVPLLLML</span><span style=\"color: #008000; text-decoration-color: #008000; font-weight: bold\">G</span><span style=\"color: #800000; text-decoration-color: #800000; font-weight: bold\">V</span><span style=\"color: #008000; text-decoration-color: #008000; font-weight: bold\">Y</span><span style=\"color: #800000; text-decoration-color: #800000; font-weight: bold\">L</span><span style=\"color: #af00ff; text-decoration-color: #af00ff; font-weight: bold\">R</span><span style=\"color: #800000; text-decoration-color: #800000; font-weight: bold\">IFLAA</span><span style=\"color: #af00ff; text-decoration-color: #af00ff; font-weight: bold\">RR</span><span style=\"color: #008000; text-decoration-color: #008000; font-weight: bold\">Q</span><span style=\"color: #800000; text-decoration-color: #800000; font-weight: bold\">L</span><span style=\"color: #af00ff; text-decoration-color: #af00ff; font-weight: bold\">K</span><span style=\"color: #008000; text-decoration-color: #008000; font-weight: bold\">Q</span><span style=\"color: #800000; text-decoration-color: #800000; font-weight: bold\">M</span><span style=\"color: #000080; text-decoration-color: #000080; font-weight: bold\">E</span><span style=\"color: #008000; text-decoration-color: #008000; font-weight: bold\">SQ</span><span style=\"color: #800000; text-decoration-color: #800000; font-weight: bold\">PLP</span><span style=\"color: #008000; text-decoration-color: #008000; font-weight: bold\">G</span><span style=\"color: #000080; text-decoration-color: #000080; font-weight: bold\">E</span><span style=\"color: #af00ff; text-decoration-color: #af00ff; font-weight: bold\">R</span><span style=\"color: #800000; text-decoration-color: #800000; font-weight: bold\">A</span><span style=\"color: #af00ff; text-decoration-color: #af00ff; font-weight: bold\">R</span><span style=\"color: #008000; text-decoration-color: #008000; font-weight: bold\">ST</span><span style=\"color: #800000; text-decoration-color: #800000; font-weight: bold\">L</span><span style=\"color: #008000; text-decoration-color: #008000; font-weight: bold\">Q</span><span style=\"color: #af00ff; text-decoration-color: #af00ff; font-weight: bold\">K</span><span style=\"color: #000080; text-decoration-color: #000080; font-weight: bold\">E</span><span style=\"color: #800000; text-decoration-color: #800000; font-weight: bold\">V</span><span style=\"color: #008000; text-decoration-color: #008000; font-weight: bold\">H</span><span style=\"color: #800000; text-decoration-color: #800000; font-weight: bold\">AA</span><span style=\"color: #af00ff; text-decoration-color: #af00ff; font-weight: bold\">K</span><span style=\"color: #008000; text-decoration-color: #008000; font-weight: bold\">S</span><span style=\"color: #800000; text-decoration-color: #800000; font-weight: bold\">LAIIV</span><span style=\"color: #008000; text-decoration-color: #008000; font-weight: bold\">G</span><span style=\"color: #800000; text-decoration-color: #800000; font-weight: bold\">LFAL</span><span style=\"color: #008000; text-decoration-color: #008000; font-weight: bold\">C</span><span style=\"color: #800000; text-decoration-color: #800000; font-weight: bold\">WLPL</span><span style=\"color: #008000; text-decoration-color: #008000; font-weight: bold\">H</span><span style=\"color: #800000; text-decoration-color: #800000; font-weight: bold\">II</span><span style=\"color: #008000; text-decoration-color: #008000; font-weight: bold\">NC</span><span style=\"color: #800000; text-decoration-color: #800000; font-weight: bold\">F</span><span style=\"color: #008000; text-decoration-color: #008000; font-weight: bold\">T</span><span style=\"color: #800000; text-decoration-color: #800000; font-weight: bold\">FF</span><span style=\"color: #008000; text-decoration-color: #008000; font-weight: bold\">C</span><span style=\"color: #800000; text-decoration-color: #800000; font-weight: bold\">P</span><span style=\"color: #000080; text-decoration-color: #000080; font-weight: bold\">D</span><span style=\"color: #008000; text-decoration-color: #008000; font-weight: bold\">C</span><span style=\"color: #4e4e4e; text-decoration-color: #4e4e4e; font-weight: bold\">-</span>  │\n",
       "│ 3 AA3R_HU…   <span style=\"color: #008080; text-decoration-color: #008080; font-weight: bold\">172</span>  <span style=\"color: #800000; text-decoration-color: #800000; font-weight: bold\">M</span><span style=\"color: #af00ff; text-decoration-color: #af00ff; font-weight: bold\">R</span><span style=\"color: #800000; text-decoration-color: #800000; font-weight: bold\">M</span><span style=\"color: #000080; text-decoration-color: #000080; font-weight: bold\">D</span><span style=\"color: #008000; text-decoration-color: #008000; font-weight: bold\">Y</span><span style=\"color: #800000; text-decoration-color: #800000; font-weight: bold\">MV</span><span style=\"color: #008000; text-decoration-color: #008000; font-weight: bold\">Y</span><span style=\"color: #800000; text-decoration-color: #800000; font-weight: bold\">F</span><span style=\"color: #008000; text-decoration-color: #008000; font-weight: bold\">S</span><span style=\"color: #800000; text-decoration-color: #800000; font-weight: bold\">FL</span><span style=\"color: #008000; text-decoration-color: #008000; font-weight: bold\">T</span><span style=\"color: #800000; text-decoration-color: #800000; font-weight: bold\">WIFIPLVVM</span><span style=\"color: #008000; text-decoration-color: #008000; font-weight: bold\">C</span><span style=\"color: #800000; text-decoration-color: #800000; font-weight: bold\">AI</span><span style=\"color: #008000; text-decoration-color: #008000; font-weight: bold\">Y</span><span style=\"color: #800000; text-decoration-color: #800000; font-weight: bold\">L</span><span style=\"color: #000080; text-decoration-color: #000080; font-weight: bold\">D</span><span style=\"color: #800000; text-decoration-color: #800000; font-weight: bold\">IF</span><span style=\"color: #008000; text-decoration-color: #008000; font-weight: bold\">Y</span><span style=\"color: #800000; text-decoration-color: #800000; font-weight: bold\">II</span><span style=\"color: #af00ff; text-decoration-color: #af00ff; font-weight: bold\">R</span><span style=\"color: #008000; text-decoration-color: #008000; font-weight: bold\">N</span><span style=\"color: #af00ff; text-decoration-color: #af00ff; font-weight: bold\">K</span><span style=\"color: #800000; text-decoration-color: #800000; font-weight: bold\">L</span><span style=\"color: #008000; text-decoration-color: #008000; font-weight: bold\">S</span><span style=\"color: #800000; text-decoration-color: #800000; font-weight: bold\">L</span><span style=\"color: #008000; text-decoration-color: #008000; font-weight: bold\">N</span><span style=\"color: #800000; text-decoration-color: #800000; font-weight: bold\">L</span><span style=\"color: #008000; text-decoration-color: #008000; font-weight: bold\">SN</span><span style=\"color: #4e4e4e; text-decoration-color: #4e4e4e; font-weight: bold\">---</span><span style=\"color: #008000; text-decoration-color: #008000; font-weight: bold\">S</span><span style=\"color: #af00ff; text-decoration-color: #af00ff; font-weight: bold\">K</span><span style=\"color: #000080; text-decoration-color: #000080; font-weight: bold\">E</span><span style=\"color: #008000; text-decoration-color: #008000; font-weight: bold\">TG</span><span style=\"color: #800000; text-decoration-color: #800000; font-weight: bold\">AF</span><span style=\"color: #008000; text-decoration-color: #008000; font-weight: bold\">YG</span><span style=\"color: #af00ff; text-decoration-color: #af00ff; font-weight: bold\">R</span><span style=\"color: #000080; text-decoration-color: #000080; font-weight: bold\">E</span><span style=\"color: #800000; text-decoration-color: #800000; font-weight: bold\">F</span><span style=\"color: #af00ff; text-decoration-color: #af00ff; font-weight: bold\">K</span><span style=\"color: #008000; text-decoration-color: #008000; font-weight: bold\">T</span><span style=\"color: #800000; text-decoration-color: #800000; font-weight: bold\">A</span><span style=\"color: #af00ff; text-decoration-color: #af00ff; font-weight: bold\">K</span><span style=\"color: #008000; text-decoration-color: #008000; font-weight: bold\">S</span><span style=\"color: #800000; text-decoration-color: #800000; font-weight: bold\">LFLVLFLFAL</span><span style=\"color: #008000; text-decoration-color: #008000; font-weight: bold\">S</span><span style=\"color: #800000; text-decoration-color: #800000; font-weight: bold\">WLPL</span><span style=\"color: #008000; text-decoration-color: #008000; font-weight: bold\">S</span><span style=\"color: #800000; text-decoration-color: #800000; font-weight: bold\">II</span><span style=\"color: #008000; text-decoration-color: #008000; font-weight: bold\">NC</span><span style=\"color: #800000; text-decoration-color: #800000; font-weight: bold\">II</span><span style=\"color: #008000; text-decoration-color: #008000; font-weight: bold\">Y</span><span style=\"color: #800000; text-decoration-color: #800000; font-weight: bold\">F</span><span style=\"color: #008000; text-decoration-color: #008000; font-weight: bold\">NG</span><span style=\"color: #4e4e4e; text-decoration-color: #4e4e4e; font-weight: bold\">---</span>  │\n",
       "│                                                                                                                 │\n",
       "│ 0 AA2BR_H…   <span style=\"color: #008080; text-decoration-color: #008080; font-weight: bold\">265</span>  <span style=\"color: #af00ff; text-decoration-color: #af00ff; font-weight: bold\">K</span><span style=\"color: #008000; text-decoration-color: #008000; font-weight: bold\">N</span><span style=\"color: #af00ff; text-decoration-color: #af00ff; font-weight: bold\">K</span><span style=\"color: #800000; text-decoration-color: #800000; font-weight: bold\">P</span><span style=\"color: #af00ff; text-decoration-color: #af00ff; font-weight: bold\">K</span><span style=\"color: #800000; text-decoration-color: #800000; font-weight: bold\">WAM</span><span style=\"color: #008000; text-decoration-color: #008000; font-weight: bold\">N</span><span style=\"color: #800000; text-decoration-color: #800000; font-weight: bold\">MAILL</span><span style=\"color: #008000; text-decoration-color: #008000; font-weight: bold\">SH</span><span style=\"color: #800000; text-decoration-color: #800000; font-weight: bold\">A</span><span style=\"color: #008000; text-decoration-color: #008000; font-weight: bold\">NS</span><span style=\"color: #800000; text-decoration-color: #800000; font-weight: bold\">VV</span><span style=\"color: #008000; text-decoration-color: #008000; font-weight: bold\">N</span><span style=\"color: #800000; text-decoration-color: #800000; font-weight: bold\">PIV</span><span style=\"color: #008000; text-decoration-color: #008000; font-weight: bold\">Y</span><span style=\"color: #800000; text-decoration-color: #800000; font-weight: bold\">A</span><span style=\"color: #008000; text-decoration-color: #008000; font-weight: bold\">Y</span><span style=\"color: #af00ff; text-decoration-color: #af00ff; font-weight: bold\">R</span><span style=\"color: #008000; text-decoration-color: #008000; font-weight: bold\">N</span><span style=\"color: #af00ff; text-decoration-color: #af00ff; font-weight: bold\">R</span><span style=\"color: #000080; text-decoration-color: #000080; font-weight: bold\">D</span><span style=\"color: #800000; text-decoration-color: #800000; font-weight: bold\">F</span><span style=\"color: #af00ff; text-decoration-color: #af00ff; font-weight: bold\">R</span><span style=\"color: #008000; text-decoration-color: #008000; font-weight: bold\">YT</span><span style=\"color: #800000; text-decoration-color: #800000; font-weight: bold\">F</span><span style=\"color: #008000; text-decoration-color: #008000; font-weight: bold\">H</span><span style=\"color: #af00ff; text-decoration-color: #af00ff; font-weight: bold\">K</span><span style=\"color: #800000; text-decoration-color: #800000; font-weight: bold\">II</span><span style=\"color: #008000; text-decoration-color: #008000; font-weight: bold\">S</span><span style=\"color: #af00ff; text-decoration-color: #af00ff; font-weight: bold\">R</span><span style=\"color: #008000; text-decoration-color: #008000; font-weight: bold\">Y</span><span style=\"color: #800000; text-decoration-color: #800000; font-weight: bold\">LL</span><span style=\"color: #008000; text-decoration-color: #008000; font-weight: bold\">CQ</span><span style=\"color: #800000; text-decoration-color: #800000; font-weight: bold\">A</span><span style=\"color: #000080; text-decoration-color: #000080; font-weight: bold\">D</span><span style=\"color: #800000; text-decoration-color: #800000; font-weight: bold\">V</span><span style=\"color: #af00ff; text-decoration-color: #af00ff; font-weight: bold\">K</span><span style=\"color: #008000; text-decoration-color: #008000; font-weight: bold\">SGNGQ</span><span style=\"color: #4e4e4e; text-decoration-color: #4e4e4e; font-weight: bold\">----------</span><span style=\"color: #800000; text-decoration-color: #800000; font-weight: bold\">A</span><span style=\"color: #008000; text-decoration-color: #008000; font-weight: bold\">G</span><span style=\"color: #800000; text-decoration-color: #800000; font-weight: bold\">V</span><span style=\"color: #008000; text-decoration-color: #008000; font-weight: bold\">Q</span><span style=\"color: #800000; text-decoration-color: #800000; font-weight: bold\">PAL</span><span style=\"color: #008000; text-decoration-color: #008000; font-weight: bold\">G</span><span style=\"color: #800000; text-decoration-color: #800000; font-weight: bold\">V</span><span style=\"color: #008000; text-decoration-color: #008000; font-weight: bold\">G</span><span style=\"color: #800000; text-decoration-color: #800000; font-weight: bold\">L</span><span style=\"color: #4e4e4e; text-decoration-color: #4e4e4e; font-weight: bold\">--------------</span>  │\n",
       "│ 1 AA1R_HU…   <span style=\"color: #008080; text-decoration-color: #008080; font-weight: bold\">264</span>  <span style=\"color: #4e4e4e; text-decoration-color: #4e4e4e; font-weight: bold\">-</span><span style=\"color: #008000; text-decoration-color: #008000; font-weight: bold\">H</span><span style=\"color: #af00ff; text-decoration-color: #af00ff; font-weight: bold\">K</span><span style=\"color: #800000; text-decoration-color: #800000; font-weight: bold\">P</span><span style=\"color: #008000; text-decoration-color: #008000; font-weight: bold\">S</span><span style=\"color: #800000; text-decoration-color: #800000; font-weight: bold\">IL</span><span style=\"color: #008000; text-decoration-color: #008000; font-weight: bold\">TY</span><span style=\"color: #800000; text-decoration-color: #800000; font-weight: bold\">IAIFL</span><span style=\"color: #008000; text-decoration-color: #008000; font-weight: bold\">THGNS</span><span style=\"color: #800000; text-decoration-color: #800000; font-weight: bold\">AM</span><span style=\"color: #008000; text-decoration-color: #008000; font-weight: bold\">N</span><span style=\"color: #800000; text-decoration-color: #800000; font-weight: bold\">PIV</span><span style=\"color: #008000; text-decoration-color: #008000; font-weight: bold\">Y</span><span style=\"color: #800000; text-decoration-color: #800000; font-weight: bold\">AF</span><span style=\"color: #af00ff; text-decoration-color: #af00ff; font-weight: bold\">R</span><span style=\"color: #800000; text-decoration-color: #800000; font-weight: bold\">I</span><span style=\"color: #008000; text-decoration-color: #008000; font-weight: bold\">Q</span><span style=\"color: #af00ff; text-decoration-color: #af00ff; font-weight: bold\">K</span><span style=\"color: #800000; text-decoration-color: #800000; font-weight: bold\">F</span><span style=\"color: #af00ff; text-decoration-color: #af00ff; font-weight: bold\">R</span><span style=\"color: #800000; text-decoration-color: #800000; font-weight: bold\">V</span><span style=\"color: #008000; text-decoration-color: #008000; font-weight: bold\">T</span><span style=\"color: #800000; text-decoration-color: #800000; font-weight: bold\">FL</span><span style=\"color: #af00ff; text-decoration-color: #af00ff; font-weight: bold\">K</span><span style=\"color: #800000; text-decoration-color: #800000; font-weight: bold\">IW</span><span style=\"color: #008000; text-decoration-color: #008000; font-weight: bold\">N</span><span style=\"color: #000080; text-decoration-color: #000080; font-weight: bold\">D</span><span style=\"color: #008000; text-decoration-color: #008000; font-weight: bold\">H</span><span style=\"color: #800000; text-decoration-color: #800000; font-weight: bold\">F</span><span style=\"color: #af00ff; text-decoration-color: #af00ff; font-weight: bold\">R</span><span style=\"color: #008000; text-decoration-color: #008000; font-weight: bold\">CQ</span><span style=\"color: #800000; text-decoration-color: #800000; font-weight: bold\">PAPPI</span><span style=\"color: #000080; text-decoration-color: #000080; font-weight: bold\">DED</span><span style=\"color: #800000; text-decoration-color: #800000; font-weight: bold\">LP</span><span style=\"color: #000080; text-decoration-color: #000080; font-weight: bold\">EE</span><span style=\"color: #4e4e4e; text-decoration-color: #4e4e4e; font-weight: bold\">--------------------------------</span>  │\n",
       "│ 2 AA2AR_H…   <span style=\"color: #008080; text-decoration-color: #008080; font-weight: bold\">263</span>  <span style=\"color: #008000; text-decoration-color: #008000; font-weight: bold\">SH</span><span style=\"color: #800000; text-decoration-color: #800000; font-weight: bold\">APLWLM</span><span style=\"color: #008000; text-decoration-color: #008000; font-weight: bold\">Y</span><span style=\"color: #800000; text-decoration-color: #800000; font-weight: bold\">LAIVL</span><span style=\"color: #008000; text-decoration-color: #008000; font-weight: bold\">SHTNS</span><span style=\"color: #800000; text-decoration-color: #800000; font-weight: bold\">VV</span><span style=\"color: #008000; text-decoration-color: #008000; font-weight: bold\">N</span><span style=\"color: #800000; text-decoration-color: #800000; font-weight: bold\">PFI</span><span style=\"color: #008000; text-decoration-color: #008000; font-weight: bold\">Y</span><span style=\"color: #800000; text-decoration-color: #800000; font-weight: bold\">A</span><span style=\"color: #008000; text-decoration-color: #008000; font-weight: bold\">Y</span><span style=\"color: #af00ff; text-decoration-color: #af00ff; font-weight: bold\">R</span><span style=\"color: #800000; text-decoration-color: #800000; font-weight: bold\">I</span><span style=\"color: #af00ff; text-decoration-color: #af00ff; font-weight: bold\">R</span><span style=\"color: #000080; text-decoration-color: #000080; font-weight: bold\">E</span><span style=\"color: #800000; text-decoration-color: #800000; font-weight: bold\">F</span><span style=\"color: #af00ff; text-decoration-color: #af00ff; font-weight: bold\">R</span><span style=\"color: #008000; text-decoration-color: #008000; font-weight: bold\">QT</span><span style=\"color: #800000; text-decoration-color: #800000; font-weight: bold\">F</span><span style=\"color: #af00ff; text-decoration-color: #af00ff; font-weight: bold\">RK</span><span style=\"color: #800000; text-decoration-color: #800000; font-weight: bold\">II</span><span style=\"color: #af00ff; text-decoration-color: #af00ff; font-weight: bold\">R</span><span style=\"color: #008000; text-decoration-color: #008000; font-weight: bold\">SH</span><span style=\"color: #800000; text-decoration-color: #800000; font-weight: bold\">VL</span><span style=\"color: #af00ff; text-decoration-color: #af00ff; font-weight: bold\">R</span><span style=\"color: #008000; text-decoration-color: #008000; font-weight: bold\">QQ</span><span style=\"color: #000080; text-decoration-color: #000080; font-weight: bold\">E</span><span style=\"color: #800000; text-decoration-color: #800000; font-weight: bold\">PF</span><span style=\"color: #af00ff; text-decoration-color: #af00ff; font-weight: bold\">K</span><span style=\"color: #800000; text-decoration-color: #800000; font-weight: bold\">AA</span><span style=\"color: #008000; text-decoration-color: #008000; font-weight: bold\">GTS</span><span style=\"color: #800000; text-decoration-color: #800000; font-weight: bold\">A</span><span style=\"color: #af00ff; text-decoration-color: #af00ff; font-weight: bold\">R</span><span style=\"color: #800000; text-decoration-color: #800000; font-weight: bold\">VLAA</span><span style=\"color: #008000; text-decoration-color: #008000; font-weight: bold\">HGS</span><span style=\"color: #000080; text-decoration-color: #000080; font-weight: bold\">D</span><span style=\"color: #008000; text-decoration-color: #008000; font-weight: bold\">G</span><span style=\"color: #000080; text-decoration-color: #000080; font-weight: bold\">E</span><span style=\"color: #008000; text-decoration-color: #008000; font-weight: bold\">Q</span><span style=\"color: #800000; text-decoration-color: #800000; font-weight: bold\">V</span><span style=\"color: #008000; text-decoration-color: #008000; font-weight: bold\">S</span><span style=\"color: #800000; text-decoration-color: #800000; font-weight: bold\">L</span><span style=\"color: #af00ff; text-decoration-color: #af00ff; font-weight: bold\">R</span><span style=\"color: #800000; text-decoration-color: #800000; font-weight: bold\">L</span><span style=\"color: #008000; text-decoration-color: #008000; font-weight: bold\">NGH</span><span style=\"color: #800000; text-decoration-color: #800000; font-weight: bold\">PP</span><span style=\"color: #008000; text-decoration-color: #008000; font-weight: bold\">G</span><span style=\"color: #800000; text-decoration-color: #800000; font-weight: bold\">VWA</span><span style=\"color: #008000; text-decoration-color: #008000; font-weight: bold\">NGS</span><span style=\"color: #800000; text-decoration-color: #800000; font-weight: bold\">AP</span><span style=\"color: #008000; text-decoration-color: #008000; font-weight: bold\">H</span><span style=\"color: #800000; text-decoration-color: #800000; font-weight: bold\">P</span>  │\n",
       "│ 3 AA3R_HU…   <span style=\"color: #008080; text-decoration-color: #008080; font-weight: bold\">258</span>  <span style=\"color: #4e4e4e; text-decoration-color: #4e4e4e; font-weight: bold\">-</span><span style=\"color: #000080; text-decoration-color: #000080; font-weight: bold\">E</span><span style=\"color: #800000; text-decoration-color: #800000; font-weight: bold\">VP</span><span style=\"color: #008000; text-decoration-color: #008000; font-weight: bold\">Q</span><span style=\"color: #800000; text-decoration-color: #800000; font-weight: bold\">LVL</span><span style=\"color: #008000; text-decoration-color: #008000; font-weight: bold\">Y</span><span style=\"color: #800000; text-decoration-color: #800000; font-weight: bold\">M</span><span style=\"color: #008000; text-decoration-color: #008000; font-weight: bold\">G</span><span style=\"color: #800000; text-decoration-color: #800000; font-weight: bold\">ILL</span><span style=\"color: #008000; text-decoration-color: #008000; font-weight: bold\">SH</span><span style=\"color: #800000; text-decoration-color: #800000; font-weight: bold\">A</span><span style=\"color: #008000; text-decoration-color: #008000; font-weight: bold\">NS</span><span style=\"color: #800000; text-decoration-color: #800000; font-weight: bold\">MM</span><span style=\"color: #008000; text-decoration-color: #008000; font-weight: bold\">N</span><span style=\"color: #800000; text-decoration-color: #800000; font-weight: bold\">PIV</span><span style=\"color: #008000; text-decoration-color: #008000; font-weight: bold\">Y</span><span style=\"color: #800000; text-decoration-color: #800000; font-weight: bold\">A</span><span style=\"color: #008000; text-decoration-color: #008000; font-weight: bold\">Y</span><span style=\"color: #af00ff; text-decoration-color: #af00ff; font-weight: bold\">K</span><span style=\"color: #800000; text-decoration-color: #800000; font-weight: bold\">I</span><span style=\"color: #af00ff; text-decoration-color: #af00ff; font-weight: bold\">KK</span><span style=\"color: #800000; text-decoration-color: #800000; font-weight: bold\">F</span><span style=\"color: #af00ff; text-decoration-color: #af00ff; font-weight: bold\">K</span><span style=\"color: #000080; text-decoration-color: #000080; font-weight: bold\">E</span><span style=\"color: #008000; text-decoration-color: #008000; font-weight: bold\">TY</span><span style=\"color: #800000; text-decoration-color: #800000; font-weight: bold\">LLIL</span><span style=\"color: #af00ff; text-decoration-color: #af00ff; font-weight: bold\">K</span><span style=\"color: #800000; text-decoration-color: #800000; font-weight: bold\">A</span><span style=\"color: #008000; text-decoration-color: #008000; font-weight: bold\">C</span><span style=\"color: #800000; text-decoration-color: #800000; font-weight: bold\">VV</span><span style=\"color: #008000; text-decoration-color: #008000; font-weight: bold\">CH</span><span style=\"color: #800000; text-decoration-color: #800000; font-weight: bold\">P</span><span style=\"color: #008000; text-decoration-color: #008000; font-weight: bold\">S</span><span style=\"color: #000080; text-decoration-color: #000080; font-weight: bold\">D</span><span style=\"color: #008000; text-decoration-color: #008000; font-weight: bold\">S</span><span style=\"color: #800000; text-decoration-color: #800000; font-weight: bold\">L</span><span style=\"color: #000080; text-decoration-color: #000080; font-weight: bold\">D</span><span style=\"color: #008000; text-decoration-color: #008000; font-weight: bold\">TS</span><span style=\"color: #800000; text-decoration-color: #800000; font-weight: bold\">I</span><span style=\"color: #000080; text-decoration-color: #000080; font-weight: bold\">E</span><span style=\"color: #af00ff; text-decoration-color: #af00ff; font-weight: bold\">K</span><span style=\"color: #008000; text-decoration-color: #008000; font-weight: bold\">NS</span><span style=\"color: #000080; text-decoration-color: #000080; font-weight: bold\">E</span><span style=\"color: #4e4e4e; text-decoration-color: #4e4e4e; font-weight: bold\">------------------------------</span>  │\n",
       "│                                                                                                                 │\n",
       "│ 0 AA2BR_H…   <span style=\"color: #008080; text-decoration-color: #008080; font-weight: bold\">333</span>  <span style=\"color: #4e4e4e; text-decoration-color: #4e4e4e; font-weight: bold\">----------------------------------------------------------</span>                                    │\n",
       "│ 1 AA1R_HU…   <span style=\"color: #008080; text-decoration-color: #008080; font-weight: bold\">323</span>  <span style=\"color: #4e4e4e; text-decoration-color: #4e4e4e; font-weight: bold\">--</span><span style=\"color: #af00ff; text-decoration-color: #af00ff; font-weight: bold\">R</span><span style=\"color: #800000; text-decoration-color: #800000; font-weight: bold\">P</span><span style=\"color: #000080; text-decoration-color: #000080; font-weight: bold\">DD</span><span style=\"color: #4e4e4e; text-decoration-color: #4e4e4e; font-weight: bold\">----------------------------------------------------</span>                                    │\n",
       "│ 2 AA2AR_H…   <span style=\"color: #008080; text-decoration-color: #008080; font-weight: bold\">355</span>  <span style=\"color: #000080; text-decoration-color: #000080; font-weight: bold\">E</span><span style=\"color: #af00ff; text-decoration-color: #af00ff; font-weight: bold\">RR</span><span style=\"color: #800000; text-decoration-color: #800000; font-weight: bold\">P</span><span style=\"color: #008000; text-decoration-color: #008000; font-weight: bold\">NGY</span><span style=\"color: #800000; text-decoration-color: #800000; font-weight: bold\">AL</span><span style=\"color: #008000; text-decoration-color: #008000; font-weight: bold\">G</span><span style=\"color: #800000; text-decoration-color: #800000; font-weight: bold\">LV</span><span style=\"color: #008000; text-decoration-color: #008000; font-weight: bold\">SGGS</span><span style=\"color: #800000; text-decoration-color: #800000; font-weight: bold\">A</span><span style=\"color: #008000; text-decoration-color: #008000; font-weight: bold\">Q</span><span style=\"color: #000080; text-decoration-color: #000080; font-weight: bold\">E</span><span style=\"color: #008000; text-decoration-color: #008000; font-weight: bold\">SQGNTG</span><span style=\"color: #800000; text-decoration-color: #800000; font-weight: bold\">LP</span><span style=\"color: #000080; text-decoration-color: #000080; font-weight: bold\">D</span><span style=\"color: #800000; text-decoration-color: #800000; font-weight: bold\">V</span><span style=\"color: #000080; text-decoration-color: #000080; font-weight: bold\">E</span><span style=\"color: #800000; text-decoration-color: #800000; font-weight: bold\">LL</span><span style=\"color: #008000; text-decoration-color: #008000; font-weight: bold\">SH</span><span style=\"color: #000080; text-decoration-color: #000080; font-weight: bold\">E</span><span style=\"color: #800000; text-decoration-color: #800000; font-weight: bold\">L</span><span style=\"color: #af00ff; text-decoration-color: #af00ff; font-weight: bold\">K</span><span style=\"color: #008000; text-decoration-color: #008000; font-weight: bold\">G</span><span style=\"color: #800000; text-decoration-color: #800000; font-weight: bold\">V</span><span style=\"color: #008000; text-decoration-color: #008000; font-weight: bold\">C</span><span style=\"color: #800000; text-decoration-color: #800000; font-weight: bold\">P</span><span style=\"color: #000080; text-decoration-color: #000080; font-weight: bold\">E</span><span style=\"color: #800000; text-decoration-color: #800000; font-weight: bold\">PP</span><span style=\"color: #008000; text-decoration-color: #008000; font-weight: bold\">G</span><span style=\"color: #800000; text-decoration-color: #800000; font-weight: bold\">L</span><span style=\"color: #000080; text-decoration-color: #000080; font-weight: bold\">DD</span><span style=\"color: #800000; text-decoration-color: #800000; font-weight: bold\">PLA</span><span style=\"color: #008000; text-decoration-color: #008000; font-weight: bold\">Q</span><span style=\"color: #000080; text-decoration-color: #000080; font-weight: bold\">D</span><span style=\"color: #008000; text-decoration-color: #008000; font-weight: bold\">G</span><span style=\"color: #800000; text-decoration-color: #800000; font-weight: bold\">A</span><span style=\"color: #008000; text-decoration-color: #008000; font-weight: bold\">G</span><span style=\"color: #800000; text-decoration-color: #800000; font-weight: bold\">V</span><span style=\"color: #008000; text-decoration-color: #008000; font-weight: bold\">S</span>                                    │\n",
       "│ 3 AA3R_HU…   <span style=\"color: #008080; text-decoration-color: #008080; font-weight: bold\">319</span>  <span style=\"color: #4e4e4e; text-decoration-color: #4e4e4e; font-weight: bold\">----------------------------------------------------------</span>                                    │\n",
       "╰─────────────────────────────────────────────────────────────────────────────────────────────────────────────────╯\n",
       "</pre>\n"
      ],
      "text/plain": [
       "╭────────────────────────────────────────── Multiple sequence alignment ──────────────────────────────────────────╮\n",
       "│ 0 AA2BR_H…   \u001b[1;36m  1\u001b[0m  \u001b[1;38;5;239m-\u001b[0m\u001b[1;38;5;239m-\u001b[0m\u001b[1;38;5;239m-\u001b[0m\u001b[1;38;5;239m-\u001b[0m\u001b[1;38;5;239m-\u001b[0m\u001b[1;31mM\u001b[0m\u001b[1;31mL\u001b[0m\u001b[1;31mL\u001b[0m\u001b[1;34mE\u001b[0m\u001b[1;32mT\u001b[0m\u001b[1;32mQ\u001b[0m\u001b[1;34mD\u001b[0m\u001b[1;31mA\u001b[0m\u001b[1;31mL\u001b[0m\u001b[1;32mY\u001b[0m\u001b[1;31mV\u001b[0m\u001b[1;31mA\u001b[0m\u001b[1;31mL\u001b[0m\u001b[1;34mE\u001b[0m\u001b[1;31mL\u001b[0m\u001b[1;31mV\u001b[0m\u001b[1;31mI\u001b[0m\u001b[1;31mA\u001b[0m\u001b[1;31mA\u001b[0m\u001b[1;31mL\u001b[0m\u001b[1;32mS\u001b[0m\u001b[1;31mV\u001b[0m\u001b[1;31mA\u001b[0m\u001b[1;32mG\u001b[0m\u001b[1;32mN\u001b[0m\u001b[1;31mV\u001b[0m\u001b[1;31mL\u001b[0m\u001b[1;31mV\u001b[0m\u001b[1;32mC\u001b[0m\u001b[1;31mA\u001b[0m\u001b[1;31mA\u001b[0m\u001b[1;31mV\u001b[0m\u001b[1;32mG\u001b[0m\u001b[1;32mT\u001b[0m\u001b[1;31mA\u001b[0m\u001b[1;32mN\u001b[0m\u001b[1;32mT\u001b[0m\u001b[1;31mL\u001b[0m\u001b[1;32mQ\u001b[0m\u001b[1;32mT\u001b[0m\u001b[1;31mP\u001b[0m\u001b[1;32mT\u001b[0m\u001b[1;32mN\u001b[0m\u001b[1;32mY\u001b[0m\u001b[1;31mF\u001b[0m\u001b[1;31mL\u001b[0m\u001b[1;31mV\u001b[0m\u001b[1;32mS\u001b[0m\u001b[1;31mL\u001b[0m\u001b[1;31mA\u001b[0m\u001b[1;31mA\u001b[0m\u001b[1;31mA\u001b[0m\u001b[1;34mD\u001b[0m\u001b[1;31mV\u001b[0m\u001b[1;31mA\u001b[0m\u001b[1;31mV\u001b[0m\u001b[1;32mG\u001b[0m\u001b[1;31mL\u001b[0m\u001b[1;31mF\u001b[0m\u001b[1;31mA\u001b[0m\u001b[1;31mI\u001b[0m\u001b[1;31mP\u001b[0m\u001b[1;31mF\u001b[0m\u001b[1;31mA\u001b[0m\u001b[1;31mI\u001b[0m\u001b[1;32mT\u001b[0m\u001b[1;31mI\u001b[0m\u001b[1;32mS\u001b[0m\u001b[1;31mL\u001b[0m\u001b[1;32mG\u001b[0m\u001b[1;31mF\u001b[0m\u001b[1;32mC\u001b[0m\u001b[1;32mT\u001b[0m\u001b[1;34mD\u001b[0m\u001b[1;31mF\u001b[0m\u001b[1;32mY\u001b[0m\u001b[1;32mG\u001b[0m\u001b[1;32mC\u001b[0m\u001b[1;31mL\u001b[0m\u001b[1;31mF\u001b[0m\u001b[1;31mL\u001b[0m\u001b[1;31mA\u001b[0m\u001b[1;32mC\u001b[0m\u001b[1;31mF\u001b[0m\u001b[1;31mV\u001b[0m\u001b[1;31mL\u001b[0m\u001b[1;31mV\u001b[0m  │\n",
       "│ 1 AA1R_HU…   \u001b[1;36m  1\u001b[0m  \u001b[1;38;5;239m-\u001b[0m\u001b[1;38;5;239m-\u001b[0m\u001b[1;38;5;239m-\u001b[0m\u001b[1;31mM\u001b[0m\u001b[1;31mP\u001b[0m\u001b[1;31mP\u001b[0m\u001b[1;32mS\u001b[0m\u001b[1;31mI\u001b[0m\u001b[1;32mS\u001b[0m\u001b[1;31mA\u001b[0m\u001b[1;31mF\u001b[0m\u001b[1;32mQ\u001b[0m\u001b[1;31mA\u001b[0m\u001b[1;31mA\u001b[0m\u001b[1;32mY\u001b[0m\u001b[1;31mI\u001b[0m\u001b[1;32mG\u001b[0m\u001b[1;31mI\u001b[0m\u001b[1;34mE\u001b[0m\u001b[1;31mV\u001b[0m\u001b[1;31mL\u001b[0m\u001b[1;31mI\u001b[0m\u001b[1;31mA\u001b[0m\u001b[1;31mL\u001b[0m\u001b[1;31mV\u001b[0m\u001b[1;32mS\u001b[0m\u001b[1;31mV\u001b[0m\u001b[1;31mP\u001b[0m\u001b[1;32mG\u001b[0m\u001b[1;32mN\u001b[0m\u001b[1;31mV\u001b[0m\u001b[1;31mL\u001b[0m\u001b[1;31mV\u001b[0m\u001b[1;31mI\u001b[0m\u001b[1;31mW\u001b[0m\u001b[1;31mA\u001b[0m\u001b[1;31mV\u001b[0m\u001b[1;38;5;129mK\u001b[0m\u001b[1;31mV\u001b[0m\u001b[1;32mN\u001b[0m\u001b[1;32mQ\u001b[0m\u001b[1;31mA\u001b[0m\u001b[1;31mL\u001b[0m\u001b[1;38;5;129mR\u001b[0m\u001b[1;34mD\u001b[0m\u001b[1;31mA\u001b[0m\u001b[1;32mT\u001b[0m\u001b[1;31mF\u001b[0m\u001b[1;32mC\u001b[0m\u001b[1;31mF\u001b[0m\u001b[1;31mI\u001b[0m\u001b[1;31mV\u001b[0m\u001b[1;32mS\u001b[0m\u001b[1;31mL\u001b[0m\u001b[1;31mA\u001b[0m\u001b[1;31mV\u001b[0m\u001b[1;31mA\u001b[0m\u001b[1;34mD\u001b[0m\u001b[1;31mV\u001b[0m\u001b[1;31mA\u001b[0m\u001b[1;31mV\u001b[0m\u001b[1;32mG\u001b[0m\u001b[1;31mA\u001b[0m\u001b[1;31mL\u001b[0m\u001b[1;31mV\u001b[0m\u001b[1;31mI\u001b[0m\u001b[1;31mP\u001b[0m\u001b[1;31mL\u001b[0m\u001b[1;31mA\u001b[0m\u001b[1;31mI\u001b[0m\u001b[1;31mL\u001b[0m\u001b[1;31mI\u001b[0m\u001b[1;32mN\u001b[0m\u001b[1;31mI\u001b[0m\u001b[1;32mG\u001b[0m\u001b[1;31mP\u001b[0m\u001b[1;32mQ\u001b[0m\u001b[1;32mT\u001b[0m\u001b[1;32mY\u001b[0m\u001b[1;31mF\u001b[0m\u001b[1;32mH\u001b[0m\u001b[1;32mT\u001b[0m\u001b[1;32mC\u001b[0m\u001b[1;31mL\u001b[0m\u001b[1;31mM\u001b[0m\u001b[1;31mV\u001b[0m\u001b[1;31mA\u001b[0m\u001b[1;32mC\u001b[0m\u001b[1;31mP\u001b[0m\u001b[1;31mV\u001b[0m\u001b[1;31mL\u001b[0m\u001b[1;31mI\u001b[0m  │\n",
       "│ 2 AA2AR_H…   \u001b[1;36m  1\u001b[0m  \u001b[1;38;5;239m-\u001b[0m\u001b[1;38;5;239m-\u001b[0m\u001b[1;38;5;239m-\u001b[0m\u001b[1;38;5;239m-\u001b[0m\u001b[1;38;5;239m-\u001b[0m\u001b[1;38;5;239m-\u001b[0m\u001b[1;31mM\u001b[0m\u001b[1;31mP\u001b[0m\u001b[1;31mI\u001b[0m\u001b[1;31mM\u001b[0m\u001b[1;32mG\u001b[0m\u001b[1;32mS\u001b[0m\u001b[1;32mS\u001b[0m\u001b[1;31mV\u001b[0m\u001b[1;32mY\u001b[0m\u001b[1;31mI\u001b[0m\u001b[1;32mT\u001b[0m\u001b[1;31mV\u001b[0m\u001b[1;34mE\u001b[0m\u001b[1;31mL\u001b[0m\u001b[1;31mA\u001b[0m\u001b[1;31mI\u001b[0m\u001b[1;31mA\u001b[0m\u001b[1;31mV\u001b[0m\u001b[1;31mL\u001b[0m\u001b[1;31mA\u001b[0m\u001b[1;31mI\u001b[0m\u001b[1;31mL\u001b[0m\u001b[1;32mG\u001b[0m\u001b[1;32mN\u001b[0m\u001b[1;31mV\u001b[0m\u001b[1;31mL\u001b[0m\u001b[1;31mV\u001b[0m\u001b[1;32mC\u001b[0m\u001b[1;31mW\u001b[0m\u001b[1;31mA\u001b[0m\u001b[1;31mV\u001b[0m\u001b[1;31mW\u001b[0m\u001b[1;31mL\u001b[0m\u001b[1;32mN\u001b[0m\u001b[1;32mS\u001b[0m\u001b[1;32mN\u001b[0m\u001b[1;31mL\u001b[0m\u001b[1;32mQ\u001b[0m\u001b[1;32mN\u001b[0m\u001b[1;31mV\u001b[0m\u001b[1;32mT\u001b[0m\u001b[1;32mN\u001b[0m\u001b[1;32mY\u001b[0m\u001b[1;31mF\u001b[0m\u001b[1;31mV\u001b[0m\u001b[1;31mV\u001b[0m\u001b[1;32mS\u001b[0m\u001b[1;31mL\u001b[0m\u001b[1;31mA\u001b[0m\u001b[1;31mA\u001b[0m\u001b[1;31mA\u001b[0m\u001b[1;34mD\u001b[0m\u001b[1;31mI\u001b[0m\u001b[1;31mA\u001b[0m\u001b[1;31mV\u001b[0m\u001b[1;32mG\u001b[0m\u001b[1;31mV\u001b[0m\u001b[1;31mL\u001b[0m\u001b[1;31mA\u001b[0m\u001b[1;31mI\u001b[0m\u001b[1;31mP\u001b[0m\u001b[1;31mF\u001b[0m\u001b[1;31mA\u001b[0m\u001b[1;31mI\u001b[0m\u001b[1;32mT\u001b[0m\u001b[1;31mI\u001b[0m\u001b[1;32mS\u001b[0m\u001b[1;32mT\u001b[0m\u001b[1;32mG\u001b[0m\u001b[1;31mF\u001b[0m\u001b[1;32mC\u001b[0m\u001b[1;31mA\u001b[0m\u001b[1;31mA\u001b[0m\u001b[1;32mC\u001b[0m\u001b[1;32mH\u001b[0m\u001b[1;32mG\u001b[0m\u001b[1;32mC\u001b[0m\u001b[1;31mL\u001b[0m\u001b[1;31mF\u001b[0m\u001b[1;31mI\u001b[0m\u001b[1;31mA\u001b[0m\u001b[1;32mC\u001b[0m\u001b[1;31mF\u001b[0m\u001b[1;31mV\u001b[0m\u001b[1;31mL\u001b[0m\u001b[1;31mV\u001b[0m  │\n",
       "│ 3 AA3R_HU…   \u001b[1;36m  1\u001b[0m  \u001b[1;31mM\u001b[0m\u001b[1;31mP\u001b[0m\u001b[1;32mN\u001b[0m\u001b[1;32mN\u001b[0m\u001b[1;32mS\u001b[0m\u001b[1;32mT\u001b[0m\u001b[1;31mA\u001b[0m\u001b[1;31mL\u001b[0m\u001b[1;32mS\u001b[0m\u001b[1;31mL\u001b[0m\u001b[1;31mA\u001b[0m\u001b[1;32mN\u001b[0m\u001b[1;31mV\u001b[0m\u001b[1;32mT\u001b[0m\u001b[1;32mY\u001b[0m\u001b[1;31mI\u001b[0m\u001b[1;32mT\u001b[0m\u001b[1;31mM\u001b[0m\u001b[1;34mE\u001b[0m\u001b[1;31mI\u001b[0m\u001b[1;31mF\u001b[0m\u001b[1;31mI\u001b[0m\u001b[1;32mG\u001b[0m\u001b[1;31mL\u001b[0m\u001b[1;32mC\u001b[0m\u001b[1;31mA\u001b[0m\u001b[1;31mI\u001b[0m\u001b[1;31mV\u001b[0m\u001b[1;32mG\u001b[0m\u001b[1;32mN\u001b[0m\u001b[1;31mV\u001b[0m\u001b[1;31mL\u001b[0m\u001b[1;31mV\u001b[0m\u001b[1;31mI\u001b[0m\u001b[1;32mC\u001b[0m\u001b[1;31mV\u001b[0m\u001b[1;31mV\u001b[0m\u001b[1;38;5;129mK\u001b[0m\u001b[1;31mL\u001b[0m\u001b[1;32mN\u001b[0m\u001b[1;31mP\u001b[0m\u001b[1;32mS\u001b[0m\u001b[1;31mL\u001b[0m\u001b[1;32mQ\u001b[0m\u001b[1;32mT\u001b[0m\u001b[1;32mT\u001b[0m\u001b[1;32mT\u001b[0m\u001b[1;31mF\u001b[0m\u001b[1;32mY\u001b[0m\u001b[1;31mF\u001b[0m\u001b[1;31mI\u001b[0m\u001b[1;31mV\u001b[0m\u001b[1;32mS\u001b[0m\u001b[1;31mL\u001b[0m\u001b[1;31mA\u001b[0m\u001b[1;31mL\u001b[0m\u001b[1;31mA\u001b[0m\u001b[1;34mD\u001b[0m\u001b[1;31mI\u001b[0m\u001b[1;31mA\u001b[0m\u001b[1;31mV\u001b[0m\u001b[1;32mG\u001b[0m\u001b[1;31mV\u001b[0m\u001b[1;31mL\u001b[0m\u001b[1;31mV\u001b[0m\u001b[1;31mM\u001b[0m\u001b[1;31mP\u001b[0m\u001b[1;31mL\u001b[0m\u001b[1;31mA\u001b[0m\u001b[1;31mI\u001b[0m\u001b[1;31mV\u001b[0m\u001b[1;31mV\u001b[0m\u001b[1;32mS\u001b[0m\u001b[1;31mL\u001b[0m\u001b[1;32mG\u001b[0m\u001b[1;31mI\u001b[0m\u001b[1;32mT\u001b[0m\u001b[1;31mI\u001b[0m\u001b[1;32mH\u001b[0m\u001b[1;31mF\u001b[0m\u001b[1;32mY\u001b[0m\u001b[1;32mS\u001b[0m\u001b[1;32mC\u001b[0m\u001b[1;31mL\u001b[0m\u001b[1;31mF\u001b[0m\u001b[1;31mM\u001b[0m\u001b[1;32mT\u001b[0m\u001b[1;32mC\u001b[0m\u001b[1;31mL\u001b[0m\u001b[1;31mL\u001b[0m\u001b[1;31mL\u001b[0m\u001b[1;31mI\u001b[0m  │\n",
       "│                                                                                                                 │\n",
       "│ 0 AA2BR_H…   \u001b[1;36m 88\u001b[0m  \u001b[1;31mL\u001b[0m\u001b[1;32mT\u001b[0m\u001b[1;32mQ\u001b[0m\u001b[1;32mS\u001b[0m\u001b[1;32mS\u001b[0m\u001b[1;31mI\u001b[0m\u001b[1;31mF\u001b[0m\u001b[1;32mS\u001b[0m\u001b[1;31mL\u001b[0m\u001b[1;31mL\u001b[0m\u001b[1;31mA\u001b[0m\u001b[1;31mV\u001b[0m\u001b[1;31mA\u001b[0m\u001b[1;31mV\u001b[0m\u001b[1;34mD\u001b[0m\u001b[1;38;5;129mR\u001b[0m\u001b[1;32mY\u001b[0m\u001b[1;31mL\u001b[0m\u001b[1;31mA\u001b[0m\u001b[1;31mI\u001b[0m\u001b[1;32mC\u001b[0m\u001b[1;31mV\u001b[0m\u001b[1;31mP\u001b[0m\u001b[1;31mL\u001b[0m\u001b[1;38;5;129mR\u001b[0m\u001b[1;32mY\u001b[0m\u001b[1;38;5;129mK\u001b[0m\u001b[1;32mS\u001b[0m\u001b[1;31mL\u001b[0m\u001b[1;31mV\u001b[0m\u001b[1;32mT\u001b[0m\u001b[1;32mG\u001b[0m\u001b[1;32mT\u001b[0m\u001b[1;38;5;129mR\u001b[0m\u001b[1;31mA\u001b[0m\u001b[1;38;5;129mR\u001b[0m\u001b[1;32mG\u001b[0m\u001b[1;31mV\u001b[0m\u001b[1;31mI\u001b[0m\u001b[1;31mA\u001b[0m\u001b[1;31mV\u001b[0m\u001b[1;31mL\u001b[0m\u001b[1;31mW\u001b[0m\u001b[1;31mV\u001b[0m\u001b[1;31mL\u001b[0m\u001b[1;31mA\u001b[0m\u001b[1;31mF\u001b[0m\u001b[1;32mG\u001b[0m\u001b[1;31mI\u001b[0m\u001b[1;32mG\u001b[0m\u001b[1;31mL\u001b[0m\u001b[1;32mT\u001b[0m\u001b[1;31mP\u001b[0m\u001b[1;31mF\u001b[0m\u001b[1;31mL\u001b[0m\u001b[1;32mG\u001b[0m\u001b[1;31mW\u001b[0m\u001b[1;32mN\u001b[0m\u001b[1;32mS\u001b[0m\u001b[1;38;5;129mK\u001b[0m\u001b[1;34mD\u001b[0m\u001b[1;32mS\u001b[0m\u001b[1;31mA\u001b[0m\u001b[1;32mT\u001b[0m\u001b[1;32mN\u001b[0m\u001b[1;32mN\u001b[0m\u001b[1;32mC\u001b[0m\u001b[1;32mT\u001b[0m\u001b[1;34mE\u001b[0m\u001b[1;31mP\u001b[0m\u001b[1;31mW\u001b[0m\u001b[1;34mD\u001b[0m\u001b[1;32mG\u001b[0m\u001b[1;32mT\u001b[0m\u001b[1;32mT\u001b[0m\u001b[1;32mN\u001b[0m\u001b[1;34mE\u001b[0m\u001b[1;32mS\u001b[0m\u001b[1;32mC\u001b[0m\u001b[1;32mC\u001b[0m\u001b[1;38;5;239m-\u001b[0m\u001b[1;38;5;239m-\u001b[0m\u001b[1;38;5;239m-\u001b[0m\u001b[1;31mL\u001b[0m\u001b[1;31mV\u001b[0m\u001b[1;38;5;129mK\u001b[0m\u001b[1;32mC\u001b[0m\u001b[1;31mL\u001b[0m\u001b[1;31mF\u001b[0m\u001b[1;34mE\u001b[0m\u001b[1;32mN\u001b[0m\u001b[1;31mV\u001b[0m  │\n",
       "│ 1 AA1R_HU…   \u001b[1;36m 90\u001b[0m  \u001b[1;31mL\u001b[0m\u001b[1;32mT\u001b[0m\u001b[1;32mQ\u001b[0m\u001b[1;32mS\u001b[0m\u001b[1;32mS\u001b[0m\u001b[1;31mI\u001b[0m\u001b[1;31mL\u001b[0m\u001b[1;31mA\u001b[0m\u001b[1;31mL\u001b[0m\u001b[1;31mL\u001b[0m\u001b[1;31mA\u001b[0m\u001b[1;31mI\u001b[0m\u001b[1;31mA\u001b[0m\u001b[1;31mV\u001b[0m\u001b[1;34mD\u001b[0m\u001b[1;38;5;129mR\u001b[0m\u001b[1;32mY\u001b[0m\u001b[1;31mL\u001b[0m\u001b[1;38;5;129mR\u001b[0m\u001b[1;31mV\u001b[0m\u001b[1;38;5;129mK\u001b[0m\u001b[1;31mI\u001b[0m\u001b[1;31mP\u001b[0m\u001b[1;31mL\u001b[0m\u001b[1;38;5;129mR\u001b[0m\u001b[1;32mY\u001b[0m\u001b[1;38;5;129mK\u001b[0m\u001b[1;31mM\u001b[0m\u001b[1;31mV\u001b[0m\u001b[1;31mV\u001b[0m\u001b[1;32mT\u001b[0m\u001b[1;31mP\u001b[0m\u001b[1;38;5;129mR\u001b[0m\u001b[1;38;5;129mR\u001b[0m\u001b[1;31mA\u001b[0m\u001b[1;31mA\u001b[0m\u001b[1;31mV\u001b[0m\u001b[1;31mA\u001b[0m\u001b[1;31mI\u001b[0m\u001b[1;31mA\u001b[0m\u001b[1;32mG\u001b[0m\u001b[1;32mC\u001b[0m\u001b[1;31mW\u001b[0m\u001b[1;31mI\u001b[0m\u001b[1;31mL\u001b[0m\u001b[1;32mS\u001b[0m\u001b[1;31mF\u001b[0m\u001b[1;31mV\u001b[0m\u001b[1;31mV\u001b[0m\u001b[1;32mG\u001b[0m\u001b[1;31mL\u001b[0m\u001b[1;32mT\u001b[0m\u001b[1;31mP\u001b[0m\u001b[1;31mM\u001b[0m\u001b[1;31mF\u001b[0m\u001b[1;32mG\u001b[0m\u001b[1;31mW\u001b[0m\u001b[1;32mN\u001b[0m\u001b[1;32mN\u001b[0m\u001b[1;31mL\u001b[0m\u001b[1;32mS\u001b[0m\u001b[1;31mA\u001b[0m\u001b[1;31mV\u001b[0m\u001b[1;34mE\u001b[0m\u001b[1;38;5;129mR\u001b[0m\u001b[1;38;5;239m-\u001b[0m\u001b[1;38;5;239m-\u001b[0m\u001b[1;38;5;239m-\u001b[0m\u001b[1;38;5;239m-\u001b[0m\u001b[1;31mA\u001b[0m\u001b[1;31mW\u001b[0m\u001b[1;31mA\u001b[0m\u001b[1;38;5;239m-\u001b[0m\u001b[1;38;5;239m-\u001b[0m\u001b[1;38;5;239m-\u001b[0m\u001b[1;31mA\u001b[0m\u001b[1;32mN\u001b[0m\u001b[1;32mG\u001b[0m\u001b[1;32mS\u001b[0m\u001b[1;31mM\u001b[0m\u001b[1;32mG\u001b[0m\u001b[1;34mE\u001b[0m\u001b[1;31mP\u001b[0m\u001b[1;31mV\u001b[0m\u001b[1;31mI\u001b[0m\u001b[1;38;5;129mK\u001b[0m\u001b[1;32mC\u001b[0m\u001b[1;34mE\u001b[0m\u001b[1;31mF\u001b[0m\u001b[1;34mE\u001b[0m\u001b[1;38;5;129mK\u001b[0m\u001b[1;31mV\u001b[0m  │\n",
       "│ 2 AA2AR_H…   \u001b[1;36m 87\u001b[0m  \u001b[1;31mL\u001b[0m\u001b[1;32mT\u001b[0m\u001b[1;32mQ\u001b[0m\u001b[1;32mS\u001b[0m\u001b[1;32mS\u001b[0m\u001b[1;31mI\u001b[0m\u001b[1;31mF\u001b[0m\u001b[1;32mS\u001b[0m\u001b[1;31mL\u001b[0m\u001b[1;31mL\u001b[0m\u001b[1;31mA\u001b[0m\u001b[1;31mI\u001b[0m\u001b[1;31mA\u001b[0m\u001b[1;31mI\u001b[0m\u001b[1;34mD\u001b[0m\u001b[1;38;5;129mR\u001b[0m\u001b[1;32mY\u001b[0m\u001b[1;31mI\u001b[0m\u001b[1;31mA\u001b[0m\u001b[1;31mI\u001b[0m\u001b[1;38;5;129mR\u001b[0m\u001b[1;31mI\u001b[0m\u001b[1;31mP\u001b[0m\u001b[1;31mL\u001b[0m\u001b[1;38;5;129mR\u001b[0m\u001b[1;32mY\u001b[0m\u001b[1;32mN\u001b[0m\u001b[1;32mG\u001b[0m\u001b[1;31mL\u001b[0m\u001b[1;31mV\u001b[0m\u001b[1;32mT\u001b[0m\u001b[1;32mG\u001b[0m\u001b[1;32mT\u001b[0m\u001b[1;38;5;129mR\u001b[0m\u001b[1;31mA\u001b[0m\u001b[1;38;5;129mK\u001b[0m\u001b[1;32mG\u001b[0m\u001b[1;31mI\u001b[0m\u001b[1;31mI\u001b[0m\u001b[1;31mA\u001b[0m\u001b[1;31mI\u001b[0m\u001b[1;32mC\u001b[0m\u001b[1;31mW\u001b[0m\u001b[1;31mV\u001b[0m\u001b[1;31mL\u001b[0m\u001b[1;32mS\u001b[0m\u001b[1;31mF\u001b[0m\u001b[1;31mA\u001b[0m\u001b[1;31mI\u001b[0m\u001b[1;32mG\u001b[0m\u001b[1;31mL\u001b[0m\u001b[1;32mT\u001b[0m\u001b[1;31mP\u001b[0m\u001b[1;31mM\u001b[0m\u001b[1;31mL\u001b[0m\u001b[1;32mG\u001b[0m\u001b[1;31mW\u001b[0m\u001b[1;32mN\u001b[0m\u001b[1;32mN\u001b[0m\u001b[1;38;5;239m-\u001b[0m\u001b[1;38;5;239m-\u001b[0m\u001b[1;38;5;239m-\u001b[0m\u001b[1;38;5;239m-\u001b[0m\u001b[1;38;5;239m-\u001b[0m\u001b[1;38;5;239m-\u001b[0m\u001b[1;38;5;239m-\u001b[0m\u001b[1;32mC\u001b[0m\u001b[1;32mG\u001b[0m\u001b[1;32mQ\u001b[0m\u001b[1;31mP\u001b[0m\u001b[1;38;5;129mK\u001b[0m\u001b[1;34mE\u001b[0m\u001b[1;32mG\u001b[0m\u001b[1;38;5;129mK\u001b[0m\u001b[1;32mN\u001b[0m\u001b[1;32mH\u001b[0m\u001b[1;32mS\u001b[0m\u001b[1;32mQ\u001b[0m\u001b[1;32mG\u001b[0m\u001b[1;32mC\u001b[0m\u001b[1;32mG\u001b[0m\u001b[1;34mE\u001b[0m\u001b[1;32mG\u001b[0m\u001b[1;32mQ\u001b[0m\u001b[1;31mV\u001b[0m\u001b[1;31mA\u001b[0m\u001b[1;32mC\u001b[0m\u001b[1;31mL\u001b[0m\u001b[1;31mF\u001b[0m\u001b[1;34mE\u001b[0m\u001b[1;34mD\u001b[0m\u001b[1;31mV\u001b[0m  │\n",
       "│ 3 AA3R_HU…   \u001b[1;36m 93\u001b[0m  \u001b[1;31mF\u001b[0m\u001b[1;32mT\u001b[0m\u001b[1;32mH\u001b[0m\u001b[1;31mA\u001b[0m\u001b[1;32mS\u001b[0m\u001b[1;31mI\u001b[0m\u001b[1;31mM\u001b[0m\u001b[1;32mS\u001b[0m\u001b[1;31mL\u001b[0m\u001b[1;31mL\u001b[0m\u001b[1;31mA\u001b[0m\u001b[1;31mI\u001b[0m\u001b[1;31mA\u001b[0m\u001b[1;31mV\u001b[0m\u001b[1;34mD\u001b[0m\u001b[1;38;5;129mR\u001b[0m\u001b[1;32mY\u001b[0m\u001b[1;31mL\u001b[0m\u001b[1;38;5;129mR\u001b[0m\u001b[1;31mV\u001b[0m\u001b[1;38;5;129mK\u001b[0m\u001b[1;31mL\u001b[0m\u001b[1;32mT\u001b[0m\u001b[1;31mV\u001b[0m\u001b[1;38;5;129mR\u001b[0m\u001b[1;32mY\u001b[0m\u001b[1;38;5;129mK\u001b[0m\u001b[1;38;5;129mR\u001b[0m\u001b[1;31mV\u001b[0m\u001b[1;32mT\u001b[0m\u001b[1;32mT\u001b[0m\u001b[1;32mH\u001b[0m\u001b[1;38;5;129mR\u001b[0m\u001b[1;38;5;129mR\u001b[0m\u001b[1;31mI\u001b[0m\u001b[1;31mW\u001b[0m\u001b[1;31mL\u001b[0m\u001b[1;31mA\u001b[0m\u001b[1;31mL\u001b[0m\u001b[1;32mG\u001b[0m\u001b[1;31mL\u001b[0m\u001b[1;32mC\u001b[0m\u001b[1;31mW\u001b[0m\u001b[1;31mL\u001b[0m\u001b[1;31mV\u001b[0m\u001b[1;32mS\u001b[0m\u001b[1;31mF\u001b[0m\u001b[1;31mL\u001b[0m\u001b[1;31mV\u001b[0m\u001b[1;32mG\u001b[0m\u001b[1;31mL\u001b[0m\u001b[1;32mT\u001b[0m\u001b[1;31mP\u001b[0m\u001b[1;31mM\u001b[0m\u001b[1;31mF\u001b[0m\u001b[1;32mG\u001b[0m\u001b[1;31mW\u001b[0m\u001b[1;32mN\u001b[0m\u001b[1;31mM\u001b[0m\u001b[1;38;5;129mK\u001b[0m\u001b[1;31mL\u001b[0m\u001b[1;32mT\u001b[0m\u001b[1;32mS\u001b[0m\u001b[1;34mE\u001b[0m\u001b[1;32mY\u001b[0m\u001b[1;32mH\u001b[0m\u001b[1;38;5;239m-\u001b[0m\u001b[1;38;5;239m-\u001b[0m\u001b[1;38;5;239m-\u001b[0m\u001b[1;38;5;239m-\u001b[0m\u001b[1;38;5;239m-\u001b[0m\u001b[1;38;5;239m-\u001b[0m\u001b[1;38;5;239m-\u001b[0m\u001b[1;38;5;239m-\u001b[0m\u001b[1;38;5;239m-\u001b[0m\u001b[1;38;5;239m-\u001b[0m\u001b[1;38;5;239m-\u001b[0m\u001b[1;38;5;239m-\u001b[0m\u001b[1;38;5;239m-\u001b[0m\u001b[1;38;5;129mR\u001b[0m\u001b[1;32mN\u001b[0m\u001b[1;31mV\u001b[0m\u001b[1;32mT\u001b[0m\u001b[1;31mF\u001b[0m\u001b[1;31mL\u001b[0m\u001b[1;32mS\u001b[0m\u001b[1;32mC\u001b[0m\u001b[1;32mQ\u001b[0m\u001b[1;31mF\u001b[0m\u001b[1;31mV\u001b[0m\u001b[1;32mS\u001b[0m\u001b[1;31mV\u001b[0m  │\n",
       "│                                                                                                                 │\n",
       "│ 0 AA2BR_H…   \u001b[1;36m177\u001b[0m  \u001b[1;31mV\u001b[0m\u001b[1;31mP\u001b[0m\u001b[1;31mM\u001b[0m\u001b[1;32mS\u001b[0m\u001b[1;32mY\u001b[0m\u001b[1;31mM\u001b[0m\u001b[1;31mV\u001b[0m\u001b[1;32mY\u001b[0m\u001b[1;31mF\u001b[0m\u001b[1;32mN\u001b[0m\u001b[1;31mF\u001b[0m\u001b[1;31mF\u001b[0m\u001b[1;32mG\u001b[0m\u001b[1;32mC\u001b[0m\u001b[1;31mV\u001b[0m\u001b[1;31mL\u001b[0m\u001b[1;31mP\u001b[0m\u001b[1;31mP\u001b[0m\u001b[1;31mL\u001b[0m\u001b[1;31mL\u001b[0m\u001b[1;31mI\u001b[0m\u001b[1;31mM\u001b[0m\u001b[1;31mL\u001b[0m\u001b[1;31mV\u001b[0m\u001b[1;31mI\u001b[0m\u001b[1;32mY\u001b[0m\u001b[1;31mI\u001b[0m\u001b[1;38;5;129mK\u001b[0m\u001b[1;31mI\u001b[0m\u001b[1;31mF\u001b[0m\u001b[1;31mL\u001b[0m\u001b[1;31mV\u001b[0m\u001b[1;31mA\u001b[0m\u001b[1;32mC\u001b[0m\u001b[1;38;5;129mR\u001b[0m\u001b[1;32mQ\u001b[0m\u001b[1;31mL\u001b[0m\u001b[1;32mQ\u001b[0m\u001b[1;38;5;129mR\u001b[0m\u001b[1;32mT\u001b[0m\u001b[1;34mE\u001b[0m\u001b[1;31mL\u001b[0m\u001b[1;38;5;239m-\u001b[0m\u001b[1;38;5;239m-\u001b[0m\u001b[1;38;5;239m-\u001b[0m\u001b[1;38;5;239m-\u001b[0m\u001b[1;31mM\u001b[0m\u001b[1;34mD\u001b[0m\u001b[1;32mH\u001b[0m\u001b[1;32mS\u001b[0m\u001b[1;38;5;129mR\u001b[0m\u001b[1;32mT\u001b[0m\u001b[1;32mT\u001b[0m\u001b[1;31mL\u001b[0m\u001b[1;32mQ\u001b[0m\u001b[1;38;5;129mR\u001b[0m\u001b[1;34mE\u001b[0m\u001b[1;31mI\u001b[0m\u001b[1;32mH\u001b[0m\u001b[1;31mA\u001b[0m\u001b[1;31mA\u001b[0m\u001b[1;38;5;129mK\u001b[0m\u001b[1;32mS\u001b[0m\u001b[1;31mL\u001b[0m\u001b[1;31mA\u001b[0m\u001b[1;31mM\u001b[0m\u001b[1;31mI\u001b[0m\u001b[1;31mV\u001b[0m\u001b[1;32mG\u001b[0m\u001b[1;31mI\u001b[0m\u001b[1;31mF\u001b[0m\u001b[1;31mA\u001b[0m\u001b[1;31mL\u001b[0m\u001b[1;32mC\u001b[0m\u001b[1;31mW\u001b[0m\u001b[1;31mL\u001b[0m\u001b[1;31mP\u001b[0m\u001b[1;31mV\u001b[0m\u001b[1;32mH\u001b[0m\u001b[1;31mA\u001b[0m\u001b[1;31mV\u001b[0m\u001b[1;32mN\u001b[0m\u001b[1;32mC\u001b[0m\u001b[1;31mV\u001b[0m\u001b[1;32mT\u001b[0m\u001b[1;31mL\u001b[0m\u001b[1;31mF\u001b[0m\u001b[1;32mQ\u001b[0m\u001b[1;31mP\u001b[0m\u001b[1;31mA\u001b[0m\u001b[1;32mQ\u001b[0m\u001b[1;32mG\u001b[0m  │\n",
       "│ 1 AA1R_HU…   \u001b[1;36m175\u001b[0m  \u001b[1;31mI\u001b[0m\u001b[1;32mS\u001b[0m\u001b[1;31mM\u001b[0m\u001b[1;34mE\u001b[0m\u001b[1;32mY\u001b[0m\u001b[1;31mM\u001b[0m\u001b[1;31mV\u001b[0m\u001b[1;32mY\u001b[0m\u001b[1;31mF\u001b[0m\u001b[1;32mN\u001b[0m\u001b[1;31mF\u001b[0m\u001b[1;31mF\u001b[0m\u001b[1;31mV\u001b[0m\u001b[1;31mW\u001b[0m\u001b[1;31mV\u001b[0m\u001b[1;31mL\u001b[0m\u001b[1;31mP\u001b[0m\u001b[1;31mP\u001b[0m\u001b[1;31mL\u001b[0m\u001b[1;31mL\u001b[0m\u001b[1;31mL\u001b[0m\u001b[1;31mM\u001b[0m\u001b[1;31mV\u001b[0m\u001b[1;31mL\u001b[0m\u001b[1;31mI\u001b[0m\u001b[1;32mY\u001b[0m\u001b[1;31mL\u001b[0m\u001b[1;34mE\u001b[0m\u001b[1;31mV\u001b[0m\u001b[1;31mF\u001b[0m\u001b[1;32mY\u001b[0m\u001b[1;31mL\u001b[0m\u001b[1;31mI\u001b[0m\u001b[1;38;5;129mR\u001b[0m\u001b[1;38;5;129mK\u001b[0m\u001b[1;32mQ\u001b[0m\u001b[1;31mL\u001b[0m\u001b[1;32mN\u001b[0m\u001b[1;38;5;129mK\u001b[0m\u001b[1;38;5;129mK\u001b[0m\u001b[1;31mV\u001b[0m\u001b[1;32mS\u001b[0m\u001b[1;31mA\u001b[0m\u001b[1;32mS\u001b[0m\u001b[1;38;5;239m-\u001b[0m\u001b[1;38;5;239m-\u001b[0m\u001b[1;32mS\u001b[0m\u001b[1;32mG\u001b[0m\u001b[1;34mD\u001b[0m\u001b[1;31mP\u001b[0m\u001b[1;32mQ\u001b[0m\u001b[1;38;5;129mK\u001b[0m\u001b[1;32mY\u001b[0m\u001b[1;32mY\u001b[0m\u001b[1;32mG\u001b[0m\u001b[1;38;5;129mK\u001b[0m\u001b[1;34mE\u001b[0m\u001b[1;31mL\u001b[0m\u001b[1;38;5;129mK\u001b[0m\u001b[1;31mI\u001b[0m\u001b[1;31mA\u001b[0m\u001b[1;38;5;129mK\u001b[0m\u001b[1;32mS\u001b[0m\u001b[1;31mL\u001b[0m\u001b[1;31mA\u001b[0m\u001b[1;31mL\u001b[0m\u001b[1;31mI\u001b[0m\u001b[1;31mL\u001b[0m\u001b[1;31mF\u001b[0m\u001b[1;31mL\u001b[0m\u001b[1;31mF\u001b[0m\u001b[1;31mA\u001b[0m\u001b[1;31mL\u001b[0m\u001b[1;32mS\u001b[0m\u001b[1;31mW\u001b[0m\u001b[1;31mL\u001b[0m\u001b[1;31mP\u001b[0m\u001b[1;31mL\u001b[0m\u001b[1;32mH\u001b[0m\u001b[1;31mI\u001b[0m\u001b[1;31mL\u001b[0m\u001b[1;32mN\u001b[0m\u001b[1;32mC\u001b[0m\u001b[1;31mI\u001b[0m\u001b[1;32mT\u001b[0m\u001b[1;31mL\u001b[0m\u001b[1;31mF\u001b[0m\u001b[1;32mC\u001b[0m\u001b[1;31mP\u001b[0m\u001b[1;32mS\u001b[0m\u001b[1;32mC\u001b[0m\u001b[1;38;5;239m-\u001b[0m  │\n",
       "│ 2 AA2AR_H…   \u001b[1;36m172\u001b[0m  \u001b[1;31mV\u001b[0m\u001b[1;31mP\u001b[0m\u001b[1;31mM\u001b[0m\u001b[1;32mN\u001b[0m\u001b[1;32mY\u001b[0m\u001b[1;31mM\u001b[0m\u001b[1;31mV\u001b[0m\u001b[1;32mY\u001b[0m\u001b[1;31mF\u001b[0m\u001b[1;32mN\u001b[0m\u001b[1;31mF\u001b[0m\u001b[1;31mF\u001b[0m\u001b[1;31mA\u001b[0m\u001b[1;32mC\u001b[0m\u001b[1;31mV\u001b[0m\u001b[1;31mL\u001b[0m\u001b[1;31mV\u001b[0m\u001b[1;31mP\u001b[0m\u001b[1;31mL\u001b[0m\u001b[1;31mL\u001b[0m\u001b[1;31mL\u001b[0m\u001b[1;31mM\u001b[0m\u001b[1;31mL\u001b[0m\u001b[1;32mG\u001b[0m\u001b[1;31mV\u001b[0m\u001b[1;32mY\u001b[0m\u001b[1;31mL\u001b[0m\u001b[1;38;5;129mR\u001b[0m\u001b[1;31mI\u001b[0m\u001b[1;31mF\u001b[0m\u001b[1;31mL\u001b[0m\u001b[1;31mA\u001b[0m\u001b[1;31mA\u001b[0m\u001b[1;38;5;129mR\u001b[0m\u001b[1;38;5;129mR\u001b[0m\u001b[1;32mQ\u001b[0m\u001b[1;31mL\u001b[0m\u001b[1;38;5;129mK\u001b[0m\u001b[1;32mQ\u001b[0m\u001b[1;31mM\u001b[0m\u001b[1;34mE\u001b[0m\u001b[1;32mS\u001b[0m\u001b[1;32mQ\u001b[0m\u001b[1;31mP\u001b[0m\u001b[1;31mL\u001b[0m\u001b[1;31mP\u001b[0m\u001b[1;32mG\u001b[0m\u001b[1;34mE\u001b[0m\u001b[1;38;5;129mR\u001b[0m\u001b[1;31mA\u001b[0m\u001b[1;38;5;129mR\u001b[0m\u001b[1;32mS\u001b[0m\u001b[1;32mT\u001b[0m\u001b[1;31mL\u001b[0m\u001b[1;32mQ\u001b[0m\u001b[1;38;5;129mK\u001b[0m\u001b[1;34mE\u001b[0m\u001b[1;31mV\u001b[0m\u001b[1;32mH\u001b[0m\u001b[1;31mA\u001b[0m\u001b[1;31mA\u001b[0m\u001b[1;38;5;129mK\u001b[0m\u001b[1;32mS\u001b[0m\u001b[1;31mL\u001b[0m\u001b[1;31mA\u001b[0m\u001b[1;31mI\u001b[0m\u001b[1;31mI\u001b[0m\u001b[1;31mV\u001b[0m\u001b[1;32mG\u001b[0m\u001b[1;31mL\u001b[0m\u001b[1;31mF\u001b[0m\u001b[1;31mA\u001b[0m\u001b[1;31mL\u001b[0m\u001b[1;32mC\u001b[0m\u001b[1;31mW\u001b[0m\u001b[1;31mL\u001b[0m\u001b[1;31mP\u001b[0m\u001b[1;31mL\u001b[0m\u001b[1;32mH\u001b[0m\u001b[1;31mI\u001b[0m\u001b[1;31mI\u001b[0m\u001b[1;32mN\u001b[0m\u001b[1;32mC\u001b[0m\u001b[1;31mF\u001b[0m\u001b[1;32mT\u001b[0m\u001b[1;31mF\u001b[0m\u001b[1;31mF\u001b[0m\u001b[1;32mC\u001b[0m\u001b[1;31mP\u001b[0m\u001b[1;34mD\u001b[0m\u001b[1;32mC\u001b[0m\u001b[1;38;5;239m-\u001b[0m  │\n",
       "│ 3 AA3R_HU…   \u001b[1;36m172\u001b[0m  \u001b[1;31mM\u001b[0m\u001b[1;38;5;129mR\u001b[0m\u001b[1;31mM\u001b[0m\u001b[1;34mD\u001b[0m\u001b[1;32mY\u001b[0m\u001b[1;31mM\u001b[0m\u001b[1;31mV\u001b[0m\u001b[1;32mY\u001b[0m\u001b[1;31mF\u001b[0m\u001b[1;32mS\u001b[0m\u001b[1;31mF\u001b[0m\u001b[1;31mL\u001b[0m\u001b[1;32mT\u001b[0m\u001b[1;31mW\u001b[0m\u001b[1;31mI\u001b[0m\u001b[1;31mF\u001b[0m\u001b[1;31mI\u001b[0m\u001b[1;31mP\u001b[0m\u001b[1;31mL\u001b[0m\u001b[1;31mV\u001b[0m\u001b[1;31mV\u001b[0m\u001b[1;31mM\u001b[0m\u001b[1;32mC\u001b[0m\u001b[1;31mA\u001b[0m\u001b[1;31mI\u001b[0m\u001b[1;32mY\u001b[0m\u001b[1;31mL\u001b[0m\u001b[1;34mD\u001b[0m\u001b[1;31mI\u001b[0m\u001b[1;31mF\u001b[0m\u001b[1;32mY\u001b[0m\u001b[1;31mI\u001b[0m\u001b[1;31mI\u001b[0m\u001b[1;38;5;129mR\u001b[0m\u001b[1;32mN\u001b[0m\u001b[1;38;5;129mK\u001b[0m\u001b[1;31mL\u001b[0m\u001b[1;32mS\u001b[0m\u001b[1;31mL\u001b[0m\u001b[1;32mN\u001b[0m\u001b[1;31mL\u001b[0m\u001b[1;32mS\u001b[0m\u001b[1;32mN\u001b[0m\u001b[1;38;5;239m-\u001b[0m\u001b[1;38;5;239m-\u001b[0m\u001b[1;38;5;239m-\u001b[0m\u001b[1;32mS\u001b[0m\u001b[1;38;5;129mK\u001b[0m\u001b[1;34mE\u001b[0m\u001b[1;32mT\u001b[0m\u001b[1;32mG\u001b[0m\u001b[1;31mA\u001b[0m\u001b[1;31mF\u001b[0m\u001b[1;32mY\u001b[0m\u001b[1;32mG\u001b[0m\u001b[1;38;5;129mR\u001b[0m\u001b[1;34mE\u001b[0m\u001b[1;31mF\u001b[0m\u001b[1;38;5;129mK\u001b[0m\u001b[1;32mT\u001b[0m\u001b[1;31mA\u001b[0m\u001b[1;38;5;129mK\u001b[0m\u001b[1;32mS\u001b[0m\u001b[1;31mL\u001b[0m\u001b[1;31mF\u001b[0m\u001b[1;31mL\u001b[0m\u001b[1;31mV\u001b[0m\u001b[1;31mL\u001b[0m\u001b[1;31mF\u001b[0m\u001b[1;31mL\u001b[0m\u001b[1;31mF\u001b[0m\u001b[1;31mA\u001b[0m\u001b[1;31mL\u001b[0m\u001b[1;32mS\u001b[0m\u001b[1;31mW\u001b[0m\u001b[1;31mL\u001b[0m\u001b[1;31mP\u001b[0m\u001b[1;31mL\u001b[0m\u001b[1;32mS\u001b[0m\u001b[1;31mI\u001b[0m\u001b[1;31mI\u001b[0m\u001b[1;32mN\u001b[0m\u001b[1;32mC\u001b[0m\u001b[1;31mI\u001b[0m\u001b[1;31mI\u001b[0m\u001b[1;32mY\u001b[0m\u001b[1;31mF\u001b[0m\u001b[1;32mN\u001b[0m\u001b[1;32mG\u001b[0m\u001b[1;38;5;239m-\u001b[0m\u001b[1;38;5;239m-\u001b[0m\u001b[1;38;5;239m-\u001b[0m  │\n",
       "│                                                                                                                 │\n",
       "│ 0 AA2BR_H…   \u001b[1;36m265\u001b[0m  \u001b[1;38;5;129mK\u001b[0m\u001b[1;32mN\u001b[0m\u001b[1;38;5;129mK\u001b[0m\u001b[1;31mP\u001b[0m\u001b[1;38;5;129mK\u001b[0m\u001b[1;31mW\u001b[0m\u001b[1;31mA\u001b[0m\u001b[1;31mM\u001b[0m\u001b[1;32mN\u001b[0m\u001b[1;31mM\u001b[0m\u001b[1;31mA\u001b[0m\u001b[1;31mI\u001b[0m\u001b[1;31mL\u001b[0m\u001b[1;31mL\u001b[0m\u001b[1;32mS\u001b[0m\u001b[1;32mH\u001b[0m\u001b[1;31mA\u001b[0m\u001b[1;32mN\u001b[0m\u001b[1;32mS\u001b[0m\u001b[1;31mV\u001b[0m\u001b[1;31mV\u001b[0m\u001b[1;32mN\u001b[0m\u001b[1;31mP\u001b[0m\u001b[1;31mI\u001b[0m\u001b[1;31mV\u001b[0m\u001b[1;32mY\u001b[0m\u001b[1;31mA\u001b[0m\u001b[1;32mY\u001b[0m\u001b[1;38;5;129mR\u001b[0m\u001b[1;32mN\u001b[0m\u001b[1;38;5;129mR\u001b[0m\u001b[1;34mD\u001b[0m\u001b[1;31mF\u001b[0m\u001b[1;38;5;129mR\u001b[0m\u001b[1;32mY\u001b[0m\u001b[1;32mT\u001b[0m\u001b[1;31mF\u001b[0m\u001b[1;32mH\u001b[0m\u001b[1;38;5;129mK\u001b[0m\u001b[1;31mI\u001b[0m\u001b[1;31mI\u001b[0m\u001b[1;32mS\u001b[0m\u001b[1;38;5;129mR\u001b[0m\u001b[1;32mY\u001b[0m\u001b[1;31mL\u001b[0m\u001b[1;31mL\u001b[0m\u001b[1;32mC\u001b[0m\u001b[1;32mQ\u001b[0m\u001b[1;31mA\u001b[0m\u001b[1;34mD\u001b[0m\u001b[1;31mV\u001b[0m\u001b[1;38;5;129mK\u001b[0m\u001b[1;32mS\u001b[0m\u001b[1;32mG\u001b[0m\u001b[1;32mN\u001b[0m\u001b[1;32mG\u001b[0m\u001b[1;32mQ\u001b[0m\u001b[1;38;5;239m-\u001b[0m\u001b[1;38;5;239m-\u001b[0m\u001b[1;38;5;239m-\u001b[0m\u001b[1;38;5;239m-\u001b[0m\u001b[1;38;5;239m-\u001b[0m\u001b[1;38;5;239m-\u001b[0m\u001b[1;38;5;239m-\u001b[0m\u001b[1;38;5;239m-\u001b[0m\u001b[1;38;5;239m-\u001b[0m\u001b[1;38;5;239m-\u001b[0m\u001b[1;31mA\u001b[0m\u001b[1;32mG\u001b[0m\u001b[1;31mV\u001b[0m\u001b[1;32mQ\u001b[0m\u001b[1;31mP\u001b[0m\u001b[1;31mA\u001b[0m\u001b[1;31mL\u001b[0m\u001b[1;32mG\u001b[0m\u001b[1;31mV\u001b[0m\u001b[1;32mG\u001b[0m\u001b[1;31mL\u001b[0m\u001b[1;38;5;239m-\u001b[0m\u001b[1;38;5;239m-\u001b[0m\u001b[1;38;5;239m-\u001b[0m\u001b[1;38;5;239m-\u001b[0m\u001b[1;38;5;239m-\u001b[0m\u001b[1;38;5;239m-\u001b[0m\u001b[1;38;5;239m-\u001b[0m\u001b[1;38;5;239m-\u001b[0m\u001b[1;38;5;239m-\u001b[0m\u001b[1;38;5;239m-\u001b[0m\u001b[1;38;5;239m-\u001b[0m\u001b[1;38;5;239m-\u001b[0m\u001b[1;38;5;239m-\u001b[0m\u001b[1;38;5;239m-\u001b[0m  │\n",
       "│ 1 AA1R_HU…   \u001b[1;36m264\u001b[0m  \u001b[1;38;5;239m-\u001b[0m\u001b[1;32mH\u001b[0m\u001b[1;38;5;129mK\u001b[0m\u001b[1;31mP\u001b[0m\u001b[1;32mS\u001b[0m\u001b[1;31mI\u001b[0m\u001b[1;31mL\u001b[0m\u001b[1;32mT\u001b[0m\u001b[1;32mY\u001b[0m\u001b[1;31mI\u001b[0m\u001b[1;31mA\u001b[0m\u001b[1;31mI\u001b[0m\u001b[1;31mF\u001b[0m\u001b[1;31mL\u001b[0m\u001b[1;32mT\u001b[0m\u001b[1;32mH\u001b[0m\u001b[1;32mG\u001b[0m\u001b[1;32mN\u001b[0m\u001b[1;32mS\u001b[0m\u001b[1;31mA\u001b[0m\u001b[1;31mM\u001b[0m\u001b[1;32mN\u001b[0m\u001b[1;31mP\u001b[0m\u001b[1;31mI\u001b[0m\u001b[1;31mV\u001b[0m\u001b[1;32mY\u001b[0m\u001b[1;31mA\u001b[0m\u001b[1;31mF\u001b[0m\u001b[1;38;5;129mR\u001b[0m\u001b[1;31mI\u001b[0m\u001b[1;32mQ\u001b[0m\u001b[1;38;5;129mK\u001b[0m\u001b[1;31mF\u001b[0m\u001b[1;38;5;129mR\u001b[0m\u001b[1;31mV\u001b[0m\u001b[1;32mT\u001b[0m\u001b[1;31mF\u001b[0m\u001b[1;31mL\u001b[0m\u001b[1;38;5;129mK\u001b[0m\u001b[1;31mI\u001b[0m\u001b[1;31mW\u001b[0m\u001b[1;32mN\u001b[0m\u001b[1;34mD\u001b[0m\u001b[1;32mH\u001b[0m\u001b[1;31mF\u001b[0m\u001b[1;38;5;129mR\u001b[0m\u001b[1;32mC\u001b[0m\u001b[1;32mQ\u001b[0m\u001b[1;31mP\u001b[0m\u001b[1;31mA\u001b[0m\u001b[1;31mP\u001b[0m\u001b[1;31mP\u001b[0m\u001b[1;31mI\u001b[0m\u001b[1;34mD\u001b[0m\u001b[1;34mE\u001b[0m\u001b[1;34mD\u001b[0m\u001b[1;31mL\u001b[0m\u001b[1;31mP\u001b[0m\u001b[1;34mE\u001b[0m\u001b[1;34mE\u001b[0m\u001b[1;38;5;239m-\u001b[0m\u001b[1;38;5;239m-\u001b[0m\u001b[1;38;5;239m-\u001b[0m\u001b[1;38;5;239m-\u001b[0m\u001b[1;38;5;239m-\u001b[0m\u001b[1;38;5;239m-\u001b[0m\u001b[1;38;5;239m-\u001b[0m\u001b[1;38;5;239m-\u001b[0m\u001b[1;38;5;239m-\u001b[0m\u001b[1;38;5;239m-\u001b[0m\u001b[1;38;5;239m-\u001b[0m\u001b[1;38;5;239m-\u001b[0m\u001b[1;38;5;239m-\u001b[0m\u001b[1;38;5;239m-\u001b[0m\u001b[1;38;5;239m-\u001b[0m\u001b[1;38;5;239m-\u001b[0m\u001b[1;38;5;239m-\u001b[0m\u001b[1;38;5;239m-\u001b[0m\u001b[1;38;5;239m-\u001b[0m\u001b[1;38;5;239m-\u001b[0m\u001b[1;38;5;239m-\u001b[0m\u001b[1;38;5;239m-\u001b[0m\u001b[1;38;5;239m-\u001b[0m\u001b[1;38;5;239m-\u001b[0m\u001b[1;38;5;239m-\u001b[0m\u001b[1;38;5;239m-\u001b[0m\u001b[1;38;5;239m-\u001b[0m\u001b[1;38;5;239m-\u001b[0m\u001b[1;38;5;239m-\u001b[0m\u001b[1;38;5;239m-\u001b[0m\u001b[1;38;5;239m-\u001b[0m\u001b[1;38;5;239m-\u001b[0m  │\n",
       "│ 2 AA2AR_H…   \u001b[1;36m263\u001b[0m  \u001b[1;32mS\u001b[0m\u001b[1;32mH\u001b[0m\u001b[1;31mA\u001b[0m\u001b[1;31mP\u001b[0m\u001b[1;31mL\u001b[0m\u001b[1;31mW\u001b[0m\u001b[1;31mL\u001b[0m\u001b[1;31mM\u001b[0m\u001b[1;32mY\u001b[0m\u001b[1;31mL\u001b[0m\u001b[1;31mA\u001b[0m\u001b[1;31mI\u001b[0m\u001b[1;31mV\u001b[0m\u001b[1;31mL\u001b[0m\u001b[1;32mS\u001b[0m\u001b[1;32mH\u001b[0m\u001b[1;32mT\u001b[0m\u001b[1;32mN\u001b[0m\u001b[1;32mS\u001b[0m\u001b[1;31mV\u001b[0m\u001b[1;31mV\u001b[0m\u001b[1;32mN\u001b[0m\u001b[1;31mP\u001b[0m\u001b[1;31mF\u001b[0m\u001b[1;31mI\u001b[0m\u001b[1;32mY\u001b[0m\u001b[1;31mA\u001b[0m\u001b[1;32mY\u001b[0m\u001b[1;38;5;129mR\u001b[0m\u001b[1;31mI\u001b[0m\u001b[1;38;5;129mR\u001b[0m\u001b[1;34mE\u001b[0m\u001b[1;31mF\u001b[0m\u001b[1;38;5;129mR\u001b[0m\u001b[1;32mQ\u001b[0m\u001b[1;32mT\u001b[0m\u001b[1;31mF\u001b[0m\u001b[1;38;5;129mR\u001b[0m\u001b[1;38;5;129mK\u001b[0m\u001b[1;31mI\u001b[0m\u001b[1;31mI\u001b[0m\u001b[1;38;5;129mR\u001b[0m\u001b[1;32mS\u001b[0m\u001b[1;32mH\u001b[0m\u001b[1;31mV\u001b[0m\u001b[1;31mL\u001b[0m\u001b[1;38;5;129mR\u001b[0m\u001b[1;32mQ\u001b[0m\u001b[1;32mQ\u001b[0m\u001b[1;34mE\u001b[0m\u001b[1;31mP\u001b[0m\u001b[1;31mF\u001b[0m\u001b[1;38;5;129mK\u001b[0m\u001b[1;31mA\u001b[0m\u001b[1;31mA\u001b[0m\u001b[1;32mG\u001b[0m\u001b[1;32mT\u001b[0m\u001b[1;32mS\u001b[0m\u001b[1;31mA\u001b[0m\u001b[1;38;5;129mR\u001b[0m\u001b[1;31mV\u001b[0m\u001b[1;31mL\u001b[0m\u001b[1;31mA\u001b[0m\u001b[1;31mA\u001b[0m\u001b[1;32mH\u001b[0m\u001b[1;32mG\u001b[0m\u001b[1;32mS\u001b[0m\u001b[1;34mD\u001b[0m\u001b[1;32mG\u001b[0m\u001b[1;34mE\u001b[0m\u001b[1;32mQ\u001b[0m\u001b[1;31mV\u001b[0m\u001b[1;32mS\u001b[0m\u001b[1;31mL\u001b[0m\u001b[1;38;5;129mR\u001b[0m\u001b[1;31mL\u001b[0m\u001b[1;32mN\u001b[0m\u001b[1;32mG\u001b[0m\u001b[1;32mH\u001b[0m\u001b[1;31mP\u001b[0m\u001b[1;31mP\u001b[0m\u001b[1;32mG\u001b[0m\u001b[1;31mV\u001b[0m\u001b[1;31mW\u001b[0m\u001b[1;31mA\u001b[0m\u001b[1;32mN\u001b[0m\u001b[1;32mG\u001b[0m\u001b[1;32mS\u001b[0m\u001b[1;31mA\u001b[0m\u001b[1;31mP\u001b[0m\u001b[1;32mH\u001b[0m\u001b[1;31mP\u001b[0m  │\n",
       "│ 3 AA3R_HU…   \u001b[1;36m258\u001b[0m  \u001b[1;38;5;239m-\u001b[0m\u001b[1;34mE\u001b[0m\u001b[1;31mV\u001b[0m\u001b[1;31mP\u001b[0m\u001b[1;32mQ\u001b[0m\u001b[1;31mL\u001b[0m\u001b[1;31mV\u001b[0m\u001b[1;31mL\u001b[0m\u001b[1;32mY\u001b[0m\u001b[1;31mM\u001b[0m\u001b[1;32mG\u001b[0m\u001b[1;31mI\u001b[0m\u001b[1;31mL\u001b[0m\u001b[1;31mL\u001b[0m\u001b[1;32mS\u001b[0m\u001b[1;32mH\u001b[0m\u001b[1;31mA\u001b[0m\u001b[1;32mN\u001b[0m\u001b[1;32mS\u001b[0m\u001b[1;31mM\u001b[0m\u001b[1;31mM\u001b[0m\u001b[1;32mN\u001b[0m\u001b[1;31mP\u001b[0m\u001b[1;31mI\u001b[0m\u001b[1;31mV\u001b[0m\u001b[1;32mY\u001b[0m\u001b[1;31mA\u001b[0m\u001b[1;32mY\u001b[0m\u001b[1;38;5;129mK\u001b[0m\u001b[1;31mI\u001b[0m\u001b[1;38;5;129mK\u001b[0m\u001b[1;38;5;129mK\u001b[0m\u001b[1;31mF\u001b[0m\u001b[1;38;5;129mK\u001b[0m\u001b[1;34mE\u001b[0m\u001b[1;32mT\u001b[0m\u001b[1;32mY\u001b[0m\u001b[1;31mL\u001b[0m\u001b[1;31mL\u001b[0m\u001b[1;31mI\u001b[0m\u001b[1;31mL\u001b[0m\u001b[1;38;5;129mK\u001b[0m\u001b[1;31mA\u001b[0m\u001b[1;32mC\u001b[0m\u001b[1;31mV\u001b[0m\u001b[1;31mV\u001b[0m\u001b[1;32mC\u001b[0m\u001b[1;32mH\u001b[0m\u001b[1;31mP\u001b[0m\u001b[1;32mS\u001b[0m\u001b[1;34mD\u001b[0m\u001b[1;32mS\u001b[0m\u001b[1;31mL\u001b[0m\u001b[1;34mD\u001b[0m\u001b[1;32mT\u001b[0m\u001b[1;32mS\u001b[0m\u001b[1;31mI\u001b[0m\u001b[1;34mE\u001b[0m\u001b[1;38;5;129mK\u001b[0m\u001b[1;32mN\u001b[0m\u001b[1;32mS\u001b[0m\u001b[1;34mE\u001b[0m\u001b[1;38;5;239m-\u001b[0m\u001b[1;38;5;239m-\u001b[0m\u001b[1;38;5;239m-\u001b[0m\u001b[1;38;5;239m-\u001b[0m\u001b[1;38;5;239m-\u001b[0m\u001b[1;38;5;239m-\u001b[0m\u001b[1;38;5;239m-\u001b[0m\u001b[1;38;5;239m-\u001b[0m\u001b[1;38;5;239m-\u001b[0m\u001b[1;38;5;239m-\u001b[0m\u001b[1;38;5;239m-\u001b[0m\u001b[1;38;5;239m-\u001b[0m\u001b[1;38;5;239m-\u001b[0m\u001b[1;38;5;239m-\u001b[0m\u001b[1;38;5;239m-\u001b[0m\u001b[1;38;5;239m-\u001b[0m\u001b[1;38;5;239m-\u001b[0m\u001b[1;38;5;239m-\u001b[0m\u001b[1;38;5;239m-\u001b[0m\u001b[1;38;5;239m-\u001b[0m\u001b[1;38;5;239m-\u001b[0m\u001b[1;38;5;239m-\u001b[0m\u001b[1;38;5;239m-\u001b[0m\u001b[1;38;5;239m-\u001b[0m\u001b[1;38;5;239m-\u001b[0m\u001b[1;38;5;239m-\u001b[0m\u001b[1;38;5;239m-\u001b[0m\u001b[1;38;5;239m-\u001b[0m\u001b[1;38;5;239m-\u001b[0m\u001b[1;38;5;239m-\u001b[0m  │\n",
       "│                                                                                                                 │\n",
       "│ 0 AA2BR_H…   \u001b[1;36m333\u001b[0m  \u001b[1;38;5;239m-\u001b[0m\u001b[1;38;5;239m-\u001b[0m\u001b[1;38;5;239m-\u001b[0m\u001b[1;38;5;239m-\u001b[0m\u001b[1;38;5;239m-\u001b[0m\u001b[1;38;5;239m-\u001b[0m\u001b[1;38;5;239m-\u001b[0m\u001b[1;38;5;239m-\u001b[0m\u001b[1;38;5;239m-\u001b[0m\u001b[1;38;5;239m-\u001b[0m\u001b[1;38;5;239m-\u001b[0m\u001b[1;38;5;239m-\u001b[0m\u001b[1;38;5;239m-\u001b[0m\u001b[1;38;5;239m-\u001b[0m\u001b[1;38;5;239m-\u001b[0m\u001b[1;38;5;239m-\u001b[0m\u001b[1;38;5;239m-\u001b[0m\u001b[1;38;5;239m-\u001b[0m\u001b[1;38;5;239m-\u001b[0m\u001b[1;38;5;239m-\u001b[0m\u001b[1;38;5;239m-\u001b[0m\u001b[1;38;5;239m-\u001b[0m\u001b[1;38;5;239m-\u001b[0m\u001b[1;38;5;239m-\u001b[0m\u001b[1;38;5;239m-\u001b[0m\u001b[1;38;5;239m-\u001b[0m\u001b[1;38;5;239m-\u001b[0m\u001b[1;38;5;239m-\u001b[0m\u001b[1;38;5;239m-\u001b[0m\u001b[1;38;5;239m-\u001b[0m\u001b[1;38;5;239m-\u001b[0m\u001b[1;38;5;239m-\u001b[0m\u001b[1;38;5;239m-\u001b[0m\u001b[1;38;5;239m-\u001b[0m\u001b[1;38;5;239m-\u001b[0m\u001b[1;38;5;239m-\u001b[0m\u001b[1;38;5;239m-\u001b[0m\u001b[1;38;5;239m-\u001b[0m\u001b[1;38;5;239m-\u001b[0m\u001b[1;38;5;239m-\u001b[0m\u001b[1;38;5;239m-\u001b[0m\u001b[1;38;5;239m-\u001b[0m\u001b[1;38;5;239m-\u001b[0m\u001b[1;38;5;239m-\u001b[0m\u001b[1;38;5;239m-\u001b[0m\u001b[1;38;5;239m-\u001b[0m\u001b[1;38;5;239m-\u001b[0m\u001b[1;38;5;239m-\u001b[0m\u001b[1;38;5;239m-\u001b[0m\u001b[1;38;5;239m-\u001b[0m\u001b[1;38;5;239m-\u001b[0m\u001b[1;38;5;239m-\u001b[0m\u001b[1;38;5;239m-\u001b[0m\u001b[1;38;5;239m-\u001b[0m\u001b[1;38;5;239m-\u001b[0m\u001b[1;38;5;239m-\u001b[0m\u001b[1;38;5;239m-\u001b[0m\u001b[1;38;5;239m-\u001b[0m                                    │\n",
       "│ 1 AA1R_HU…   \u001b[1;36m323\u001b[0m  \u001b[1;38;5;239m-\u001b[0m\u001b[1;38;5;239m-\u001b[0m\u001b[1;38;5;129mR\u001b[0m\u001b[1;31mP\u001b[0m\u001b[1;34mD\u001b[0m\u001b[1;34mD\u001b[0m\u001b[1;38;5;239m-\u001b[0m\u001b[1;38;5;239m-\u001b[0m\u001b[1;38;5;239m-\u001b[0m\u001b[1;38;5;239m-\u001b[0m\u001b[1;38;5;239m-\u001b[0m\u001b[1;38;5;239m-\u001b[0m\u001b[1;38;5;239m-\u001b[0m\u001b[1;38;5;239m-\u001b[0m\u001b[1;38;5;239m-\u001b[0m\u001b[1;38;5;239m-\u001b[0m\u001b[1;38;5;239m-\u001b[0m\u001b[1;38;5;239m-\u001b[0m\u001b[1;38;5;239m-\u001b[0m\u001b[1;38;5;239m-\u001b[0m\u001b[1;38;5;239m-\u001b[0m\u001b[1;38;5;239m-\u001b[0m\u001b[1;38;5;239m-\u001b[0m\u001b[1;38;5;239m-\u001b[0m\u001b[1;38;5;239m-\u001b[0m\u001b[1;38;5;239m-\u001b[0m\u001b[1;38;5;239m-\u001b[0m\u001b[1;38;5;239m-\u001b[0m\u001b[1;38;5;239m-\u001b[0m\u001b[1;38;5;239m-\u001b[0m\u001b[1;38;5;239m-\u001b[0m\u001b[1;38;5;239m-\u001b[0m\u001b[1;38;5;239m-\u001b[0m\u001b[1;38;5;239m-\u001b[0m\u001b[1;38;5;239m-\u001b[0m\u001b[1;38;5;239m-\u001b[0m\u001b[1;38;5;239m-\u001b[0m\u001b[1;38;5;239m-\u001b[0m\u001b[1;38;5;239m-\u001b[0m\u001b[1;38;5;239m-\u001b[0m\u001b[1;38;5;239m-\u001b[0m\u001b[1;38;5;239m-\u001b[0m\u001b[1;38;5;239m-\u001b[0m\u001b[1;38;5;239m-\u001b[0m\u001b[1;38;5;239m-\u001b[0m\u001b[1;38;5;239m-\u001b[0m\u001b[1;38;5;239m-\u001b[0m\u001b[1;38;5;239m-\u001b[0m\u001b[1;38;5;239m-\u001b[0m\u001b[1;38;5;239m-\u001b[0m\u001b[1;38;5;239m-\u001b[0m\u001b[1;38;5;239m-\u001b[0m\u001b[1;38;5;239m-\u001b[0m\u001b[1;38;5;239m-\u001b[0m\u001b[1;38;5;239m-\u001b[0m\u001b[1;38;5;239m-\u001b[0m\u001b[1;38;5;239m-\u001b[0m\u001b[1;38;5;239m-\u001b[0m                                    │\n",
       "│ 2 AA2AR_H…   \u001b[1;36m355\u001b[0m  \u001b[1;34mE\u001b[0m\u001b[1;38;5;129mR\u001b[0m\u001b[1;38;5;129mR\u001b[0m\u001b[1;31mP\u001b[0m\u001b[1;32mN\u001b[0m\u001b[1;32mG\u001b[0m\u001b[1;32mY\u001b[0m\u001b[1;31mA\u001b[0m\u001b[1;31mL\u001b[0m\u001b[1;32mG\u001b[0m\u001b[1;31mL\u001b[0m\u001b[1;31mV\u001b[0m\u001b[1;32mS\u001b[0m\u001b[1;32mG\u001b[0m\u001b[1;32mG\u001b[0m\u001b[1;32mS\u001b[0m\u001b[1;31mA\u001b[0m\u001b[1;32mQ\u001b[0m\u001b[1;34mE\u001b[0m\u001b[1;32mS\u001b[0m\u001b[1;32mQ\u001b[0m\u001b[1;32mG\u001b[0m\u001b[1;32mN\u001b[0m\u001b[1;32mT\u001b[0m\u001b[1;32mG\u001b[0m\u001b[1;31mL\u001b[0m\u001b[1;31mP\u001b[0m\u001b[1;34mD\u001b[0m\u001b[1;31mV\u001b[0m\u001b[1;34mE\u001b[0m\u001b[1;31mL\u001b[0m\u001b[1;31mL\u001b[0m\u001b[1;32mS\u001b[0m\u001b[1;32mH\u001b[0m\u001b[1;34mE\u001b[0m\u001b[1;31mL\u001b[0m\u001b[1;38;5;129mK\u001b[0m\u001b[1;32mG\u001b[0m\u001b[1;31mV\u001b[0m\u001b[1;32mC\u001b[0m\u001b[1;31mP\u001b[0m\u001b[1;34mE\u001b[0m\u001b[1;31mP\u001b[0m\u001b[1;31mP\u001b[0m\u001b[1;32mG\u001b[0m\u001b[1;31mL\u001b[0m\u001b[1;34mD\u001b[0m\u001b[1;34mD\u001b[0m\u001b[1;31mP\u001b[0m\u001b[1;31mL\u001b[0m\u001b[1;31mA\u001b[0m\u001b[1;32mQ\u001b[0m\u001b[1;34mD\u001b[0m\u001b[1;32mG\u001b[0m\u001b[1;31mA\u001b[0m\u001b[1;32mG\u001b[0m\u001b[1;31mV\u001b[0m\u001b[1;32mS\u001b[0m                                    │\n",
       "│ 3 AA3R_HU…   \u001b[1;36m319\u001b[0m  \u001b[1;38;5;239m-\u001b[0m\u001b[1;38;5;239m-\u001b[0m\u001b[1;38;5;239m-\u001b[0m\u001b[1;38;5;239m-\u001b[0m\u001b[1;38;5;239m-\u001b[0m\u001b[1;38;5;239m-\u001b[0m\u001b[1;38;5;239m-\u001b[0m\u001b[1;38;5;239m-\u001b[0m\u001b[1;38;5;239m-\u001b[0m\u001b[1;38;5;239m-\u001b[0m\u001b[1;38;5;239m-\u001b[0m\u001b[1;38;5;239m-\u001b[0m\u001b[1;38;5;239m-\u001b[0m\u001b[1;38;5;239m-\u001b[0m\u001b[1;38;5;239m-\u001b[0m\u001b[1;38;5;239m-\u001b[0m\u001b[1;38;5;239m-\u001b[0m\u001b[1;38;5;239m-\u001b[0m\u001b[1;38;5;239m-\u001b[0m\u001b[1;38;5;239m-\u001b[0m\u001b[1;38;5;239m-\u001b[0m\u001b[1;38;5;239m-\u001b[0m\u001b[1;38;5;239m-\u001b[0m\u001b[1;38;5;239m-\u001b[0m\u001b[1;38;5;239m-\u001b[0m\u001b[1;38;5;239m-\u001b[0m\u001b[1;38;5;239m-\u001b[0m\u001b[1;38;5;239m-\u001b[0m\u001b[1;38;5;239m-\u001b[0m\u001b[1;38;5;239m-\u001b[0m\u001b[1;38;5;239m-\u001b[0m\u001b[1;38;5;239m-\u001b[0m\u001b[1;38;5;239m-\u001b[0m\u001b[1;38;5;239m-\u001b[0m\u001b[1;38;5;239m-\u001b[0m\u001b[1;38;5;239m-\u001b[0m\u001b[1;38;5;239m-\u001b[0m\u001b[1;38;5;239m-\u001b[0m\u001b[1;38;5;239m-\u001b[0m\u001b[1;38;5;239m-\u001b[0m\u001b[1;38;5;239m-\u001b[0m\u001b[1;38;5;239m-\u001b[0m\u001b[1;38;5;239m-\u001b[0m\u001b[1;38;5;239m-\u001b[0m\u001b[1;38;5;239m-\u001b[0m\u001b[1;38;5;239m-\u001b[0m\u001b[1;38;5;239m-\u001b[0m\u001b[1;38;5;239m-\u001b[0m\u001b[1;38;5;239m-\u001b[0m\u001b[1;38;5;239m-\u001b[0m\u001b[1;38;5;239m-\u001b[0m\u001b[1;38;5;239m-\u001b[0m\u001b[1;38;5;239m-\u001b[0m\u001b[1;38;5;239m-\u001b[0m\u001b[1;38;5;239m-\u001b[0m\u001b[1;38;5;239m-\u001b[0m\u001b[1;38;5;239m-\u001b[0m\u001b[1;38;5;239m-\u001b[0m                                    │\n",
       "╰─────────────────────────────────────────────────────────────────────────────────────────────────────────────────╯\n"
      ]
     },
     "metadata": {},
     "output_type": "display_data"
    }
   ],
   "source": [
    "# Read MSA\n",
    "msa = Bio.AlignIO.read(alignment_file, \"fasta\")\n",
    "viewer = rich_msa.RichAlignment(\n",
    "    names=[record.description for record in msa],\n",
    "    sequences=[str(record.seq) for record in msa],\n",
    ")\n",
    "# Visualize MSA\n",
    "panel = rich.panel.Panel(viewer, title=\"Multiple sequence alignment\")\n",
    "rich.print(panel)"
   ]
  },
  {
   "cell_type": "markdown",
   "metadata": {
    "pycharm": {
     "name": "#%% md\n"
    }
   },
   "source": [
    "In the MSA we can observe that the adenosine A2A receptor has a longer C terminus than the rest of the adenosine receptors. Moreover, there are clear parts of the proteins that are very similar in all the receptors (i.e. transmembrane domains), and parts that vary in amino acid composition and length between receptors (i.e. mostly loops)."
   ]
  },
  {
   "cell_type": "markdown",
   "metadata": {},
   "source": [
    "####  Calculate protein descriptors"
   ]
  },
  {
   "cell_type": "markdown",
   "metadata": {
    "pycharm": {
     "name": "#%% md\n"
    }
   },
   "source": [
    "Now that our protein sequences are aligned, we can calculate protein descriptors using ProDEC. For that, let's parse all default descriptors available. Since we are focusing on Z-scale descriptors in this talktorial, we can explore the details about this descriptor, and in case we want some extra information we can look at the article where it is first described."
   ]
  },
  {
   "cell_type": "code",
   "execution_count": 18,
   "metadata": {
    "collapsed": false,
    "jupyter": {
     "outputs_hidden": false
    },
    "pycharm": {
     "name": "#%%\n"
    }
   },
   "outputs": [
    {
     "name": "stdout",
     "output_type": "stream",
     "text": [
      "Available ProDEC descriptors: ['ADFQ', 'BLOSUM', 'c-scales', 'CBFQ', 'CDFQ', 'Combined descriptors', 'Contact energies', 'CUFQ', 'DPPS', 'E-scale', 'FASGAI', 'G-scales', 'GH-scale', 'GRID tscore', 'HESH', 'HPI', 'HSEHPCSV', 'Independent descriptors', 'ISA-ECI', 'Kidera', 'MS-WHIM', 'P-scale', 'PhysChem', 'ProtFP hash', 'ProtFP PCA', 'PSM', 'QCP', 'Raychaudhury', 'Sneath', 'SSIA AM1', 'SSIA DFT', 'SSIA HF', 'SSIA PM3', 'STscale', 'SVEEVA', 'SVGER', 'SVHEHS', 'SVMW', 'SVRDF', 'SVRG', 'SVWG', 'SZOTT', 'Tscale', 'V-scale', 'VARIMAX', 'VHSE', 'VHSEH', 'VSGETAWAY', 'VSTPV', 'VSTV', 'VSW', 'VTSA', 'Zscale binary', 'Zscale Hellberg', 'Zscale Jonsson', 'Zscale Sandberg', 'Zscale Sjöström', 'Zscale van Westen']\n"
     ]
    }
   ],
   "source": [
    "# Parse ProDEC descriptors\n",
    "desc_factory = prodec.ProteinDescriptors()\n",
    "# Print available descriptors\n",
    "print(f\"Available ProDEC descriptors: {desc_factory.available_descriptors}\")"
   ]
  },
  {
   "cell_type": "code",
   "execution_count": 19,
   "metadata": {
    "collapsed": false,
    "jupyter": {
     "outputs_hidden": false
    },
    "pycharm": {
     "name": "#%%\n"
    }
   },
   "outputs": [
    {
     "name": "stdout",
     "output_type": "stream",
     "text": [
      "More about Z-Scales:\n"
     ]
    },
    {
     "data": {
      "text/plain": [
       "{'Authors': 'Hellberg, Sjöström, Skagerberg, Wold',\n",
       " 'Year': 1987,\n",
       " 'Journal': 'Journal of Medicinal Chemistry',\n",
       " 'DOI': '10.1021/jm00390a003',\n",
       " 'PMID': None,\n",
       " 'Patent': None}"
      ]
     },
     "execution_count": 19,
     "metadata": {},
     "output_type": "execute_result"
    }
   ],
   "source": [
    "# Print information about Z-scales\n",
    "print(\"More about Z-Scales:\")\n",
    "desc_factory.get_descriptor(\"Zscale Hellberg\").Info"
   ]
  },
  {
   "cell_type": "code",
   "execution_count": 20,
   "metadata": {
    "collapsed": false,
    "jupyter": {
     "outputs_hidden": false
    },
    "pycharm": {
     "name": "#%%\n"
    }
   },
   "outputs": [],
   "source": [
    "def calculate_protein_descriptor(targets, aligned_sequences, protein_descriptor):\n",
    "    \"\"\"\n",
    "    Calculate protein descriptor of choice for aligned proteins of interest\n",
    "\n",
    "    Parameters\n",
    "    ----------\n",
    "    targets : pandas.DataFrame\n",
    "        Pandas dataframe with information about targets of interest\n",
    "    aligned_sequences : list\n",
    "        List of aligned sequences read from fasta file produced with Clustal Omega\n",
    "    protein_descriptor : str\n",
    "        Protein descriptor label as described in ProDEC\n",
    "\n",
    "    Returns\n",
    "    -------\n",
    "    pandas.DataFrame\n",
    "        Dataset with accession and features for the protein descriptor of interest for the targets in the input\n",
    "    \"\"\"\n",
    "    # Get protein descriptor from ProDEC\n",
    "    prodec_descriptor = desc_factory.get_descriptor(protein_descriptor)\n",
    "\n",
    "    # Calculate descriptor features for aligned sequences of interest\n",
    "    protein_features = prodec_descriptor.pandas_get(aligned_sequences)\n",
    "\n",
    "    # Insert protein labels in the obtained features\n",
    "    protein_features.insert(0, \"accession\", targets.accession.reset_index(drop=True))\n",
    "\n",
    "    return protein_features"
   ]
  },
  {
   "cell_type": "code",
   "execution_count": 21,
   "metadata": {
    "collapsed": false,
    "jupyter": {
     "outputs_hidden": false
    },
    "pycharm": {
     "name": "#%%\n"
    }
   },
   "outputs": [
    {
     "data": {
      "application/vnd.jupyter.widget-view+json": {
       "model_id": "315d66f818334fd9b3bc5ee912c42218",
       "version_major": 2,
       "version_minor": 0
      },
      "text/plain": [
       "  0%|          | 0/4 [00:00<?, ?it/s]"
      ]
     },
     "metadata": {},
     "output_type": "display_data"
    },
    {
     "data": {
      "text/html": [
       "<div>\n",
       "<style scoped>\n",
       "    .dataframe tbody tr th:only-of-type {\n",
       "        vertical-align: middle;\n",
       "    }\n",
       "\n",
       "    .dataframe tbody tr th {\n",
       "        vertical-align: top;\n",
       "    }\n",
       "\n",
       "    .dataframe thead th {\n",
       "        text-align: right;\n",
       "    }\n",
       "</style>\n",
       "<table border=\"1\" class=\"dataframe\">\n",
       "  <thead>\n",
       "    <tr style=\"text-align: right;\">\n",
       "      <th></th>\n",
       "      <th>accession</th>\n",
       "      <th>Zscale_1</th>\n",
       "      <th>Zscale_2</th>\n",
       "      <th>Zscale_3</th>\n",
       "      <th>Zscale_4</th>\n",
       "      <th>Zscale_5</th>\n",
       "      <th>Zscale_6</th>\n",
       "      <th>Zscale_7</th>\n",
       "      <th>Zscale_8</th>\n",
       "      <th>Zscale_9</th>\n",
       "      <th>...</th>\n",
       "      <th>Zscale_1269</th>\n",
       "      <th>Zscale_1270</th>\n",
       "      <th>Zscale_1271</th>\n",
       "      <th>Zscale_1272</th>\n",
       "      <th>Zscale_1273</th>\n",
       "      <th>Zscale_1274</th>\n",
       "      <th>Zscale_1275</th>\n",
       "      <th>Zscale_1276</th>\n",
       "      <th>Zscale_1277</th>\n",
       "      <th>Zscale_1278</th>\n",
       "    </tr>\n",
       "  </thead>\n",
       "  <tbody>\n",
       "    <tr>\n",
       "      <th>0</th>\n",
       "      <td>P29275</td>\n",
       "      <td>0.00</td>\n",
       "      <td>0.00</td>\n",
       "      <td>0.00</td>\n",
       "      <td>0.00</td>\n",
       "      <td>0.00</td>\n",
       "      <td>0.00</td>\n",
       "      <td>0.00</td>\n",
       "      <td>0.00</td>\n",
       "      <td>0.00</td>\n",
       "      <td>...</td>\n",
       "      <td>0.00</td>\n",
       "      <td>0.00</td>\n",
       "      <td>0.00</td>\n",
       "      <td>0.0</td>\n",
       "      <td>0.00</td>\n",
       "      <td>0.00</td>\n",
       "      <td>0.00</td>\n",
       "      <td>0.00</td>\n",
       "      <td>0.00</td>\n",
       "      <td>0.00</td>\n",
       "    </tr>\n",
       "    <tr>\n",
       "      <th>1</th>\n",
       "      <td>P30542</td>\n",
       "      <td>0.00</td>\n",
       "      <td>0.00</td>\n",
       "      <td>0.00</td>\n",
       "      <td>0.00</td>\n",
       "      <td>0.00</td>\n",
       "      <td>0.00</td>\n",
       "      <td>0.00</td>\n",
       "      <td>0.00</td>\n",
       "      <td>0.00</td>\n",
       "      <td>...</td>\n",
       "      <td>0.00</td>\n",
       "      <td>0.00</td>\n",
       "      <td>0.00</td>\n",
       "      <td>0.0</td>\n",
       "      <td>0.00</td>\n",
       "      <td>0.00</td>\n",
       "      <td>0.00</td>\n",
       "      <td>0.00</td>\n",
       "      <td>0.00</td>\n",
       "      <td>0.00</td>\n",
       "    </tr>\n",
       "    <tr>\n",
       "      <th>2</th>\n",
       "      <td>P29274</td>\n",
       "      <td>0.00</td>\n",
       "      <td>0.00</td>\n",
       "      <td>0.00</td>\n",
       "      <td>0.00</td>\n",
       "      <td>0.00</td>\n",
       "      <td>0.00</td>\n",
       "      <td>0.00</td>\n",
       "      <td>0.00</td>\n",
       "      <td>0.00</td>\n",
       "      <td>...</td>\n",
       "      <td>0.09</td>\n",
       "      <td>2.23</td>\n",
       "      <td>-5.36</td>\n",
       "      <td>0.3</td>\n",
       "      <td>-2.69</td>\n",
       "      <td>-2.53</td>\n",
       "      <td>-1.29</td>\n",
       "      <td>1.96</td>\n",
       "      <td>-1.63</td>\n",
       "      <td>0.57</td>\n",
       "    </tr>\n",
       "    <tr>\n",
       "      <th>3</th>\n",
       "      <td>P0DMS8</td>\n",
       "      <td>-2.49</td>\n",
       "      <td>-0.27</td>\n",
       "      <td>-0.41</td>\n",
       "      <td>-1.22</td>\n",
       "      <td>0.88</td>\n",
       "      <td>2.23</td>\n",
       "      <td>3.22</td>\n",
       "      <td>1.45</td>\n",
       "      <td>0.84</td>\n",
       "      <td>...</td>\n",
       "      <td>0.00</td>\n",
       "      <td>0.00</td>\n",
       "      <td>0.00</td>\n",
       "      <td>0.0</td>\n",
       "      <td>0.00</td>\n",
       "      <td>0.00</td>\n",
       "      <td>0.00</td>\n",
       "      <td>0.00</td>\n",
       "      <td>0.00</td>\n",
       "      <td>0.00</td>\n",
       "    </tr>\n",
       "  </tbody>\n",
       "</table>\n",
       "<p>4 rows × 1279 columns</p>\n",
       "</div>"
      ],
      "text/plain": [
       "  accession  Zscale_1  Zscale_2  Zscale_3  Zscale_4  Zscale_5  Zscale_6  \\\n",
       "0    P29275      0.00      0.00      0.00      0.00      0.00      0.00   \n",
       "1    P30542      0.00      0.00      0.00      0.00      0.00      0.00   \n",
       "2    P29274      0.00      0.00      0.00      0.00      0.00      0.00   \n",
       "3    P0DMS8     -2.49     -0.27     -0.41     -1.22      0.88      2.23   \n",
       "\n",
       "   Zscale_7  Zscale_8  Zscale_9  ...  Zscale_1269  Zscale_1270  Zscale_1271  \\\n",
       "0      0.00      0.00      0.00  ...         0.00         0.00         0.00   \n",
       "1      0.00      0.00      0.00  ...         0.00         0.00         0.00   \n",
       "2      0.00      0.00      0.00  ...         0.09         2.23        -5.36   \n",
       "3      3.22      1.45      0.84  ...         0.00         0.00         0.00   \n",
       "\n",
       "   Zscale_1272  Zscale_1273  Zscale_1274  Zscale_1275  Zscale_1276  \\\n",
       "0          0.0         0.00         0.00         0.00         0.00   \n",
       "1          0.0         0.00         0.00         0.00         0.00   \n",
       "2          0.3        -2.69        -2.53        -1.29         1.96   \n",
       "3          0.0         0.00         0.00         0.00         0.00   \n",
       "\n",
       "   Zscale_1277  Zscale_1278  \n",
       "0         0.00         0.00  \n",
       "1         0.00         0.00  \n",
       "2        -1.63         0.57  \n",
       "3         0.00         0.00  \n",
       "\n",
       "[4 rows x 1279 columns]"
      ]
     },
     "execution_count": 21,
     "metadata": {},
     "output_type": "execute_result"
    }
   ],
   "source": [
    "protein_features = calculate_protein_descriptor(targets, aligned_sequences, \"Zscale Hellberg\")\n",
    "protein_features"
   ]
  },
  {
   "cell_type": "markdown",
   "metadata": {
    "pycharm": {
     "name": "#%% md\n"
    }
   },
   "source": [
    "#### Calculate compound descriptors"
   ]
  },
  {
   "cell_type": "markdown",
   "metadata": {
    "pycharm": {
     "name": "#%% md\n"
    }
   },
   "source": [
    "The final step to prepare our dataset for PCM is to calculate compound descriptors. For this, we first have to convert the molecules in our dataset to chemical entities from their text representation (SMILES). Afterwards, we use Mordred to calculate 2D molecular descriptors."
   ]
  },
  {
   "cell_type": "code",
   "execution_count": 22,
   "metadata": {
    "collapsed": false,
    "jupyter": {
     "outputs_hidden": false
    },
    "pycharm": {
     "name": "#%%\n"
    }
   },
   "outputs": [],
   "source": [
    "def calculate_molecular_descriptors(bioactivity_dataset, user_descriptors):\n",
    "    \"\"\"\n",
    "    Calculate compound molecular descriptors of choice for unique molecules in the bioactivity dataset\n",
    "\n",
    "    Parameters\n",
    "    ----------\n",
    "    bioactivity_dataset : pandas.DataFrame\n",
    "        Pandas dataframe with bioactivity dataset for PCM\n",
    "    user_descriptors : list\n",
    "        List of descriptors from Mordred to calculate\n",
    "        Use ['all'] for calculate all possible descriptors\n",
    "\n",
    "    Returns\n",
    "    -------\n",
    "    pandas.DataFrame\n",
    "        Dataset with SMILES and features for the compound descriptors of interest for molecules in the bioactivity dataset\n",
    "    \"\"\"\n",
    "    # Extract unique molecules from the bioactivity dataset\n",
    "    molecules = [Chem.MolFromSmiles(x) for x in bioactivity_dataset[\"SMILES\"].unique()]\n",
    "\n",
    "    # Use Mordred to calculate molecular descriptors of interest\n",
    "    if user_descriptors == [\"all\"]:\n",
    "        mordred_calculator = mordred.Calculator(mordred.descriptors, ignore_3D=True)\n",
    "        molecular_descriptor = mordred_calculator.pandas(molecules, pynb=False)\n",
    "\n",
    "    else:\n",
    "        mordred_list = [\n",
    "            mordred_descriptors.__dict__[descriptor] for descriptor in user_descriptors\n",
    "        ]\n",
    "        mordred_calculator = mordred.Calculator(mordred_list, ignore_3D=True)\n",
    "        molecular_descriptor = mordred_calculator.pandas(molecules, ipynb=False)\n",
    "\n",
    "    # Clean descriptors step 1: replace mordred format to pandas format\n",
    "    molecular_descriptor = pd.DataFrame(molecular_descriptor.fill_missing(np.NAN))\n",
    "\n",
    "    # Clean descriptors step 2: replace ambiguous names (relevant for writing and reading to/from a file)\n",
    "    mordred_descs_names = {}\n",
    "    for desc_name in mordred_calculator.descriptors:\n",
    "        # First we replace the ambiguous names with aliphatic rings\n",
    "        mordred_descs_names[str(desc_name)] = re.sub(\n",
    "            r\"(.*F?)A(H?Ring)$\", r\"\\1aliph\\2\", str(desc_name)\n",
    "        )\n",
    "        # Then we replace the ambiguous names with aromatic rings\n",
    "        mordred_descs_names[str(desc_name)] = re.sub(\n",
    "            r\"(.*F?)a(H?Ring)$\", r\"\\1arom\\2\", mordred_descs_names[str(desc_name)]\n",
    "        )\n",
    "\n",
    "    molecular_descriptor = molecular_descriptor.rename(mordred_descs_names)\n",
    "\n",
    "    # Clean descriptors step 3: remove absurdly big and small values (e.g. topological indexes of molecules containing fragments)\n",
    "    molecular_descriptor = molecular_descriptor.astype(np.float32).replace(\n",
    "        [np.inf, -np.inf], np.NAN\n",
    "    )\n",
    "    molecular_descriptor = molecular_descriptor.fillna(value=0)\n",
    "\n",
    "    # Clean descriptors step 4: round values to 3 decimals to reduce memory footprint\n",
    "    molecular_descriptor = molecular_descriptor.astype(float).round(3)\n",
    "    molecular_descriptor = molecular_descriptor.convert_dtypes()\n",
    "\n",
    "    # Insert SMILES in first column for mapping\n",
    "    molecular_descriptor.insert(0, \"SMILES\", bioactivity_dataset.SMILES.unique())\n",
    "\n",
    "    return molecular_descriptor"
   ]
  },
  {
   "cell_type": "code",
   "execution_count": 23,
   "metadata": {
    "collapsed": false,
    "jupyter": {
     "outputs_hidden": false
    },
    "pycharm": {
     "name": "#%%\n"
    }
   },
   "outputs": [
    {
     "name": "stderr",
     "output_type": "stream",
     "text": [
      "100%|██████████████████████████████████████| 6898/6898 [00:09<00:00, 741.92it/s]\n"
     ]
    },
    {
     "data": {
      "text/html": [
       "<div>\n",
       "<style scoped>\n",
       "    .dataframe tbody tr th:only-of-type {\n",
       "        vertical-align: middle;\n",
       "    }\n",
       "\n",
       "    .dataframe tbody tr th {\n",
       "        vertical-align: top;\n",
       "    }\n",
       "\n",
       "    .dataframe thead th {\n",
       "        text-align: right;\n",
       "    }\n",
       "</style>\n",
       "<table border=\"1\" class=\"dataframe\">\n",
       "  <thead>\n",
       "    <tr style=\"text-align: right;\">\n",
       "      <th></th>\n",
       "      <th>SMILES</th>\n",
       "      <th>ABC</th>\n",
       "      <th>ABCGG</th>\n",
       "      <th>nAcid</th>\n",
       "      <th>nBase</th>\n",
       "      <th>nAtom</th>\n",
       "      <th>nHeavyAtom</th>\n",
       "      <th>nSpiro</th>\n",
       "      <th>nBridgehead</th>\n",
       "      <th>nHetero</th>\n",
       "      <th>...</th>\n",
       "      <th>nN</th>\n",
       "      <th>nO</th>\n",
       "      <th>nS</th>\n",
       "      <th>nP</th>\n",
       "      <th>nF</th>\n",
       "      <th>nCl</th>\n",
       "      <th>nBr</th>\n",
       "      <th>nI</th>\n",
       "      <th>nX</th>\n",
       "      <th>BalabanJ</th>\n",
       "    </tr>\n",
       "  </thead>\n",
       "  <tbody>\n",
       "    <tr>\n",
       "      <th>0</th>\n",
       "      <td>Cc1nn(-c2cc(NC(=O)CCN(C)C)nc(-c3ccc(C)o3)n2)c(...</td>\n",
       "      <td>21.041</td>\n",
       "      <td>17.684</td>\n",
       "      <td>0</td>\n",
       "      <td>1</td>\n",
       "      <td>51</td>\n",
       "      <td>27</td>\n",
       "      <td>0</td>\n",
       "      <td>0</td>\n",
       "      <td>8</td>\n",
       "      <td>...</td>\n",
       "      <td>6</td>\n",
       "      <td>2</td>\n",
       "      <td>0</td>\n",
       "      <td>0</td>\n",
       "      <td>0</td>\n",
       "      <td>0</td>\n",
       "      <td>0</td>\n",
       "      <td>0</td>\n",
       "      <td>0</td>\n",
       "      <td>1.631</td>\n",
       "    </tr>\n",
       "    <tr>\n",
       "      <th>1</th>\n",
       "      <td>Nc1c(C(=O)Nc2ccc([N+](=O)[O-])cc2)sc2c1cc1CCCC...</td>\n",
       "      <td>20.701</td>\n",
       "      <td>15.635</td>\n",
       "      <td>0</td>\n",
       "      <td>0</td>\n",
       "      <td>42</td>\n",
       "      <td>26</td>\n",
       "      <td>0</td>\n",
       "      <td>0</td>\n",
       "      <td>8</td>\n",
       "      <td>...</td>\n",
       "      <td>4</td>\n",
       "      <td>3</td>\n",
       "      <td>1</td>\n",
       "      <td>0</td>\n",
       "      <td>0</td>\n",
       "      <td>0</td>\n",
       "      <td>0</td>\n",
       "      <td>0</td>\n",
       "      <td>0</td>\n",
       "      <td>1.307</td>\n",
       "    </tr>\n",
       "    <tr>\n",
       "      <th>2</th>\n",
       "      <td>O=C(Nc1nc2ncccc2n2c(=O)n(-c3ccccc3)nc12)c1ccccc1</td>\n",
       "      <td>23.23</td>\n",
       "      <td>17.456</td>\n",
       "      <td>0</td>\n",
       "      <td>0</td>\n",
       "      <td>43</td>\n",
       "      <td>29</td>\n",
       "      <td>0</td>\n",
       "      <td>0</td>\n",
       "      <td>8</td>\n",
       "      <td>...</td>\n",
       "      <td>6</td>\n",
       "      <td>2</td>\n",
       "      <td>0</td>\n",
       "      <td>0</td>\n",
       "      <td>0</td>\n",
       "      <td>0</td>\n",
       "      <td>0</td>\n",
       "      <td>0</td>\n",
       "      <td>0</td>\n",
       "      <td>1.328</td>\n",
       "    </tr>\n",
       "    <tr>\n",
       "      <th>3</th>\n",
       "      <td>CCNC(=O)C1OC(n2cnc3c2ncnc3Nc2ccc(OCC(=O)Nc3ccc...</td>\n",
       "      <td>31.336</td>\n",
       "      <td>22.213</td>\n",
       "      <td>0</td>\n",
       "      <td>0</td>\n",
       "      <td>66</td>\n",
       "      <td>40</td>\n",
       "      <td>0</td>\n",
       "      <td>0</td>\n",
       "      <td>14</td>\n",
       "      <td>...</td>\n",
       "      <td>7</td>\n",
       "      <td>6</td>\n",
       "      <td>0</td>\n",
       "      <td>0</td>\n",
       "      <td>0</td>\n",
       "      <td>1</td>\n",
       "      <td>0</td>\n",
       "      <td>0</td>\n",
       "      <td>1</td>\n",
       "      <td>1.043</td>\n",
       "    </tr>\n",
       "    <tr>\n",
       "      <th>4</th>\n",
       "      <td>NC(=NC(=O)Cn1c(O)c2CCCCc2c1O)Nc1nc2c(cccc2)s1</td>\n",
       "      <td>21.408</td>\n",
       "      <td>17.066</td>\n",
       "      <td>0</td>\n",
       "      <td>3</td>\n",
       "      <td>46</td>\n",
       "      <td>27</td>\n",
       "      <td>0</td>\n",
       "      <td>0</td>\n",
       "      <td>9</td>\n",
       "      <td>...</td>\n",
       "      <td>5</td>\n",
       "      <td>3</td>\n",
       "      <td>1</td>\n",
       "      <td>0</td>\n",
       "      <td>0</td>\n",
       "      <td>0</td>\n",
       "      <td>0</td>\n",
       "      <td>0</td>\n",
       "      <td>0</td>\n",
       "      <td>1.234</td>\n",
       "    </tr>\n",
       "  </tbody>\n",
       "</table>\n",
       "<p>5 rows × 23 columns</p>\n",
       "</div>"
      ],
      "text/plain": [
       "                                              SMILES     ABC   ABCGG  nAcid  \\\n",
       "0  Cc1nn(-c2cc(NC(=O)CCN(C)C)nc(-c3ccc(C)o3)n2)c(...  21.041  17.684      0   \n",
       "1  Nc1c(C(=O)Nc2ccc([N+](=O)[O-])cc2)sc2c1cc1CCCC...  20.701  15.635      0   \n",
       "2   O=C(Nc1nc2ncccc2n2c(=O)n(-c3ccccc3)nc12)c1ccccc1   23.23  17.456      0   \n",
       "3  CCNC(=O)C1OC(n2cnc3c2ncnc3Nc2ccc(OCC(=O)Nc3ccc...  31.336  22.213      0   \n",
       "4      NC(=NC(=O)Cn1c(O)c2CCCCc2c1O)Nc1nc2c(cccc2)s1  21.408  17.066      0   \n",
       "\n",
       "   nBase  nAtom  nHeavyAtom  nSpiro  nBridgehead  nHetero  ...  nN  nO  nS  \\\n",
       "0      1     51          27       0            0        8  ...   6   2   0   \n",
       "1      0     42          26       0            0        8  ...   4   3   1   \n",
       "2      0     43          29       0            0        8  ...   6   2   0   \n",
       "3      0     66          40       0            0       14  ...   7   6   0   \n",
       "4      3     46          27       0            0        9  ...   5   3   1   \n",
       "\n",
       "   nP  nF  nCl  nBr  nI  nX  BalabanJ  \n",
       "0   0   0    0    0   0   0     1.631  \n",
       "1   0   0    0    0   0   0     1.307  \n",
       "2   0   0    0    0   0   0     1.328  \n",
       "3   0   0    1    0   0   1     1.043  \n",
       "4   0   0    0    0   0   0     1.234  \n",
       "\n",
       "[5 rows x 23 columns]"
      ]
     },
     "execution_count": 23,
     "metadata": {},
     "output_type": "execute_result"
    }
   ],
   "source": [
    "molecular_features = calculate_molecular_descriptors(\n",
    "    ar_dataset, [\"ABCIndex\", \"AcidBase\", \"AtomCount\", \"BalabanJ\"]\n",
    ")\n",
    "molecular_features.head()"
   ]
  },
  {
   "cell_type": "markdown",
   "metadata": {
    "pycharm": {
     "name": "#%% md\n"
    }
   },
   "source": [
    "### Proteochemometrics modeling"
   ]
  },
  {
   "cell_type": "markdown",
   "metadata": {
    "pycharm": {
     "name": "#%% md\n"
    }
   },
   "source": [
    "When our dataset is complete with all the descriptors for proteins and compounds, we can start with the modeling part. Here, we will use a Random Forest (RF) ML regression model to predict the bioactivity of our compound-target pairs.\n",
    "\n",
    "We will try two methods to split our dataset between training and test set:\n",
    "\n",
    "* Random split\n",
    "* Leave one target out (LOTO) split\n",
    "\n",
    "Additionally, we will compare our PCM model to four independent models trained only on compound data (QSAR), and finally we will comment on the results.\n",
    "\n",
    "Ultimately, we want a model that can predict compound activity data towards a target of interest for compound-target pairs that it has never seen before. By combining several targets in one model, we expect the model to be able to learn the similarities and differences between targets and use the additional data to make better predictions.\n",
    "\n",
    "We start by defining a few functions that will help us split the data (`split_train_test`) and train and validate a PCM regression model (`train_validate_pcm_model`). The validation will be done on the test set and the performance will be assessed using regression metrics such as Person's $r$, $R^{2}$ and $MAE$. This function will also plot the correlation between true and predicted values, making a distinction between the different targets in the test set to assess whether the PCM model has a different performance per protein. Finally, we will define a function (`train_validate_qsar_model`) to train a QSAR model for a single target based on a random split. The output of this function will be comparable to that of the PCM model for comparison purposes."
   ]
  },
  {
   "cell_type": "markdown",
   "metadata": {
    "pycharm": {
     "name": "#%% md\n"
    }
   },
   "source": [
    "#### Helper functions"
   ]
  },
  {
   "cell_type": "markdown",
   "metadata": {
    "pycharm": {
     "name": "#%% md\n"
    }
   },
   "source": [
    "Function to split the data using one of these two methods described in theory: random split or leave one target out (LOTO) split."
   ]
  },
  {
   "cell_type": "code",
   "execution_count": 24,
   "metadata": {
    "collapsed": false,
    "jupyter": {
     "outputs_hidden": false
    },
    "pycharm": {
     "name": "#%%\n"
    }
   },
   "outputs": [],
   "source": [
    "def split_train_test(\n",
    "    pcm_dataset, test_size, split_method, loto_target=None, loto_accession=\"None\"\n",
    "):\n",
    "    \"\"\"\n",
    "    Split a dataset for PCM modeling in train and test set based on the split method of choice\n",
    "\n",
    "    Parameters\n",
    "    ----------\n",
    "    pcm_dataset : pandas.DataFrame\n",
    "        Pandas dataframe with bioactivity dataset for PCM including compound and protein descriptors\n",
    "    test_size : float\n",
    "        Ratio of the data to include in the test set\n",
    "    split_method : str\n",
    "        'random' for random split\n",
    "        'loto' for leave one target out split\n",
    "    loto_target : str\n",
    "        Target label to leave out for testing in 'loto' split method\n",
    "    loto_accession : str\n",
    "        Target UniProt accession to leave out for testing in 'loto' split method\n",
    "\n",
    "    Returns\n",
    "    -------\n",
    "    train: pandas.DataFrame\n",
    "        Training dataset\n",
    "    test : pandas.DataFrame\n",
    "        Testing dataset\n",
    "    \"\"\"\n",
    "    # Random split\n",
    "    if split_method == \"random\":\n",
    "        train, test = train_test_split(pcm_dataset, test_size=test_size, random_state=1234)\n",
    "\n",
    "    # Leave one target out\n",
    "    elif split_method == \"loto\":\n",
    "        if loto_accession != None:\n",
    "            # Leave out defined accession\n",
    "            test_target = loto_accession\n",
    "            print(f\"Target left out for testing is {loto_target}\")\n",
    "        else:\n",
    "            raise ValueError(\"loto_accession needs to be defined\")\n",
    "\n",
    "        # Move data associated with target to test set and rest to training set\n",
    "        train = pcm_dataset[pcm_dataset[\"accession\"] != test_target]\n",
    "        test = pcm_dataset[pcm_dataset[\"accession\"] == test_target]\n",
    "\n",
    "    else:\n",
    "        raise ValueError(f\"Split method {split_method} undefined; use random or loto.\")\n",
    "\n",
    "    # Print statistics of training and test sets\n",
    "    print(f\"Training set has {train.shape[0]} datapoints\")\n",
    "    print(\n",
    "        f\"Test set has {test.shape[0]} datapoints ({round(100*test.shape[0]/pcm_dataset.shape[0], 3)} %)\"\n",
    "    )\n",
    "\n",
    "    return train, test"
   ]
  },
  {
   "cell_type": "markdown",
   "metadata": {
    "pycharm": {
     "name": "#%% md\n"
    }
   },
   "source": [
    "Function to report performance metrics for a regression model based on the true and predicted values of the target variable."
   ]
  },
  {
   "cell_type": "code",
   "execution_count": 25,
   "metadata": {
    "collapsed": false,
    "jupyter": {
     "outputs_hidden": false
    },
    "pycharm": {
     "name": "#%%\n"
    }
   },
   "outputs": [],
   "source": [
    "def _performance_metrics(y_true, y_predicted):\n",
    "    \"\"\"\n",
    "    Calculate regression performance metrics\n",
    "\n",
    "    Parameters\n",
    "    ----------\n",
    "    y_true: pandas.Series\n",
    "        True values of the target variable\n",
    "    y_predicted: list\n",
    "        Predicted values of the target variable\n",
    "\n",
    "    Returns\n",
    "    -------\n",
    "    dict:\n",
    "        Pearson's r, R2 score and MAE on test set\n",
    "    \"\"\"\n",
    "    model_performance = {}\n",
    "    model_performance[\"Pearson r\"] = pearsonr(y_true, y_predicted)[0]\n",
    "    model_performance[\"R2 score\"] = r2_score(y_true, y_predicted)\n",
    "    model_performance[\"MAE\"] = mean_absolute_error(y_true, y_predicted)\n",
    "\n",
    "    print(json.dumps(model_performance, indent=4))\n",
    "\n",
    "    return model_performance"
   ]
  },
  {
   "cell_type": "markdown",
   "metadata": {
    "pycharm": {
     "name": "#%% md\n"
    }
   },
   "source": [
    "Function to plot the goodness of fit of true and predicted values for a regression model."
   ]
  },
  {
   "cell_type": "code",
   "execution_count": 26,
   "metadata": {
    "collapsed": false,
    "jupyter": {
     "outputs_hidden": false
    },
    "pycharm": {
     "name": "#%%\n"
    }
   },
   "outputs": [],
   "source": [
    "def _performance_plot(target, y_true, y_predicted, r2_score):\n",
    "    \"\"\"\n",
    "    Plot fit of true values vs. predicted values for the target variable\n",
    "\n",
    "    Parameters\n",
    "    ----------\n",
    "    target: str\n",
    "        Protein target to generate plot for\n",
    "    y_true: pandas.Series\n",
    "        True values of the target variable\n",
    "    y_predicted: list\n",
    "        Predicted values of the target variable\n",
    "    r2_score: float\n",
    "        R2 score value to add to plot legend's\n",
    "\n",
    "    Returns\n",
    "    -------\n",
    "    fig:\n",
    "        Figure with true vs. predicted values colored by target, with r2_score calculated per target\n",
    "    \"\"\"\n",
    "    ax = sns.scatterplot(y=y_true, x=y_predicted, label=(f\"{target} R2 = {r2_score:.2f}\"))\n",
    "    _ = sns.lineplot(x=(0, 14), y=(0, 14))\n",
    "    _ = ax.set_xlim((0, 14))\n",
    "    _ = ax.set_ylim((0, 14))\n",
    "    _ = ax.set_xlabel(\"Predicted\")\n",
    "    _ = ax.set_ylabel(\"Observed\")\n",
    "\n",
    "    return ax"
   ]
  },
  {
   "cell_type": "markdown",
   "metadata": {
    "pycharm": {
     "name": "#%% md\n"
    }
   },
   "source": [
    "Function to train a PCM RF model on a training set and validate it on a test set. Performance metrics are calculated for the whole test set, and also separately."
   ]
  },
  {
   "cell_type": "code",
   "execution_count": 27,
   "metadata": {
    "collapsed": false,
    "jupyter": {
     "outputs_hidden": false
    },
    "pycharm": {
     "name": "#%%\n"
    }
   },
   "outputs": [],
   "source": [
    "def train_validate_pcm_model(targets_dict, train, test):\n",
    "    \"\"\"\n",
    "    Train PCM RF regression model and validate on test set, calculating performance metrics\n",
    "\n",
    "    Parameters\n",
    "    ----------\n",
    "    targets_dict: dict\n",
    "        Dictionary of target labels and accession codes in the PCM set\n",
    "    train: pandas.DataFrame\n",
    "        Training dataset\n",
    "    test : pandas.DataFrame\n",
    "        Testing dataset\n",
    "\n",
    "    Returns\n",
    "    -------\n",
    "    dict:\n",
    "        Pearson's r, R2 score and MAE on test set\n",
    "    fig:\n",
    "        Figure with true vs. predicted values colored by target, with r2_score calculated per target\n",
    "    \"\"\"\n",
    "    # Store compound-target pairs in test set to allow comparative performance evaluation\n",
    "    test_pairs = test[[\"SMILES\", \"accession\", \"pchembl_value_Mean\"]].reset_index(drop=True)\n",
    "\n",
    "    # Remove identifiers\n",
    "    train = train.drop(columns=[\"SMILES\", \"accession\"])\n",
    "    test = test.drop(columns=[\"SMILES\", \"accession\"])\n",
    "\n",
    "    # Set model parameter for random forest\n",
    "    param = {\n",
    "        \"n_estimators\": 100,  # number of trees to grows\n",
    "        \"criterion\": \"squared_error\",  # cost function to be optimized for a split\n",
    "    }\n",
    "    model_rf = RandomForestRegressor(**param)\n",
    "\n",
    "    # Fit model\n",
    "    model_rf.fit(train.iloc[:, 1:], train.iloc[:, 0])\n",
    "\n",
    "    # Make predictions on test set\n",
    "    predictions = model_rf.predict(test.iloc[:, 1:])\n",
    "\n",
    "    # Calculate model performance with regression metrics\n",
    "    print(\"=== PCM model performance ===\")\n",
    "    model_performance = _performance_metrics(test.iloc[:, 0], predictions)\n",
    "\n",
    "    # Add column named 'Target' for easier data visualization\n",
    "    _targets_dict_reversed = {uniprot: target for target, uniprot in targets_dict.items()}\n",
    "    test_pairs[\"Target\"] = test_pairs[\"accession\"].apply(lambda x: _targets_dict_reversed[x])\n",
    "\n",
    "    # Calculate model performance per target\n",
    "    test_pairs[\"prediction\"] = predictions\n",
    "\n",
    "    for target, accession in targets_dict.items():\n",
    "        # Define true values and predictions per target\n",
    "        true_target = test_pairs[test_pairs[\"accession\"] == accession][\"pchembl_value_Mean\"]\n",
    "        prediction_target = test_pairs[test_pairs[\"accession\"] == accession][\"prediction\"]\n",
    "\n",
    "        try:\n",
    "            # Calculate r2 score\n",
    "            r2_target = r2_score(true_target, prediction_target)\n",
    "\n",
    "            # Plot correlation between true and predicted values\n",
    "            _performance_plot(target, true_target, prediction_target, r2_target)\n",
    "\n",
    "        except ValueError:\n",
    "            print(\n",
    "                f\"Not plotting {target}. Performance can only be plotted for the left out target in LOTO split\"\n",
    "            )"
   ]
  },
  {
   "cell_type": "markdown",
   "metadata": {
    "pycharm": {
     "name": "#%% md\n"
    }
   },
   "source": [
    "Function to split a QSAR dataset randomly and train and validate a RF QSAR model for a target of interest."
   ]
  },
  {
   "cell_type": "code",
   "execution_count": 28,
   "metadata": {
    "collapsed": false,
    "jupyter": {
     "outputs_hidden": false
    },
    "pycharm": {
     "name": "#%%\n"
    }
   },
   "outputs": [],
   "source": [
    "def train_validate_qsar_model(qsar_dataset, target, accession, test_size):\n",
    "    \"\"\"\n",
    "    Train PCM RF regression model and validate on test set, calculating performance metrics\n",
    "\n",
    "    Parameters\n",
    "    ----------\n",
    "    qsar_dataset : pandas.DataFrame\n",
    "        Pandas dataframe with bioactivity dataset for QSAR including compound descriptors\n",
    "    target : str\n",
    "        Target label for QSAR model\n",
    "    accession: str\n",
    "        Target UniProt accession for QSAR model\n",
    "    test_size: float\n",
    "         Ratio of the data to include in the test set upon random split\n",
    "\n",
    "    Returns\n",
    "    -------\n",
    "    dict:\n",
    "        Pearson's r, R2 score and MAE on test set\n",
    "    fig:\n",
    "        Figure with true vs. predicted values, with r2_score calculated\n",
    "    \"\"\"\n",
    "    # Extract target-specific dataset\n",
    "    target_dataset = qsar_dataset[qsar_dataset[\"accession\"] == accession]\n",
    "\n",
    "    # Remove identifiers\n",
    "    target_dataset = target_dataset.drop(columns=[\"SMILES\", \"accession\"])\n",
    "\n",
    "    # Random-split in training and test set\n",
    "    train, test = train_test_split(target_dataset, test_size=test_size, random_state=1234)\n",
    "\n",
    "    # Set model parameter for random forest\n",
    "    param = {\n",
    "        \"n_estimators\": 100,  # number of trees to grows\n",
    "        \"criterion\": \"squared_error\",  # cost function to be optimized for a split\n",
    "    }\n",
    "    model_rf = RandomForestRegressor(**param)\n",
    "\n",
    "    # Fit model\n",
    "    model_rf.fit(train.iloc[:, 1:], train.iloc[:, 0])\n",
    "\n",
    "    # Make predictions on test set\n",
    "    predictions = model_rf.predict(test.iloc[:, 1:])\n",
    "\n",
    "    # Calculate model performance with regression metrics\n",
    "    print(f\"=== QSAR model performance {target} ===\")\n",
    "    model_performance = _performance_metrics(test.iloc[:, 0], predictions)\n",
    "\n",
    "    # Plot correlation between true and predicted values\n",
    "    _performance_plot(target, test.iloc[:, 0], predictions, model_performance[\"R2 score\"])"
   ]
  },
  {
   "cell_type": "markdown",
   "metadata": {
    "pycharm": {
     "name": "#%% md\n"
    }
   },
   "source": [
    "#### Preprocessing"
   ]
  },
  {
   "cell_type": "markdown",
   "metadata": {
    "pycharm": {
     "name": "#%% md\n"
    }
   },
   "source": [
    "For each compound-target pair in our bioactivity dataset, we need to add the protein and molecular features previously calculated. We join the protein features based on UniProt accession and the molecular features based on SMILES."
   ]
  },
  {
   "cell_type": "code",
   "execution_count": 29,
   "metadata": {
    "collapsed": false,
    "jupyter": {
     "outputs_hidden": false
    },
    "pycharm": {
     "name": "#%%\n"
    }
   },
   "outputs": [
    {
     "data": {
      "text/html": [
       "<div>\n",
       "<style scoped>\n",
       "    .dataframe tbody tr th:only-of-type {\n",
       "        vertical-align: middle;\n",
       "    }\n",
       "\n",
       "    .dataframe tbody tr th {\n",
       "        vertical-align: top;\n",
       "    }\n",
       "\n",
       "    .dataframe thead th {\n",
       "        text-align: right;\n",
       "    }\n",
       "</style>\n",
       "<table border=\"1\" class=\"dataframe\">\n",
       "  <thead>\n",
       "    <tr style=\"text-align: right;\">\n",
       "      <th></th>\n",
       "      <th>SMILES</th>\n",
       "      <th>accession</th>\n",
       "      <th>pchembl_value_Mean</th>\n",
       "      <th>Zscale_1</th>\n",
       "      <th>Zscale_2</th>\n",
       "      <th>Zscale_3</th>\n",
       "      <th>Zscale_4</th>\n",
       "      <th>Zscale_5</th>\n",
       "      <th>Zscale_6</th>\n",
       "      <th>Zscale_7</th>\n",
       "      <th>...</th>\n",
       "      <th>nN</th>\n",
       "      <th>nO</th>\n",
       "      <th>nS</th>\n",
       "      <th>nP</th>\n",
       "      <th>nF</th>\n",
       "      <th>nCl</th>\n",
       "      <th>nBr</th>\n",
       "      <th>nI</th>\n",
       "      <th>nX</th>\n",
       "      <th>BalabanJ</th>\n",
       "    </tr>\n",
       "  </thead>\n",
       "  <tbody>\n",
       "    <tr>\n",
       "      <th>0</th>\n",
       "      <td>Cc1nn(-c2cc(NC(=O)CCN(C)C)nc(-c3ccc(C)o3)n2)c(...</td>\n",
       "      <td>P29274</td>\n",
       "      <td>8.6800</td>\n",
       "      <td>0.00</td>\n",
       "      <td>0.00</td>\n",
       "      <td>0.00</td>\n",
       "      <td>0.00</td>\n",
       "      <td>0.00</td>\n",
       "      <td>0.00</td>\n",
       "      <td>0.00</td>\n",
       "      <td>...</td>\n",
       "      <td>6</td>\n",
       "      <td>2</td>\n",
       "      <td>0</td>\n",
       "      <td>0</td>\n",
       "      <td>0</td>\n",
       "      <td>0</td>\n",
       "      <td>0</td>\n",
       "      <td>0</td>\n",
       "      <td>0</td>\n",
       "      <td>1.631</td>\n",
       "    </tr>\n",
       "    <tr>\n",
       "      <th>1</th>\n",
       "      <td>Cc1nn(-c2cc(NC(=O)CCN(C)C)nc(-c3ccc(C)o3)n2)c(...</td>\n",
       "      <td>P30542</td>\n",
       "      <td>6.6800</td>\n",
       "      <td>0.00</td>\n",
       "      <td>0.00</td>\n",
       "      <td>0.00</td>\n",
       "      <td>0.00</td>\n",
       "      <td>0.00</td>\n",
       "      <td>0.00</td>\n",
       "      <td>0.00</td>\n",
       "      <td>...</td>\n",
       "      <td>6</td>\n",
       "      <td>2</td>\n",
       "      <td>0</td>\n",
       "      <td>0</td>\n",
       "      <td>0</td>\n",
       "      <td>0</td>\n",
       "      <td>0</td>\n",
       "      <td>0</td>\n",
       "      <td>0</td>\n",
       "      <td>1.631</td>\n",
       "    </tr>\n",
       "    <tr>\n",
       "      <th>2</th>\n",
       "      <td>Nc1c(C(=O)Nc2ccc([N+](=O)[O-])cc2)sc2c1cc1CCCC...</td>\n",
       "      <td>P29274</td>\n",
       "      <td>4.8200</td>\n",
       "      <td>0.00</td>\n",
       "      <td>0.00</td>\n",
       "      <td>0.00</td>\n",
       "      <td>0.00</td>\n",
       "      <td>0.00</td>\n",
       "      <td>0.00</td>\n",
       "      <td>0.00</td>\n",
       "      <td>...</td>\n",
       "      <td>4</td>\n",
       "      <td>3</td>\n",
       "      <td>1</td>\n",
       "      <td>0</td>\n",
       "      <td>0</td>\n",
       "      <td>0</td>\n",
       "      <td>0</td>\n",
       "      <td>0</td>\n",
       "      <td>0</td>\n",
       "      <td>1.307</td>\n",
       "    </tr>\n",
       "    <tr>\n",
       "      <th>3</th>\n",
       "      <td>O=C(Nc1nc2ncccc2n2c(=O)n(-c3ccccc3)nc12)c1ccccc1</td>\n",
       "      <td>P29274</td>\n",
       "      <td>5.6500</td>\n",
       "      <td>0.00</td>\n",
       "      <td>0.00</td>\n",
       "      <td>0.00</td>\n",
       "      <td>0.00</td>\n",
       "      <td>0.00</td>\n",
       "      <td>0.00</td>\n",
       "      <td>0.00</td>\n",
       "      <td>...</td>\n",
       "      <td>6</td>\n",
       "      <td>2</td>\n",
       "      <td>0</td>\n",
       "      <td>0</td>\n",
       "      <td>0</td>\n",
       "      <td>0</td>\n",
       "      <td>0</td>\n",
       "      <td>0</td>\n",
       "      <td>0</td>\n",
       "      <td>1.328</td>\n",
       "    </tr>\n",
       "    <tr>\n",
       "      <th>4</th>\n",
       "      <td>O=C(Nc1nc2ncccc2n2c(=O)n(-c3ccccc3)nc12)c1ccccc1</td>\n",
       "      <td>P0DMS8</td>\n",
       "      <td>7.1515</td>\n",
       "      <td>-2.49</td>\n",
       "      <td>-0.27</td>\n",
       "      <td>-0.41</td>\n",
       "      <td>-1.22</td>\n",
       "      <td>0.88</td>\n",
       "      <td>2.23</td>\n",
       "      <td>3.22</td>\n",
       "      <td>...</td>\n",
       "      <td>6</td>\n",
       "      <td>2</td>\n",
       "      <td>0</td>\n",
       "      <td>0</td>\n",
       "      <td>0</td>\n",
       "      <td>0</td>\n",
       "      <td>0</td>\n",
       "      <td>0</td>\n",
       "      <td>0</td>\n",
       "      <td>1.328</td>\n",
       "    </tr>\n",
       "  </tbody>\n",
       "</table>\n",
       "<p>5 rows × 1303 columns</p>\n",
       "</div>"
      ],
      "text/plain": [
       "                                              SMILES accession  \\\n",
       "0  Cc1nn(-c2cc(NC(=O)CCN(C)C)nc(-c3ccc(C)o3)n2)c(...    P29274   \n",
       "1  Cc1nn(-c2cc(NC(=O)CCN(C)C)nc(-c3ccc(C)o3)n2)c(...    P30542   \n",
       "2  Nc1c(C(=O)Nc2ccc([N+](=O)[O-])cc2)sc2c1cc1CCCC...    P29274   \n",
       "3   O=C(Nc1nc2ncccc2n2c(=O)n(-c3ccccc3)nc12)c1ccccc1    P29274   \n",
       "4   O=C(Nc1nc2ncccc2n2c(=O)n(-c3ccccc3)nc12)c1ccccc1    P0DMS8   \n",
       "\n",
       "   pchembl_value_Mean  Zscale_1  Zscale_2  Zscale_3  Zscale_4  Zscale_5  \\\n",
       "0              8.6800      0.00      0.00      0.00      0.00      0.00   \n",
       "1              6.6800      0.00      0.00      0.00      0.00      0.00   \n",
       "2              4.8200      0.00      0.00      0.00      0.00      0.00   \n",
       "3              5.6500      0.00      0.00      0.00      0.00      0.00   \n",
       "4              7.1515     -2.49     -0.27     -0.41     -1.22      0.88   \n",
       "\n",
       "   Zscale_6  Zscale_7  ...  nN  nO  nS  nP  nF  nCl  nBr  nI  nX  BalabanJ  \n",
       "0      0.00      0.00  ...   6   2   0   0   0    0    0   0   0     1.631  \n",
       "1      0.00      0.00  ...   6   2   0   0   0    0    0   0   0     1.631  \n",
       "2      0.00      0.00  ...   4   3   1   0   0    0    0   0   0     1.307  \n",
       "3      0.00      0.00  ...   6   2   0   0   0    0    0   0   0     1.328  \n",
       "4      2.23      3.22  ...   6   2   0   0   0    0    0   0   0     1.328  \n",
       "\n",
       "[5 rows x 1303 columns]"
      ]
     },
     "execution_count": 29,
     "metadata": {},
     "output_type": "execute_result"
    }
   ],
   "source": [
    "# Add protein and molecular features to bioactivity dataset to generate PCM dataset\n",
    "ar_pcm_dataset = ar_dataset.merge(protein_features, on=\"accession\")\n",
    "ar_pcm_dataset = ar_pcm_dataset.merge(molecular_features, on=\"SMILES\")\n",
    "\n",
    "ar_pcm_dataset.head()\n",
    "# NBVAL_CHECK_OUTPUT"
   ]
  },
  {
   "cell_type": "markdown",
   "metadata": {
    "pycharm": {
     "name": "#%% md\n"
    }
   },
   "source": [
    "For QSAR modeling, we do the same but we do not include the protein descriptors. This results on a dataset for modeling with a significantly reduced number of features."
   ]
  },
  {
   "cell_type": "code",
   "execution_count": 30,
   "metadata": {
    "collapsed": false,
    "jupyter": {
     "outputs_hidden": false
    },
    "pycharm": {
     "name": "#%%\n"
    }
   },
   "outputs": [
    {
     "data": {
      "text/html": [
       "<div>\n",
       "<style scoped>\n",
       "    .dataframe tbody tr th:only-of-type {\n",
       "        vertical-align: middle;\n",
       "    }\n",
       "\n",
       "    .dataframe tbody tr th {\n",
       "        vertical-align: top;\n",
       "    }\n",
       "\n",
       "    .dataframe thead th {\n",
       "        text-align: right;\n",
       "    }\n",
       "</style>\n",
       "<table border=\"1\" class=\"dataframe\">\n",
       "  <thead>\n",
       "    <tr style=\"text-align: right;\">\n",
       "      <th></th>\n",
       "      <th>SMILES</th>\n",
       "      <th>accession</th>\n",
       "      <th>pchembl_value_Mean</th>\n",
       "      <th>ABC</th>\n",
       "      <th>ABCGG</th>\n",
       "      <th>nAcid</th>\n",
       "      <th>nBase</th>\n",
       "      <th>nAtom</th>\n",
       "      <th>nHeavyAtom</th>\n",
       "      <th>nSpiro</th>\n",
       "      <th>...</th>\n",
       "      <th>nN</th>\n",
       "      <th>nO</th>\n",
       "      <th>nS</th>\n",
       "      <th>nP</th>\n",
       "      <th>nF</th>\n",
       "      <th>nCl</th>\n",
       "      <th>nBr</th>\n",
       "      <th>nI</th>\n",
       "      <th>nX</th>\n",
       "      <th>BalabanJ</th>\n",
       "    </tr>\n",
       "  </thead>\n",
       "  <tbody>\n",
       "    <tr>\n",
       "      <th>0</th>\n",
       "      <td>Cc1nn(-c2cc(NC(=O)CCN(C)C)nc(-c3ccc(C)o3)n2)c(...</td>\n",
       "      <td>P29274</td>\n",
       "      <td>8.6800</td>\n",
       "      <td>21.041</td>\n",
       "      <td>17.684</td>\n",
       "      <td>0</td>\n",
       "      <td>1</td>\n",
       "      <td>51</td>\n",
       "      <td>27</td>\n",
       "      <td>0</td>\n",
       "      <td>...</td>\n",
       "      <td>6</td>\n",
       "      <td>2</td>\n",
       "      <td>0</td>\n",
       "      <td>0</td>\n",
       "      <td>0</td>\n",
       "      <td>0</td>\n",
       "      <td>0</td>\n",
       "      <td>0</td>\n",
       "      <td>0</td>\n",
       "      <td>1.631</td>\n",
       "    </tr>\n",
       "    <tr>\n",
       "      <th>1</th>\n",
       "      <td>Cc1nn(-c2cc(NC(=O)CCN(C)C)nc(-c3ccc(C)o3)n2)c(...</td>\n",
       "      <td>P30542</td>\n",
       "      <td>6.6800</td>\n",
       "      <td>21.041</td>\n",
       "      <td>17.684</td>\n",
       "      <td>0</td>\n",
       "      <td>1</td>\n",
       "      <td>51</td>\n",
       "      <td>27</td>\n",
       "      <td>0</td>\n",
       "      <td>...</td>\n",
       "      <td>6</td>\n",
       "      <td>2</td>\n",
       "      <td>0</td>\n",
       "      <td>0</td>\n",
       "      <td>0</td>\n",
       "      <td>0</td>\n",
       "      <td>0</td>\n",
       "      <td>0</td>\n",
       "      <td>0</td>\n",
       "      <td>1.631</td>\n",
       "    </tr>\n",
       "    <tr>\n",
       "      <th>2</th>\n",
       "      <td>Nc1c(C(=O)Nc2ccc([N+](=O)[O-])cc2)sc2c1cc1CCCC...</td>\n",
       "      <td>P29274</td>\n",
       "      <td>4.8200</td>\n",
       "      <td>20.701</td>\n",
       "      <td>15.635</td>\n",
       "      <td>0</td>\n",
       "      <td>0</td>\n",
       "      <td>42</td>\n",
       "      <td>26</td>\n",
       "      <td>0</td>\n",
       "      <td>...</td>\n",
       "      <td>4</td>\n",
       "      <td>3</td>\n",
       "      <td>1</td>\n",
       "      <td>0</td>\n",
       "      <td>0</td>\n",
       "      <td>0</td>\n",
       "      <td>0</td>\n",
       "      <td>0</td>\n",
       "      <td>0</td>\n",
       "      <td>1.307</td>\n",
       "    </tr>\n",
       "    <tr>\n",
       "      <th>3</th>\n",
       "      <td>O=C(Nc1nc2ncccc2n2c(=O)n(-c3ccccc3)nc12)c1ccccc1</td>\n",
       "      <td>P0DMS8</td>\n",
       "      <td>7.1515</td>\n",
       "      <td>23.23</td>\n",
       "      <td>17.456</td>\n",
       "      <td>0</td>\n",
       "      <td>0</td>\n",
       "      <td>43</td>\n",
       "      <td>29</td>\n",
       "      <td>0</td>\n",
       "      <td>...</td>\n",
       "      <td>6</td>\n",
       "      <td>2</td>\n",
       "      <td>0</td>\n",
       "      <td>0</td>\n",
       "      <td>0</td>\n",
       "      <td>0</td>\n",
       "      <td>0</td>\n",
       "      <td>0</td>\n",
       "      <td>0</td>\n",
       "      <td>1.328</td>\n",
       "    </tr>\n",
       "    <tr>\n",
       "      <th>4</th>\n",
       "      <td>O=C(Nc1nc2ncccc2n2c(=O)n(-c3ccccc3)nc12)c1ccccc1</td>\n",
       "      <td>P29274</td>\n",
       "      <td>5.6500</td>\n",
       "      <td>23.23</td>\n",
       "      <td>17.456</td>\n",
       "      <td>0</td>\n",
       "      <td>0</td>\n",
       "      <td>43</td>\n",
       "      <td>29</td>\n",
       "      <td>0</td>\n",
       "      <td>...</td>\n",
       "      <td>6</td>\n",
       "      <td>2</td>\n",
       "      <td>0</td>\n",
       "      <td>0</td>\n",
       "      <td>0</td>\n",
       "      <td>0</td>\n",
       "      <td>0</td>\n",
       "      <td>0</td>\n",
       "      <td>0</td>\n",
       "      <td>1.328</td>\n",
       "    </tr>\n",
       "  </tbody>\n",
       "</table>\n",
       "<p>5 rows × 25 columns</p>\n",
       "</div>"
      ],
      "text/plain": [
       "                                              SMILES accession  \\\n",
       "0  Cc1nn(-c2cc(NC(=O)CCN(C)C)nc(-c3ccc(C)o3)n2)c(...    P29274   \n",
       "1  Cc1nn(-c2cc(NC(=O)CCN(C)C)nc(-c3ccc(C)o3)n2)c(...    P30542   \n",
       "2  Nc1c(C(=O)Nc2ccc([N+](=O)[O-])cc2)sc2c1cc1CCCC...    P29274   \n",
       "3   O=C(Nc1nc2ncccc2n2c(=O)n(-c3ccccc3)nc12)c1ccccc1    P0DMS8   \n",
       "4   O=C(Nc1nc2ncccc2n2c(=O)n(-c3ccccc3)nc12)c1ccccc1    P29274   \n",
       "\n",
       "   pchembl_value_Mean     ABC   ABCGG  nAcid  nBase  nAtom  nHeavyAtom  \\\n",
       "0              8.6800  21.041  17.684      0      1     51          27   \n",
       "1              6.6800  21.041  17.684      0      1     51          27   \n",
       "2              4.8200  20.701  15.635      0      0     42          26   \n",
       "3              7.1515   23.23  17.456      0      0     43          29   \n",
       "4              5.6500   23.23  17.456      0      0     43          29   \n",
       "\n",
       "   nSpiro  ...  nN  nO  nS  nP  nF  nCl  nBr  nI  nX  BalabanJ  \n",
       "0       0  ...   6   2   0   0   0    0    0   0   0     1.631  \n",
       "1       0  ...   6   2   0   0   0    0    0   0   0     1.631  \n",
       "2       0  ...   4   3   1   0   0    0    0   0   0     1.307  \n",
       "3       0  ...   6   2   0   0   0    0    0   0   0     1.328  \n",
       "4       0  ...   6   2   0   0   0    0    0   0   0     1.328  \n",
       "\n",
       "[5 rows x 25 columns]"
      ]
     },
     "execution_count": 30,
     "metadata": {},
     "output_type": "execute_result"
    }
   ],
   "source": [
    "# Add molecular features to bioactivity dataset to generate QSAR dataset\n",
    "ar_qsar_dataset = ar_dataset.merge(molecular_features, on=\"SMILES\")\n",
    "\n",
    "ar_qsar_dataset.head()\n",
    "# NBVAL_CHECK_OUTPUT"
   ]
  },
  {
   "cell_type": "markdown",
   "metadata": {
    "pycharm": {
     "name": "#%% md\n"
    }
   },
   "source": [
    "#### Model training and validation"
   ]
  },
  {
   "cell_type": "markdown",
   "metadata": {
    "pycharm": {
     "name": "#%% md\n"
    }
   },
   "source": [
    "##### Random split PCM model"
   ]
  },
  {
   "cell_type": "markdown",
   "metadata": {
    "pycharm": {
     "name": "#%% md\n"
    }
   },
   "source": [
    "The first PCM model that we train for the four adenosine receptors is based on a random split, where 20 % of the data (2,544 datapoints) is part of the test set for validation."
   ]
  },
  {
   "cell_type": "code",
   "execution_count": 31,
   "metadata": {
    "collapsed": false,
    "jupyter": {
     "outputs_hidden": false
    },
    "pycharm": {
     "name": "#%%\n"
    }
   },
   "outputs": [
    {
     "name": "stdout",
     "output_type": "stream",
     "text": [
      "== Random split ==\n",
      "Training set has 10175 datapoints\n",
      "Test set has 2544 datapoints (20.002 %)\n"
     ]
    }
   ],
   "source": [
    "# Split dataset in training and test set (random split)\n",
    "print(\"== Random split ==\")\n",
    "train_random, test_random = split_train_test(ar_pcm_dataset, 0.20, \"random\")"
   ]
  },
  {
   "cell_type": "code",
   "execution_count": 32,
   "metadata": {},
   "outputs": [
    {
     "name": "stdout",
     "output_type": "stream",
     "text": [
      "=== PCM model performance ===\n",
      "{\n",
      "    \"Pearson r\": 0.6921704181980155,\n",
      "    \"R2 score\": 0.4729408196152224,\n",
      "    \"MAE\": 0.6373598241125418\n",
      "}\n"
     ]
    },
    {
     "data": {
      "image/png": "[encoded data removed]",
      "text/plain": [
       "<Figure size 640x480 with 1 Axes>"
      ]
     },
     "metadata": {},
     "output_type": "display_data"
    }
   ],
   "source": [
    "# Train and validate PCM model\n",
    "train_validate_pcm_model(adenosine_receptors, train_random, test_random)"
   ]
  },
  {
   "cell_type": "markdown",
   "metadata": {
    "pycharm": {
     "name": "#%% md\n"
    }
   },
   "source": [
    "Based on the performance metrics of the PCM model, Pearson's $r$ tells us that the true and predicted values are highly correlated. Moreover, the $R^{2}$ tells us that almost 50 % of the variance of the target variable is explained by the model features and that the model is predictive. The $MAE$ tells us that the predictions are on average 0.64 p-value units off, which is an acceptable prediction error.\n",
    "An interesting observation is that the $R^{2}$ score is quite similar if we calculate it independently for the test set datapoint corresponding to each target."
   ]
  },
  {
   "cell_type": "markdown",
   "metadata": {},
   "source": [
    "##### Random split QSAR models"
   ]
  },
  {
   "cell_type": "markdown",
   "metadata": {
    "pycharm": {
     "name": "#%% md\n"
    }
   },
   "source": [
    "Now, we want to compare the use of a single PCM model for four targets vs. four independent QSAR models trained for each target solely on chemical compound features."
   ]
  },
  {
   "cell_type": "code",
   "execution_count": 33,
   "metadata": {
    "collapsed": false,
    "jupyter": {
     "outputs_hidden": false
    },
    "pycharm": {
     "name": "#%%\n"
    }
   },
   "outputs": [
    {
     "name": "stdout",
     "output_type": "stream",
     "text": [
      "=== QSAR model performance A1 ===\n",
      "{\n",
      "    \"Pearson r\": 0.5986860794442124,\n",
      "    \"R2 score\": 0.35708264748315865,\n",
      "    \"MAE\": 0.5975955476925413\n",
      "}\n",
      "=== QSAR model performance A2A ===\n",
      "{\n",
      "    \"Pearson r\": 0.6331428179843668,\n",
      "    \"R2 score\": 0.3984324237653284,\n",
      "    \"MAE\": 0.6998201581163358\n",
      "}\n",
      "=== QSAR model performance A2B ===\n",
      "{\n",
      "    \"Pearson r\": 0.7006823641193349,\n",
      "    \"R2 score\": 0.4803217299541849,\n",
      "    \"MAE\": 0.5573997234421912\n",
      "}\n",
      "=== QSAR model performance A3 ===\n",
      "{\n",
      "    \"Pearson r\": 0.6643990005833391,\n",
      "    \"R2 score\": 0.43854963831859717,\n",
      "    \"MAE\": 0.6908388511158647\n",
      "}\n"
     ]
    },
    {
     "data": {
      "image/png": "[encoded data removed]",
      "text/plain": [
       "<Figure size 640x480 with 1 Axes>"
      ]
     },
     "metadata": {},
     "output_type": "display_data"
    }
   ],
   "source": [
    "# Iterate over targets (adenosine receptors)\n",
    "for target, accession in adenosine_receptors.items():\n",
    "    # Train and validate QSAR models\n",
    "    train_validate_qsar_model(ar_qsar_dataset, target, accession, 0.20)"
   ]
  },
  {
   "cell_type": "markdown",
   "metadata": {
    "pycharm": {
     "name": "#%% md\n"
    }
   },
   "source": [
    "The four QSAR models trained have quite good performance, with high correlation between the observed and predicted values. Compared to the PCM model, the $R^{2}$ score is less homogeneous between targets and, in general, lower. These results seem to indicate that the PCM model is able to extrapolate certain properties between targets."
   ]
  },
  {
   "cell_type": "markdown",
   "metadata": {},
   "source": [
    "##### Leave one target out split PCM model"
   ]
  },
  {
   "cell_type": "markdown",
   "metadata": {},
   "source": [
    "The random split PCM model works pretty well. However, a model trained and validated on a random split might overestimate the performance compared to a real life drug discovery scenario since some compounds can be tested in several targets.\n",
    "Finally, to test whether our PCM model could be used to predict bioactivity data on a target for which we have no previously known bioactivity data, we can train and validate PCM models following the \"leave one target out\" (LOTO) split method. We can do this process for each of the adenosine receptors."
   ]
  },
  {
   "cell_type": "code",
   "execution_count": 34,
   "metadata": {
    "collapsed": false,
    "jupyter": {
     "outputs_hidden": false
    },
    "pycharm": {
     "name": "#%%\n"
    }
   },
   "outputs": [
    {
     "name": "stdout",
     "output_type": "stream",
     "text": [
      "== Leave one target out split ==\n",
      "Target left out for testing is A1\n",
      "Training set has 9200 datapoints\n",
      "Test set has 3519 datapoints (27.667 %)\n",
      "=== PCM model performance ===\n",
      "{\n",
      "    \"Pearson r\": 0.2577150000359349,\n",
      "    \"R2 score\": -0.09531568827653203,\n",
      "    \"MAE\": 0.8537743338477594\n",
      "}\n",
      "Not plotting A2A. Performance can only be plotted for the left out target in LOTO split\n",
      "Not plotting A2B. Performance can only be plotted for the left out target in LOTO split\n",
      "Not plotting A3. Performance can only be plotted for the left out target in LOTO split\n",
      "== Leave one target out split ==\n",
      "Target left out for testing is A2A\n",
      "Training set has 8728 datapoints\n",
      "Test set has 3991 datapoints (31.378 %)\n",
      "=== PCM model performance ===\n",
      "{\n",
      "    \"Pearson r\": 0.21008560538267065,\n",
      "    \"R2 score\": -0.042261684276110545,\n",
      "    \"MAE\": 0.9620344947955969\n",
      "}\n",
      "Not plotting A1. Performance can only be plotted for the left out target in LOTO split\n",
      "Not plotting A2B. Performance can only be plotted for the left out target in LOTO split\n",
      "Not plotting A3. Performance can only be plotted for the left out target in LOTO split\n",
      "== Leave one target out split ==\n",
      "Target left out for testing is A2B\n",
      "Training set has 10731 datapoints\n",
      "Test set has 1988 datapoints (15.63 %)\n",
      "=== PCM model performance ===\n",
      "{\n",
      "    \"Pearson r\": 0.0032209100786820756,\n",
      "    \"R2 score\": -0.2650510712411036,\n",
      "    \"MAE\": 0.9803939410025996\n",
      "}\n",
      "Not plotting A1. Performance can only be plotted for the left out target in LOTO split\n",
      "Not plotting A2A. Performance can only be plotted for the left out target in LOTO split\n",
      "Not plotting A3. Performance can only be plotted for the left out target in LOTO split\n",
      "== Leave one target out split ==\n",
      "Target left out for testing is A3\n",
      "Training set has 9498 datapoints\n",
      "Test set has 3221 datapoints (25.324 %)\n",
      "=== PCM model performance ===\n",
      "{\n",
      "    \"Pearson r\": 0.10347100605749118,\n",
      "    \"R2 score\": -0.2670385587615447,\n",
      "    \"MAE\": 1.05459014925041\n",
      "}\n",
      "Not plotting A1. Performance can only be plotted for the left out target in LOTO split\n",
      "Not plotting A2A. Performance can only be plotted for the left out target in LOTO split\n",
      "Not plotting A2B. Performance can only be plotted for the left out target in LOTO split\n"
     ]
    },
    {
     "data": {
      "image/png": "[encoded data removed]",
      "text/plain": [
       "<Figure size 640x480 with 1 Axes>"
      ]
     },
     "metadata": {},
     "output_type": "display_data"
    }
   ],
   "source": [
    "# Iterate over targets (adenosine receptors)\n",
    "for target, accession in adenosine_receptors.items():\n",
    "    # Split dataset in training and test set (leave one target out split)\n",
    "    print(\"== Leave one target out split ==\")\n",
    "    train_loto, test_loto = split_train_test(ar_pcm_dataset, 0.20, \"loto\", target, accession)\n",
    "    # Train and validate PCM model, every time leaving a different target out for validation\n",
    "    train_validate_pcm_model(adenosine_receptors, train_loto, test_loto)"
   ]
  },
  {
   "cell_type": "markdown",
   "metadata": {},
   "source": [
    "Immediately we see that the LOTO split method is way more difficult to model than the random split. The PCM metrics show that even though the true and predicted values are somewhat correlated (Pearson's $r$), the PCM model features are not able to explain the variance in the target variable ($R^{2}$). We can also see this in the shape of the predicted vs. observed graph, where the datapoints are not aggregated around the unit line that would define a perfect fit. Rather, the predictions are aggregated around the mean bioactivity values in the training set."
   ]
  },
  {
   "cell_type": "markdown",
   "metadata": {},
   "source": [
    "## Discussion\n",
    "\n",
    "In this talktorial we created a PCM model for the four adenosine receptors based on a random split of the data. This model performed pretty well on our test set. Compared to independent QSAR models trained for each of the adenosine receptors, the performance of the PCM model is slightly better, which indicates that the PCM model is able to extrapolate between targets. However, there are several elements that could have an effect of the observed results:\n",
    "\n",
    "* The four adenosine receptors had enough data on their own to be able to train individual models. The true advantage of a PCM model could be more relevant in a target set where some targets have very little data.\n",
    "* The QSAR models are only trained on 22 features compared to 1,300 for the PCM model. QSAR models trained on molecular fingerprints would probably have better chances of achieving better performance.\n",
    "* For better comparison, it would be good to train several models of the same type and calculate aggregated metrics, so that statistically significant results could be derived.\n",
    "\n",
    "Moreover, we trained four PCM models on three adenosine receptors and validated them on the remaining receptor, following a leave one target out (LOTO) split method. We did this to evaluate whether these PCM models could be used to predict bioactivity for a target for which the model has never seen any data in training. We immediately derive some observations:\n",
    "\n",
    "* The LOTO split is a more challenging form of validation than the random split, since the random split allows data leakage between targets.\n",
    "* While the descriptors used in the PCM model trained on random split allowed for a good performance, in order to get a good performance in the LOTO split, we would need to search more carefully to find the optimal descriptors. Similarly, we could opt for a selection of the binding pocket prior to protein descriptor generation. Additionally, we could optimize the model parameters.\n"
   ]
  },
  {
   "cell_type": "markdown",
   "metadata": {
    "pycharm": {
     "name": "#%% md\n"
    }
   },
   "source": [
    "## Quiz\n",
    "\n",
    "1. What types of features are needed for PCM?\n",
    "2. What types of training/test set splitting methods commonly used in PCM modeling do you know?\n",
    "3. Which applications do you know of PCM in drug discovery?"
   ]
  }
 ],
 "metadata": {
  "kernelspec": {
   "display_name": "Python 3 (ipykernel)",
   "language": "python",
   "name": "python3"
  },
  "language_info": {
   "codemirror_mode": {
    "name": "ipython",
    "version": 3
   },
   "file_extension": ".py",
   "mimetype": "text/x-python",
   "name": "python",
   "nbconvert_exporter": "python",
   "pygments_lexer": "ipython3",
   "version": "3.9.14"
  },
  "widgets": {
   "application/vnd.jupyter.widget-state+json": {
    "state": {},
    "version_major": 2,
    "version_minor": 0
   }
  }
 },
 "nbformat": 4,
 "nbformat_minor": 4
}
