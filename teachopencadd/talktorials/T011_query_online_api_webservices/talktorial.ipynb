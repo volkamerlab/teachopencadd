{
 "cells": [
  {
   "cell_type": "markdown",
   "metadata": {},
   "source": [
    "# T011 · Querying online API webservices\n",
    "\n",
    "**Note:** This talktorial is a part of TeachOpenCADD, a platform that aims to teach domain-specific skills and to provide pipeline templates as starting points for research projects.\n",
    "\n",
    "Authors:\n",
    "\n",
    "- Jaime Rodríguez-Guerra, 2020-2021, [Volkamer lab, Charité](https://volkamerlab.org/)\n",
    "- Dominique Sydow, 2021, [Volkamer lab, Charité](https://volkamerlab.org/)\n",
    "- David Schaller, 2021, [Volkamer lab, Charité](https://volkamerlab.org/)"
   ]
  },
  {
   "cell_type": "markdown",
   "metadata": {},
   "source": [
    "## Aim of this talktorial\n",
    "\n",
    "In this notebook, you will learn how to programmatically use online web-services from Python, in the context of drug design. By the end of this talktorial, you will be familiar with REST services and web scraping."
   ]
  },
  {
   "cell_type": "markdown",
   "metadata": {},
   "source": [
    "### Contents in Theory\n",
    "\n",
    "* Data access from a server-side perspective"
   ]
  },
  {
   "cell_type": "markdown",
   "metadata": {},
   "source": [
    "### Contents in Practical\n",
    "\n",
    "* Downloading static files\n",
    "* Accessing dynamically generated content\n",
    "* Programmatic interfaces\n",
    "* Document parsing\n",
    "* Browser remote control"
   ]
  },
  {
   "cell_type": "markdown",
   "metadata": {},
   "source": [
    "### References\n",
    "\n",
    "This guide is very practical and omits some technical definitions for the sake of clarity. However, you should also handle some basic terminology to fully understand what is going on behind the scenes.\n",
    "\n",
    "* [Client-server model](https://en.wikipedia.org/wiki/Client%E2%80%93server_model)\n",
    "* [Web API](https://en.wikipedia.org/wiki/Web_API)\n",
    "* [Query strings](https://en.wikipedia.org/wiki/Query_string)\n",
    "* [REST](https://en.wikipedia.org/wiki/Representational_state_transfer)\n",
    "* [JSON](https://en.wikipedia.org/wiki/JSON)\n",
    "* [Swagger / OpenAPI](https://en.wikipedia.org/wiki/Swagger_(software))\n",
    "* [HTTP overview](https://developer.mozilla.org/en-US/docs/Web/HTTP/Overview)"
   ]
  },
  {
   "cell_type": "markdown",
   "metadata": {},
   "source": [
    "## Theory"
   ]
  },
  {
   "cell_type": "markdown",
   "metadata": {},
   "source": [
    "The internet is a collection of connected computers that exchange data. In a way, you essentially query machines (servers) with certain parameters to retrieve specific data. That data will be either:\n",
    "\n",
    "- **A**. Served straight away, since the server is simply a repository of files. E.g. you can [download the ChEMBL database dump](ftp://ftp.ebi.ac.uk/pub/databases/chembl/ChEMBLdb/latest/) from their servers.\n",
    "- **B**. Retrieved from a database and formatted in a particular way. The result you see on your browser is either:\n",
    "    - **B1**. Pre-processed on the server, e.g. the HTML page you see when you visit any [article in Wikipedia](https://en.wikipedia.org/wiki/Drug_design).\n",
    "    - **B2**. Dynamically generated on the client (your browser) as you use the website, e.g. Twitter, Facebook, or any modern _web-app_.\n",
    "- **C**. Computed through the execution of one or more programs on the server-side, e.g. estimating the protonation states of a protein-ligand complex using [Protoss](https://proteins.plus/help/tutorial). \n",
    "\n",
    "> In a way, configuration **C** is a special type of **B1**. You are just replacing the type of task that runs on the server: database querying and HTML rendering _vs._ computations that process your query and return data formatted in a domain-specific way.\n",
    "\n",
    "Another way of categorizing online services is by the _format_ of the returned data. Most pages you see on your browser are using HTML, usually focusing on presenting data in a  human-readable way. However, some servers might structure that data in a way that is _machine_-readable. This data can be processed in a reliable way because it's formatted using a consistent set of rules that can be easily encoded in a program. Such programs are usually called _parsers_. HTML can be labeled in such a way that data can be obtained reliably, but it is not designed with that purpose in mind. As a result, we will usually prefer using services that provide machine-readable formats, like JSON, CSV or XML.\n",
    "\n",
    "In practice, both ways of data presentation (should) coexist in harmony. Modern web architecture strives to separate data retrieval tasks from end-user presentation. One popular implementation consists of using a programmatic endpoint that returns machine-readable JSON data, which is then consumed by the user-facing web application. The latter renders HTML, either on the server -option **B1**-, or on the user's browser -option **B2**. Unfortunately, unlike the user-facing application, the programmatic endpoint (API) is not guaranteed to be publicly available, and is sometimes restricted to internal usage on the server side.\n",
    "\n",
    "In the following sections, we will discuss how to make the most out of each type of online service using Python and some libraries!"
   ]
  },
  {
   "cell_type": "code",
   "execution_count": 1,
   "metadata": {
    "ExecuteTime": {
     "end_time": "2024-01-16T22:53:04.625090400Z",
     "start_time": "2024-01-16T22:53:01.177152900Z"
    },
    "pycharm": {
     "is_executing": true
    },
    "tags": []
   },
   "outputs": [
    {
     "data": {
      "text/plain": [
       "<Response [200]>"
      ]
     },
     "execution_count": 1,
     "metadata": {},
     "output_type": "execute_result"
    }
   ],
   "source": [
    "from pathlib import Path\n",
    "import os\n",
    "\n",
    "import numpy as np\n",
    "import pandas as pd\n",
    "from Bio import SeqIO\n",
    "from IPython.display import Video\n",
    "from tempfile import NamedTemporaryFile\n",
    "from bravado.client import SwaggerClient\n",
    "import requests\n",
    "from bs4 import BeautifulSoup\n",
    "\n",
    "url = \"https://raw.githubusercontent.com/openkinome/kinodata/master/data/KinHubKinaseList.csv\"\n",
    "response = requests.get(url)\n",
    "response.raise_for_status()\n",
    "response\n",
    "\n",
    "# NBVAL_CHECK_OUTPUT"
   ]
  },
  {
   "cell_type": "markdown",
   "metadata": {},
   "source": [
    "## Practical"
   ]
  },
  {
   "cell_type": "markdown",
   "metadata": {},
   "source": [
    "### Downloading static files\n",
    "\n",
    "In this case, the web server is hosting files that you will download and consume right away. All you need to do is to _query_ the server for the right address or _URL_ (Universal Resource Location). You do this all the time when you browse the internet, and you can also do it with Python!\n",
    "\n",
    "For example, let's get this [kinase-related CSV dataset from GitHub](https://github.com/openkinome/kinodata/blob/master/data/KinHubKinaseList.csv), which contains a list of kinases and their identifiers.\n",
    "\n",
    "> Tip: Whenever you want to download a file hosted in GitHub, use the `Raw` button to obtain the downloadable URL!\n",
    "> \n",
    "> ![image.png](attachment:f87e4f54-5504-49ca-a24a-f903aab4fa1e.png)\n",
    "\n",
    "While Python provides a library to deal with HTTP queries (`urllib`), people often prefer using the 3rd-party `requests` because the usage is way simpler.\n"
   ]
  },
  {
   "cell_type": "code",
   "execution_count": 2,
   "metadata": {
    "ExecuteTime": {
     "end_time": "2024-01-16T22:53:04.652174Z",
     "start_time": "2024-01-16T22:53:04.631002500Z"
    },
    "tags": []
   },
   "outputs": [],
   "source": [
    "HERE = Path(_dh[-1])\n",
    "DATA = HERE / \"data\"\n",
    "TMPDATA = DATA / \"_tmp\"  # this dir is gitignored\n",
    "TMPDATA.mkdir(parents=True, exist_ok=True)"
   ]
  },
  {
   "cell_type": "markdown",
   "metadata": {},
   "source": [
    "When you use `requests.get(...)` you obtain a `Response` object. This is _not_ the file you want to download, but an object that wraps the HTTP query and the _response_ the server gave you. Before we inspect the content, we always call `.raise_for_status()`, which will raise an exception if the server told us that the request could not be fulfilled. How does the server do that? With [HTTP status codes](https://en.wikipedia.org/wiki/List_of_HTTP_status_codes), a 3-digit number. There are several, but the most common ones are:\n",
    "\n",
    "* 200: Everything OK!\n",
    "* 404: File not found.\n",
    "* 500: Server error.\n",
    "\n",
    "`.raise_for_status()` will complain if your response didn't obtain a 200 code. As such, it's a good practice to call it after _every_ query!\n",
    "\n",
    "See this example of a bad URL, it contains an error: there's no **TXT** file there, just a **CSV**."
   ]
  },
  {
   "cell_type": "code",
   "execution_count": 3,
   "metadata": {
    "ExecuteTime": {
     "end_time": "2024-01-16T22:53:05.562827600Z",
     "start_time": "2024-01-16T22:53:04.642142700Z"
    },
    "tags": []
   },
   "outputs": [
    {
     "data": {
      "text/plain": [
       "<Response [200]>"
      ]
     },
     "execution_count": 3,
     "metadata": {},
     "output_type": "execute_result"
    }
   ],
   "source": [
    "# NBVAL_RAISES_EXCEPTION\n",
    "bad_url = \"https://raw.githubusercontent.com/openkinome/kinodata/master/data/KinHubKinaseList.csv\"\n",
    "bad_response = requests.get(bad_url)\n",
    "bad_response.raise_for_status()\n",
    "bad_response"
   ]
  },
  {
   "cell_type": "markdown",
   "metadata": {},
   "source": [
    "Ok, now let's get to the contents of the CSV file! Depending on what you are looking for, you will need one of these attributes:\n",
    "\n",
    "* `response.content`: The _bytes_ returned by the server. \n",
    "* `response.text`: The contents of the file, as a string, if possible.\n",
    "* `response.json()`: If the server returns JSON data (more on this later), this method will parse it and return the corresponding dictionary.\n",
    "\n",
    "Which one should you use? If you want to display some _text_ in the Notebook output, then go for `.text`. Everything that involves binary files (images, archives, PDFs...) or downloading to disk should use `.content`.\n",
    "\n",
    "\n",
    "Since this a CSV file, we know that's a plain text file, so we can use the usual Python methods on it! Let's print the first 10 lines:"
   ]
  },
  {
   "cell_type": "code",
   "execution_count": 4,
   "metadata": {
    "ExecuteTime": {
     "end_time": "2024-01-16T22:53:05.565822400Z",
     "start_time": "2024-01-16T22:53:05.415713700Z"
    },
    "tags": []
   },
   "outputs": [
    {
     "name": "stdout",
     "output_type": "stream",
     "text": [
      "﻿xName,Manning Name,HGNC Name,Kinase Name,Group,Family,SubFamily,UniprotID\n",
      "ABL1,ABL,ABL1,Tyrosine-protein kinase ABL1,TK,Abl,,P00519\n",
      "ACK,ACK,TNK2,Activated CDC42 kinase 1,TK,Ack,,Q07912\n",
      "ACTR2,ACTR2,ACVR2A,Activin receptor type-2A,TKL,STKR,STKR2,P27037\n",
      "ACTR2B,ACTR2B,ACVR2B,Activin receptor type-2B,TKL,STKR,STKR2,Q13705\n",
      "ADCK4,ADCK4,ADCK4,Uncharacterized aarF domain-containing protein kinase 4,Atypical,ABC1,ABC1-A,Q96D53\n",
      "Trb1,Trb1,TRIB1,Tribbles homolog 1,CAMK,Trbl,,Q96RU8\n",
      "BRSK2,BRSK2,BRSK2,Serine/threonine-protein kinase BRSK2,CAMK,CAMKL,BRSK,Q8IWQ3\n",
      "Wnk2,Wnk2,WNK2,Serine/threonine-protein kinase WNK2,Other,WNK,,Q9Y3S1\n",
      "AKT1,AKT1,AKT1,RAC-alpha serine/threonine-protein kinase,AGC,Akt,,P31749\n"
     ]
    }
   ],
   "source": [
    "print(*response.text.splitlines()[:10], sep=\"\\n\")"
   ]
  },
  {
   "cell_type": "markdown",
   "metadata": {},
   "source": [
    "Of course, you can save this to disk using the usual Python constructs. Since we are _downloading_, it's recommended to use the raw bytes contents, not the text version! This means you should use `response.content` and open your file in bytes mode (the `b` in `wb`):"
   ]
  },
  {
   "cell_type": "code",
   "execution_count": 5,
   "metadata": {
    "ExecuteTime": {
     "end_time": "2024-01-16T22:53:05.662372400Z",
     "start_time": "2024-01-16T22:53:05.433832Z"
    },
    "tags": []
   },
   "outputs": [],
   "source": [
    "with open(TMPDATA / \"kinhub.csv\", \"wb\") as f:\n",
    "    f.write(response.content)"
   ]
  },
  {
   "cell_type": "markdown",
   "metadata": {},
   "source": [
    "Open it again to check we wrote something."
   ]
  },
  {
   "cell_type": "code",
   "execution_count": 6,
   "metadata": {
    "ExecuteTime": {
     "end_time": "2024-01-16T22:53:05.664373300Z",
     "start_time": "2024-01-16T22:53:05.515018500Z"
    },
    "tags": []
   },
   "outputs": [
    {
     "name": "stdout",
     "output_type": "stream",
     "text": [
      "xName,Manning Name,HGNC Name,Kinase Name,Group,Family,SubFamily,UniprotID\n",
      "ABL1,ABL,ABL1,Tyrosine-protein kinase ABL1,TK,Abl,,P00519\n",
      "ACK,ACK,TNK2,Activated CDC42 kinase 1,TK,Ack,,Q07912\n",
      "ACTR2,ACTR2,ACVR2A,Activin receptor type-2A,TKL,STKR,STKR2,P27037\n",
      "ACTR2B,ACTR2B,ACVR2B,Activin receptor type-2B,TKL,STKR,STKR2,Q13705\n"
     ]
    }
   ],
   "source": [
    "# We need the encoding=\"utf-8-sig\" to ensure correct encoding\n",
    "# under all platforms\n",
    "with open(TMPDATA / \"kinhub.csv\", encoding=\"utf-8-sig\") as f:\n",
    "    # Zip will stop iterating with the shortest iterator\n",
    "    # passing `range(5)` allow us to just get five lines ;)\n",
    "    for _, line in zip(range(5), f):\n",
    "        print(line.rstrip())\n",
    "\n",
    "# NBVAL_CHECK_OUTPUT"
   ]
  },
  {
   "cell_type": "markdown",
   "metadata": {},
   "source": [
    "ℹ **Tip**: If all you want to do is downloading a CSV file to open it with Pandas, then just pass the raw URL to `pandas.read_csv`. It will download the file for you!"
   ]
  },
  {
   "cell_type": "code",
   "execution_count": 7,
   "metadata": {
    "ExecuteTime": {
     "end_time": "2024-01-16T22:53:06.248966600Z",
     "start_time": "2024-01-16T22:53:05.543118500Z"
    },
    "tags": []
   },
   "outputs": [
    {
     "data": {
      "text/html": [
       "<div>\n",
       "<style scoped>\n",
       "    .dataframe tbody tr th:only-of-type {\n",
       "        vertical-align: middle;\n",
       "    }\n",
       "\n",
       "    .dataframe tbody tr th {\n",
       "        vertical-align: top;\n",
       "    }\n",
       "\n",
       "    .dataframe thead th {\n",
       "        text-align: right;\n",
       "    }\n",
       "</style>\n",
       "<table border=\"1\" class=\"dataframe\">\n",
       "  <thead>\n",
       "    <tr style=\"text-align: right;\">\n",
       "      <th></th>\n",
       "      <th>xName</th>\n",
       "      <th>Manning Name</th>\n",
       "      <th>HGNC Name</th>\n",
       "      <th>Kinase Name</th>\n",
       "      <th>Group</th>\n",
       "      <th>Family</th>\n",
       "      <th>SubFamily</th>\n",
       "      <th>UniprotID</th>\n",
       "    </tr>\n",
       "  </thead>\n",
       "  <tbody>\n",
       "    <tr>\n",
       "      <th>0</th>\n",
       "      <td>ABL1</td>\n",
       "      <td>ABL</td>\n",
       "      <td>ABL1</td>\n",
       "      <td>Tyrosine-protein kinase ABL1</td>\n",
       "      <td>TK</td>\n",
       "      <td>Abl</td>\n",
       "      <td>NaN</td>\n",
       "      <td>P00519</td>\n",
       "    </tr>\n",
       "    <tr>\n",
       "      <th>1</th>\n",
       "      <td>ACK</td>\n",
       "      <td>ACK</td>\n",
       "      <td>TNK2</td>\n",
       "      <td>Activated CDC42 kinase 1</td>\n",
       "      <td>TK</td>\n",
       "      <td>Ack</td>\n",
       "      <td>NaN</td>\n",
       "      <td>Q07912</td>\n",
       "    </tr>\n",
       "    <tr>\n",
       "      <th>2</th>\n",
       "      <td>ACTR2</td>\n",
       "      <td>ACTR2</td>\n",
       "      <td>ACVR2A</td>\n",
       "      <td>Activin receptor type-2A</td>\n",
       "      <td>TKL</td>\n",
       "      <td>STKR</td>\n",
       "      <td>STKR2</td>\n",
       "      <td>P27037</td>\n",
       "    </tr>\n",
       "    <tr>\n",
       "      <th>3</th>\n",
       "      <td>ACTR2B</td>\n",
       "      <td>ACTR2B</td>\n",
       "      <td>ACVR2B</td>\n",
       "      <td>Activin receptor type-2B</td>\n",
       "      <td>TKL</td>\n",
       "      <td>STKR</td>\n",
       "      <td>STKR2</td>\n",
       "      <td>Q13705</td>\n",
       "    </tr>\n",
       "    <tr>\n",
       "      <th>4</th>\n",
       "      <td>ADCK4</td>\n",
       "      <td>ADCK4</td>\n",
       "      <td>ADCK4</td>\n",
       "      <td>Uncharacterized aarF domain-containing protein...</td>\n",
       "      <td>Atypical</td>\n",
       "      <td>ABC1</td>\n",
       "      <td>ABC1-A</td>\n",
       "      <td>Q96D53</td>\n",
       "    </tr>\n",
       "  </tbody>\n",
       "</table>\n",
       "</div>"
      ],
      "text/plain": [
       "    xName Manning Name HGNC Name  \\\n",
       "0    ABL1          ABL      ABL1   \n",
       "1     ACK          ACK      TNK2   \n",
       "2   ACTR2        ACTR2    ACVR2A   \n",
       "3  ACTR2B       ACTR2B    ACVR2B   \n",
       "4   ADCK4        ADCK4     ADCK4   \n",
       "\n",
       "                                         Kinase Name     Group Family  \\\n",
       "0                       Tyrosine-protein kinase ABL1        TK    Abl   \n",
       "1                           Activated CDC42 kinase 1        TK    Ack   \n",
       "2                           Activin receptor type-2A       TKL   STKR   \n",
       "3                           Activin receptor type-2B       TKL   STKR   \n",
       "4  Uncharacterized aarF domain-containing protein...  Atypical   ABC1   \n",
       "\n",
       "  SubFamily UniprotID  \n",
       "0       NaN    P00519  \n",
       "1       NaN    Q07912  \n",
       "2     STKR2    P27037  \n",
       "3     STKR2    Q13705  \n",
       "4    ABC1-A    Q96D53  "
      ]
     },
     "execution_count": 7,
     "metadata": {},
     "output_type": "execute_result"
    }
   ],
   "source": [
    "df = pd.read_csv(\n",
    "    \"https://raw.githubusercontent.com/openkinome/kinodata/master/data/KinHubKinaseList.csv\"\n",
    ")\n",
    "df.head()\n",
    "# NBVAL_CHECK_OUTPUT"
   ]
  },
  {
   "cell_type": "markdown",
   "metadata": {},
   "source": [
    "One note about file downloads. The method above downloads the whole file into memory, which can be a problem for very big files. If you intend to download a very large file, you can push it to disk directly using [streaming requests](https://requests.readthedocs.io/en/master/user/advanced/#streaming-requests) and [raw responses](https://docs.python-requests.org/en/v1.1.0/user/quickstart/?highlight=raw%20response#raw-response-content). As an example, let's pretend this [1MB video](https://archive.org/download/SlowMotionFlame/slomoflame_512kb.mp4) is _too big to fit in memory_:"
   ]
  },
  {
   "cell_type": "code",
   "execution_count": 8,
   "metadata": {
    "ExecuteTime": {
     "end_time": "2024-01-16T22:53:09.560087100Z",
     "start_time": "2024-01-16T22:53:05.899147Z"
    },
    "tags": []
   },
   "outputs": [
    {
     "data": {
      "text/html": [
       "<video src=\"data/_tmp/video.mp4\" controls  >\n",
       "      Your browser does not support the <code>video</code> element.\n",
       "    </video>"
      ],
      "text/plain": [
       "<IPython.core.display.Video object>"
      ]
     },
     "metadata": {},
     "output_type": "display_data"
    }
   ],
   "source": [
    "response = requests.get(\n",
    "    \"https://archive.org/download/SlowMotionFlame/slomoflame_512kb.mp4\", stream=True\n",
    ")\n",
    "response.raise_for_status()\n",
    "\n",
    "with open(TMPDATA / \"video.mp4\", \"wb\") as tmp:\n",
    "    for chunk in response.iter_content(chunk_size=8192):\n",
    "        tmp.write(chunk)\n",
    "\n",
    "    # Let's play the movie in Jupyter!\n",
    "    # Paths passed to widgets need to be relative to notebook or they will 404 :)\n",
    "    display(Video(Path(tmp.name).relative_to(HERE)))"
   ]
  },
  {
   "cell_type": "markdown",
   "metadata": {
    "tags": []
   },
   "source": [
    "### Accessing dynamically generated content\n",
    "\n",
    "So far, we have been able to retrieve _files_ that were present on a remote server. To do that, we used `requests.get` and a URL that points to the file.\n",
    "\n",
    "Well, it turns out that the same technique will work for many more types of content! What the server does with the URL is not our concern! Whether the server only needs to give you a file on disk or query a database and assemble different parts into the returned content does not matter at all. \n",
    "\n",
    "That concept alone is extremely powerful, as you will see now. Remember: **We just need to make sure we request the correct URL!**\n",
    "\n",
    "Let's work on something fun now! The spike protein in SARS-CoV-2 is one of the most popular proteins lately, can we get some information from [UniProt](https://www.uniprot.org/) using `requests`? Its UniProt ID is `P0DTC2`. [Go check with your browser first](https://www.uniprot.org/uniprot/P0DTC2), you should see something like this:\n",
    "\n",
    "![UniProt entry for SARS-CoV-2](images/uniprot-sars-cov-2.jpg)\n",
    "\n",
    "One of the things UniProt provides is the amino acid sequence of the listed protein. Scroll down until you see this part:\n",
    "\n",
    "![Sequence for SARS-CoV-2](images/uniprot-sars-cov-2-sequence.jpg)\n",
    "\n",
    "Do you think we can get _only_ the sequence using Python? Let's see!\n",
    "\n",
    "To query a protein, you simply need to add its UniProt ID to the URL."
   ]
  },
  {
   "cell_type": "code",
   "execution_count": 9,
   "metadata": {
    "ExecuteTime": {
     "end_time": "2024-01-16T22:53:10.419448Z",
     "start_time": "2024-01-16T22:53:09.562087300Z"
    },
    "tags": []
   },
   "outputs": [
    {
     "name": "stdout",
     "output_type": "stream",
     "text": [
      "<!doctype html><html lang=\"en\"><head><meta charset=\"utf-8\"/><title>UniProt</title><meta name=\"viewport\" content=\"width=device-width,initial-scale=1\"/><meta name=\"theme-color\" content=\"#00639a\"/><link rel=\"preconnect\" href=\"https://rest.uniprot.org/\"/><link rel=\"preconnect\" href=\"https://fonts.googleapis.com\"/><link rel=\"preconnect\" href=\"https://fonts.gstatic.com\" crossorigin/><link href=\"https://fonts.googleapis.com/css?family=Lato:400,700|Source+Sans+Pro:600,700&display=optional\" rel=\"stylesheet\"/><link rel=\"search\" type=\"application/opensearchdescription+xml\" href=\"/opensearch.xml\" title=\"UniProt\"><link rel=\"apple-touch-icon\" sizes=\"180x180\" href=\"/apple-touch-icon.png\"/><link rel=\"shortcut icon\" type=\"image/png\" sizes=\"144x144\" href=\"/mstile-144x144.png\"/><link rel=\"icon\" type=\"image/png\" sizes=\"32x32\" href=\"/favicon-32x32.png\"/><link rel=\"icon\" type=\"image/png\" sizes=\"16x16\" href=\"/favicon-16x16.png\"/><link rel=\"manifest\" href=\"/manifest.json\"/><script async src=\"https://www.googletagmanager.com/gtag/js?id=G-V6TXEC4BDF\"></script><script>window.dataLayer = window.dataLayer || [];\n",
      "      function gtag() {\n",
      "        dataLayer.push(arguments);\n",
      "      }\n",
      "      gtag('js', new Date());\n",
      "\n",
      "      // GA4\n",
      "      gtag('config', 'G-V6TXEC4BDF', {\n",
      "        anonymize_ip: true,\n",
      "        allow_google_signals: false,\n",
      "        allow_ad_personalization_signals: false,\n",
      "        restricted_data_processing: true,\n",
      "        custom_map: {\n",
      "          dimension1: 'result_view',\n",
      "          metric1: 'result_view_set',\n",
      "        },\n",
      "        send_page_view: false,\n",
      "      });\n",
      "      // UA\n",
      "      gtag('config', 'UA-6228219-1', {\n",
      "        anonymize_ip: true,\n",
      "        allow_google_signals: false,\n",
      "        allow_ad_personalization_signals: false,\n",
      "        restricted_data_processing: true,\n",
      "        custom_map: {\n",
      "          dimension1: 'result_view',\n",
      "          metric1: 'result_view_set',\n",
      "        },\n",
      "        send_page_view: false,\n",
      "      });</script><script>(function (h, o, t, j, a, r) {\n",
      "        h.hj =\n",
      "          h.hj ||\n",
      "          function () {\n",
      "            (h.hj.q = h.hj.q || []).push(arguments);\n",
      "          };\n",
      "        h._hjSettings = { hjid: 2638207, hjsv: 6 };\n",
      "        a = o.getElementsByTagName('head')[0];\n",
      "        r = o.createElement('script');\n",
      "        r.async = 1;\n",
      "        r.src = t + h._hjSettings.hjid + j + h._hjSettings.hjsv;\n",
      "        a.appendChild(r);\n",
      "      })(window, document, 'https://static.hotjar.com/c/hotjar-', '.js?sv=');</script><style>#root > .fallback {\n",
      "        height: 90vh;\n",
      "        display: flex;\n",
      "        align-items: center;\n",
      "        justify-content: center;\n",
      "        opacity: 0;\n",
      "        animation: fallback-appear 1s 1 10s both;\n",
      "      }\n",
      "\n",
      "      #root > .fallback > div {\n",
      "        max-width: 60ch;\n",
      "      }\n",
      "\n",
      "      #root > .fallback li {\n",
      "        margin-bottom: 1em;\n",
      "      }\n",
      "\n",
      "      @keyframes fallback-appear {\n",
      "        from {\n",
      "          opacity: 0;\n",
      "        }\n",
      "        to {\n",
      "          opacity: 1;\n",
      "        }\n",
      "      }</style><link rel=\"stylesheet\" href=\"/styles.3d6612.css\"/><link rel=\"stylesheet\" href=\"/styles.03af09.css\"/></head><body><div id=\"root\"><div class=\"fallback\" data-nosnippet><div><h1>UniProt website fallback message</h1>If you are not seeing anything on this page, it might be for multiple reasons:<ul><li><strong>You might have JavaScript disabled</strong>: make sure to enable JavaScript on your browser, or use a browser that supports JavaScript.</li><li><strong>You might have an outdated browser</strong>: make sure that your browser is up to date as older versions might not work with the website.</li><li><strong>There might have been a network issue</strong>: ensure that your connectivity is stable and try to reload the page to see if it solves the issue. <button onclick=\"location.reload();\">Reload this page</button></li></ul></div></div></div><script nomodule>// workaround for Safari 10.1 supporting module but ignoring nomodule\n",
      "      // From https://gist.github.com/samthor/64b114e4a4f539915a95b91ffd340acc\n",
      "      (function () {\n",
      "        var d = document;\n",
      "        var c = d.createElement('script');\n",
      "        if (!('noModule' in c) && 'onbeforeload' in c) {\n",
      "          var s = false;\n",
      "          d.addEventListener(\n",
      "            'beforeload',\n",
      "            function (e) {\n",
      "              if (e.target === c) {\n",
      "                s = true;\n",
      "              } else if (!e.target.hasAttribute('nomodule') || !s) {\n",
      "                return;\n",
      "              }\n",
      "              e.preventDefault();\n",
      "            },\n",
      "            true\n",
      "          );\n",
      "\n",
      "          c.type = 'module';\n",
      "          c.src = '.';\n",
      "          d.head.appendChild(c);\n",
      "          c.remove();\n",
      "        }\n",
      "      })();</script><script type=\"module\" src=\"/modern.app.d00c28.js\"></script><script type=\"module\" src=\"/modern.app.b6b05b.js\"></script><script type=\"module\" src=\"/modern.app.6b3838.js\"></script><script type=\"module\" src=\"/modern.app.40cc51.js\"></script><script type=\"module\" src=\"/modern.app.abb14f.js\"></script><script nomodule defer=\"defer\" src=\"/legacy.app.1b0ea2.js\"></script><script nomodule defer=\"defer\" src=\"/legacy.app.b6b05b.js\"></script><script \n"
     ]
    }
   ],
   "source": [
    "r = requests.get(\"https://www.uniprot.org/uniprot/P0DTC2\")\n",
    "r.raise_for_status()\n",
    "print(r.text[:5000])"
   ]
  },
  {
   "cell_type": "markdown",
   "metadata": {},
   "source": [
    "Wow, what is all that noise? You are seeing the HTML content of the webpage! That's the markup language web developers use to write webpages.\n",
    "\n",
    "There are libraries to process HTML and extract the actual content (like `BeautifulSoup`; more below), but we will not need it here yet. Fortunately, UniProt provides alternative representations of the data.\n",
    "\n",
    "![UniProt formats](images/uniprot-sars-cov-2-formats.jpg)\n",
    "\n",
    "Some formats are more convenient for programmatic use. If you click on `Text` you will see something different in your browser: just plain text! Also, notice how the URL is now different.\n",
    "\n",
    "* HTML representation (default): https://www.uniprot.org/uniprot/P0DTC2\n",
    "* Text representation: https://www.uniprot.org/uniprot/P0DTC2.txt\n",
    "\n",
    "Just adding the `.txt` extension was enough to change the style. This is a nice feature UniProt provides. It mimics a file system, but it's actually changing the representation of the returned content. Elegant! And more important, easier to use programmatically! Check it:"
   ]
  },
  {
   "cell_type": "code",
   "execution_count": 10,
   "metadata": {
    "ExecuteTime": {
     "end_time": "2024-01-16T22:53:12.648844900Z",
     "start_time": "2024-01-16T22:53:10.421451700Z"
    },
    "tags": []
   },
   "outputs": [
    {
     "name": "stdout",
     "output_type": "stream",
     "text": [
      "ID   SPIKE_SARS2             Reviewed;        1273 AA.\n",
      "AC   P0DTC2;\n",
      "DT   22-APR-2020, integrated into UniProtKB/Swiss-Prot.\n",
      "DT   22-APR-2020, sequence version 1.\n",
      "DT   24-JAN-2024, entry version 20.\n",
      "DE   RecName: Full=Spike glycoprotein {ECO:0000255|HAMAP-Rule:MF_04099};\n",
      "DE            Short=S glycoprotein {ECO:0000255|HAMAP-Rule:MF_04099};\n",
      "DE   AltName: Full=E2 {ECO:0000255|HAMAP-Rule:MF_04099};\n",
      "DE   AltName: Full=Peplomer protein {ECO:0000255|HAMAP-Rule:MF_04099};\n",
      "DE   Contains:\n",
      "DE     RecName: Full=Spike protein S1 {ECO:0000255|HAMAP-Rule:MF_04099};\n",
      "DE   Contains:\n",
      "DE     RecName: Full=Spike protein S2 {ECO:0000255|HAMAP-Rule:MF_04099};\n",
      "DE   Contains:\n",
      "DE     RecName: Full=Spike protein S2' {ECO:0000255|HAMAP-Rule:MF_04099};\n",
      "DE   Flags: Precursor;\n",
      "GN   Name=S {ECO:0000255|HAMAP-Rule:MF_04099}; ORFNames=2;\n",
      "OS   Severe acute respiratory syndrome coronavirus 2 (2019-nCoV) (SARS-CoV-2).\n",
      "OC   Viruses; Riboviria; Orthornavirae; Pisuviricota; Pisoniviricetes;\n",
      "OC   Nidovirales; Cornidovirineae;\n"
     ]
    }
   ],
   "source": [
    "r = requests.get(\"https://www.uniprot.org/uniprot/P0DTC2.txt\")\n",
    "r.raise_for_status()\n",
    "print(r.text[:1000])"
   ]
  },
  {
   "cell_type": "markdown",
   "metadata": {},
   "source": [
    "This is _exactly_ what we see on our browser! Plain text is nice for these things. However, the sequence is all the way at the end of the file. To retrieve it, you need to get creative and analyze those little tags each line has. See how it begins with `SQ` and finishes with `//`:\n",
    "\n",
    "```\n",
    "SQ   SEQUENCE   1273 AA;  141178 MW;  B17BE6D9F1C4EA34 CRC64;\n",
    "     MFVFLVLLPL VSSQCVNLTT RTQLPPAYTN SFTRGVYYPD KVFRSSVLHS TQDLFLPFFS\n",
    "     NVTWFHAIHV SGTNGTKRFD NPVLPFNDGV YFASTEKSNI IRGWIFGTTL DSKTQSLLIV\n",
    "     NNATNVVIKV CEFQFCNDPF LGVYYHKNNK SWMESEFRVY SSANNCTFEY VSQPFLMDLE\n",
    "     GKQGNFKNLR EFVFKNIDGY FKIYSKHTPI NLVRDLPQGF SALEPLVDLP IGINITRFQT\n",
    "     LLALHRSYLT PGDSSSGWTA GAAAYYVGYL QPRTFLLKYN ENGTITDAVD CALDPLSETK\n",
    "     CTLKSFTVEK GIYQTSNFRV QPTESIVRFP NITNLCPFGE VFNATRFASV YAWNRKRISN\n",
    "     CVADYSVLYN SASFSTFKCY GVSPTKLNDL CFTNVYADSF VIRGDEVRQI APGQTGKIAD\n",
    "     YNYKLPDDFT GCVIAWNSNN LDSKVGGNYN YLYRLFRKSN LKPFERDIST EIYQAGSTPC\n",
    "     NGVEGFNCYF PLQSYGFQPT NGVGYQPYRV VVLSFELLHA PATVCGPKKS TNLVKNKCVN\n",
    "     FNFNGLTGTG VLTESNKKFL PFQQFGRDIA DTTDAVRDPQ TLEILDITPC SFGGVSVITP\n",
    "     GTNTSNQVAV LYQDVNCTEV PVAIHADQLT PTWRVYSTGS NVFQTRAGCL IGAEHVNNSY\n",
    "     ECDIPIGAGI CASYQTQTNS PRRARSVASQ SIIAYTMSLG AENSVAYSNN SIAIPTNFTI\n",
    "     SVTTEILPVS MTKTSVDCTM YICGDSTECS NLLLQYGSFC TQLNRALTGI AVEQDKNTQE\n",
    "     VFAQVKQIYK TPPIKDFGGF NFSQILPDPS KPSKRSFIED LLFNKVTLAD AGFIKQYGDC\n",
    "     LGDIAARDLI CAQKFNGLTV LPPLLTDEMI AQYTSALLAG TITSGWTFGA GAALQIPFAM\n",
    "     QMAYRFNGIG VTQNVLYENQ KLIANQFNSA IGKIQDSLSS TASALGKLQD VVNQNAQALN\n",
    "     TLVKQLSSNF GAISSVLNDI LSRLDKVEAE VQIDRLITGR LQSLQTYVTQ QLIRAAEIRA\n",
    "     SANLAATKMS ECVLGQSKRV DFCGKGYHLM SFPQSAPHGV VFLHVTYVPA QEKNFTTAPA\n",
    "     ICHDGKAHFP REGVFVSNGT HWFVTQRNFY EPQIITTDNT FVSGNCDVVI GIVNNTVYDP\n",
    "     LQPELDSFKE ELDKYFKNHT SPDVDLGDIS GINASVVNIQ KEIDRLNEVA KNLNESLIDL\n",
    "     QELGKYEQYI KWPWYIWLGF IAGLIAIVMV TIMLCCMTSC CSCLKGCCSC GSCCKFDEDD\n",
    "     SEPVLKGVKL HYT\n",
    "//\n",
    "```\n",
    "\n",
    "Hence, you could do something like this:"
   ]
  },
  {
   "cell_type": "code",
   "execution_count": 11,
   "metadata": {
    "ExecuteTime": {
     "end_time": "2024-01-16T22:53:12.677601900Z",
     "start_time": "2024-01-16T22:53:12.647835600Z"
    },
    "tags": []
   },
   "outputs": [
    {
     "name": "stdout",
     "output_type": "stream",
     "text": [
      "This is your sequence: MFVFLVLLPLVSSQCVNLTTRTQLPPAYTNSFTRGVYYPDKVFRSSVLHSTQDLFLPFFSNVTWFHAIHVSGTNGTKRFDNPVLPFNDGVYFASTEKSNIIRGWIFGTTLDSKTQSLLIVNNATNVVIKVCEFQFCNDPFLGVYYHKNNKSWMESEFRVYSSANNCTFEYVSQPFLMDLEGKQGNFKNLREFVFKNIDGYFKIYSKHTPINLVRDLPQGFSALEPLVDLPIGINITRFQTLLALHRSYLTPGDSSSGWTAGAAAYYVGYLQPRTFLLKYNENGTITDAVDCALDPLSETKCTLKSFTVEKGIYQTSNFRVQPTESIVRFPNITNLCPFGEVFNATRFASVYAWNRKRISNCVADYSVLYNSASFSTFKCYGVSPTKLNDLCFTNVYADSFVIRGDEVRQIAPGQTGKIADYNYKLPDDFTGCVIAWNSNNLDSKVGGNYNYLYRLFRKSNLKPFERDISTEIYQAGSTPCNGVEGFNCYFPLQSYGFQPTNGVGYQPYRVVVLSFELLHAPATVCGPKKSTNLVKNKCVNFNFNGLTGTGVLTESNKKFLPFQQFGRDIADTTDAVRDPQTLEILDITPCSFGGVSVITPGTNTSNQVAVLYQDVNCTEVPVAIHADQLTPTWRVYSTGSNVFQTRAGCLIGAEHVNNSYECDIPIGAGICASYQTQTNSPRRARSVASQSIIAYTMSLGAENSVAYSNNSIAIPTNFTISVTTEILPVSMTKTSVDCTMYICGDSTECSNLLLQYGSFCTQLNRALTGIAVEQDKNTQEVFAQVKQIYKTPPIKDFGGFNFSQILPDPSKPSKRSFIEDLLFNKVTLADAGFIKQYGDCLGDIAARDLICAQKFNGLTVLPPLLTDEMIAQYTSALLAGTITSGWTFGAGAALQIPFAMQMAYRFNGIGVTQNVLYENQKLIANQFNSAIGKIQDSLSSTASALGKLQDVVNQNAQALNTLVKQLSSNFGAISSVLNDILSRLDKVEAEVQIDRLITGRLQSLQTYVTQQLIRAAEIRASANLAATKMSECVLGQSKRVDFCGKGYHLMSFPQSAPHGVVFLHVTYVPAQEKNFTTAPAICHDGKAHFPREGVFVSNGTHWFVTQRNFYEPQIITTDNTFVSGNCDVVIGIVNNTVYDPLQPELDSFKEELDKYFKNHTSPDVDLGDISGINASVVNIQKEIDRLNEVAKNLNESLIDLQELGKYEQYIKWPWYIWLGFIAGLIAIVMVTIMLCCMTSCCSCLKGCCSCGSCCKFDEDDSEPVLKGVKLHYT\n"
     ]
    }
   ],
   "source": [
    "sequence_block = False\n",
    "lines = []\n",
    "for line in r.text.splitlines():\n",
    "    if line.startswith(\"SQ\"):\n",
    "        sequence_block = True\n",
    "    elif line.startswith(\"//\"):\n",
    "        sequence_block = False\n",
    "\n",
    "    if sequence_block:\n",
    "        line = line.strip()  # delete spaces and newlines at the beginning and end of the line\n",
    "        line = line.replace(\" \", \"\")  # delete spaces in the middle of the line\n",
    "        lines.append(line)\n",
    "sequence = \"\".join(lines[1:])  # the first line is the metadata header\n",
    "print(f\"This is your sequence: {sequence}\")\n",
    "\n",
    "# NBVAL_CHECK_OUTPUT"
   ]
  },
  {
   "cell_type": "markdown",
   "metadata": {},
   "source": [
    "Ta-da! We got it! It required some processing, but it works... However, you should always wonder if there's an easier way. Given that UniProt had a nice way of providing the text representation, how come they don't offer a URL that _only_ returns the sequence for a given UniProt ID? Well, they do! Just change `.txt` for `.fasta`: https://www.uniprot.org/uniprot/P0DTC2.fasta"
   ]
  },
  {
   "cell_type": "code",
   "execution_count": 12,
   "metadata": {
    "ExecuteTime": {
     "end_time": "2024-01-16T22:53:15.012659Z",
     "start_time": "2024-01-16T22:53:12.659073700Z"
    },
    "tags": []
   },
   "outputs": [
    {
     "name": "stdout",
     "output_type": "stream",
     "text": [
      ">sp|P0DTC2|SPIKE_SARS2 Spike glycoprotein OS=Severe acute respiratory syndrome coronavirus 2 OX=2697049 GN=S PE=1 SV=1\n",
      "MFVFLVLLPLVSSQCVNLTTRTQLPPAYTNSFTRGVYYPDKVFRSSVLHSTQDLFLPFFS\n",
      "NVTWFHAIHVSGTNGTKRFDNPVLPFNDGVYFASTEKSNIIRGWIFGTTLDSKTQSLLIV\n",
      "NNATNVVIKVCEFQFCNDPFLGVYYHKNNKSWMESEFRVYSSANNCTFEYVSQPFLMDLE\n",
      "GKQGNFKNLREFVFKNIDGYFKIYSKHTPINLVRDLPQGFSALEPLVDLPIGINITRFQT\n",
      "LLALHRSYLTPGDSSSGWTAGAAAYYVGYLQPRTFLLKYNENGTITDAVDCALDPLSETK\n",
      "CTLKSFTVEKGIYQTSNFRVQPTESIVRFPNITNLCPFGEVFNATRFASVYAWNRKRISN\n",
      "CVADYSVLYNSASFSTFKCYGVSPTKLNDLCFTNVYADSFVIRGDEVRQIAPGQTGKIAD\n",
      "YNYKLPDDFTGCVIAWNSNNLDSKVGGNYNYLYRLFRKSNLKPFERDISTEIYQAGSTPC\n",
      "NGVEGFNCYFPLQSYGFQPTNGVGYQPYRVVVLSFELLHAPATVCGPKKSTNLVKNKCVN\n",
      "FNFNGLTGTGVLTESNKKFLPFQQFGRDIADTTDAVRDPQTLEILDITPCSFGGVSVITP\n",
      "GTNTSNQVAVLYQDVNCTEVPVAIHADQLTPTWRVYSTGSNVFQTRAGCLIGAEHVNNSY\n",
      "ECDIPIGAGICASYQTQTNSPRRARSVASQSIIAYTMSLGAENSVAYSNNSIAIPTNFTI\n",
      "SVTTEILPVSMTKTSVDCTMYICGDSTECSNLLLQYGSFCTQLNRALTGIAVEQDKNTQE\n",
      "VFAQVKQIYKTPPIKDFGGFNFSQILPDPSKPSKRSFIEDLLFNKVTLADAGFIKQYGDC\n",
      "LGDIAARDLICAQKFNGLTVLPPLLTDEMIAQYTSALLAGTITSGWTFGAGAALQIPFAM\n",
      "QMAYRFNGIGVTQNVLYENQKLIANQFNSAIGKIQDSLSSTASALGKLQDVVNQNAQALN\n",
      "TLVKQLSSNFGAISSVLNDILSRLDKVEAEVQIDRLITGRLQSLQTYVTQQLIRAAEIRA\n",
      "SANLAATKMSECVLGQSKRVDFCGKGYHLMSFPQSAPHGVVFLHVTYVPAQEKNFTTAPA\n",
      "ICHDGKAHFPREGVFVSNGTHWFVTQRNFYEPQIITTDNTFVSGNCDVVIGIVNNTVYDP\n",
      "LQPELDSFKEELDKYFKNHTSPDVDLGDISGINASVVNIQKEIDRLNEVAKNLNESLIDL\n",
      "QELGKYEQYIKWPWYIWLGFIAGLIAIVMVTIMLCCMTSCCSCLKGCCSCGSCCKFDEDD\n",
      "SEPVLKGVKLHYT\n",
      "\n"
     ]
    }
   ],
   "source": [
    "r = requests.get(\"https://www.uniprot.org/uniprot/P0DTC2.fasta\")\n",
    "r.raise_for_status()\n",
    "print(r.text)\n",
    "\n",
    "# NBVAL_CHECK_OUTPUT"
   ]
  },
  {
   "cell_type": "markdown",
   "metadata": {},
   "source": [
    "This is returned in FASTA, a common syntax in bioinformatics. You could use established libraries like [BioPython](https://biopython.org/) to parse it too!"
   ]
  },
  {
   "cell_type": "code",
   "execution_count": 13,
   "metadata": {
    "ExecuteTime": {
     "end_time": "2024-01-16T22:53:15.099160Z",
     "start_time": "2024-01-16T22:53:14.182139200Z"
    },
    "tags": []
   },
   "outputs": [
    {
     "name": "stdout",
     "output_type": "stream",
     "text": [
      "sp|P0DTC2|SPIKE_SARS2 Spike glycoprotein OS=Severe acute respiratory syndrome coronavirus 2 OX=2697049 GN=S PE=1 SV=1\n",
      "MFVFLVLLPLVSSQCVNLTTRTQLPPAYTNSFTRGVYYPDKVFRSSVLHSTQDLFLPFFSNVTWFHAIHVSGTNGTKRFDNPVLPFNDGVYFASTEKSNIIRGWIFGTTLDSKTQSLLIVNNATNVVIKVCEFQFCNDPFLGVYYHKNNKSWMESEFRVYSSANNCTFEYVSQPFLMDLEGKQGNFKNLREFVFKNIDGYFKIYSKHTPINLVRDLPQGFSALEPLVDLPIGINITRFQTLLALHRSYLTPGDSSSGWTAGAAAYYVGYLQPRTFLLKYNENGTITDAVDCALDPLSETKCTLKSFTVEKGIYQTSNFRVQPTESIVRFPNITNLCPFGEVFNATRFASVYAWNRKRISNCVADYSVLYNSASFSTFKCYGVSPTKLNDLCFTNVYADSFVIRGDEVRQIAPGQTGKIADYNYKLPDDFTGCVIAWNSNNLDSKVGGNYNYLYRLFRKSNLKPFERDISTEIYQAGSTPCNGVEGFNCYFPLQSYGFQPTNGVGYQPYRVVVLSFELLHAPATVCGPKKSTNLVKNKCVNFNFNGLTGTGVLTESNKKFLPFQQFGRDIADTTDAVRDPQTLEILDITPCSFGGVSVITPGTNTSNQVAVLYQDVNCTEVPVAIHADQLTPTWRVYSTGSNVFQTRAGCLIGAEHVNNSYECDIPIGAGICASYQTQTNSPRRARSVASQSIIAYTMSLGAENSVAYSNNSIAIPTNFTISVTTEILPVSMTKTSVDCTMYICGDSTECSNLLLQYGSFCTQLNRALTGIAVEQDKNTQEVFAQVKQIYKTPPIKDFGGFNFSQILPDPSKPSKRSFIEDLLFNKVTLADAGFIKQYGDCLGDIAARDLICAQKFNGLTVLPPLLTDEMIAQYTSALLAGTITSGWTFGAGAALQIPFAMQMAYRFNGIGVTQNVLYENQKLIANQFNSAIGKIQDSLSSTASALGKLQDVVNQNAQALNTLVKQLSSNFGAISSVLNDILSRLDKVEAEVQIDRLITGRLQSLQTYVTQQLIRAAEIRASANLAATKMSECVLGQSKRVDFCGKGYHLMSFPQSAPHGVVFLHVTYVPAQEKNFTTAPAICHDGKAHFPREGVFVSNGTHWFVTQRNFYEPQIITTDNTFVSGNCDVVIGIVNNTVYDPLQPELDSFKEELDKYFKNHTSPDVDLGDISGINASVVNIQKEIDRLNEVAKNLNESLIDLQELGKYEQYIKWPWYIWLGFIAGLIAIVMVTIMLCCMTSCCSCLKGCCSCGSCCKFDEDDSEPVLKGVKLHYT\n"
     ]
    }
   ],
   "source": [
    "# Write response into a temporary text file\n",
    "with NamedTemporaryFile(suffix=\".fasta\", mode=\"w\", delete=False) as tmp:\n",
    "    tmp.write(r.text)\n",
    "\n",
    "# Create the BioPython object for sequence data:\n",
    "sequence = SeqIO.read(tmp.name, format=\"fasta\")\n",
    "\n",
    "# Delete temporary file now that we have read it\n",
    "os.remove(tmp.name)\n",
    "\n",
    "print(sequence.description)\n",
    "print(sequence.seq)\n",
    "\n",
    "# NBVAL_CHECK_OUTPUT"
   ]
  },
  {
   "cell_type": "markdown",
   "metadata": {},
   "source": [
    "All these ways to access different representations or sections of the data contained in UniProt constitutes a URL-based API (Application Programmatic Interface). The foundational principle is that the URL contains all the **parameters** needed to ask the server for a specific type of content. Yes, you read that correctly: **parameters**. If you think about it, a URL specifies two parts: the machine you are connecting to and the page in that machine you want to access. When the page part is missing, the server assumes you are asking for `index.html` or equivalent.\n",
    "\n",
    "Let's compare it to a command-line interface:\n",
    "\n",
    "```\n",
    "@ # this is your browser\n",
    "@ uniprot.org/uniprot/P0DTC2.fasta\n",
    "```\n",
    "\n",
    "```bash\n",
    "$ # this is your terminal\n",
    "$ uniprot --id=P0DTC2 --format=FASTA\n",
    "```\n",
    "\n",
    "Each part of the URL can be considered a positional argument! So, if you want the sequence of a different protein, just input its UniProt ID in the URL, done! For example, `P00519` is the ID for the ABL1 kinase."
   ]
  },
  {
   "cell_type": "code",
   "execution_count": 14,
   "metadata": {
    "ExecuteTime": {
     "end_time": "2024-01-16T22:53:16.370786800Z",
     "start_time": "2024-01-16T22:53:15.081548100Z"
    },
    "tags": []
   },
   "outputs": [
    {
     "name": "stdout",
     "output_type": "stream",
     "text": [
      ">sp|P00519|ABL1_HUMAN Tyrosine-protein kinase ABL1 OS=Homo sapiens OX=9606 GN=ABL1 PE=1 SV=4\n",
      "MLEICLKLVGCKSKKGLSSSSSCYLEEALQRPVASDFEPQGLSEAARWNSKENLLAGPSE\n",
      "NDPNLFVALYDFVASGDNTLSITKGEKLRVLGYNHNGEWCEAQTKNGQGWVPSNYITPVN\n",
      "SLEKHSWYHGPVSRNAAEYLLSSGINGSFLVRESESSPGQRSISLRYEGRVYHYRINTAS\n",
      "DGKLYVSSESRFNTLAELVHHHSTVADGLITTLHYPAPKRNKPTVYGVSPNYDKWEMERT\n",
      "DITMKHKLGGGQYGEVYEGVWKKYSLTVAVKTLKEDTMEVEEFLKEAAVMKEIKHPNLVQ\n",
      "LLGVCTREPPFYIITEFMTYGNLLDYLRECNRQEVNAVVLLYMATQISSAMEYLEKKNFI\n",
      "HRDLAARNCLVGENHLVKVADFGLSRLMTGDTYTAHAGAKFPIKWTAPESLAYNKFSIKS\n",
      "DVWAFGVLLWEIATYGMSPYPGIDLSQVYELLEKDYRMERPEGCPEKVYELMRACWQWNP\n",
      "SDRPSFAEIHQAFETMFQESSISDEVEKELGKQGVRGAVSTLLQAPELPTKTRTSRRAAE\n",
      "HRDTTDVPEMPHSKGQGESDPLDHEPAVSPLLPRKERGPPEGGLNEDERLLPKDKKTNLF\n",
      "SALIKKKKKTAPTPPKRSSSFREMDGQPERRGAGEEEGRDISNGALAFTPLDTADPAKSP\n",
      "KPSNGAGVPNGALRESGGSGFRSPHLWKKSSTLTSSRLATGEEEGGGSSSKRFLRSCSAS\n",
      "CVPHGAKDTEWRSVTLPRDLQSTGRQFDSSTFGGHKSEKPALPRKRAGENRSDQVTRGTV\n",
      "TPPPRLVKKNEEAADEVFKDIMESSPGSSPPNLTPKPLRRQVTVAPASGLPHKEEAGKGS\n",
      "ALGTPAAAEPVTPTSKAGSGAPGGTSKGPAEESRVRRHKHSSESPGRDKGKLSRLKPAPP\n",
      "PPPAASAGKAGGKPSQSPSQEAAGEAVLGAKTKATSLVDAVNSDAAKPSQPGEGLKKPVL\n",
      "PATPKPQSAKPSGTPISPAPVPSTLPSASSALAGDQPSSTAFIPLISTRVSLRKTRQPPE\n",
      "RIASGAITKGVVLDSTEALCLAISRNSEQMASHSAVLEAGKNLYTFCVSYVDSIQQMRNK\n",
      "FAFREAINKLENNLRELQICPATAGSGPAATQDFSKLLSSVKEISDIVQR\n",
      "\n"
     ]
    }
   ],
   "source": [
    "r = requests.get(\"https://www.uniprot.org/uniprot/P00519.fasta\")\n",
    "r.raise_for_status()\n",
    "print(r.text)\n",
    "\n",
    "# NBVAL_CHECK_OUTPUT"
   ]
  },
  {
   "cell_type": "markdown",
   "metadata": {},
   "source": [
    "What if we parameterize the URL with an f-string and provide a function to make it super Pythonic? Even better, what if we provide the `Bio.SeqIO` parsing functionality too?"
   ]
  },
  {
   "cell_type": "code",
   "execution_count": 15,
   "metadata": {
    "ExecuteTime": {
     "end_time": "2024-01-16T22:53:16.420913600Z",
     "start_time": "2024-01-16T22:53:16.378884300Z"
    },
    "tags": []
   },
   "outputs": [],
   "source": [
    "def sequence_for_uniprot_id(uniprot_id):\n",
    "    \"\"\"\n",
    "    Returns the FASTA sequence of a given Uniprot ID using\n",
    "    the UniProt URL-based API\n",
    "\n",
    "    Parameters\n",
    "    ----------\n",
    "    uniprot_id : str\n",
    "\n",
    "    Returns\n",
    "    -------\n",
    "    Bio.SeqIO.SeqRecord\n",
    "    \"\"\"\n",
    "    #                                                  ⬇ this is key part!\n",
    "    r = requests.get(f\"https://www.uniprot.org/uniprot/{uniprot_id}.fasta\")\n",
    "    r.raise_for_status()\n",
    "\n",
    "    with NamedTemporaryFile(suffix=\".fasta\", mode=\"w\", delete=False) as tmp:\n",
    "        tmp.write(r.text)\n",
    "\n",
    "    sequence = SeqIO.read(tmp.name, format=\"fasta\")\n",
    "    os.remove(tmp.name)\n",
    "\n",
    "    return sequence"
   ]
  },
  {
   "cell_type": "markdown",
   "metadata": {},
   "source": [
    "Now you can use it for any UniProt ID. This is for the [Src kinase](https://www.uniprot.org/uniprot/P12931):"
   ]
  },
  {
   "cell_type": "code",
   "execution_count": 16,
   "metadata": {
    "ExecuteTime": {
     "end_time": "2024-01-16T22:53:17.635095400Z",
     "start_time": "2024-01-16T22:53:16.394958200Z"
    },
    "pycharm": {
     "is_executing": true
    },
    "tags": []
   },
   "outputs": [
    {
     "name": "stdout",
     "output_type": "stream",
     "text": [
      "ID: sp|P12931|SRC_HUMAN\n",
      "Name: sp|P12931|SRC_HUMAN\n",
      "Description: sp|P12931|SRC_HUMAN Proto-oncogene tyrosine-protein kinase Src OS=Homo sapiens OX=9606 GN=SRC PE=1 SV=3\n",
      "Number of features: 0\n",
      "Seq('MGSNKSKPKDASQRRRSLEPAENVHGAGGGAFPASQTPSKPASADGHRGPSAAF...ENL')\n"
     ]
    }
   ],
   "source": [
    "sequence = sequence_for_uniprot_id(\"P12931\")\n",
    "print(sequence)\n",
    "\n",
    "# NBVAL_CHECK_OUTPUT"
   ]
  },
  {
   "cell_type": "markdown",
   "metadata": {},
   "source": [
    "Congratulations! You have used your first online API in Python and adapted it to a workflow!"
   ]
  },
  {
   "cell_type": "markdown",
   "metadata": {},
   "source": [
    "### Programmatic interfaces\n",
    "\n",
    "What UniProt does with their URLs is _one way_ of providing access to their database, i.e., through specific URL schemes. However, if each web service would have to come up with their own scheme, developers would need to figure out which scheme the website is using, and then implement, adapt or customize their scripts on a case-by-case basis. Fortunately, there are some standardized ways of providing programmatic access to online resources. Some of them include:\n",
    "\n",
    "- HTTP-based RESTful APIs ([wiki](https://en.wikipedia.org/wiki/Representational_state_transfer#Applied_to_Web_services))\n",
    "- GraphQL\n",
    "- SOAP\n",
    "- gRPC\n",
    "\n",
    "In this talktorial, we will focus on the first one, [REST](https://en.wikipedia.org/wiki/Representational_state_transfer)."
   ]
  },
  {
   "cell_type": "markdown",
   "metadata": {},
   "source": [
    "#### HTTP-based RESTful APIs\n",
    "\n",
    "This type of programmatic access defines a specific entry point for clients (scripts, libraries, programs) that require programmatic access, something like `api.webservice.com`. This is usually different from the website itself (`webservice.com`). They can be versioned, so the provider can update the scheme without disrupting existing implementations (`api.webservice.com/v1` will still work even when `api.webservice.com/v2` has been deployed).\n",
    "\n",
    "This kind of API is usually accompanied by well-written documentation explaining all the available actions in the platform. For example, look at the [KLIFS API documentation](https://klifs.net/swagger). KLIFS is a database of kinase targets and small compound inhibitors. You can see how every argument and option is documented, along with usage examples. \n",
    "\n",
    "If you wanted to list all the kinase families available in KLIFS, you need to access this URL:\n",
    "\n",
    "```\n",
    "https://klifs.net/api/kinase_groups\n",
    "```\n",
    "\n",
    "<details>\n",
    "    <summary>\n",
    "        Result (click here!)\n",
    "    </summary>\n",
    "\n",
    "```\n",
    "[\n",
    "  \"AGC\",\n",
    "  \"CAMK\",\n",
    "  \"CK1\",\n",
    "  \"CMGC\",\n",
    "  \"Other\",\n",
    "  \"STE\",\n",
    "  \"TK\",\n",
    "  \"TKL\"\n",
    "]\n",
    "```\n",
    "    \n",
    "\n",
    "</details>\n",
    "\n",
    "\n",
    "This response happens to be [JSON](https://en.wikipedia.org/wiki/JSON)-formatted! This is easily parsed into a Python object using the `json` library. The best news is that you don't even need that. Using `requests`, the following operation can be done in three lines thanks to the `.json()` method:"
   ]
  },
  {
   "cell_type": "code",
   "execution_count": 17,
   "metadata": {
    "ExecuteTime": {
     "end_time": "2024-01-16T22:53:18.267856100Z",
     "start_time": "2024-01-16T22:53:17.632014900Z"
    },
    "tags": []
   },
   "outputs": [
    {
     "data": {
      "text/plain": [
       "['AGC', 'CAMK', 'CK1', 'CMGC', 'Other', 'STE', 'TK', 'TKL']"
      ]
     },
     "execution_count": 17,
     "metadata": {},
     "output_type": "execute_result"
    }
   ],
   "source": [
    "response = requests.get(\"https://klifs.net/api/kinase_groups\")\n",
    "response.raise_for_status()\n",
    "result = response.json()\n",
    "result\n",
    "\n",
    "# NBVAL_CHECK_OUTPUT"
   ]
  },
  {
   "cell_type": "markdown",
   "metadata": {},
   "source": [
    "That's a Python `list`!"
   ]
  },
  {
   "cell_type": "code",
   "execution_count": 18,
   "metadata": {
    "ExecuteTime": {
     "end_time": "2024-01-16T22:53:18.332789500Z",
     "start_time": "2024-01-16T22:53:18.270881200Z"
    },
    "tags": []
   },
   "outputs": [
    {
     "data": {
      "text/plain": [
       "'AGC'"
      ]
     },
     "execution_count": 18,
     "metadata": {},
     "output_type": "execute_result"
    }
   ],
   "source": [
    "result[0]"
   ]
  },
  {
   "cell_type": "markdown",
   "metadata": {},
   "source": [
    "Let's see if we can get all the kinase _families_ contained in a specific group. Reading the documentation, looks like we need this kind of URL:\n",
    "\n",
    "```\n",
    "https://klifs.net/api/kinase_families?kinase_group={{ NAME }}\n",
    "```\n",
    "\n",
    "> What follows after the `?` symbol is the _query_. It's formatted with a key-value syntax like this: `key=value`. Multiple parameters can be expressed with `&`:\n",
    "> \n",
    "> ```\n",
    "> https://api.webservice.com/some/endpoint?parameter1=value1&parameter2=value2\n",
    "> ```\n",
    "\n",
    "Let's see the returned object for the tyrosine kinase (TK) group: `family=TK`"
   ]
  },
  {
   "cell_type": "code",
   "execution_count": 19,
   "metadata": {
    "ExecuteTime": {
     "end_time": "2024-01-16T22:53:18.884968500Z",
     "start_time": "2024-01-16T22:53:18.287983300Z"
    },
    "tags": []
   },
   "outputs": [
    {
     "data": {
      "text/plain": [
       "['ALK',\n",
       " 'Abl',\n",
       " 'Ack',\n",
       " 'Alk',\n",
       " 'Axl',\n",
       " 'CCK4',\n",
       " 'Csk',\n",
       " 'DDR',\n",
       " 'EGFR',\n",
       " 'Eph',\n",
       " 'FAK',\n",
       " 'FGFR',\n",
       " 'Fer',\n",
       " 'InsR',\n",
       " 'JakA',\n",
       " 'JakB',\n",
       " 'Lmr',\n",
       " 'Met',\n",
       " 'Musk',\n",
       " 'PDGFR',\n",
       " 'Ret',\n",
       " 'Ror',\n",
       " 'Ryk',\n",
       " 'Sev',\n",
       " 'Src',\n",
       " 'Syk',\n",
       " 'TK-Unique',\n",
       " 'Tec',\n",
       " 'Tie',\n",
       " 'Trk',\n",
       " 'VEGFR']"
      ]
     },
     "execution_count": 19,
     "metadata": {},
     "output_type": "execute_result"
    }
   ],
   "source": [
    "response = requests.get(\"https://klifs.net/api/kinase_families?kinase_group=TK\")\n",
    "response.raise_for_status()\n",
    "result = response.json()\n",
    "result"
   ]
  },
  {
   "cell_type": "markdown",
   "metadata": {},
   "source": [
    "Since passing parameters to the URL is a very common task, `requests` provides a more convenient way. This will save you from building the URLs manually or HTML escaping the values. The key idea is to pass the key-value pairs as a dictionary. The previous query can be (and should be, if you ask us) done like this:"
   ]
  },
  {
   "cell_type": "code",
   "execution_count": 20,
   "metadata": {
    "ExecuteTime": {
     "end_time": "2024-01-16T22:53:19.482077400Z",
     "start_time": "2024-01-16T22:53:18.892086200Z"
    },
    "tags": []
   },
   "outputs": [
    {
     "name": "stdout",
     "output_type": "stream",
     "text": [
      "Queried https://klifs.net/api/kinase_families?kinase_group=TK\n"
     ]
    },
    {
     "data": {
      "text/plain": [
       "['ALK',\n",
       " 'Abl',\n",
       " 'Ack',\n",
       " 'Alk',\n",
       " 'Axl',\n",
       " 'CCK4',\n",
       " 'Csk',\n",
       " 'DDR',\n",
       " 'EGFR',\n",
       " 'Eph',\n",
       " 'FAK',\n",
       " 'FGFR',\n",
       " 'Fer',\n",
       " 'InsR',\n",
       " 'JakA',\n",
       " 'JakB',\n",
       " 'Lmr',\n",
       " 'Met',\n",
       " 'Musk',\n",
       " 'PDGFR',\n",
       " 'Ret',\n",
       " 'Ror',\n",
       " 'Ryk',\n",
       " 'Sev',\n",
       " 'Src',\n",
       " 'Syk',\n",
       " 'TK-Unique',\n",
       " 'Tec',\n",
       " 'Tie',\n",
       " 'Trk',\n",
       " 'VEGFR']"
      ]
     },
     "execution_count": 20,
     "metadata": {},
     "output_type": "execute_result"
    }
   ],
   "source": [
    "response = requests.get(\"https://klifs.net/api/kinase_families\", params={\"kinase_group\": \"TK\"})\n",
    "# You can see how requests formatted the URL for you\n",
    "print(\"Queried\", response.url)\n",
    "response.raise_for_status()\n",
    "result = response.json()\n",
    "result"
   ]
  },
  {
   "cell_type": "markdown",
   "metadata": {},
   "source": [
    "Sometimes the returned JSON object is not a list, but a dict. Or a combination of dictionaries and lists. Maybe even nested! You can still access them using the Python tools you already know.\n",
    "\n",
    "For example, the `kinase_information` endpoint _requires_ a numeric ID, and will return a lot of information on a single kinase:"
   ]
  },
  {
   "cell_type": "code",
   "execution_count": 21,
   "metadata": {
    "ExecuteTime": {
     "end_time": "2024-01-16T22:53:20.047907600Z",
     "start_time": "2024-01-16T22:53:19.481077Z"
    },
    "tags": []
   },
   "outputs": [
    {
     "data": {
      "text/plain": [
       "[{'kinase_ID': 22,\n",
       "  'name': 'MASTL',\n",
       "  'HGNC': 'MASTL',\n",
       "  'family': 'MAST',\n",
       "  'group': 'AGC',\n",
       "  'kinase_class': 'MASTL',\n",
       "  'species': 'Human',\n",
       "  'full_name': 'microtubule associated serine/threonine kinase like',\n",
       "  'uniprot': 'Q96GX5',\n",
       "  'iuphar': 0,\n",
       "  'pocket': 'KPISRGAFGKVYLYAVKVVQVQAERDALALSKPFIVHLYYSYLVMEYLIGGDVKSLLHIYLHRHGIIHRDLKPDNMLILTDFGLS'}]"
      ]
     },
     "execution_count": 21,
     "metadata": {},
     "output_type": "execute_result"
    }
   ],
   "source": [
    "response = requests.get(\"https://klifs.net/api/kinase_information\", params={\"kinase_ID\": 22})\n",
    "response.raise_for_status()\n",
    "result = response.json()\n",
    "result\n",
    "\n",
    "# NBVAL_CHECK_OUTPUT"
   ]
  },
  {
   "cell_type": "markdown",
   "metadata": {},
   "source": [
    "If you want to know the UniProt ID for this kinase, you will need to access the first (and only) element in the returned list, and ask for the value of the `uniprot` key:"
   ]
  },
  {
   "cell_type": "code",
   "execution_count": 22,
   "metadata": {
    "ExecuteTime": {
     "end_time": "2024-01-16T22:53:20.137461800Z",
     "start_time": "2024-01-16T22:53:20.052939400Z"
    },
    "tags": []
   },
   "outputs": [
    {
     "data": {
      "text/plain": [
       "'Q96GX5'"
      ]
     },
     "execution_count": 22,
     "metadata": {},
     "output_type": "execute_result"
    }
   ],
   "source": [
    "result[0][\"uniprot\"]"
   ]
  },
  {
   "cell_type": "markdown",
   "metadata": {},
   "source": [
    "Turns out we can use this to get the full sequence of the protein (and not just the pocket sequence) using our UniProt function from before!"
   ]
  },
  {
   "cell_type": "code",
   "execution_count": 23,
   "metadata": {
    "ExecuteTime": {
     "end_time": "2024-01-16T22:53:22.190237100Z",
     "start_time": "2024-01-16T22:53:20.062392Z"
    },
    "tags": []
   },
   "outputs": [
    {
     "name": "stdout",
     "output_type": "stream",
     "text": [
      "MDPTAGSKKEPGGGAATEEGVNRIAVPKPPSIEEFSIVKPISRGAFGKVYLGQKGGKLYAVKVVKKADMINKNMTHQVQAERDALALSKSPFIVHLYYSLQSANNVYLVMEYLIGGDVKSLLHIYGYFDEEMAVKYISEVALALDYLHRHGIIHRDLKPDNMLISNEGHIKLTDFGLSKVTLNRDINMMDILTTPSMAKPRQDYSRTPGQVLSLISSLGFNTPIAEKNQDPANILSACLSETSQLSQGLVCPMSVDQKDTTPYSSKLLKSCLETVASNPGMPVKCLTSNLLQSRKRLATSSASSQSHTFISSVESECHSSPKWEKDCQESDEALGPTMMSWNAVEKLCAKSANAIETKGFNKKDLELALSPIHNSSALPTTGRSCVNLAKKCFSGEVSWEAVELDVNNINMDTDTSQLGFHQSNQWAVDSGGISEEHLGKRSLKRNFELVDSSPCKKIIQNKKTCVEYKHNEMTNCYTNQNTGLTVEVQDLKLSVHKSQQNDCANKENIVNSFTDKQQTPEKLPIPMIAKNLMCELDEDCEKNSKRDYLSSSFLCSDDDRASKNISMNSDSSFPGISIMESPLESQPLDSDRSIKESSFEESNIEDPLIVTPDCQEKTSPKGVENPAVQESNQKMLGPPLEVLKTLASKRNAVAFRSFNSHINASNNSEPSRMNMTSLDAMDISCAYSGSYPMAITPTQKRRSCMPHQQTPNQIKSGTPYRTPKSVRRGVAPVDDGRILGTPDYLAPELLLGRAHGPAVDWWALGVCLFEFLTGIPPFNDETPQQVFQNILKRDIPWPEGEEKLSDNAQSAVEILLTIDDTKRAGMKELKRHPLFSDVDWENLQHQTMPFIPQPDDETDTSYFEARNTAQHLTVSGFSL\n"
     ]
    }
   ],
   "source": [
    "mastl = sequence_for_uniprot_id(result[0][\"uniprot\"])\n",
    "print(mastl.seq)\n",
    "\n",
    "# NBVAL_CHECK_OUTPUT"
   ]
  },
  {
   "cell_type": "markdown",
   "metadata": {},
   "source": [
    "We are using two webservices together, awesome!"
   ]
  },
  {
   "cell_type": "markdown",
   "metadata": {},
   "source": [
    "#### Generating a client for any API\n",
    "\n",
    "Did you find that convenient? Well, we are not done yet! You might have noticed that all the endpoints in the KLIFS API have a similar pattern. You specify the name of the endpoint (`kinase_groups`, `kinase_families`, `kinase_information`, ...), pass some (optional) parameters if needed, and then get a JSON-formatted response. Is there a way you can avoid having to format the URLs yourself? The answer is... yes!\n",
    "\n",
    "The REST API scheme can be expressed programmatically in a document called [Swagger/OpenAPI definitions](https://swagger.io/docs/specification/about/), which allows to dynamically generate a Python client for any REST API that implements the Swagger/OpenAPI schema. [This is the one for KLIFS](https://klifs.net/swagger/swagger.json).\n",
    "\n",
    "Of course, there are libraries for doing that in Python, like `bravado`."
   ]
  },
  {
   "cell_type": "code",
   "execution_count": 24,
   "metadata": {
    "ExecuteTime": {
     "end_time": "2024-01-16T22:53:23.587721400Z",
     "start_time": "2024-01-16T22:53:22.192234300Z"
    },
    "tags": []
   },
   "outputs": [
    {
     "data": {
      "text/plain": [
       "SwaggerClient(https://klifs.net/api)"
      ]
     },
     "execution_count": 24,
     "metadata": {},
     "output_type": "execute_result"
    }
   ],
   "source": [
    "KLIFS_SWAGGER = \"https://klifs.net/swagger/swagger.json\"\n",
    "client = SwaggerClient.from_url(KLIFS_SWAGGER, config={\"validate_responses\": False})\n",
    "client"
   ]
  },
  {
   "cell_type": "markdown",
   "metadata": {},
   "source": [
    "Then, you can have fun inspecting the `client` object for all the API actions as methods.\n",
    "\n",
    "ℹ __Tip__: Type `client.` and press <kbd>Tab</kbd> to inspect the client in this notebook."
   ]
  },
  {
   "cell_type": "code",
   "execution_count": 25,
   "metadata": {
    "ExecuteTime": {
     "end_time": "2024-01-16T22:53:24.128876600Z",
     "start_time": "2024-01-16T22:53:23.590236900Z"
    },
    "tags": []
   },
   "outputs": [
    {
     "data": {
      "text/plain": [
       "\u001b[0;31mSignature:\u001b[0m      \u001b[0mclient\u001b[0m\u001b[0;34m.\u001b[0m\u001b[0mInformation\u001b[0m\u001b[0;34m.\u001b[0m\u001b[0mget_kinase_names\u001b[0m\u001b[0;34m(\u001b[0m\u001b[0;34m**\u001b[0m\u001b[0mop_kwargs\u001b[0m\u001b[0;34m)\u001b[0m\u001b[0;34m\u001b[0m\u001b[0;34m\u001b[0m\u001b[0m\n",
       "\u001b[0;31mType:\u001b[0m           CallableOperation\n",
       "\u001b[0;31mString form:\u001b[0m    <bravado.client.CallableOperation object at 0x7f56ac785f10>\n",
       "\u001b[0;31mFile:\u001b[0m           ~/miniconda3/envs/teachopencadd-t011/lib/python3.11/site-packages/bravado/client.py\n",
       "\u001b[0;31mDocstring:\u001b[0m     \n",
       "[GET] Kinase names\n",
       "\n",
       "The Kinase names endpoint returns a list of all available kinases in KLIFS according using the HGNC gene symbols. When a kinase group or kinase family is specified only those kinase names that are within that kinase group or kinase family are returned. When both a group and a family are specified, only the family is used to process the request.\n",
       "\n",
       "\n",
       ":param kinase_group: Optional: Name (or multiple names separated by a comma) of the kinase group for which the kinase families are requested (e.g. TKL,STE). (optional)\n",
       ":type kinase_group: string\n",
       ":param kinase_family: Optional: Name (or multiple names separated by a comma) of the kinase family for which the kinase names are requested (e.g. AUR,WEE). (optional)\n",
       ":type kinase_family: string\n",
       ":param species: Optional: Species for which the kinase names are requested (e.g. HUMAN OR MOUSE). (optional)\n",
       ":type species: string\n",
       ":returns: 200: An array of IDs and kinase names\n",
       ":rtype: array:#/definitions/IDlist\n",
       ":returns: default: Unexpected error\n",
       ":rtype: #/definitions/Error\n",
       "\u001b[0;31mCall docstring:\u001b[0m\n",
       "Invoke the actual HTTP request and return a future.\n",
       "\n",
       ":rtype: :class:`bravado.http_future.HTTPFuture`"
      ]
     },
     "metadata": {},
     "output_type": "display_data"
    }
   ],
   "source": [
    "?client.Information.get_kinase_names"
   ]
  },
  {
   "cell_type": "markdown",
   "metadata": {},
   "source": [
    "`bravado` is auto-generating classes and functions that mirror the API we were using before! How cool is that? The same query can now be done without requests."
   ]
  },
  {
   "cell_type": "code",
   "execution_count": 26,
   "metadata": {
    "ExecuteTime": {
     "end_time": "2024-01-16T22:53:24.130874800Z",
     "start_time": "2024-01-16T22:53:23.673661200Z"
    },
    "tags": []
   },
   "outputs": [
    {
     "data": {
      "text/plain": [
       "<bravado.http_future.HttpFuture at 0x7f56acd3b510>"
      ]
     },
     "execution_count": 26,
     "metadata": {},
     "output_type": "execute_result"
    }
   ],
   "source": [
    "client.Information.get_kinase_information(kinase_ID=[22])"
   ]
  },
  {
   "cell_type": "markdown",
   "metadata": {},
   "source": [
    "Note that `bravado` does _not_ return the response right away. It creates a _promise_ that it will do so when you ask for it. This allows it to be usable in asynchronous programming, but for our purposes, it means that you need to call it with `.result()`."
   ]
  },
  {
   "cell_type": "code",
   "execution_count": 27,
   "metadata": {
    "ExecuteTime": {
     "end_time": "2024-01-16T22:53:24.294048700Z",
     "start_time": "2024-01-16T22:53:23.684674600Z"
    },
    "tags": []
   },
   "outputs": [
    {
     "data": {
      "text/plain": [
       "KinaseInformation(HGNC='MASTL', family='MAST', full_name='microtubule associated serine/threonine kinase like', group='AGC', iuphar=0, kinase_ID=22, kinase_class='MASTL', name='MASTL', pocket='KPISRGAFGKVYLYAVKVVQVQAERDALALSKPFIVHLYYSYLVMEYLIGGDVKSLLHIYLHRHGIIHRDLKPDNMLILTDFGLS', species='Human', uniprot='Q96GX5')"
      ]
     },
     "execution_count": 27,
     "metadata": {},
     "output_type": "execute_result"
    }
   ],
   "source": [
    "results = client.Information.get_kinase_information(kinase_ID=[22]).result()\n",
    "result = results[0]\n",
    "result"
   ]
  },
  {
   "cell_type": "code",
   "execution_count": 28,
   "metadata": {
    "ExecuteTime": {
     "end_time": "2024-01-16T22:53:24.296050900Z",
     "start_time": "2024-01-16T22:53:23.777943500Z"
    },
    "tags": []
   },
   "outputs": [
    {
     "data": {
      "text/plain": [
       "'Q96GX5'"
      ]
     },
     "execution_count": 28,
     "metadata": {},
     "output_type": "execute_result"
    }
   ],
   "source": [
    "result.uniprot\n",
    "\n",
    "# NBVAL_CHECK_OUTPUT"
   ]
  },
  {
   "cell_type": "markdown",
   "metadata": {},
   "source": [
    "`bravado` also builds result _objects_ for you, so you don't have to use the `result[\"property\"]` syntax, but the `result.property` one. Some more convenience for the end user ;)"
   ]
  },
  {
   "cell_type": "markdown",
   "metadata": {},
   "source": [
    "### Document parsing\n",
    "\n",
    "Sometimes the web service will not provide a standardized API that produces machine-readable documents. Instead, you will have to use the regular webpage and parse through the HTML code to obtain the information you need. This is called (web) __scraping__, which usually involves finding the right HTML tags and IDs that contain the valuable data (ignoring things such as the sidebars, top menus, footers, ads, etc).\n",
    "\n",
    "In scraping, you basically do two things:\n",
    "\n",
    "1. Access the webpage with `requests` and obtain the HTML contents.\n",
    "2. Parse the HTML string with `BeautifulSoup` or `requests-html`.\n",
    "\n",
    "\n",
    "Let's parse the proteinogenic amino acids table in this [Wikipedia article](https://en.wikipedia.org/wiki/Proteinogenic_amino_acid):"
   ]
  },
  {
   "cell_type": "code",
   "execution_count": 29,
   "metadata": {
    "ExecuteTime": {
     "end_time": "2024-01-16T23:45:09.407937300Z",
     "start_time": "2024-01-16T23:45:06.860350900Z"
    },
    "tags": []
   },
   "outputs": [
    {
     "data": {
      "text/html": [
       "<div>\n",
       "<style scoped>\n",
       "    .dataframe tbody tr th:only-of-type {\n",
       "        vertical-align: middle;\n",
       "    }\n",
       "\n",
       "    .dataframe tbody tr th {\n",
       "        vertical-align: top;\n",
       "    }\n",
       "\n",
       "    .dataframe thead th {\n",
       "        text-align: right;\n",
       "    }\n",
       "</style>\n",
       "<table border=\"1\" class=\"dataframe\">\n",
       "  <thead>\n",
       "    <tr style=\"text-align: right;\">\n",
       "      <th></th>\n",
       "      <th>0</th>\n",
       "      <th>1</th>\n",
       "      <th>2</th>\n",
       "      <th>3</th>\n",
       "      <th>4</th>\n",
       "      <th>5</th>\n",
       "    </tr>\n",
       "  </thead>\n",
       "  <tbody>\n",
       "    <tr>\n",
       "      <th>0</th>\n",
       "      <td>A</td>\n",
       "      <td>Ala</td>\n",
       "      <td>89.09404</td>\n",
       "      <td>6.01</td>\n",
       "      <td>2.35</td>\n",
       "      <td>9.87</td>\n",
       "    </tr>\n",
       "    <tr>\n",
       "      <th>1</th>\n",
       "      <td>C</td>\n",
       "      <td>Cys</td>\n",
       "      <td>121.15404</td>\n",
       "      <td>5.05</td>\n",
       "      <td>1.92</td>\n",
       "      <td>10.70</td>\n",
       "    </tr>\n",
       "    <tr>\n",
       "      <th>2</th>\n",
       "      <td>D</td>\n",
       "      <td>Asp</td>\n",
       "      <td>133.10384</td>\n",
       "      <td>2.85</td>\n",
       "      <td>1.99</td>\n",
       "      <td>9.90</td>\n",
       "    </tr>\n",
       "    <tr>\n",
       "      <th>3</th>\n",
       "      <td>E</td>\n",
       "      <td>Glu</td>\n",
       "      <td>147.13074</td>\n",
       "      <td>3.15</td>\n",
       "      <td>2.10</td>\n",
       "      <td>9.47</td>\n",
       "    </tr>\n",
       "    <tr>\n",
       "      <th>4</th>\n",
       "      <td>F</td>\n",
       "      <td>Phe</td>\n",
       "      <td>165.19184</td>\n",
       "      <td>5.49</td>\n",
       "      <td>2.20</td>\n",
       "      <td>9.31</td>\n",
       "    </tr>\n",
       "    <tr>\n",
       "      <th>5</th>\n",
       "      <td>G</td>\n",
       "      <td>Gly</td>\n",
       "      <td>75.06714</td>\n",
       "      <td>6.06</td>\n",
       "      <td>2.35</td>\n",
       "      <td>9.78</td>\n",
       "    </tr>\n",
       "    <tr>\n",
       "      <th>6</th>\n",
       "      <td>H</td>\n",
       "      <td>His</td>\n",
       "      <td>155.15634</td>\n",
       "      <td>7.60</td>\n",
       "      <td>1.80</td>\n",
       "      <td>9.33</td>\n",
       "    </tr>\n",
       "    <tr>\n",
       "      <th>7</th>\n",
       "      <td>I</td>\n",
       "      <td>Ile</td>\n",
       "      <td>131.17464</td>\n",
       "      <td>6.05</td>\n",
       "      <td>2.32</td>\n",
       "      <td>9.76</td>\n",
       "    </tr>\n",
       "    <tr>\n",
       "      <th>8</th>\n",
       "      <td>K</td>\n",
       "      <td>Lys</td>\n",
       "      <td>146.18934</td>\n",
       "      <td>9.60</td>\n",
       "      <td>2.16</td>\n",
       "      <td>9.06</td>\n",
       "    </tr>\n",
       "    <tr>\n",
       "      <th>9</th>\n",
       "      <td>L</td>\n",
       "      <td>Leu</td>\n",
       "      <td>131.17464</td>\n",
       "      <td>6.01</td>\n",
       "      <td>2.33</td>\n",
       "      <td>9.74</td>\n",
       "    </tr>\n",
       "    <tr>\n",
       "      <th>10</th>\n",
       "      <td>M</td>\n",
       "      <td>Met</td>\n",
       "      <td>149.20784</td>\n",
       "      <td>5.74</td>\n",
       "      <td>2.13</td>\n",
       "      <td>9.28</td>\n",
       "    </tr>\n",
       "    <tr>\n",
       "      <th>11</th>\n",
       "      <td>N</td>\n",
       "      <td>Asn</td>\n",
       "      <td>132.11904</td>\n",
       "      <td>5.41</td>\n",
       "      <td>2.14</td>\n",
       "      <td>8.72</td>\n",
       "    </tr>\n",
       "    <tr>\n",
       "      <th>12</th>\n",
       "      <td>O</td>\n",
       "      <td>Pyl</td>\n",
       "      <td>255.31000</td>\n",
       "      <td>NaN</td>\n",
       "      <td>NaN</td>\n",
       "      <td>NaN</td>\n",
       "    </tr>\n",
       "    <tr>\n",
       "      <th>13</th>\n",
       "      <td>P</td>\n",
       "      <td>Pro</td>\n",
       "      <td>115.13194</td>\n",
       "      <td>6.30</td>\n",
       "      <td>1.95</td>\n",
       "      <td>10.64</td>\n",
       "    </tr>\n",
       "    <tr>\n",
       "      <th>14</th>\n",
       "      <td>Q</td>\n",
       "      <td>Gln</td>\n",
       "      <td>146.14594</td>\n",
       "      <td>5.65</td>\n",
       "      <td>2.17</td>\n",
       "      <td>9.13</td>\n",
       "    </tr>\n",
       "    <tr>\n",
       "      <th>15</th>\n",
       "      <td>R</td>\n",
       "      <td>Arg</td>\n",
       "      <td>174.20274</td>\n",
       "      <td>10.76</td>\n",
       "      <td>1.82</td>\n",
       "      <td>8.99</td>\n",
       "    </tr>\n",
       "    <tr>\n",
       "      <th>16</th>\n",
       "      <td>S</td>\n",
       "      <td>Ser</td>\n",
       "      <td>105.09344</td>\n",
       "      <td>5.68</td>\n",
       "      <td>2.19</td>\n",
       "      <td>9.21</td>\n",
       "    </tr>\n",
       "    <tr>\n",
       "      <th>17</th>\n",
       "      <td>T</td>\n",
       "      <td>Thr</td>\n",
       "      <td>119.12034</td>\n",
       "      <td>5.60</td>\n",
       "      <td>2.09</td>\n",
       "      <td>9.10</td>\n",
       "    </tr>\n",
       "    <tr>\n",
       "      <th>18</th>\n",
       "      <td>U</td>\n",
       "      <td>Sec</td>\n",
       "      <td>168.05300</td>\n",
       "      <td>5.47</td>\n",
       "      <td>1.91</td>\n",
       "      <td>10.00</td>\n",
       "    </tr>\n",
       "    <tr>\n",
       "      <th>19</th>\n",
       "      <td>V</td>\n",
       "      <td>Val</td>\n",
       "      <td>117.14784</td>\n",
       "      <td>6.00</td>\n",
       "      <td>2.39</td>\n",
       "      <td>9.74</td>\n",
       "    </tr>\n",
       "    <tr>\n",
       "      <th>20</th>\n",
       "      <td>W</td>\n",
       "      <td>Trp</td>\n",
       "      <td>204.22844</td>\n",
       "      <td>5.89</td>\n",
       "      <td>2.46</td>\n",
       "      <td>9.41</td>\n",
       "    </tr>\n",
       "    <tr>\n",
       "      <th>21</th>\n",
       "      <td>Y</td>\n",
       "      <td>Tyr</td>\n",
       "      <td>181.19124</td>\n",
       "      <td>5.64</td>\n",
       "      <td>2.20</td>\n",
       "      <td>9.21</td>\n",
       "    </tr>\n",
       "  </tbody>\n",
       "</table>\n",
       "</div>"
      ],
      "text/plain": [
       "    0    1          2      3     4      5\n",
       "0   A  Ala   89.09404   6.01  2.35   9.87\n",
       "1   C  Cys  121.15404   5.05  1.92  10.70\n",
       "2   D  Asp  133.10384   2.85  1.99   9.90\n",
       "3   E  Glu  147.13074   3.15  2.10   9.47\n",
       "4   F  Phe  165.19184   5.49  2.20   9.31\n",
       "5   G  Gly   75.06714   6.06  2.35   9.78\n",
       "6   H  His  155.15634   7.60  1.80   9.33\n",
       "7   I  Ile  131.17464   6.05  2.32   9.76\n",
       "8   K  Lys  146.18934   9.60  2.16   9.06\n",
       "9   L  Leu  131.17464   6.01  2.33   9.74\n",
       "10  M  Met  149.20784   5.74  2.13   9.28\n",
       "11  N  Asn  132.11904   5.41  2.14   8.72\n",
       "12  O  Pyl  255.31000    NaN   NaN    NaN\n",
       "13  P  Pro  115.13194   6.30  1.95  10.64\n",
       "14  Q  Gln  146.14594   5.65  2.17   9.13\n",
       "15  R  Arg  174.20274  10.76  1.82   8.99\n",
       "16  S  Ser  105.09344   5.68  2.19   9.21\n",
       "17  T  Thr  119.12034   5.60  2.09   9.10\n",
       "18  U  Sec  168.05300   5.47  1.91  10.00\n",
       "19  V  Val  117.14784   6.00  2.39   9.74\n",
       "20  W  Trp  204.22844   5.89  2.46   9.41\n",
       "21  Y  Tyr  181.19124   5.64  2.20   9.21"
      ]
     },
     "execution_count": 29,
     "metadata": {},
     "output_type": "execute_result"
    }
   ],
   "source": [
    "r = requests.get(\n",
    "    \"https://web.archive.org/web/20190911230737/https://en.wikipedia.org/wiki/Proteinogenic_amino_acid\"\n",
    ")\n",
    "r.raise_for_status()\n",
    "\n",
    "# To guess the correct steps here, you will have to inspect the HTML code by hand\n",
    "# Tip: use right-click + inspect content in any webpage to land in the HTML definition ;)\n",
    "html = BeautifulSoup(r.text)\n",
    "header = html.find(\"span\", id=\"General_chemical_properties\")\n",
    "table = header.find_all_next()[4]\n",
    "table_body = table.find(\"tbody\")\n",
    "\n",
    "data = []\n",
    "for row in table_body.find_all(\"tr\"):\n",
    "    cells = row.find_all(\"td\")\n",
    "    if cells:\n",
    "        data.append([])\n",
    "    for cell in cells:\n",
    "        cell_content = cell.text.strip()\n",
    "        try:  # convert to float if possible\n",
    "            cell_content = float(cell_content)\n",
    "        except ValueError:\n",
    "            pass\n",
    "        data[-1].append(cell_content)\n",
    "\n",
    "# Empty fields are denoted with \"?\" which casts respective columns to object types\n",
    "# (here mix of strings and floats) but we want float64, therefore replace \"?\" with NaN values\n",
    "pd.DataFrame.from_records(data).replace(\"?\", np.nan)\n",
    "\n",
    "# NBVAL_CHECK_OUTPUT"
   ]
  },
  {
   "cell_type": "markdown",
   "metadata": {},
   "source": [
    "### Browser remote control\n",
    "\n",
    "The trend some years ago was to build servers that dynamically generate HTML documents with some JavaScript here and there (such as Wikipedia). In other words, the HTML is built in the server and sent to the client (your browser).\n",
    "\n",
    "However, latest trends are pointing towards full applications built entirely with JavaScript frameworks. This means that the HTML content is dynamically generated in the client. Traditional parsing will not work and you will only download the placeholder HTML code that hosts the JavaScript framework. To work around this, the HTML must be rendered with a client-side JavaScript engine.\n",
    "\n",
    "We won't cover this in the current notebook, but you can check the following projects if you are interested:\n",
    "\n",
    "- [puppeteer](https://github.com/GoogleChrome/puppeteer)\n",
    "- [selenium](https://www.seleniumhq.org/)"
   ]
  },
  {
   "cell_type": "markdown",
   "metadata": {},
   "source": [
    "***\n",
    "\n",
    "## Discussion\n",
    "\n",
    "In this theoretical introduction you have seen how different methods to programmatically access online web services can be used from a Python interpreter. Leveraging these techniques you will be able to build automated pipelines inside Jupyter Notebooks. In the end, querying a database or downloading a file involves the same kind of tooling.\n",
    "\n",
    "Unfortunately, there is too much material to cover about web APIs in a single lesson. For example, how do you _send_ or _upload_ contents from Python? Can you submit forms? If you are interested in knowing more, the `requests` [documentation](https://requests.readthedocs.io/) should be your go-to resource. Some interesting parts include:\n",
    "\n",
    "* [Submitting forms with POST requests](https://docs.python-requests.org/en/v1.1.0/user/quickstart/#more-complicated-post-requests)\n",
    "* [User authentication](https://docs.python-requests.org/en/v1.1.0/user/authentication/#basic-authentication)"
   ]
  },
  {
   "cell_type": "markdown",
   "metadata": {},
   "source": [
    "## Quiz\n",
    "\n",
    "* Use the KLIFS API (with or without `bravado`, up to you) to find all kinases that can bind staurosporine (ligand code `STU`).\n",
    "* How can you find the correct HTML tags and identifiers to scrape a specific part of a website? Can it be automated?\n",
    "* Would you rather use programmatic APIs or manually crafted scrapers?"
   ]
  }
 ],
 "metadata": {
  "kernelspec": {
   "display_name": "Python 3 (ipykernel)",
   "language": "python",
   "name": "python3"
  },
  "language_info": {
   "codemirror_mode": {
    "name": "ipython",
    "version": 3
   },
   "file_extension": ".py",
   "mimetype": "text/x-python",
   "name": "python",
   "nbconvert_exporter": "python",
   "pygments_lexer": "ipython3",
   "version": "3.11.7"
  },
  "toc-autonumbering": true,
  "widgets": {
   "application/vnd.jupyter.widget-state+json": {
    "state": {},
    "version_major": 2,
    "version_minor": 0
   }
  }
 },
 "nbformat": 4,
 "nbformat_minor": 4
}
