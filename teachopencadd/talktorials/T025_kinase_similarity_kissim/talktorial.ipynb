{
 "cells": [
  {
   "cell_type": "markdown",
   "metadata": {
    "tags": []
   },
   "source": [
    "# T025 · Kinase similarity: Kinase pocket (KiSSim fingerprint)\n",
    "\n",
    "**Note:** This talktorial is a part of TeachOpenCADD, a platform that aims to teach domain-specific skills and to provide pipeline templates as starting points for research projects.\n",
    "\n",
    "Authors:\n",
    "\n",
    "- Dominique Sydow, 2021, [Volkamer lab, Charité](https://volkamerlab.org/)\n",
    "- Talia B. Kimber, 2021, [Volkamer lab, Charité](https://volkamerlab.org/)\n",
    "- Andrea Volkamer, 2021, [Volkamer lab, Charité](https://volkamerlab.org/)"
   ]
  },
  {
   "cell_type": "markdown",
   "metadata": {
    "tags": []
   },
   "source": [
    "## Aim of this talktorial\n",
    "\n",
    "We will assess the similarity between a set of kinases from a structural point of view using the [KiSSim](https://kissim.readthedocs.io/en/latest/) fingerprint. This fingerprint describes the physicochemical and spatial properties in structurally resolved kinases.\n",
    "\n",
    "_Note_: We focus on similarities between orthosteric kinase binding sites; similarities to allosteric binding sites are not covered."
   ]
  },
  {
   "cell_type": "markdown",
   "metadata": {},
   "source": [
    "### Contents in *Theory*\n",
    "\n",
    "* Kinase dataset\n",
    "* Kinase similarity descriptor: Kinase pockets (KiSSim fingerprint)\n",
    "* Fetching KLIFS data with `opencadd.databases.klifs`"
   ]
  },
  {
   "cell_type": "markdown",
   "metadata": {},
   "source": [
    "### Contents in *Practical*\n",
    "\n",
    "* Define the kinases of interest\n",
    "* Retrieve and preprocess data\n",
    "    * Set up a remote KLIFS session\n",
    "    * Fetch all structures describing these kinases\n",
    "    * Filter structures\n",
    "* Show kinase coverage\n",
    "* Calculate KiSSim fingerprints\n",
    "* Compare structures\n",
    "* Map structure to kinase distance matrix\n",
    "* Save kinase distance matrix"
   ]
  },
  {
   "cell_type": "markdown",
   "metadata": {},
   "source": [
    "### References\n",
    "\n",
    "* Kinase dataset: [<i>Molecules</i> (2021), <b>26(3)</b>, 629](https://www.mdpi.com/1420-3049/26/3/629) \n",
    "* Protein Data Bank\n",
    "  * PDB URL: http://www.rcsb.org/\n",
    "  * PDB database: [<i>Acta Cryst.</i> (2002), <b>D58</b>, 899-907](https://doi.org/10.1107/S0907444902003451) and [<i>Structure</i> (2012), <b>20(3)</b>, 391-396](https://doi.org/10.1016/j.str.2012.01.010)\n",
    "* KLIFS\n",
    "  * KLIFS URL: https://klifs.net/\n",
    "  * KLIFS database: [<i>Nucleic Acid Res.</i> (2020), <b>49(D1)</b>, D562-D569](https://doi.org/10.1093/nar/gkaa895)\n",
    "  * KLIFS binding site definition: [<i>J. Med. Chem.</i> (2014), <b>57(2)</b>, 249-277](https://doi.org/10.1021/jm400378w)\n",
    " * Binding site comparison reviews: \n",
    "   * [<i>Curr. Comput. Aided Drug Des. </i> (2008), <b>4</b>, 209-20](https://www.eurekaselect.com/67606/article/how-measure-similarity-between-protein-ligand-binding-sites)\n",
    "    * [<i>J. Med. Chem. </i> (2016), <b>9</b>, 4121-51](https://pubs.acs.org/doi/10.1021/acs.jmedchem.6b00078)\n",
    "* KiSSim: Kinase Structural Similarity\n",
    "  * GitHub repository: https://github.com/volkamerlab/kissim\n",
    "  * Documentation: https://kissim.readthedocs.io\n",
    "* `opencadd`, a Python library for structural cheminformatics\n",
    "  * GitHub repository: https://github.com/volkamerlab/opencadd\n",
    "  * Documentation: https://opencadd.readthedocs.io"
   ]
  },
  {
   "cell_type": "markdown",
   "metadata": {},
   "source": [
    "## Theory"
   ]
  },
  {
   "cell_type": "markdown",
   "metadata": {},
   "source": [
    "### Kinase dataset"
   ]
  },
  {
   "cell_type": "markdown",
   "metadata": {},
   "source": [
    "We use the kinase selection as defined in __Talktorial T023__."
   ]
  },
  {
   "cell_type": "markdown",
   "metadata": {},
   "source": [
    "### Kinase similarity descriptor: Kinase pockets (KiSSim fingerprint)\n",
    "\n",
    "Side effects often occur when a drug binds not only to its designated target (on-target) but also to other targets (off-targets) that share similar binding sites to form similar protein-ligand interaction patterns. Many binding site comparison tools have been proposed to predict similarities and potential off-targets (see [<i>Curr. Comput. Aided Drug Des. </i> (2008), <b>4</b>, 209-20](https://www.eurekaselect.com/67606/article/how-measure-similarity-between-protein-ligand-binding-sites) and [<i>J. Med. Chem. </i> (2016), <b>9</b>, 4121-51](https://pubs.acs.org/doi/10.1021/acs.jmedchem.6b00078)). \n",
    "\n",
    "Here we use the novel [KiSSim](https://kissim.readthedocs.io/en/latest/) (*Ki*nase *S*tructure *Sim*ilarity) fingerprint, which is based on the KLIFS pocket definition and alignment of $85$ pocket residues (see more details in __Talktorial T023__)."
   ]
  },
  {
   "cell_type": "markdown",
   "metadata": {},
   "source": [
    "The KiSSim fingerprint encodes each of the $85$ residues in the KLIFS binding site with respect to physicochemical and spatial properties (Figure 1). Since all KLIFS pockets are aligned across the structurally covered kinome, we can compare the KiSSim fingerprints bit by bit. Physicochemical properties of each residue include pharmacophoric features, size, side chain orientation, and solvent exposure. Spatial properties describe the distance of each residue to defined important regions in the kinase pocket, for example the hinge region, which forms crucial hydrogen bonds to ligands, or the DFG region, whose conformation determines the activity state of the kinase. See more details on structural motifs in kinases in __Talktorial T023__.\n",
    "\n",
    "![KiSSim fingerprint](https://raw.githubusercontent.com/volkamerlab/kissim/main/docs/_static/kissim_toc.png)\n",
    "\n",
    "*Figure 1:* \n",
    "The KiSSim fingerprint encodes physicochemical and spatial properties of a kinase binding site.\n",
    "Figure taken from: https://github.com/volkamerlab/kissim"
   ]
  },
  {
   "cell_type": "markdown",
   "metadata": {},
   "source": [
    "### Fetching KLIFS data with `opencadd.databases.klifs`\n",
    "\n",
    "`opencadd` is a Python library for structural cheminformatics developed by the [Volkamer lab](https://volkamerlab.org/) at the Charité in Berlin. \n",
    "This library is a growing collection of modules that help facilitate and standardize common tasks in structural bioinformatics and cheminformatics. Today, we will use the module `opencadd.databases.klifs`, which allows us to fetch the KLIFS structures as a `pandas` DataFrame.\n",
    "\n",
    "- GitHub repository: https://github.com/volkamerlab/opencadd\n",
    "- Documentation: https://opencadd.readthedocs.io\n",
    "\n",
    "For more information about this library and the KLIFS OpenAPI, please refer to __Talktorial T012__."
   ]
  },
  {
   "cell_type": "markdown",
   "metadata": {},
   "source": [
    "## Practical"
   ]
  },
  {
   "cell_type": "code",
   "execution_count": 1,
   "metadata": {},
   "outputs": [],
   "source": [
    "from pathlib import Path\n",
    "\n",
    "import numpy as np\n",
    "import pandas as pd\n",
    "from sklearn.metrics import pairwise\n",
    "import matplotlib.pyplot as plt\n",
    "import seaborn as sns\n",
    "from opencadd.databases.klifs import setup_remote\n",
    "import kissim"
   ]
  },
  {
   "cell_type": "code",
   "execution_count": 2,
   "metadata": {},
   "outputs": [],
   "source": [
    "HERE = Path(_dh[-1])\n",
    "DATA = HERE / \"data\""
   ]
  },
  {
   "cell_type": "code",
   "execution_count": 3,
   "metadata": {},
   "outputs": [
    {
     "name": "stdout",
     "output_type": "stream",
     "text": [
      "Run in demo mode: True\n"
     ]
    }
   ],
   "source": [
    "configs = pd.read_csv(HERE / \"../T023_what_is_a_kinase/data/pipeline_configs.csv\")\n",
    "configs = configs.set_index(\"variable\")[\"default_value\"]\n",
    "\n",
    "DEMO = bool(int(configs[\"DEMO\"]))\n",
    "N_STRUCTURES_PER_KINASE = int(configs[\"N_STRUCTURES_PER_KINASE\"])\n",
    "N_CORES = int(configs[\"N_CORES\"])\n",
    "\n",
    "print(f\"Run in demo mode: {DEMO}\")\n",
    "if not DEMO:\n",
    "    if N_STRUCTURES_PER_KINASE > 0:\n",
    "        print(f\"Number of structures per kinase: {N_STRUCTURES_PER_KINASE}\")\n",
    "    else:\n",
    "        print(f\"Number of structures per kinase: all available structures\")\n",
    "    print(f\"Number of cores used: {N_CORES}\")\n",
    "\n",
    "# NBVAL_CHECK_OUTPUT"
   ]
  },
  {
   "cell_type": "markdown",
   "metadata": {},
   "source": [
    "### Define the kinases of interest"
   ]
  },
  {
   "cell_type": "markdown",
   "metadata": {},
   "source": [
    "Let's load the kinase selection as defined in __Talktorial T023__."
   ]
  },
  {
   "cell_type": "code",
   "execution_count": 4,
   "metadata": {},
   "outputs": [
    {
     "data": {
      "text/html": [
       "<div>\n",
       "<style scoped>\n",
       "    .dataframe tbody tr th:only-of-type {\n",
       "        vertical-align: middle;\n",
       "    }\n",
       "\n",
       "    .dataframe tbody tr th {\n",
       "        vertical-align: top;\n",
       "    }\n",
       "\n",
       "    .dataframe thead th {\n",
       "        text-align: right;\n",
       "    }\n",
       "</style>\n",
       "<table border=\"1\" class=\"dataframe\">\n",
       "  <thead>\n",
       "    <tr style=\"text-align: right;\">\n",
       "      <th></th>\n",
       "      <th>kinase</th>\n",
       "      <th>kinase_klifs</th>\n",
       "      <th>uniprot_id</th>\n",
       "      <th>group</th>\n",
       "      <th>full_kinase_name</th>\n",
       "    </tr>\n",
       "  </thead>\n",
       "  <tbody>\n",
       "    <tr>\n",
       "      <th>0</th>\n",
       "      <td>EGFR</td>\n",
       "      <td>EGFR</td>\n",
       "      <td>P00533</td>\n",
       "      <td>TK</td>\n",
       "      <td>Epidermal growth factor receptor</td>\n",
       "    </tr>\n",
       "    <tr>\n",
       "      <th>1</th>\n",
       "      <td>ErbB2</td>\n",
       "      <td>ErbB2</td>\n",
       "      <td>P04626</td>\n",
       "      <td>TK</td>\n",
       "      <td>Erythroblastic leukemia viral oncogene homolog 2</td>\n",
       "    </tr>\n",
       "    <tr>\n",
       "      <th>2</th>\n",
       "      <td>PI3K</td>\n",
       "      <td>p110a</td>\n",
       "      <td>P42336</td>\n",
       "      <td>Atypical</td>\n",
       "      <td>Phosphatidylinositol-3-kinase</td>\n",
       "    </tr>\n",
       "    <tr>\n",
       "      <th>3</th>\n",
       "      <td>VEGFR2</td>\n",
       "      <td>KDR</td>\n",
       "      <td>P35968</td>\n",
       "      <td>TK</td>\n",
       "      <td>Vascular endothelial growth factor receptor 2</td>\n",
       "    </tr>\n",
       "    <tr>\n",
       "      <th>4</th>\n",
       "      <td>BRAF</td>\n",
       "      <td>BRAF</td>\n",
       "      <td>P15056</td>\n",
       "      <td>TKL</td>\n",
       "      <td>Rapidly accelerated fibrosarcoma isoform B</td>\n",
       "    </tr>\n",
       "    <tr>\n",
       "      <th>5</th>\n",
       "      <td>CDK2</td>\n",
       "      <td>CDK2</td>\n",
       "      <td>P24941</td>\n",
       "      <td>CMGC</td>\n",
       "      <td>Cyclic-dependent kinase 2</td>\n",
       "    </tr>\n",
       "    <tr>\n",
       "      <th>6</th>\n",
       "      <td>LCK</td>\n",
       "      <td>LCK</td>\n",
       "      <td>P06239</td>\n",
       "      <td>TK</td>\n",
       "      <td>Lymphocyte-specific protein tyrosine kinase</td>\n",
       "    </tr>\n",
       "    <tr>\n",
       "      <th>7</th>\n",
       "      <td>MET</td>\n",
       "      <td>MET</td>\n",
       "      <td>P08581</td>\n",
       "      <td>TK</td>\n",
       "      <td>Mesenchymal-epithelial transition factor</td>\n",
       "    </tr>\n",
       "    <tr>\n",
       "      <th>8</th>\n",
       "      <td>p38a</td>\n",
       "      <td>p38a</td>\n",
       "      <td>Q16539</td>\n",
       "      <td>CMGC</td>\n",
       "      <td>p38 mitogen activated protein kinase alpha</td>\n",
       "    </tr>\n",
       "  </tbody>\n",
       "</table>\n",
       "</div>"
      ],
      "text/plain": [
       "   kinase kinase_klifs uniprot_id     group  \\\n",
       "0    EGFR         EGFR     P00533        TK   \n",
       "1   ErbB2        ErbB2     P04626        TK   \n",
       "2    PI3K        p110a     P42336  Atypical   \n",
       "3  VEGFR2          KDR     P35968        TK   \n",
       "4    BRAF         BRAF     P15056       TKL   \n",
       "5    CDK2         CDK2     P24941      CMGC   \n",
       "6     LCK          LCK     P06239        TK   \n",
       "7     MET          MET     P08581        TK   \n",
       "8    p38a         p38a     Q16539      CMGC   \n",
       "\n",
       "                                   full_kinase_name  \n",
       "0                  Epidermal growth factor receptor  \n",
       "1  Erythroblastic leukemia viral oncogene homolog 2  \n",
       "2                     Phosphatidylinositol-3-kinase  \n",
       "3     Vascular endothelial growth factor receptor 2  \n",
       "4        Rapidly accelerated fibrosarcoma isoform B  \n",
       "5                         Cyclic-dependent kinase 2  \n",
       "6       Lymphocyte-specific protein tyrosine kinase  \n",
       "7          Mesenchymal-epithelial transition factor  \n",
       "8        p38 mitogen activated protein kinase alpha  "
      ]
     },
     "execution_count": 4,
     "metadata": {},
     "output_type": "execute_result"
    }
   ],
   "source": [
    "kinase_selection_df = pd.read_csv(HERE / \"../T023_what_is_a_kinase/data/kinase_selection.csv\")\n",
    "kinase_selection_df\n",
    "# NBVAL_CHECK_OUTPUT"
   ]
  },
  {
   "cell_type": "markdown",
   "metadata": {},
   "source": [
    "### Retrieve and preprocess data"
   ]
  },
  {
   "cell_type": "markdown",
   "metadata": {},
   "source": [
    "Now, we query the KLIFS database using the `opencadd.databases.klifs` module to fetch available structures in KLIFS."
   ]
  },
  {
   "cell_type": "markdown",
   "metadata": {},
   "source": [
    "#### Set up a remote KLIFS session"
   ]
  },
  {
   "cell_type": "code",
   "execution_count": 5,
   "metadata": {},
   "outputs": [],
   "source": [
    "from opencadd.databases.klifs import setup_remote"
   ]
  },
  {
   "cell_type": "code",
   "execution_count": 6,
   "metadata": {},
   "outputs": [],
   "source": [
    "klifs_session = setup_remote()"
   ]
  },
  {
   "cell_type": "markdown",
   "metadata": {},
   "source": [
    "#### Fetch all structures describing these kinases"
   ]
  },
  {
   "cell_type": "code",
   "execution_count": 7,
   "metadata": {},
   "outputs": [
    {
     "name": "stdout",
     "output_type": "stream",
     "text": [
      "Number of structures: 2640\n",
      "Kinases: CDK2 p38a EGFR ErbB2 MET LCK KDR BRAF p110a\n"
     ]
    }
   ],
   "source": [
    "# Get list of kinase names\n",
    "kinase_names = kinase_selection_df[\"kinase_klifs\"].to_list()\n",
    "\n",
    "# Get all available structures for these kinases\n",
    "structures_df = klifs_session.structures.by_kinase_name(kinase_names=kinase_names)\n",
    "print(f\"Number of structures: {len(structures_df)}\")\n",
    "print(\"Kinases:\", *structures_df[\"kinase.klifs_name\"].unique())"
   ]
  },
  {
   "cell_type": "markdown",
   "metadata": {},
   "source": [
    "Let's have a look at what is stored in the structures' DataFrame:"
   ]
  },
  {
   "cell_type": "code",
   "execution_count": 8,
   "metadata": {},
   "outputs": [
    {
     "data": {
      "text/plain": [
       "Index(['structure.klifs_id', 'structure.pdb_id', 'structure.alternate_model',\n",
       "       'structure.chain', 'species.klifs', 'kinase.klifs_id',\n",
       "       'kinase.klifs_name', 'kinase.names', 'kinase.family', 'kinase.group',\n",
       "       'structure.pocket', 'ligand.expo_id', 'ligand_allosteric.expo_id',\n",
       "       'ligand.klifs_id', 'ligand_allosteric.klifs_id', 'ligand.name',\n",
       "       'ligand_allosteric.name', 'structure.dfg', 'structure.ac_helix',\n",
       "       'structure.resolution', 'structure.qualityscore',\n",
       "       'structure.missing_residues', 'structure.missing_atoms',\n",
       "       'structure.rmsd1', 'structure.rmsd2', 'interaction.fingerprint',\n",
       "       'structure.front', 'structure.gate', 'structure.back', 'structure.fp_i',\n",
       "       'structure.fp_ii', 'structure.bp_i_a', 'structure.bp_i_b',\n",
       "       'structure.bp_ii_in', 'structure.bp_ii_a_in', 'structure.bp_ii_b_in',\n",
       "       'structure.bp_ii_out', 'structure.bp_ii_b', 'structure.bp_iii',\n",
       "       'structure.bp_iv', 'structure.bp_v', 'structure.grich_distance',\n",
       "       'structure.grich_angle', 'structure.grich_rotation',\n",
       "       'structure.filepath', 'structure.curation_flag'],\n",
       "      dtype='object')"
      ]
     },
     "execution_count": 8,
     "metadata": {},
     "output_type": "execute_result"
    }
   ],
   "source": [
    "structures_df.columns"
   ]
  },
  {
   "cell_type": "code",
   "execution_count": 9,
   "metadata": {},
   "outputs": [
    {
     "data": {
      "text/html": [
       "<div>\n",
       "<style scoped>\n",
       "    .dataframe tbody tr th:only-of-type {\n",
       "        vertical-align: middle;\n",
       "    }\n",
       "\n",
       "    .dataframe tbody tr th {\n",
       "        vertical-align: top;\n",
       "    }\n",
       "\n",
       "    .dataframe thead th {\n",
       "        text-align: right;\n",
       "    }\n",
       "</style>\n",
       "<table border=\"1\" class=\"dataframe\">\n",
       "  <thead>\n",
       "    <tr style=\"text-align: right;\">\n",
       "      <th></th>\n",
       "      <th>structure.klifs_id</th>\n",
       "      <th>structure.pdb_id</th>\n",
       "      <th>structure.alternate_model</th>\n",
       "      <th>structure.chain</th>\n",
       "      <th>species.klifs</th>\n",
       "      <th>kinase.klifs_id</th>\n",
       "      <th>kinase.klifs_name</th>\n",
       "      <th>kinase.names</th>\n",
       "      <th>kinase.family</th>\n",
       "      <th>kinase.group</th>\n",
       "      <th>...</th>\n",
       "      <th>structure.bp_ii_out</th>\n",
       "      <th>structure.bp_ii_b</th>\n",
       "      <th>structure.bp_iii</th>\n",
       "      <th>structure.bp_iv</th>\n",
       "      <th>structure.bp_v</th>\n",
       "      <th>structure.grich_distance</th>\n",
       "      <th>structure.grich_angle</th>\n",
       "      <th>structure.grich_rotation</th>\n",
       "      <th>structure.filepath</th>\n",
       "      <th>structure.curation_flag</th>\n",
       "    </tr>\n",
       "  </thead>\n",
       "  <tbody>\n",
       "    <tr>\n",
       "      <th>0</th>\n",
       "      <td>4341</td>\n",
       "      <td>3qql</td>\n",
       "      <td>A</td>\n",
       "      <td>A</td>\n",
       "      <td>Human</td>\n",
       "      <td>198</td>\n",
       "      <td>CDK2</td>\n",
       "      <td>&lt;NA&gt;</td>\n",
       "      <td>&lt;NA&gt;</td>\n",
       "      <td>&lt;NA&gt;</td>\n",
       "      <td>...</td>\n",
       "      <td>False</td>\n",
       "      <td>False</td>\n",
       "      <td>False</td>\n",
       "      <td>False</td>\n",
       "      <td>False</td>\n",
       "      <td>14.3132</td>\n",
       "      <td>50.348301</td>\n",
       "      <td>67.737099</td>\n",
       "      <td>&lt;NA&gt;</td>\n",
       "      <td>False</td>\n",
       "    </tr>\n",
       "    <tr>\n",
       "      <th>1</th>\n",
       "      <td>4343</td>\n",
       "      <td>3qxp</td>\n",
       "      <td>A</td>\n",
       "      <td>A</td>\n",
       "      <td>Human</td>\n",
       "      <td>198</td>\n",
       "      <td>CDK2</td>\n",
       "      <td>&lt;NA&gt;</td>\n",
       "      <td>&lt;NA&gt;</td>\n",
       "      <td>&lt;NA&gt;</td>\n",
       "      <td>...</td>\n",
       "      <td>False</td>\n",
       "      <td>False</td>\n",
       "      <td>False</td>\n",
       "      <td>False</td>\n",
       "      <td>False</td>\n",
       "      <td>14.7860</td>\n",
       "      <td>49.589199</td>\n",
       "      <td>53.625000</td>\n",
       "      <td>&lt;NA&gt;</td>\n",
       "      <td>False</td>\n",
       "    </tr>\n",
       "    <tr>\n",
       "      <th>2</th>\n",
       "      <td>4344</td>\n",
       "      <td>4d1x</td>\n",
       "      <td>-</td>\n",
       "      <td>A</td>\n",
       "      <td>Human</td>\n",
       "      <td>198</td>\n",
       "      <td>CDK2</td>\n",
       "      <td>&lt;NA&gt;</td>\n",
       "      <td>&lt;NA&gt;</td>\n",
       "      <td>&lt;NA&gt;</td>\n",
       "      <td>...</td>\n",
       "      <td>False</td>\n",
       "      <td>False</td>\n",
       "      <td>False</td>\n",
       "      <td>False</td>\n",
       "      <td>False</td>\n",
       "      <td>13.7952</td>\n",
       "      <td>47.828999</td>\n",
       "      <td>67.880096</td>\n",
       "      <td>&lt;NA&gt;</td>\n",
       "      <td>False</td>\n",
       "    </tr>\n",
       "    <tr>\n",
       "      <th>3</th>\n",
       "      <td>4345</td>\n",
       "      <td>3r71</td>\n",
       "      <td>B</td>\n",
       "      <td>A</td>\n",
       "      <td>Human</td>\n",
       "      <td>198</td>\n",
       "      <td>CDK2</td>\n",
       "      <td>&lt;NA&gt;</td>\n",
       "      <td>&lt;NA&gt;</td>\n",
       "      <td>&lt;NA&gt;</td>\n",
       "      <td>...</td>\n",
       "      <td>False</td>\n",
       "      <td>False</td>\n",
       "      <td>False</td>\n",
       "      <td>False</td>\n",
       "      <td>False</td>\n",
       "      <td>14.7385</td>\n",
       "      <td>51.853500</td>\n",
       "      <td>64.533699</td>\n",
       "      <td>&lt;NA&gt;</td>\n",
       "      <td>False</td>\n",
       "    </tr>\n",
       "    <tr>\n",
       "      <th>4</th>\n",
       "      <td>4346</td>\n",
       "      <td>3qhw</td>\n",
       "      <td>A</td>\n",
       "      <td>A</td>\n",
       "      <td>Human</td>\n",
       "      <td>198</td>\n",
       "      <td>CDK2</td>\n",
       "      <td>&lt;NA&gt;</td>\n",
       "      <td>&lt;NA&gt;</td>\n",
       "      <td>&lt;NA&gt;</td>\n",
       "      <td>...</td>\n",
       "      <td>False</td>\n",
       "      <td>False</td>\n",
       "      <td>False</td>\n",
       "      <td>False</td>\n",
       "      <td>False</td>\n",
       "      <td>14.2767</td>\n",
       "      <td>47.307201</td>\n",
       "      <td>52.166000</td>\n",
       "      <td>&lt;NA&gt;</td>\n",
       "      <td>False</td>\n",
       "    </tr>\n",
       "  </tbody>\n",
       "</table>\n",
       "<p>5 rows × 46 columns</p>\n",
       "</div>"
      ],
      "text/plain": [
       "   structure.klifs_id structure.pdb_id structure.alternate_model  \\\n",
       "0                4341             3qql                         A   \n",
       "1                4343             3qxp                         A   \n",
       "2                4344             4d1x                         -   \n",
       "3                4345             3r71                         B   \n",
       "4                4346             3qhw                         A   \n",
       "\n",
       "  structure.chain species.klifs  kinase.klifs_id kinase.klifs_name  \\\n",
       "0               A         Human              198              CDK2   \n",
       "1               A         Human              198              CDK2   \n",
       "2               A         Human              198              CDK2   \n",
       "3               A         Human              198              CDK2   \n",
       "4               A         Human              198              CDK2   \n",
       "\n",
       "  kinase.names kinase.family kinase.group  ... structure.bp_ii_out  \\\n",
       "0         <NA>          <NA>         <NA>  ...               False   \n",
       "1         <NA>          <NA>         <NA>  ...               False   \n",
       "2         <NA>          <NA>         <NA>  ...               False   \n",
       "3         <NA>          <NA>         <NA>  ...               False   \n",
       "4         <NA>          <NA>         <NA>  ...               False   \n",
       "\n",
       "  structure.bp_ii_b structure.bp_iii  structure.bp_iv  structure.bp_v  \\\n",
       "0             False            False            False           False   \n",
       "1             False            False            False           False   \n",
       "2             False            False            False           False   \n",
       "3             False            False            False           False   \n",
       "4             False            False            False           False   \n",
       "\n",
       "  structure.grich_distance structure.grich_angle structure.grich_rotation  \\\n",
       "0                  14.3132             50.348301                67.737099   \n",
       "1                  14.7860             49.589199                53.625000   \n",
       "2                  13.7952             47.828999                67.880096   \n",
       "3                  14.7385             51.853500                64.533699   \n",
       "4                  14.2767             47.307201                52.166000   \n",
       "\n",
       "  structure.filepath  structure.curation_flag  \n",
       "0               <NA>                    False  \n",
       "1               <NA>                    False  \n",
       "2               <NA>                    False  \n",
       "3               <NA>                    False  \n",
       "4               <NA>                    False  \n",
       "\n",
       "[5 rows x 46 columns]"
      ]
     },
     "execution_count": 9,
     "metadata": {},
     "output_type": "execute_result"
    }
   ],
   "source": [
    "structures_df.head()"
   ]
  },
  {
   "cell_type": "markdown",
   "metadata": {},
   "source": [
    "#### Filter structures\n",
    "\n",
    "We filter the structures by different criteria:\n",
    "\n",
    "- Species: human\n",
    "- Conformation: DFG-in (the active kinase conformation)\n",
    "- Resolution: $\\le 3$ Angström\n",
    "- Quality score*: $\\ge 6$\n",
    "\n",
    "\\* The KLIFS quality score takes into account the quality of the alignment, as well as the number of missing residues and atoms. A higher score indicates a better structure quality."
   ]
  },
  {
   "cell_type": "code",
   "execution_count": 10,
   "metadata": {},
   "outputs": [
    {
     "name": "stdout",
     "output_type": "stream",
     "text": [
      "Number of structures: 1748\n",
      "Kinases: CDK2 p38a EGFR ErbB2 MET LCK KDR BRAF p110a\n"
     ]
    }
   ],
   "source": [
    "structures_df = structures_df[\n",
    "    (structures_df[\"species.klifs\"] == \"Human\")\n",
    "    & (structures_df[\"structure.dfg\"] == \"in\")\n",
    "    & (structures_df[\"structure.resolution\"] <= 3)\n",
    "    & (structures_df[\"structure.qualityscore\"] >= 6)\n",
    "]\n",
    "print(f\"Number of structures: {len(structures_df)}\")\n",
    "print(\"Kinases:\", *structures_df[\"kinase.klifs_name\"].unique())"
   ]
  },
  {
   "cell_type": "markdown",
   "metadata": {},
   "source": [
    "Save the structure KLIFS IDs for the next step."
   ]
  },
  {
   "cell_type": "code",
   "execution_count": 11,
   "metadata": {},
   "outputs": [
    {
     "name": "stdout",
     "output_type": "stream",
     "text": [
      "Number of structures: 1748\n"
     ]
    }
   ],
   "source": [
    "structure_klifs_ids = structures_df[\"structure.klifs_id\"].to_list()\n",
    "print(f\"Number of structures: {len(structure_klifs_ids)}\")"
   ]
  },
  {
   "cell_type": "markdown",
   "metadata": {},
   "source": [
    "_Note for demo mode_: To make it easier for us to maintain the talktorials, we will now load a set of frozen structure KLIFS IDs (2021-08-23) and continue to work with those.\n",
    "\n",
    "_Note for non-demo mode_: Did you specify `N_STRUCTURES_PER_KINASE` in the configuration file? If you e.g. set a value of 3, we will select in the following the top 3 structures per kinase in terms of resolution and KLIFS quality score."
   ]
  },
  {
   "cell_type": "code",
   "execution_count": 12,
   "metadata": {},
   "outputs": [
    {
     "name": "stdout",
     "output_type": "stream",
     "text": [
      "Notebook is run in demo mode - load frozen structure set.\n",
      "Number of structures: 1620\n"
     ]
    }
   ],
   "source": [
    "if DEMO:\n",
    "    # Load frozen dataset\n",
    "    print(\"Notebook is run in demo mode - load frozen structure set.\")\n",
    "    structure_klifs_ids = pd.read_csv(DATA / \"frozen_structure_klifs_ids.csv\")[\n",
    "        \"structure.klifs_id\"\n",
    "    ].to_list()\n",
    "    structures_df = structures_df[\n",
    "        structures_df[\"structure.klifs_id\"].isin(structure_klifs_ids)\n",
    "    ].copy()\n",
    "else:\n",
    "    if N_STRUCTURES_PER_KINASE > 0:\n",
    "        print(f\"Select {N_STRUCTURES_PER_KINASE} structures per kinase for downstream analysis.\")\n",
    "        # Sort structures by kinase and quality\n",
    "        structures_df = structures_df.sort_values(\n",
    "            by=[\"kinase.klifs_name\", \"structure.resolution\", \"structure.qualityscore\"],\n",
    "            ascending=[True, True, False],\n",
    "        )\n",
    "        # Reduce number of structures per kinase\n",
    "        structures_df = structures_df.groupby(\"kinase.klifs_name\").head(N_STRUCTURES_PER_KINASE)\n",
    "        structure_klifs_ids = structures_df[\"structure.klifs_id\"].to_list()\n",
    "    else:\n",
    "        print(f\"Use all available structures per kinase for downstream analysis.\")\n",
    "\n",
    "print(f\"Number of structures: {structures_df.shape[0]}\")\n",
    "# NBVAL_CHECK_OUTPUT"
   ]
  },
  {
   "cell_type": "markdown",
   "metadata": {
    "tags": []
   },
   "source": [
    "### Show kinase coverage\n",
    "\n",
    "Let's get the number of structures that describe our kinases (kinase coverage)."
   ]
  },
  {
   "cell_type": "code",
   "execution_count": 13,
   "metadata": {},
   "outputs": [
    {
     "data": {
      "text/plain": [
       "kinase.klifs_name\n",
       "ErbB2      4\n",
       "KDR        6\n",
       "LCK       32\n",
       "p110a     49\n",
       "BRAF      72\n",
       "MET       99\n",
       "p38a     151\n",
       "EGFR     357\n",
       "CDK2     850\n",
       "dtype: int64"
      ]
     },
     "execution_count": 13,
     "metadata": {},
     "output_type": "execute_result"
    }
   ],
   "source": [
    "# Use pandas' groupby method to count the number of structures (rows) per kinase\n",
    "n_structures_per_kinase = structures_df.groupby(\"kinase.klifs_name\").size().sort_values()\n",
    "n_structures_per_kinase\n",
    "# NBVAL_CHECK_OUTPUT"
   ]
  },
  {
   "cell_type": "markdown",
   "metadata": {},
   "source": [
    "Let's plot the results."
   ]
  },
  {
   "cell_type": "code",
   "execution_count": 14,
   "metadata": {
    "tags": [
     "nbsphinx-thumbnail"
    ]
   },
   "outputs": [
    {
     "data": {
      "image/png": "[encoded data removed]",
      "text/plain": [
       "<Figure size 640x480 with 1 Axes>"
      ]
     },
     "metadata": {},
     "output_type": "display_data"
    }
   ],
   "source": [
    "fig, ax = plt.subplots()\n",
    "n_structures_per_kinase.plot(kind=\"barh\", ax=ax)\n",
    "ax.set_xlabel(\"Number of structures\")\n",
    "ax.set_ylabel(\"Kinase name\")\n",
    "for i, value in enumerate(n_structures_per_kinase):\n",
    "    ax.text(value, i, str(value), va=\"center\")"
   ]
  },
  {
   "cell_type": "markdown",
   "metadata": {},
   "source": [
    "We see that our dataset is highly imbalanced. While some kinases are structurally resolved very often, other kinases are not. We will have to keep this in mind when interpreting our results later."
   ]
  },
  {
   "cell_type": "markdown",
   "metadata": {},
   "source": [
    "### Calculate KiSSim fingerprints"
   ]
  },
  {
   "cell_type": "markdown",
   "metadata": {},
   "source": [
    "We use the `kissim` API to encode our structures as KiSSim fingerprints and save the fingerprints as CSV file.\n",
    "\n",
    "_Note for demo mode_: We use pre-calculated KiSSim fingerprints for our kinase set (i.e. the next code cell will be skipped)."
   ]
  },
  {
   "cell_type": "code",
   "execution_count": 15,
   "metadata": {},
   "outputs": [
    {
     "name": "stdout",
     "output_type": "stream",
     "text": [
      "Notebook is run in demo mode - we will use pre-calculated fingerprints.\n"
     ]
    }
   ],
   "source": [
    "if DEMO:\n",
    "    print(\"Notebook is run in demo mode - we will use pre-calculated fingerprints.\")\n",
    "else:\n",
    "    print(\"Calculate and save KiSSim fingerprints...\")\n",
    "    # Calculate fingerprints\n",
    "    from kissim.api import encode\n",
    "\n",
    "    kissim_fingerprints = encode(structure_klifs_ids, n_cores=N_CORES)\n",
    "\n",
    "    # Save fingerprints in csv file\n",
    "    structure_klifs_ids = list(kissim_fingerprints.data.keys())\n",
    "    kissim_fingerprints_array = [\n",
    "        fingerprint.values_array().tolist()\n",
    "        for structure_klifs_id, fingerprint in kissim_fingerprints.data.items()\n",
    "    ]\n",
    "    kissim_fingerprints_array = np.array(kissim_fingerprints_array)\n",
    "    kissim_fingerprints_df = pd.DataFrame(kissim_fingerprints_array, index=structure_klifs_ids)\n",
    "    kissim_fingerprints_df.to_csv(DATA / \"kissim_fingerprints.csv\")\n",
    "\n",
    "# NBVAL_CHECK_OUTPUT"
   ]
  },
  {
   "cell_type": "markdown",
   "metadata": {},
   "source": [
    "Let's load the KiSSim fingerprints from the CSV file."
   ]
  },
  {
   "cell_type": "code",
   "execution_count": 16,
   "metadata": {},
   "outputs": [
    {
     "name": "stdout",
     "output_type": "stream",
     "text": [
      "Matrix shape: (1611, 1032)\n",
      "Number of fingerprints: 1611\n",
      "Number of fingerprint bits: 1032\n"
     ]
    }
   ],
   "source": [
    "kissim_fingerprints_df = pd.read_csv(DATA / \"kissim_fingerprints.csv\", index_col=0)\n",
    "print(f\"Matrix shape: {kissim_fingerprints_df.shape}\")\n",
    "print(f\"Number of fingerprints: {kissim_fingerprints_df.shape[0]}\")\n",
    "print(f\"Number of fingerprint bits: {kissim_fingerprints_df.shape[1]}\")\n",
    "# NBVAL_CHECK_OUTPUT"
   ]
  },
  {
   "cell_type": "markdown",
   "metadata": {},
   "source": [
    "You might notice that we have slightly fewer fingerprints than structures. This can happen during the `kissim` fingerprint generation, if a structure cannot be encoded."
   ]
  },
  {
   "cell_type": "markdown",
   "metadata": {},
   "source": [
    "Let's have a look at the fingerprint DataFrame. \n",
    "\n",
    "- Kinase structures are stored by KLIFS ID (index)\n",
    "- Each kinase is represented by $1032$ features, i.e. $85$ residues * $8$ physicochem. features + $85$ residues * $4$ distances + $12$ moments"
   ]
  },
  {
   "cell_type": "code",
   "execution_count": 17,
   "metadata": {},
   "outputs": [
    {
     "data": {
      "text/html": [
       "<div>\n",
       "<style scoped>\n",
       "    .dataframe tbody tr th:only-of-type {\n",
       "        vertical-align: middle;\n",
       "    }\n",
       "\n",
       "    .dataframe tbody tr th {\n",
       "        vertical-align: top;\n",
       "    }\n",
       "\n",
       "    .dataframe thead th {\n",
       "        text-align: right;\n",
       "    }\n",
       "</style>\n",
       "<table border=\"1\" class=\"dataframe\">\n",
       "  <thead>\n",
       "    <tr style=\"text-align: right;\">\n",
       "      <th></th>\n",
       "      <th>0</th>\n",
       "      <th>1</th>\n",
       "      <th>2</th>\n",
       "      <th>3</th>\n",
       "      <th>4</th>\n",
       "      <th>5</th>\n",
       "      <th>6</th>\n",
       "      <th>7</th>\n",
       "      <th>8</th>\n",
       "      <th>9</th>\n",
       "      <th>...</th>\n",
       "      <th>1022</th>\n",
       "      <th>1023</th>\n",
       "      <th>1024</th>\n",
       "      <th>1025</th>\n",
       "      <th>1026</th>\n",
       "      <th>1027</th>\n",
       "      <th>1028</th>\n",
       "      <th>1029</th>\n",
       "      <th>1030</th>\n",
       "      <th>1031</th>\n",
       "    </tr>\n",
       "  </thead>\n",
       "  <tbody>\n",
       "    <tr>\n",
       "      <th>6285</th>\n",
       "      <td>2.0</td>\n",
       "      <td>0.0</td>\n",
       "      <td>2.0</td>\n",
       "      <td>-1.0</td>\n",
       "      <td>0.0</td>\n",
       "      <td>0.0</td>\n",
       "      <td>2.0</td>\n",
       "      <td>3.0</td>\n",
       "      <td>2.0</td>\n",
       "      <td>1.0</td>\n",
       "      <td>...</td>\n",
       "      <td>13.150351</td>\n",
       "      <td>11.958837</td>\n",
       "      <td>4.717011</td>\n",
       "      <td>4.843444</td>\n",
       "      <td>4.655707</td>\n",
       "      <td>3.577213</td>\n",
       "      <td>2.771821</td>\n",
       "      <td>4.302192</td>\n",
       "      <td>3.583341</td>\n",
       "      <td>2.066700</td>\n",
       "    </tr>\n",
       "    <tr>\n",
       "      <th>10568</th>\n",
       "      <td>2.0</td>\n",
       "      <td>0.0</td>\n",
       "      <td>2.0</td>\n",
       "      <td>-1.0</td>\n",
       "      <td>0.0</td>\n",
       "      <td>0.0</td>\n",
       "      <td>2.0</td>\n",
       "      <td>3.0</td>\n",
       "      <td>2.0</td>\n",
       "      <td>1.0</td>\n",
       "      <td>...</td>\n",
       "      <td>13.069152</td>\n",
       "      <td>11.883944</td>\n",
       "      <td>4.691527</td>\n",
       "      <td>5.006221</td>\n",
       "      <td>4.679352</td>\n",
       "      <td>3.531177</td>\n",
       "      <td>2.714736</td>\n",
       "      <td>4.165350</td>\n",
       "      <td>3.549843</td>\n",
       "      <td>2.138838</td>\n",
       "    </tr>\n",
       "    <tr>\n",
       "      <th>11187</th>\n",
       "      <td>2.0</td>\n",
       "      <td>0.0</td>\n",
       "      <td>2.0</td>\n",
       "      <td>-1.0</td>\n",
       "      <td>0.0</td>\n",
       "      <td>0.0</td>\n",
       "      <td>2.0</td>\n",
       "      <td>3.0</td>\n",
       "      <td>2.0</td>\n",
       "      <td>1.0</td>\n",
       "      <td>...</td>\n",
       "      <td>13.297023</td>\n",
       "      <td>11.991511</td>\n",
       "      <td>4.590040</td>\n",
       "      <td>5.141397</td>\n",
       "      <td>4.699467</td>\n",
       "      <td>3.625989</td>\n",
       "      <td>2.549692</td>\n",
       "      <td>4.442117</td>\n",
       "      <td>3.699695</td>\n",
       "      <td>2.261646</td>\n",
       "    </tr>\n",
       "    <tr>\n",
       "      <th>4060</th>\n",
       "      <td>2.0</td>\n",
       "      <td>0.0</td>\n",
       "      <td>2.0</td>\n",
       "      <td>-1.0</td>\n",
       "      <td>0.0</td>\n",
       "      <td>0.0</td>\n",
       "      <td>2.0</td>\n",
       "      <td>3.0</td>\n",
       "      <td>2.0</td>\n",
       "      <td>1.0</td>\n",
       "      <td>...</td>\n",
       "      <td>12.910837</td>\n",
       "      <td>11.775556</td>\n",
       "      <td>4.359330</td>\n",
       "      <td>4.844833</td>\n",
       "      <td>4.214195</td>\n",
       "      <td>3.383812</td>\n",
       "      <td>2.699580</td>\n",
       "      <td>3.860920</td>\n",
       "      <td>3.161863</td>\n",
       "      <td>2.185979</td>\n",
       "    </tr>\n",
       "    <tr>\n",
       "      <th>10566</th>\n",
       "      <td>2.0</td>\n",
       "      <td>0.0</td>\n",
       "      <td>2.0</td>\n",
       "      <td>-1.0</td>\n",
       "      <td>0.0</td>\n",
       "      <td>0.0</td>\n",
       "      <td>2.0</td>\n",
       "      <td>3.0</td>\n",
       "      <td>2.0</td>\n",
       "      <td>1.0</td>\n",
       "      <td>...</td>\n",
       "      <td>13.196581</td>\n",
       "      <td>12.115342</td>\n",
       "      <td>4.701176</td>\n",
       "      <td>4.690081</td>\n",
       "      <td>4.683674</td>\n",
       "      <td>3.633418</td>\n",
       "      <td>2.489983</td>\n",
       "      <td>3.972552</td>\n",
       "      <td>3.692501</td>\n",
       "      <td>0.759234</td>\n",
       "    </tr>\n",
       "  </tbody>\n",
       "</table>\n",
       "<p>5 rows × 1032 columns</p>\n",
       "</div>"
      ],
      "text/plain": [
       "         0    1    2    3    4    5    6    7    8    9  ...       1022  \\\n",
       "6285   2.0  0.0  2.0 -1.0  0.0  0.0  2.0  3.0  2.0  1.0  ...  13.150351   \n",
       "10568  2.0  0.0  2.0 -1.0  0.0  0.0  2.0  3.0  2.0  1.0  ...  13.069152   \n",
       "11187  2.0  0.0  2.0 -1.0  0.0  0.0  2.0  3.0  2.0  1.0  ...  13.297023   \n",
       "4060   2.0  0.0  2.0 -1.0  0.0  0.0  2.0  3.0  2.0  1.0  ...  12.910837   \n",
       "10566  2.0  0.0  2.0 -1.0  0.0  0.0  2.0  3.0  2.0  1.0  ...  13.196581   \n",
       "\n",
       "            1023      1024      1025      1026      1027      1028      1029  \\\n",
       "6285   11.958837  4.717011  4.843444  4.655707  3.577213  2.771821  4.302192   \n",
       "10568  11.883944  4.691527  5.006221  4.679352  3.531177  2.714736  4.165350   \n",
       "11187  11.991511  4.590040  5.141397  4.699467  3.625989  2.549692  4.442117   \n",
       "4060   11.775556  4.359330  4.844833  4.214195  3.383812  2.699580  3.860920   \n",
       "10566  12.115342  4.701176  4.690081  4.683674  3.633418  2.489983  3.972552   \n",
       "\n",
       "           1030      1031  \n",
       "6285   3.583341  2.066700  \n",
       "10568  3.549843  2.138838  \n",
       "11187  3.699695  2.261646  \n",
       "4060   3.161863  2.185979  \n",
       "10566  3.692501  0.759234  \n",
       "\n",
       "[5 rows x 1032 columns]"
      ]
     },
     "execution_count": 17,
     "metadata": {},
     "output_type": "execute_result"
    }
   ],
   "source": [
    "kissim_fingerprints_df.head()\n",
    "# NBVAL_CHECK_OUTPUT"
   ]
  },
  {
   "cell_type": "markdown",
   "metadata": {},
   "source": [
    "### Compare structures\n",
    "\n",
    "Let's make a pairwise comparison of the KiSSim fingerprints. We use the `nan_euclidean_distances` method of `sklearn`, which calculates the Euclidean distance between all pairwise vectors. \n",
    "\n",
    "If two vectors have NaN values (which can happen if residues are not resolved in a structure), the following procedure is applied:\n",
    "\n",
    ">  When calculating the distance between a pair of samples, this formulation ignores feature coordinates with a missing value in either sample and scales up the weight of the remaining coordinates.\n",
    "\n",
    "Please find more information in the [sklearn documentation](https://scikit-learn.org/stable/modules/generated/sklearn.metrics.pairwise.nan_euclidean_distances.html)."
   ]
  },
  {
   "cell_type": "code",
   "execution_count": 18,
   "metadata": {},
   "outputs": [],
   "source": [
    "structure_distance_matrix_array = pairwise.nan_euclidean_distances(kissim_fingerprints_df.values)"
   ]
  },
  {
   "cell_type": "code",
   "execution_count": 19,
   "metadata": {},
   "outputs": [
    {
     "name": "stdout",
     "output_type": "stream",
     "text": [
      "Structure distance matrix size: (1611, 1611)\n",
      "Show matrix subset:\n"
     ]
    },
    {
     "data": {
      "text/html": [
       "<div>\n",
       "<style scoped>\n",
       "    .dataframe tbody tr th:only-of-type {\n",
       "        vertical-align: middle;\n",
       "    }\n",
       "\n",
       "    .dataframe tbody tr th {\n",
       "        vertical-align: top;\n",
       "    }\n",
       "\n",
       "    .dataframe thead th {\n",
       "        text-align: right;\n",
       "    }\n",
       "</style>\n",
       "<table border=\"1\" class=\"dataframe\">\n",
       "  <thead>\n",
       "    <tr style=\"text-align: right;\">\n",
       "      <th></th>\n",
       "      <th>6285</th>\n",
       "      <th>10568</th>\n",
       "      <th>11187</th>\n",
       "      <th>4060</th>\n",
       "      <th>10566</th>\n",
       "    </tr>\n",
       "  </thead>\n",
       "  <tbody>\n",
       "    <tr>\n",
       "      <th>6285</th>\n",
       "      <td>0.000000</td>\n",
       "      <td>13.256941</td>\n",
       "      <td>14.001474</td>\n",
       "      <td>26.391543</td>\n",
       "      <td>14.307291</td>\n",
       "    </tr>\n",
       "    <tr>\n",
       "      <th>10568</th>\n",
       "      <td>13.256941</td>\n",
       "      <td>0.000000</td>\n",
       "      <td>10.379779</td>\n",
       "      <td>27.882193</td>\n",
       "      <td>16.833932</td>\n",
       "    </tr>\n",
       "    <tr>\n",
       "      <th>11187</th>\n",
       "      <td>14.001474</td>\n",
       "      <td>10.379779</td>\n",
       "      <td>0.000000</td>\n",
       "      <td>30.962221</td>\n",
       "      <td>18.338492</td>\n",
       "    </tr>\n",
       "    <tr>\n",
       "      <th>4060</th>\n",
       "      <td>26.391543</td>\n",
       "      <td>27.882193</td>\n",
       "      <td>30.962221</td>\n",
       "      <td>0.000000</td>\n",
       "      <td>28.905189</td>\n",
       "    </tr>\n",
       "    <tr>\n",
       "      <th>10566</th>\n",
       "      <td>14.307291</td>\n",
       "      <td>16.833932</td>\n",
       "      <td>18.338492</td>\n",
       "      <td>28.905189</td>\n",
       "      <td>0.000000</td>\n",
       "    </tr>\n",
       "  </tbody>\n",
       "</table>\n",
       "</div>"
      ],
      "text/plain": [
       "           6285       10568      11187      4060       10566\n",
       "6285    0.000000  13.256941  14.001474  26.391543  14.307291\n",
       "10568  13.256941   0.000000  10.379779  27.882193  16.833932\n",
       "11187  14.001474  10.379779   0.000000  30.962221  18.338492\n",
       "4060   26.391543  27.882193  30.962221   0.000000  28.905189\n",
       "10566  14.307291  16.833932  18.338492  28.905189   0.000000"
      ]
     },
     "execution_count": 19,
     "metadata": {},
     "output_type": "execute_result"
    }
   ],
   "source": [
    "# Create DataFrame with structure KLIFS IDs as index/columns\n",
    "structure_klifs_ids = kissim_fingerprints_df.index.to_list()\n",
    "structure_distance_matrix_df = pd.DataFrame(\n",
    "    structure_distance_matrix_array, index=structure_klifs_ids, columns=structure_klifs_ids\n",
    ")\n",
    "print(f\"Structure distance matrix size: {structure_distance_matrix_df.shape}\")\n",
    "print(\"Show matrix subset:\")\n",
    "structure_distance_matrix_df.iloc[:5, :5]\n",
    "# NBVAL_CHECK_OUTPUT"
   ]
  },
  {
   "cell_type": "markdown",
   "metadata": {
    "tags": []
   },
   "source": [
    "### Map structure to kinase distance matrix\n",
    "\n",
    "Note: So far we compared individual structures, but we want to compare kinases (which can be represented by several structures, as plotted above).\n",
    "\n",
    "First, as an intermediate step, we will use the structure distance matrix but &mdash; instead of labeling the data with structure KLIFS IDs &mdash; we use the corresponding kinase name."
   ]
  },
  {
   "cell_type": "code",
   "execution_count": 20,
   "metadata": {},
   "outputs": [
    {
     "name": "stdout",
     "output_type": "stream",
     "text": [
      "Show matrix subset:\n"
     ]
    },
    {
     "data": {
      "text/html": [
       "<div>\n",
       "<style scoped>\n",
       "    .dataframe tbody tr th:only-of-type {\n",
       "        vertical-align: middle;\n",
       "    }\n",
       "\n",
       "    .dataframe tbody tr th {\n",
       "        vertical-align: top;\n",
       "    }\n",
       "\n",
       "    .dataframe thead th {\n",
       "        text-align: right;\n",
       "    }\n",
       "</style>\n",
       "<table border=\"1\" class=\"dataframe\">\n",
       "  <thead>\n",
       "    <tr style=\"text-align: right;\">\n",
       "      <th>kinase.klifs_name</th>\n",
       "      <th>CDK2</th>\n",
       "      <th>CDK2</th>\n",
       "      <th>CDK2</th>\n",
       "      <th>CDK2</th>\n",
       "      <th>CDK2</th>\n",
       "    </tr>\n",
       "    <tr>\n",
       "      <th>kinase.klifs_name</th>\n",
       "      <th></th>\n",
       "      <th></th>\n",
       "      <th></th>\n",
       "      <th></th>\n",
       "      <th></th>\n",
       "    </tr>\n",
       "  </thead>\n",
       "  <tbody>\n",
       "    <tr>\n",
       "      <th>CDK2</th>\n",
       "      <td>0.000000</td>\n",
       "      <td>13.256941</td>\n",
       "      <td>14.001474</td>\n",
       "      <td>26.391543</td>\n",
       "      <td>14.307291</td>\n",
       "    </tr>\n",
       "    <tr>\n",
       "      <th>CDK2</th>\n",
       "      <td>13.256941</td>\n",
       "      <td>0.000000</td>\n",
       "      <td>10.379779</td>\n",
       "      <td>27.882193</td>\n",
       "      <td>16.833932</td>\n",
       "    </tr>\n",
       "    <tr>\n",
       "      <th>CDK2</th>\n",
       "      <td>14.001474</td>\n",
       "      <td>10.379779</td>\n",
       "      <td>0.000000</td>\n",
       "      <td>30.962221</td>\n",
       "      <td>18.338492</td>\n",
       "    </tr>\n",
       "    <tr>\n",
       "      <th>CDK2</th>\n",
       "      <td>26.391543</td>\n",
       "      <td>27.882193</td>\n",
       "      <td>30.962221</td>\n",
       "      <td>0.000000</td>\n",
       "      <td>28.905189</td>\n",
       "    </tr>\n",
       "    <tr>\n",
       "      <th>CDK2</th>\n",
       "      <td>14.307291</td>\n",
       "      <td>16.833932</td>\n",
       "      <td>18.338492</td>\n",
       "      <td>28.905189</td>\n",
       "      <td>0.000000</td>\n",
       "    </tr>\n",
       "  </tbody>\n",
       "</table>\n",
       "</div>"
      ],
      "text/plain": [
       "kinase.klifs_name       CDK2       CDK2       CDK2       CDK2       CDK2\n",
       "kinase.klifs_name                                                       \n",
       "CDK2                0.000000  13.256941  14.001474  26.391543  14.307291\n",
       "CDK2               13.256941   0.000000  10.379779  27.882193  16.833932\n",
       "CDK2               14.001474  10.379779   0.000000  30.962221  18.338492\n",
       "CDK2               26.391543  27.882193  30.962221   0.000000  28.905189\n",
       "CDK2               14.307291  16.833932  18.338492  28.905189   0.000000"
      ]
     },
     "execution_count": 20,
     "metadata": {},
     "output_type": "execute_result"
    }
   ],
   "source": [
    "# Copy distance matrix to kinase matrix\n",
    "kinase_distance_matrix_df = structure_distance_matrix_df.copy()\n",
    "# Replace structure KLIFS IDs with the structures' kinase names\n",
    "kinase_names = structures_df.set_index(\"structure.klifs_id\").loc[\n",
    "    structure_klifs_ids, \"kinase.klifs_name\"\n",
    "]\n",
    "kinase_distance_matrix_df.index = kinase_names\n",
    "kinase_distance_matrix_df.columns = kinase_names\n",
    "print(\"Show matrix subset:\")\n",
    "kinase_distance_matrix_df.iloc[:5, :5]\n",
    "# NBVAL_CHECK_OUTPUT"
   ]
  },
  {
   "cell_type": "markdown",
   "metadata": {},
   "source": [
    "In this talktorial, we will consider per kinase pair the two structures that show the most similar pockets. Hence, we select the structure pair with the minimum distance as representative for a kinase pair."
   ]
  },
  {
   "cell_type": "code",
   "execution_count": 21,
   "metadata": {},
   "outputs": [],
   "source": [
    "# We unstack the matrix (each pairwise comparison in a single row)\n",
    "# We group by kinase names (level=[0, 1] ensures that the order of the kinases is ignored\n",
    "# We take the minimum value in each kinase pair group\n",
    "# We unstack the remaining data points\n",
    "kinase_distance_matrix_df = (\n",
    "    kinase_distance_matrix_df.unstack().groupby(level=[0, 1]).min().unstack(level=1)\n",
    ")\n",
    "# Cosmetics: Remove the index and column names\n",
    "kinase_distance_matrix_df.index.name = None\n",
    "kinase_distance_matrix_df.columns.name = None"
   ]
  },
  {
   "cell_type": "code",
   "execution_count": 22,
   "metadata": {},
   "outputs": [
    {
     "name": "stdout",
     "output_type": "stream",
     "text": [
      "Structure matrix of shape (1611, 1611) reduced to kinase matrix of shape (9, 9).\n"
     ]
    }
   ],
   "source": [
    "print(\n",
    "    f\"Structure matrix of shape {structure_distance_matrix_df.shape} \"\n",
    "    f\"reduced to kinase matrix of shape {kinase_distance_matrix_df.shape}.\"\n",
    ")\n",
    "# NBVAL_CHECK_OUTPUT"
   ]
  },
  {
   "cell_type": "code",
   "execution_count": 23,
   "metadata": {},
   "outputs": [
    {
     "data": {
      "text/html": [
       "<style type=\"text/css\">\n",
       "#T_62e4e_row0_col0, #T_62e4e_row1_col1, #T_62e4e_row2_col2, #T_62e4e_row3_col3, #T_62e4e_row4_col4, #T_62e4e_row5_col5, #T_62e4e_row6_col6, #T_62e4e_row7_col7, #T_62e4e_row8_col8 {\n",
       "  background-color: #ebf3eb;\n",
       "  color: #000000;\n",
       "}\n",
       "#T_62e4e_row0_col1, #T_62e4e_row5_col4 {\n",
       "  background-color: #7dbd7d;\n",
       "  color: #000000;\n",
       "}\n",
       "#T_62e4e_row0_col2, #T_62e4e_row4_col1, #T_62e4e_row6_col0 {\n",
       "  background-color: #6cb56c;\n",
       "  color: #f1f1f1;\n",
       "}\n",
       "#T_62e4e_row0_col3, #T_62e4e_row2_col0, #T_62e4e_row4_col6 {\n",
       "  background-color: #71b771;\n",
       "  color: #f1f1f1;\n",
       "}\n",
       "#T_62e4e_row0_col4, #T_62e4e_row0_col6 {\n",
       "  background-color: #72b872;\n",
       "  color: #f1f1f1;\n",
       "}\n",
       "#T_62e4e_row0_col5 {\n",
       "  background-color: #69b369;\n",
       "  color: #f1f1f1;\n",
       "}\n",
       "#T_62e4e_row0_col7 {\n",
       "  background-color: #148a14;\n",
       "  color: #f1f1f1;\n",
       "}\n",
       "#T_62e4e_row0_col8 {\n",
       "  background-color: #66b266;\n",
       "  color: #f1f1f1;\n",
       "}\n",
       "#T_62e4e_row1_col0, #T_62e4e_row3_col2, #T_62e4e_row5_col2 {\n",
       "  background-color: #80bf80;\n",
       "  color: #000000;\n",
       "}\n",
       "#T_62e4e_row1_col2 {\n",
       "  background-color: #75b975;\n",
       "  color: #f1f1f1;\n",
       "}\n",
       "#T_62e4e_row1_col3 {\n",
       "  background-color: #73b873;\n",
       "  color: #f1f1f1;\n",
       "}\n",
       "#T_62e4e_row1_col4 {\n",
       "  background-color: #79bc79;\n",
       "  color: #000000;\n",
       "}\n",
       "#T_62e4e_row1_col5 {\n",
       "  background-color: #7fbe7f;\n",
       "  color: #000000;\n",
       "}\n",
       "#T_62e4e_row1_col6 {\n",
       "  background-color: #7ebe7e;\n",
       "  color: #000000;\n",
       "}\n",
       "#T_62e4e_row1_col7 {\n",
       "  background-color: #198c19;\n",
       "  color: #f1f1f1;\n",
       "}\n",
       "#T_62e4e_row1_col8 {\n",
       "  background-color: #74b974;\n",
       "  color: #f1f1f1;\n",
       "}\n",
       "#T_62e4e_row2_col1, #T_62e4e_row4_col5, #T_62e4e_row6_col5, #T_62e4e_row8_col4 {\n",
       "  background-color: #77ba77;\n",
       "  color: #f1f1f1;\n",
       "}\n",
       "#T_62e4e_row2_col3 {\n",
       "  background-color: #8ec58e;\n",
       "  color: #000000;\n",
       "}\n",
       "#T_62e4e_row2_col4 {\n",
       "  background-color: #88c388;\n",
       "  color: #000000;\n",
       "}\n",
       "#T_62e4e_row2_col5 {\n",
       "  background-color: #87c287;\n",
       "  color: #000000;\n",
       "}\n",
       "#T_62e4e_row2_col6 {\n",
       "  background-color: #83c083;\n",
       "  color: #000000;\n",
       "}\n",
       "#T_62e4e_row2_col7 {\n",
       "  background-color: #1d8e1d;\n",
       "  color: #f1f1f1;\n",
       "}\n",
       "#T_62e4e_row2_col8, #T_62e4e_row4_col3, #T_62e4e_row8_col0, #T_62e4e_row8_col5 {\n",
       "  background-color: #63b163;\n",
       "  color: #f1f1f1;\n",
       "}\n",
       "#T_62e4e_row3_col0 {\n",
       "  background-color: #65b265;\n",
       "  color: #f1f1f1;\n",
       "}\n",
       "#T_62e4e_row3_col1, #T_62e4e_row3_col6, #T_62e4e_row5_col0, #T_62e4e_row6_col8 {\n",
       "  background-color: #64b164;\n",
       "  color: #f1f1f1;\n",
       "}\n",
       "#T_62e4e_row3_col4, #T_62e4e_row5_col3 {\n",
       "  background-color: #62b062;\n",
       "  color: #f1f1f1;\n",
       "}\n",
       "#T_62e4e_row3_col5 {\n",
       "  background-color: #5bad5b;\n",
       "  color: #f1f1f1;\n",
       "}\n",
       "#T_62e4e_row3_col7, #T_62e4e_row7_col0, #T_62e4e_row7_col1, #T_62e4e_row7_col2, #T_62e4e_row7_col3, #T_62e4e_row7_col4, #T_62e4e_row7_col5, #T_62e4e_row7_col6, #T_62e4e_row7_col8 {\n",
       "  background-color: #008000;\n",
       "  color: #f1f1f1;\n",
       "}\n",
       "#T_62e4e_row3_col8 {\n",
       "  background-color: #55a955;\n",
       "  color: #f1f1f1;\n",
       "}\n",
       "#T_62e4e_row4_col0 {\n",
       "  background-color: #67b267;\n",
       "  color: #f1f1f1;\n",
       "}\n",
       "#T_62e4e_row4_col2 {\n",
       "  background-color: #7abc7a;\n",
       "  color: #000000;\n",
       "}\n",
       "#T_62e4e_row4_col7 {\n",
       "  background-color: #018001;\n",
       "  color: #f1f1f1;\n",
       "}\n",
       "#T_62e4e_row4_col8 {\n",
       "  background-color: #6fb76f;\n",
       "  color: #f1f1f1;\n",
       "}\n",
       "#T_62e4e_row5_col1 {\n",
       "  background-color: #78bb78;\n",
       "  color: #f1f1f1;\n",
       "}\n",
       "#T_62e4e_row5_col6, #T_62e4e_row6_col2 {\n",
       "  background-color: #78bb78;\n",
       "  color: #000000;\n",
       "}\n",
       "#T_62e4e_row5_col7 {\n",
       "  background-color: #0c860c;\n",
       "  color: #f1f1f1;\n",
       "}\n",
       "#T_62e4e_row5_col8 {\n",
       "  background-color: #61b061;\n",
       "  color: #f1f1f1;\n",
       "}\n",
       "#T_62e4e_row6_col1, #T_62e4e_row6_col4 {\n",
       "  background-color: #76ba76;\n",
       "  color: #f1f1f1;\n",
       "}\n",
       "#T_62e4e_row6_col3 {\n",
       "  background-color: #6bb46b;\n",
       "  color: #f1f1f1;\n",
       "}\n",
       "#T_62e4e_row6_col7 {\n",
       "  background-color: #0a850a;\n",
       "  color: #f1f1f1;\n",
       "}\n",
       "#T_62e4e_row8_col1 {\n",
       "  background-color: #6eb66e;\n",
       "  color: #f1f1f1;\n",
       "}\n",
       "#T_62e4e_row8_col2 {\n",
       "  background-color: #5aac5a;\n",
       "  color: #f1f1f1;\n",
       "}\n",
       "#T_62e4e_row8_col3 {\n",
       "  background-color: #5eae5e;\n",
       "  color: #f1f1f1;\n",
       "}\n",
       "#T_62e4e_row8_col6 {\n",
       "  background-color: #68b368;\n",
       "  color: #f1f1f1;\n",
       "}\n",
       "#T_62e4e_row8_col7 {\n",
       "  background-color: #108810;\n",
       "  color: #f1f1f1;\n",
       "}\n",
       "</style>\n",
       "<table id=\"T_62e4e\">\n",
       "  <thead>\n",
       "    <tr>\n",
       "      <th class=\"blank level0\" >&nbsp;</th>\n",
       "      <th id=\"T_62e4e_level0_col0\" class=\"col_heading level0 col0\" >BRAF</th>\n",
       "      <th id=\"T_62e4e_level0_col1\" class=\"col_heading level0 col1\" >CDK2</th>\n",
       "      <th id=\"T_62e4e_level0_col2\" class=\"col_heading level0 col2\" >EGFR</th>\n",
       "      <th id=\"T_62e4e_level0_col3\" class=\"col_heading level0 col3\" >ErbB2</th>\n",
       "      <th id=\"T_62e4e_level0_col4\" class=\"col_heading level0 col4\" >KDR</th>\n",
       "      <th id=\"T_62e4e_level0_col5\" class=\"col_heading level0 col5\" >LCK</th>\n",
       "      <th id=\"T_62e4e_level0_col6\" class=\"col_heading level0 col6\" >MET</th>\n",
       "      <th id=\"T_62e4e_level0_col7\" class=\"col_heading level0 col7\" >p110a</th>\n",
       "      <th id=\"T_62e4e_level0_col8\" class=\"col_heading level0 col8\" >p38a</th>\n",
       "    </tr>\n",
       "  </thead>\n",
       "  <tbody>\n",
       "    <tr>\n",
       "      <th id=\"T_62e4e_level0_row0\" class=\"row_heading level0 row0\" >BRAF</th>\n",
       "      <td id=\"T_62e4e_row0_col0\" class=\"data row0 col0\" >0.000</td>\n",
       "      <td id=\"T_62e4e_row0_col1\" class=\"data row0 col1\" >17.156</td>\n",
       "      <td id=\"T_62e4e_row0_col2\" class=\"data row0 col2\" >19.515</td>\n",
       "      <td id=\"T_62e4e_row0_col3\" class=\"data row0 col3\" >21.383</td>\n",
       "      <td id=\"T_62e4e_row0_col4\" class=\"data row0 col4\" >21.089</td>\n",
       "      <td id=\"T_62e4e_row0_col5\" class=\"data row0 col5\" >21.583</td>\n",
       "      <td id=\"T_62e4e_row0_col6\" class=\"data row0 col6\" >20.297</td>\n",
       "      <td id=\"T_62e4e_row0_col7\" class=\"data row0 col7\" >37.611</td>\n",
       "      <td id=\"T_62e4e_row0_col8\" class=\"data row0 col8\" >21.731</td>\n",
       "    </tr>\n",
       "    <tr>\n",
       "      <th id=\"T_62e4e_level0_row1\" class=\"row_heading level0 row1\" >CDK2</th>\n",
       "      <td id=\"T_62e4e_row1_col0\" class=\"data row1 col0\" >17.156</td>\n",
       "      <td id=\"T_62e4e_row1_col1\" class=\"data row1 col1\" >0.000</td>\n",
       "      <td id=\"T_62e4e_row1_col2\" class=\"data row1 col2\" >18.147</td>\n",
       "      <td id=\"T_62e4e_row1_col3\" class=\"data row1 col3\" >21.106</td>\n",
       "      <td id=\"T_62e4e_row1_col4\" class=\"data row1 col4\" >19.880</td>\n",
       "      <td id=\"T_62e4e_row1_col5\" class=\"data row1 col5\" >17.973</td>\n",
       "      <td id=\"T_62e4e_row1_col6\" class=\"data row1 col6\" >18.304</td>\n",
       "      <td id=\"T_62e4e_row1_col7\" class=\"data row1 col7\" >36.780</td>\n",
       "      <td id=\"T_62e4e_row1_col8\" class=\"data row1 col8\" >19.481</td>\n",
       "    </tr>\n",
       "    <tr>\n",
       "      <th id=\"T_62e4e_level0_row2\" class=\"row_heading level0 row2\" >EGFR</th>\n",
       "      <td id=\"T_62e4e_row2_col0\" class=\"data row2 col0\" >19.515</td>\n",
       "      <td id=\"T_62e4e_row2_col1\" class=\"data row2 col1\" >18.147</td>\n",
       "      <td id=\"T_62e4e_row2_col2\" class=\"data row2 col2\" >0.000</td>\n",
       "      <td id=\"T_62e4e_row2_col3\" class=\"data row2 col3\" >16.392</td>\n",
       "      <td id=\"T_62e4e_row2_col4\" class=\"data row2 col4\" >17.282</td>\n",
       "      <td id=\"T_62e4e_row2_col5\" class=\"data row2 col5\" >16.467</td>\n",
       "      <td id=\"T_62e4e_row2_col6\" class=\"data row2 col6\" >17.498</td>\n",
       "      <td id=\"T_62e4e_row2_col7\" class=\"data row2 col7\" >36.046</td>\n",
       "      <td id=\"T_62e4e_row2_col8\" class=\"data row2 col8\" >22.128</td>\n",
       "    </tr>\n",
       "    <tr>\n",
       "      <th id=\"T_62e4e_level0_row3\" class=\"row_heading level0 row3\" >ErbB2</th>\n",
       "      <td id=\"T_62e4e_row3_col0\" class=\"data row3 col0\" >21.383</td>\n",
       "      <td id=\"T_62e4e_row3_col1\" class=\"data row3 col1\" >21.106</td>\n",
       "      <td id=\"T_62e4e_row3_col2\" class=\"data row3 col2\" >16.392</td>\n",
       "      <td id=\"T_62e4e_row3_col3\" class=\"data row3 col3\" >0.000</td>\n",
       "      <td id=\"T_62e4e_row3_col4\" class=\"data row3 col4\" >23.851</td>\n",
       "      <td id=\"T_62e4e_row3_col5\" class=\"data row3 col5\" >23.881</td>\n",
       "      <td id=\"T_62e4e_row3_col6\" class=\"data row3 col6\" >22.563</td>\n",
       "      <td id=\"T_62e4e_row3_col7\" class=\"data row3 col7\" >41.277</td>\n",
       "      <td id=\"T_62e4e_row3_col8\" class=\"data row3 col8\" >24.682</td>\n",
       "    </tr>\n",
       "    <tr>\n",
       "      <th id=\"T_62e4e_level0_row4\" class=\"row_heading level0 row4\" >KDR</th>\n",
       "      <td id=\"T_62e4e_row4_col0\" class=\"data row4 col0\" >21.089</td>\n",
       "      <td id=\"T_62e4e_row4_col1\" class=\"data row4 col1\" >19.880</td>\n",
       "      <td id=\"T_62e4e_row4_col2\" class=\"data row4 col2\" >17.282</td>\n",
       "      <td id=\"T_62e4e_row4_col3\" class=\"data row4 col3\" >23.851</td>\n",
       "      <td id=\"T_62e4e_row4_col4\" class=\"data row4 col4\" >0.000</td>\n",
       "      <td id=\"T_62e4e_row4_col5\" class=\"data row4 col5\" >19.255</td>\n",
       "      <td id=\"T_62e4e_row4_col6\" class=\"data row4 col6\" >20.431</td>\n",
       "      <td id=\"T_62e4e_row4_col7\" class=\"data row4 col7\" >41.104</td>\n",
       "      <td id=\"T_62e4e_row4_col8\" class=\"data row4 col8\" >20.263</td>\n",
       "    </tr>\n",
       "    <tr>\n",
       "      <th id=\"T_62e4e_level0_row5\" class=\"row_heading level0 row5\" >LCK</th>\n",
       "      <td id=\"T_62e4e_row5_col0\" class=\"data row5 col0\" >21.583</td>\n",
       "      <td id=\"T_62e4e_row5_col1\" class=\"data row5 col1\" >17.973</td>\n",
       "      <td id=\"T_62e4e_row5_col2\" class=\"data row5 col2\" >16.467</td>\n",
       "      <td id=\"T_62e4e_row5_col3\" class=\"data row5 col3\" >23.881</td>\n",
       "      <td id=\"T_62e4e_row5_col4\" class=\"data row5 col4\" >19.255</td>\n",
       "      <td id=\"T_62e4e_row5_col5\" class=\"data row5 col5\" >0.000</td>\n",
       "      <td id=\"T_62e4e_row5_col6\" class=\"data row5 col6\" >19.221</td>\n",
       "      <td id=\"T_62e4e_row5_col7\" class=\"data row5 col7\" >39.022</td>\n",
       "      <td id=\"T_62e4e_row5_col8\" class=\"data row5 col8\" >22.457</td>\n",
       "    </tr>\n",
       "    <tr>\n",
       "      <th id=\"T_62e4e_level0_row6\" class=\"row_heading level0 row6\" >MET</th>\n",
       "      <td id=\"T_62e4e_row6_col0\" class=\"data row6 col0\" >20.297</td>\n",
       "      <td id=\"T_62e4e_row6_col1\" class=\"data row6 col1\" >18.304</td>\n",
       "      <td id=\"T_62e4e_row6_col2\" class=\"data row6 col2\" >17.498</td>\n",
       "      <td id=\"T_62e4e_row6_col3\" class=\"data row6 col3\" >22.563</td>\n",
       "      <td id=\"T_62e4e_row6_col4\" class=\"data row6 col4\" >20.431</td>\n",
       "      <td id=\"T_62e4e_row6_col5\" class=\"data row6 col5\" >19.221</td>\n",
       "      <td id=\"T_62e4e_row6_col6\" class=\"data row6 col6\" >0.000</td>\n",
       "      <td id=\"T_62e4e_row6_col7\" class=\"data row6 col7\" >39.414</td>\n",
       "      <td id=\"T_62e4e_row6_col8\" class=\"data row6 col8\" >21.983</td>\n",
       "    </tr>\n",
       "    <tr>\n",
       "      <th id=\"T_62e4e_level0_row7\" class=\"row_heading level0 row7\" >p110a</th>\n",
       "      <td id=\"T_62e4e_row7_col0\" class=\"data row7 col0\" >37.611</td>\n",
       "      <td id=\"T_62e4e_row7_col1\" class=\"data row7 col1\" >36.780</td>\n",
       "      <td id=\"T_62e4e_row7_col2\" class=\"data row7 col2\" >36.046</td>\n",
       "      <td id=\"T_62e4e_row7_col3\" class=\"data row7 col3\" >41.277</td>\n",
       "      <td id=\"T_62e4e_row7_col4\" class=\"data row7 col4\" >41.104</td>\n",
       "      <td id=\"T_62e4e_row7_col5\" class=\"data row7 col5\" >39.022</td>\n",
       "      <td id=\"T_62e4e_row7_col6\" class=\"data row7 col6\" >39.414</td>\n",
       "      <td id=\"T_62e4e_row7_col7\" class=\"data row7 col7\" >0.000</td>\n",
       "      <td id=\"T_62e4e_row7_col8\" class=\"data row7 col8\" >38.530</td>\n",
       "    </tr>\n",
       "    <tr>\n",
       "      <th id=\"T_62e4e_level0_row8\" class=\"row_heading level0 row8\" >p38a</th>\n",
       "      <td id=\"T_62e4e_row8_col0\" class=\"data row8 col0\" >21.731</td>\n",
       "      <td id=\"T_62e4e_row8_col1\" class=\"data row8 col1\" >19.481</td>\n",
       "      <td id=\"T_62e4e_row8_col2\" class=\"data row8 col2\" >22.128</td>\n",
       "      <td id=\"T_62e4e_row8_col3\" class=\"data row8 col3\" >24.682</td>\n",
       "      <td id=\"T_62e4e_row8_col4\" class=\"data row8 col4\" >20.263</td>\n",
       "      <td id=\"T_62e4e_row8_col5\" class=\"data row8 col5\" >22.457</td>\n",
       "      <td id=\"T_62e4e_row8_col6\" class=\"data row8 col6\" >21.983</td>\n",
       "      <td id=\"T_62e4e_row8_col7\" class=\"data row8 col7\" >38.530</td>\n",
       "      <td id=\"T_62e4e_row8_col8\" class=\"data row8 col8\" >0.000</td>\n",
       "    </tr>\n",
       "  </tbody>\n",
       "</table>\n"
      ],
      "text/plain": [
       "<pandas.io.formats.style.Styler at 0x7f4a71a2afd0>"
      ]
     },
     "execution_count": 23,
     "metadata": {},
     "output_type": "execute_result"
    }
   ],
   "source": [
    "# Show matrix with background gradient\n",
    "cm = sns.light_palette(\"green\", as_cmap=True)\n",
    "kinase_distance_matrix_df.style.background_gradient(cmap=cm).format(\"{:.3f}\")"
   ]
  },
  {
   "cell_type": "markdown",
   "metadata": {},
   "source": [
    "Note: Since this is a distance matrix, lighter colors indicate similarity, darker colors dissimilarity."
   ]
  },
  {
   "cell_type": "markdown",
   "metadata": {
    "tags": []
   },
   "source": [
    "### Save kinase distance matrix"
   ]
  },
  {
   "cell_type": "code",
   "execution_count": 24,
   "metadata": {},
   "outputs": [],
   "source": [
    "kinase_distance_matrix_df.to_csv(DATA / \"kinase_distance_matrix.csv\")"
   ]
  },
  {
   "cell_type": "markdown",
   "metadata": {
    "jp-MarkdownHeadingCollapsed": true,
    "tags": []
   },
   "source": [
    "## Discussion\n",
    "\n",
    "In this talktorial, we have assessed kinase similarity using the KiSSim fingerprints, which describe physicochemical and spatial properties of pockets in kinase structures. We have reduced a _structure_ distance matrix to a _kinase_ distance matrix by selecting for each _kinase pair_ the corresponding closest _structure pair_. \n",
    "\n",
    "We have to keep two elements in mind:\n",
    "\n",
    "- Pocket fingerprints like KiSSim encode the full pocket although some residues might be more important for ligand binding than others. As an alternative, one could instead use a subset of residues that have been shown to frequently interact with co-crystallized ligands.\n",
    "- We only compare here the two closest structures per kinase pair, although we have &mdash; at least for kinases such as EGFR and CDK2 &mdash; much more structural data available. Aggregating multiple structures is a reasonable strategy but has two disadvantages: \n",
    "  - Some kinases have much higher coverage than others, leading to an imbalance in information content.\n",
    "  - Aggregated kinase fingerprints may cause too much averaging, making pairwise kinase comparison noisier.\n",
    "\n",
    "The kinase distance matrix above will be reloaded in __Talktorial T028__, where we compare kinase similarities from different perspectives, including the pocket structure perspective we have talked about in this talktorial."
   ]
  },
  {
   "cell_type": "markdown",
   "metadata": {},
   "source": [
    "## Quiz\n",
    "\n",
    "1. Can you think of reasons why it is important to include physicochemical *and* spatial properties in a fingerprint?\n",
    "2. Can you think of a reason why the side chain orientation and solvent exposure may be interesting features to consider in a fingerprint?\n",
    "2. Can you think of research questions for which you could make use of the structure distance matrix?"
   ]
  }
 ],
 "metadata": {
  "kernelspec": {
   "display_name": "Python 3 (ipykernel)",
   "language": "python",
   "name": "python3"
  },
  "language_info": {
   "codemirror_mode": {
    "name": "ipython",
    "version": 3
   },
   "file_extension": ".py",
   "mimetype": "text/x-python",
   "name": "python",
   "nbconvert_exporter": "python",
   "pygments_lexer": "ipython3",
   "version": "3.9.16"
  },
  "toc-autonumbering": true,
  "widgets": {
   "application/vnd.jupyter.widget-state+json": {
    "state": {},
    "version_major": 2,
    "version_minor": 0
   }
  }
 },
 "nbformat": 4,
 "nbformat_minor": 4
}
