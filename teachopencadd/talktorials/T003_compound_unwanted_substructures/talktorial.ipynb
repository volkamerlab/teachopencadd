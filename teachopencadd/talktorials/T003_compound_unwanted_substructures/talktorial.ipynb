{
 "cells": [
  {
   "cell_type": "markdown",
   "metadata": {},
   "source": [
    "# T003 · Molecular filtering: unwanted substructures\n",
    "\n",
    "**Note:** This talktorial is a part of TeachOpenCADD, a platform that aims to teach domain-specific skills and to provide pipeline templates as starting points for research projects.\n",
    "\n",
    "Authors:\n",
    "\n",
    "- Maximilian Driller, CADD seminar, 2017, Charité/FU Berlin\n",
    "- Sandra Krüger, CADD seminar, 2018, Charité/FU Berlin"
   ]
  },
  {
   "cell_type": "markdown",
   "metadata": {},
   "source": [
    "__Talktorial T003__: This talktorial is part of the TeachOpenCADD pipeline described in the first TeachOpenCADD publication ([_J. Cheminform._ (2019), **11**, 1-7](https://jcheminf.biomedcentral.com/articles/10.1186/s13321-019-0351-x)), comprising of talktorials T001-T010."
   ]
  },
  {
   "cell_type": "markdown",
   "metadata": {},
   "source": [
    "## Aim of this talktorial\n",
    "\n",
    "There are some substructures we prefer not to include into our screening library. In this talktorial, we learn about different types of such unwanted substructures and how to find, highlight and remove them with RDKit."
   ]
  },
  {
   "cell_type": "markdown",
   "metadata": {},
   "source": [
    "### Contents in Theory\n",
    "\n",
    "* Unwanted substructures\n",
    "* Pan Assay Interference Compounds (PAINS)  "
   ]
  },
  {
   "cell_type": "markdown",
   "metadata": {},
   "source": [
    "### Contents in Practical\n",
    "\n",
    "* Load and visualize data\n",
    "* Filter for PAINS\n",
    "* Filter for unwanted substructures\n",
    "* Highlight substructures\n",
    "* Substructure statistics"
   ]
  },
  {
   "cell_type": "markdown",
   "metadata": {},
   "source": [
    "### References\n",
    "\n",
    "* Pan Assay Interference compounds ([wikipedia](https://en.wikipedia.org/wiki/Pan-assay_interference_compounds), [_J. Med. Chem._ (2010), **53**, 2719-2740](https://pubs.acs.org/doi/abs/10.1021/jm901137j)) \n",
    "* Unwanted substructures according to Brenk *et al.* ([_Chem. Med. Chem._ (2008), **3**, 435-44](https://onlinelibrary.wiley.com/doi/full/10.1002/cmdc.200700139))\n",
    "* Inspired by a Teach-Discover-Treat tutorial ([repository](https://github.com/sriniker/TDT-tutorial-2014/blob/master/TDT_challenge_tutorial.ipynb))\n",
    "* RDKit ([repository](https://github.com/rdkit/rdkit), [documentation](https://www.rdkit.org/docs/index.html))"
   ]
  },
  {
   "cell_type": "markdown",
   "metadata": {},
   "source": [
    "## Theory"
   ]
  },
  {
   "cell_type": "markdown",
   "metadata": {},
   "source": [
    "### Unwanted substructures\n",
    "\n",
    "Substructures can be unfavorable, e.g., because they are toxic or reactive, due to unfavorable pharmacokinetic properties, or because they likely interfere with certain assays.\n",
    "Nowadays, drug discovery campaigns often involve [high throughput screening](https://en.wikipedia.org/wiki/High-throughput_screening). Filtering unwanted substructures can support assembling more efficient screening libraries, which can save time and resources. \n",
    "\n",
    "Brenk *et al.* ([_Chem. Med. Chem._ (2008), **3**, 435-44](https://onlinelibrary.wiley.com/doi/full/10.1002/cmdc.200700139)) have assembled a list of unfavorable substructures to filter their libraries used to screen for compounds to treat neglected diseases. Examples of such unwanted features are nitro groups (mutagenic), sulfates and phosphates (likely resulting in unfavorable pharmacokinetic properties), 2-halopyridines and thiols (reactive). This list of undesired substructures was published in the above mentioned paper and will be used in the practical part of this talktorial."
   ]
  },
  {
   "cell_type": "markdown",
   "metadata": {},
   "source": [
    "### Pan Assay Interference Compounds (PAINS)\n",
    "\n",
    "[PAINS](https://en.wikipedia.org/wiki/Pan-assay_interference_compounds) are compounds that often occur as hits in HTS even though they actually are false positives. PAINS show activity at numerous targets rather than one specific target. Such behavior results from unspecific binding or interaction with assay components. Baell *et al.* ([_J. Med. Chem._ (2010), **53**, 2719-2740](https://pubs.acs.org/doi/abs/10.1021/jm901137j)) focused on substructures interfering in assay signaling. They described substructures which can help to identify such PAINS and provided a list which can be used for substructure filtering.\n",
    "\n",
    "![PAINS](images/PAINS_Figure.jpeg)\n",
    "\n",
    "Figure 1: Specific and unspecific binding in the context of PAINS. Figure taken from [Wikipedia](https://commons.wikimedia.org/wiki/File:PAINS_Figure.tif)."
   ]
  },
  {
   "cell_type": "markdown",
   "metadata": {},
   "source": [
    "## Practical"
   ]
  },
  {
   "cell_type": "markdown",
   "metadata": {},
   "source": [
    "### Load and visualize data"
   ]
  },
  {
   "cell_type": "markdown",
   "metadata": {},
   "source": [
    "First, we import the required libraries, load our filtered dataset from **Talktorial T002** and draw the first molecules."
   ]
  },
  {
   "cell_type": "code",
   "execution_count": 1,
   "metadata": {},
   "outputs": [],
   "source": [
    "from pathlib import Path\n",
    "\n",
    "import pandas as pd\n",
    "from tqdm.auto import tqdm\n",
    "from rdkit import Chem\n",
    "from rdkit.Chem import PandasTools\n",
    "from rdkit.Chem.FilterCatalog import FilterCatalog, FilterCatalogParams\n",
    "\n",
    "import mols2grid"
   ]
  },
  {
   "cell_type": "code",
   "execution_count": 2,
   "metadata": {},
   "outputs": [],
   "source": [
    "# define paths\n",
    "HERE = Path(_dh[-1])\n",
    "DATA = HERE / \"data\""
   ]
  },
  {
   "cell_type": "code",
   "execution_count": 3,
   "metadata": {
    "scrolled": true
   },
   "outputs": [
    {
     "name": "stdout",
     "output_type": "stream",
     "text": [
      "Dataframe shape: (4635, 10)\n"
     ]
    },
    {
     "data": {
      "text/html": [
       "<div>\n",
       "<style scoped>\n",
       "    .dataframe tbody tr th:only-of-type {\n",
       "        vertical-align: middle;\n",
       "    }\n",
       "\n",
       "    .dataframe tbody tr th {\n",
       "        vertical-align: top;\n",
       "    }\n",
       "\n",
       "    .dataframe thead th {\n",
       "        text-align: right;\n",
       "    }\n",
       "</style>\n",
       "<table border=\"1\" class=\"dataframe\">\n",
       "  <thead>\n",
       "    <tr style=\"text-align: right;\">\n",
       "      <th></th>\n",
       "      <th>molecule_chembl_id</th>\n",
       "      <th>IC50</th>\n",
       "      <th>units</th>\n",
       "      <th>smiles</th>\n",
       "      <th>pIC50</th>\n",
       "      <th>ro5_fulfilled</th>\n",
       "    </tr>\n",
       "  </thead>\n",
       "  <tbody>\n",
       "    <tr>\n",
       "      <th>0</th>\n",
       "      <td>CHEMBL63786</td>\n",
       "      <td>0.003</td>\n",
       "      <td>nM</td>\n",
       "      <td>Brc1cccc(Nc2ncnc3cc4ccccc4cc23)c1</td>\n",
       "      <td>11.522879</td>\n",
       "      <td>True</td>\n",
       "    </tr>\n",
       "    <tr>\n",
       "      <th>1</th>\n",
       "      <td>CHEMBL35820</td>\n",
       "      <td>0.006</td>\n",
       "      <td>nM</td>\n",
       "      <td>CCOc1cc2ncnc(Nc3cccc(Br)c3)c2cc1OCC</td>\n",
       "      <td>11.221849</td>\n",
       "      <td>True</td>\n",
       "    </tr>\n",
       "    <tr>\n",
       "      <th>2</th>\n",
       "      <td>CHEMBL53711</td>\n",
       "      <td>0.006</td>\n",
       "      <td>nM</td>\n",
       "      <td>CN(C)c1cc2c(Nc3cccc(Br)c3)ncnc2cn1</td>\n",
       "      <td>11.221849</td>\n",
       "      <td>True</td>\n",
       "    </tr>\n",
       "    <tr>\n",
       "      <th>3</th>\n",
       "      <td>CHEMBL66031</td>\n",
       "      <td>0.008</td>\n",
       "      <td>nM</td>\n",
       "      <td>Brc1cccc(Nc2ncnc3cc4[nH]cnc4cc23)c1</td>\n",
       "      <td>11.096910</td>\n",
       "      <td>True</td>\n",
       "    </tr>\n",
       "    <tr>\n",
       "      <th>4</th>\n",
       "      <td>CHEMBL53753</td>\n",
       "      <td>0.008</td>\n",
       "      <td>nM</td>\n",
       "      <td>CNc1cc2c(Nc3cccc(Br)c3)ncnc2cn1</td>\n",
       "      <td>11.096910</td>\n",
       "      <td>True</td>\n",
       "    </tr>\n",
       "  </tbody>\n",
       "</table>\n",
       "</div>"
      ],
      "text/plain": [
       "  molecule_chembl_id   IC50 units                               smiles  \\\n",
       "0        CHEMBL63786  0.003    nM    Brc1cccc(Nc2ncnc3cc4ccccc4cc23)c1   \n",
       "1        CHEMBL35820  0.006    nM  CCOc1cc2ncnc(Nc3cccc(Br)c3)c2cc1OCC   \n",
       "2        CHEMBL53711  0.006    nM   CN(C)c1cc2c(Nc3cccc(Br)c3)ncnc2cn1   \n",
       "3        CHEMBL66031  0.008    nM  Brc1cccc(Nc2ncnc3cc4[nH]cnc4cc23)c1   \n",
       "4        CHEMBL53753  0.008    nM      CNc1cc2c(Nc3cccc(Br)c3)ncnc2cn1   \n",
       "\n",
       "       pIC50  ro5_fulfilled  \n",
       "0  11.522879           True  \n",
       "1  11.221849           True  \n",
       "2  11.221849           True  \n",
       "3  11.096910           True  \n",
       "4  11.096910           True  "
      ]
     },
     "execution_count": 3,
     "metadata": {},
     "output_type": "execute_result"
    }
   ],
   "source": [
    "# load data from Talktorial T2\n",
    "egfr_data = pd.read_csv(\n",
    "    HERE / \"../T002_compound_adme/data/EGFR_compounds_lipinski.csv\",\n",
    "    index_col=0,\n",
    ")\n",
    "# Drop unnecessary information\n",
    "print(\"Dataframe shape:\", egfr_data.shape)\n",
    "egfr_data.drop(columns=[\"molecular_weight\", \"n_hbd\", \"n_hba\", \"logp\"], inplace=True)\n",
    "egfr_data.head()"
   ]
  },
  {
   "cell_type": "code",
   "execution_count": 4,
   "metadata": {
    "scrolled": true
   },
   "outputs": [
    {
     "data": {
      "image/png": "[encoded data removed]",
      "text/plain": [
       "<IPython.core.display.Image object>"
      ]
     },
     "execution_count": 4,
     "metadata": {},
     "output_type": "execute_result"
    }
   ],
   "source": [
    "# Add molecule column\n",
    "PandasTools.AddMoleculeColumnToFrame(egfr_data, smilesCol=\"smiles\")\n",
    "# Draw first 3 molecules\n",
    "Chem.Draw.MolsToGridImage(\n",
    "    list(egfr_data.head(3).ROMol),\n",
    "    legends=list(egfr_data.head(3).molecule_chembl_id),\n",
    ")"
   ]
  },
  {
   "cell_type": "markdown",
   "metadata": {},
   "source": [
    "### Filter for PAINS\n",
    "\n",
    "The PAINS filter is already implemented in RDKit ([documentation](http://rdkit.org/docs/source/rdkit.Chem.rdfiltercatalog.html)). Such pre-defined filters can be applied via the `FilterCatalog` class. Let's learn how it can be used."
   ]
  },
  {
   "cell_type": "code",
   "execution_count": 5,
   "metadata": {},
   "outputs": [],
   "source": [
    "# initialize filter\n",
    "params = FilterCatalogParams()\n",
    "params.AddCatalog(FilterCatalogParams.FilterCatalogs.PAINS)\n",
    "catalog = FilterCatalog(params)"
   ]
  },
  {
   "cell_type": "code",
   "execution_count": 6,
   "metadata": {},
   "outputs": [
    {
     "data": {
      "application/vnd.jupyter.widget-view+json": {
       "model_id": "07617d2b2267435ea852534991e6f21a",
       "version_major": 2,
       "version_minor": 0
      },
      "text/plain": [
       "  0%|          | 0/4635 [00:00<?, ?it/s]"
      ]
     },
     "metadata": {},
     "output_type": "display_data"
    }
   ],
   "source": [
    "# search for PAINS\n",
    "matches = []\n",
    "clean = []\n",
    "for index, row in tqdm(egfr_data.iterrows(), total=egfr_data.shape[0]):\n",
    "    molecule = Chem.MolFromSmiles(row.smiles)\n",
    "    entry = catalog.GetFirstMatch(molecule)  # Get the first matching PAINS\n",
    "    if entry is not None:\n",
    "        # store PAINS information\n",
    "        matches.append(\n",
    "            {\n",
    "                \"chembl_id\": row.molecule_chembl_id,\n",
    "                \"rdkit_molecule\": molecule,\n",
    "                \"pains\": entry.GetDescription().capitalize(),\n",
    "            }\n",
    "        )\n",
    "    else:\n",
    "        # collect indices of molecules without PAINS\n",
    "        clean.append(index)\n",
    "\n",
    "matches = pd.DataFrame(matches)\n",
    "egfr_data = egfr_data.loc[clean]  # keep molecules without PAINS"
   ]
  },
  {
   "cell_type": "code",
   "execution_count": 7,
   "metadata": {},
   "outputs": [
    {
     "name": "stdout",
     "output_type": "stream",
     "text": [
      "Number of compounds with PAINS: 408\n",
      "Number of compounds without PAINS: 4227\n"
     ]
    }
   ],
   "source": [
    "# NBVAL_CHECK_OUTPUT\n",
    "print(f\"Number of compounds with PAINS: {len(matches)}\")\n",
    "print(f\"Number of compounds without PAINS: {len(egfr_data)}\")"
   ]
  },
  {
   "cell_type": "markdown",
   "metadata": {},
   "source": [
    "Let's have a look at the first 3 identified PAINS."
   ]
  },
  {
   "cell_type": "code",
   "execution_count": 8,
   "metadata": {},
   "outputs": [
    {
     "data": {
      "image/png": "[encoded data removed]",
      "text/plain": [
       "<IPython.core.display.Image object>"
      ]
     },
     "execution_count": 8,
     "metadata": {},
     "output_type": "execute_result"
    }
   ],
   "source": [
    "Chem.Draw.MolsToGridImage(\n",
    "    list(matches.head(3).rdkit_molecule),\n",
    "    legends=list(matches.head(3)[\"pains\"]),\n",
    ")"
   ]
  },
  {
   "cell_type": "markdown",
   "metadata": {},
   "source": [
    "### Filter and highlight unwanted substructures\n",
    "\n",
    "Some lists of unwanted substructures, like PAINS, are already implemented in RDKit. However, it is also possible to use an external list and get the substructure matches manually. \n",
    "Here, we use the list provided in the supporting information from Brenk *et al.* ([_Chem. Med. Chem._ (2008), **3**, 535-44](https://onlinelibrary.wiley.com/doi/full/10.1002/cmdc.200700139))."
   ]
  },
  {
   "cell_type": "code",
   "execution_count": 9,
   "metadata": {},
   "outputs": [
    {
     "name": "stdout",
     "output_type": "stream",
     "text": [
      "Number of unwanted substructures in collection: 104\n"
     ]
    }
   ],
   "source": [
    "substructures = pd.read_csv(DATA / \"unwanted_substructures.csv\", sep=\"\\s+\")\n",
    "substructures[\"rdkit_molecule\"] = substructures.smarts.apply(Chem.MolFromSmarts)\n",
    "print(\"Number of unwanted substructures in collection:\", len(substructures))\n",
    "# NBVAL_CHECK_OUTPUT"
   ]
  },
  {
   "cell_type": "markdown",
   "metadata": {},
   "source": [
    "Let's have a look at a few substructures."
   ]
  },
  {
   "cell_type": "code",
   "execution_count": 10,
   "metadata": {},
   "outputs": [
    {
     "data": {
      "image/png": "[encoded data removed]",
      "text/plain": [
       "<IPython.core.display.Image object>"
      ]
     },
     "execution_count": 10,
     "metadata": {},
     "output_type": "execute_result"
    }
   ],
   "source": [
    "Chem.Draw.MolsToGridImage(\n",
    "    mols=substructures.rdkit_molecule.tolist()[2:5],\n",
    "    legends=substructures.name.tolist()[2:5],\n",
    ")"
   ]
  },
  {
   "cell_type": "markdown",
   "metadata": {},
   "source": [
    "Search our filtered dataframe for matches with these unwanted substructures."
   ]
  },
  {
   "cell_type": "code",
   "execution_count": 11,
   "metadata": {},
   "outputs": [
    {
     "data": {
      "application/vnd.jupyter.widget-view+json": {
       "model_id": "c3f2fbf3f6e74948b58861b63fca88bf",
       "version_major": 2,
       "version_minor": 0
      },
      "text/plain": [
       "  0%|          | 0/4227 [00:00<?, ?it/s]"
      ]
     },
     "metadata": {},
     "output_type": "display_data"
    }
   ],
   "source": [
    "# search for unwanted substructure\n",
    "matches = []\n",
    "clean = []\n",
    "for index, row in tqdm(egfr_data.iterrows(), total=egfr_data.shape[0]):\n",
    "    molecule = Chem.MolFromSmiles(row.smiles)\n",
    "    match = False\n",
    "    for _, substructure in substructures.iterrows():\n",
    "        if molecule.HasSubstructMatch(substructure.rdkit_molecule):\n",
    "            matches.append(\n",
    "                {\n",
    "                    \"chembl_id\": row.molecule_chembl_id,\n",
    "                    \"rdkit_molecule\": molecule,\n",
    "                    \"substructure\": substructure.rdkit_molecule,\n",
    "                    \"substructure_name\": substructure[\"name\"],\n",
    "                }\n",
    "            )\n",
    "            match = True\n",
    "    if not match:\n",
    "        clean.append(index)\n",
    "\n",
    "matches = pd.DataFrame(matches)\n",
    "egfr_data = egfr_data.loc[clean]"
   ]
  },
  {
   "cell_type": "code",
   "execution_count": 12,
   "metadata": {},
   "outputs": [
    {
     "name": "stdout",
     "output_type": "stream",
     "text": [
      "Number of found unwanted substructure: 3232\n",
      "Number of compounds without unwanted substructure: 2089\n"
     ]
    }
   ],
   "source": [
    "# NBVAL_CHECK_OUTPUT\n",
    "print(f\"Number of found unwanted substructure: {len(matches)}\")\n",
    "print(f\"Number of compounds without unwanted substructure: {len(egfr_data)}\")"
   ]
  },
  {
   "cell_type": "markdown",
   "metadata": {},
   "source": [
    "### Highlight substructures"
   ]
  },
  {
   "cell_type": "markdown",
   "metadata": {},
   "source": [
    "Let's have a look at the first 3 identified unwanted substructures. Since we have access to the underlying SMARTS patterns we can highlight the substructures within the RDKit molecules."
   ]
  },
  {
   "cell_type": "code",
   "execution_count": 13,
   "metadata": {
    "tags": [
     "nbsphinx-thumbnail"
    ]
   },
   "outputs": [
    {
     "data": {
      "image/png": "[encoded data removed]",
      "text/plain": [
       "<IPython.core.display.Image object>"
      ]
     },
     "execution_count": 13,
     "metadata": {},
     "output_type": "execute_result"
    }
   ],
   "source": [
    "to_highlight = [\n",
    "    row.rdkit_molecule.GetSubstructMatch(row.substructure) for _, row in matches.head(3).iterrows()\n",
    "]\n",
    "Chem.Draw.MolsToGridImage(\n",
    "    list(matches.head(3).rdkit_molecule),\n",
    "    highlightAtomLists=to_highlight,\n",
    "    legends=list(matches.head(3).substructure_name),\n",
    ")"
   ]
  },
  {
   "cell_type": "markdown",
   "metadata": {},
   "source": [
    "The `mols2grid` package provides an enhanced visualization of Dataframes containing molecules. \n",
    "It's possible to visualize a subset of the dataset matching specific unwanted substructures let's have a look at the molecules matching the following filters:\n",
    "- _three-memeber-heterociclics_ `*1[O,S,N]*1`\n",
    "- _aliphatic-long-chains_ `[R0&D2][R0&D2][R0&D2][R0&D2]`\n",
    "- _alkyl-halide_ `[CX4][Cl,Br,I]`\n",
    "\n",
    "\n",
    "Procedure:\n",
    "1. Select SMARTS in the search box\n",
    "2. Copy and paste each one of the SMARTS patterns listed above."
   ]
  },
  {
   "cell_type": "code",
   "execution_count": 14,
   "metadata": {},
   "outputs": [
    {
     "data": {
      "text/html": [
       "<script>\n",
       "    function fit_height(obj) {\n",
       "        obj.style.height = 0;\n",
       "        var height = obj.contentDocument.body.scrollHeight + 18 + 'px';\n",
       "        obj.style.height = height;\n",
       "    }\n",
       "</script>\n",
       "<iframe class=\"mols2grid-iframe\" frameborder=\"0\" width=\"100%\"\n",
       "\n",
       "height=\"200\"\n",
       "\n",
       "\n",
       "allow=\"clipboard-write\"\n",
       "\n",
       "srcdoc=\"&lt;html&gt;\n",
       "  &lt;meta charset=&quot;utf-8&quot;&gt;\n",
       "  &lt;head&gt;\n",
       "    &lt;style&gt;\n",
       "    #mols2grid.gridcontainer {\n",
       "    display: block;\n",
       "    padding-left: 1em;\n",
       "    max-width: 816px;\n",
       "    width: 816px;\n",
       "}\n",
       "#mols2grid .cell {\n",
       "    border: 1px solid #cccccc;\n",
       "    text-align: center;\n",
       "    vertical-align: top;\n",
       "    max-width: 200px;\n",
       "    width: 200px;\n",
       "    font-family: &#x27;DejaVu&#x27;, sans-serif;\n",
       "    font-size: 12pt;\n",
       "    padding: 0;\n",
       "    margin: 0px;\n",
       "    float: left;\n",
       "}\n",
       "#mols2grid .cell:hover {\n",
       "    background-color: #e7e7e7 !important;\n",
       "}\n",
       "#mols2grid .cell .data-img {\n",
       "    padding: 0;\n",
       "    margin: 0;\n",
       "}\n",
       "#mols2grid .cell img, #mols2grid .cell svg {\n",
       "    max-width: 100%;\n",
       "    height: auto;\n",
       "    padding: 0;\n",
       "}\n",
       "#mols2grid .data {\n",
       "    overflow: hidden;\n",
       "    white-space: nowrap;\n",
       "    text-overflow: ellipsis;\n",
       "    display: block;\n",
       "}\n",
       "#mols2grid .arrow-asc:after {\n",
       "    content: &#x27;↑&#x27;;\n",
       "    text-align: right;\n",
       "    float:right;\n",
       "}\n",
       "#mols2grid .arrow-desc:after {\n",
       "    content: &#x27;↓&#x27;;\n",
       "    text-align: right;\n",
       "    float:right;\n",
       "}\n",
       "    /* custom CSS */\n",
       "    \n",
       "    &lt;/style&gt;\n",
       "    &lt;script src=&quot;https://cdnjs.cloudflare.com/ajax/libs/list.js/2.3.1/list.min.js&quot;&gt;&lt;/script&gt;\n",
       "&lt;link rel=&quot;stylesheet&quot; href=&quot;https://cdn.jsdelivr.net/npm/bootstrap@4.6.0/dist/css/bootstrap.min.css&quot; integrity=&quot;sha384-B0vP5xmATw1+K9KRQjQERJvTumQW0nPEzvF6L/Z6nronJ3oUOFUFpCjEUQouq2+l&quot; crossorigin=&quot;anonymous&quot;&gt;\n",
       "&lt;script src=&quot;https://code.jquery.com/jquery-3.6.0.min.js&quot; integrity=&quot;sha256-/xUj+3OJU5yExlq6GSYGSHk7tPXikynS7ogEvDej/m4=&quot; crossorigin=&quot;anonymous&quot;&gt;&lt;/script&gt;\n",
       "&lt;script src=&quot;https://cdn.jsdelivr.net/npm/bootstrap@4.6.0/dist/js/bootstrap.bundle.min.js&quot; integrity=&quot;sha384-Piv4xVNRyMGpqkS2by6br4gNJ7DXjqk09RmUpJ8jgGtD7zP9yug3goQfGII0yAns&quot; crossorigin=&quot;anonymous&quot;&gt;&lt;/script&gt;\n",
       "&lt;script src=&quot;https://unpkg.com/@rdkit/rdkit@2022.3.1/Code/MinimalLib/dist/RDKit_minimal.js&quot;&gt;&lt;/script&gt;\n",
       "    &lt;!-- custom header --&gt;\n",
       "    \n",
       "  &lt;/head&gt;\n",
       "  &lt;body&gt;\n",
       "    &lt;div id=&quot;mols2grid&quot; class=&quot;gridcontainer grid-default&quot;&gt;\n",
       "      &lt;div class=&quot;row mb-3&quot;&gt;\n",
       "        &lt;div class=&quot;list&quot;&gt;&lt;div class=&quot;cell&quot; data-mols2grid-id=&quot;0&quot;&gt;&lt;input type=&quot;checkbox&quot; class=&quot;position-relative float-left cached_checkbox&quot;&gt;&lt;a tabindex=&quot;0&quot; class=&quot;data data-img mols2grid-tooltip&quot; data-toggle=&quot;popover&quot; data-content=&quot;.&quot;&gt;&lt;/a&gt;&lt;div class=&quot;data data-chembl_id&quot;&gt;&lt;/div&gt;&lt;div class=&quot;data data-substructure_name&quot; style=&quot;display: none;&quot;&gt;&lt;/div&gt;&lt;div class=&quot;data data-SMILES&quot; style=&quot;display: none;&quot;&gt;&lt;/div&gt;&lt;/div&gt;&lt;/div&gt;\n",
       "      &lt;/div&gt;\n",
       "      &lt;div class=&quot;d-inline&quot;&gt;\n",
       "        &lt;ul class=&quot;pagination float-left&quot;&gt;&lt;/ul&gt;\n",
       "        &lt;div id=&quot;controls&quot; class=&quot;d-flex flex-row float-right&quot;&gt;\n",
       "          \n",
       "          &lt;div id=&quot;chkbox-dropdown&quot; class=&quot;dropdown&quot;&gt;\n",
       "    &lt;button class=&quot;btn btn-light dropdown-toggle&quot; type=&quot;button&quot; id=&quot;chkboxDropdown&quot; data-toggle=&quot;dropdown&quot; aria-haspopup=&quot;true&quot; aria-expanded=&quot;false&quot;&gt;☑&lt;/button&gt;\n",
       "    &lt;div class=&quot;dropdown-menu&quot; aria-labelledby=&quot;checkboxDropdownMenu&quot;&gt;\n",
       "        &lt;button id=&quot;btn-chkbox-all&quot; class=&quot;dropdown-item&quot; type=&quot;button&quot;&gt;Check all&lt;/button&gt;\n",
       "        &lt;button id=&quot;btn-chkbox-match&quot; class=&quot;dropdown-item&quot; type=&quot;button&quot;&gt;Check matching&lt;/button&gt;\n",
       "        &lt;button id=&quot;btn-chkbox-none&quot; class=&quot;dropdown-item&quot; type=&quot;button&quot;&gt;Uncheck all&lt;/button&gt;\n",
       "        &lt;button id=&quot;btn-chkbox-invert&quot; class=&quot;dropdown-item&quot; type=&quot;button&quot;&gt;Invert&lt;/button&gt;\n",
       "        &lt;div class=&quot;dropdown-divider&quot;&gt;&lt;/div&gt;\n",
       "        &lt;button id=&quot;btn-chkbox-copy&quot; class=&quot;dropdown-item&quot; type=&quot;button&quot;&gt;Copy to clipboard&lt;/button&gt;\n",
       "        &lt;button id=&quot;btn-chkbox-dlsmi&quot; class=&quot;dropdown-item&quot; type=&quot;button&quot;&gt;Save SMILES&lt;/button&gt;\n",
       "        &lt;button id=&quot;btn-chkbox-dlcsv&quot; class=&quot;dropdown-item&quot; type=&quot;button&quot;&gt;Save CSV&lt;/button&gt;\n",
       "    &lt;/div&gt;\n",
       "&lt;/div&gt;\n",
       "          \n",
       "          &lt;div id=&quot;sort-dropdown&quot; class=&quot;dropdown pl-2&quot;&gt;\n",
       "            &lt;button class=&quot;btn btn-light dropdown-toggle&quot; type=&quot;button&quot; id=&quot;sortDropdown&quot; data-toggle=&quot;dropdown&quot; aria-haspopup=&quot;true&quot; aria-expanded=&quot;false&quot;&gt;\n",
       "              Sort by\n",
       "            &lt;/button&gt;\n",
       "            &lt;div class=&quot;dropdown-menu&quot; aria-labelledby=&quot;sortDropdownMenu&quot;&gt;\n",
       "              \n",
       "              \n",
       "              \n",
       "              \n",
       "              \n",
       "              &lt;button class=&quot;dropdown-item sort-btn arrow-asc active&quot; type=&quot;button&quot; data-name=&quot;mols2grid-id&quot;&gt;Index&lt;/button&gt;\n",
       "              \n",
       "              \n",
       "              \n",
       "              \n",
       "              \n",
       "              &lt;button class=&quot;dropdown-item sort-btn &quot; type=&quot;button&quot; data-name=&quot;data-chembl_id&quot;&gt;chembl_id&lt;/button&gt;\n",
       "              \n",
       "              \n",
       "              \n",
       "              \n",
       "              \n",
       "              &lt;button class=&quot;dropdown-item sort-btn &quot; type=&quot;button&quot; data-name=&quot;data-substructure_name&quot;&gt;substructure_name&lt;/button&gt;\n",
       "              \n",
       "              \n",
       "              \n",
       "              &lt;button class=&quot;dropdown-item sort-btn&quot; type=&quot;button&quot; data-name=&quot;checkbox&quot;&gt;Selected&lt;/button&gt;\n",
       "              \n",
       "            &lt;/div&gt;\n",
       "          &lt;/div&gt;\n",
       "          &lt;div class=&quot;input-group row pl-4&quot;&gt;\n",
       "            &lt;input type=&quot;text&quot; id=&quot;searchbar&quot; class=&quot;form-control&quot; placeholder=&quot;Search&quot; aria-label=&quot;Search&quot; aria-describedby=&quot;basic-addon1&quot;&gt;\n",
       "            &lt;div class=&quot;input-group-append&quot;&gt;\n",
       "              &lt;button id=&quot;searchBtn&quot; class=&quot;btn btn-light dropdown-toggle&quot; type=&quot;button&quot; data-toggle=&quot;dropdown&quot; aria-haspopup=&quot;true&quot; aria-expanded=&quot;false&quot;&gt;🔎&lt;/button&gt;\n",
       "              &lt;div class=&quot;dropdown-menu dropdown-menu-right&quot;&gt;\n",
       "                &lt;button id=&quot;txtSearch&quot; class=&quot;search-btn dropdown-item active&quot;&gt;Text&lt;/button&gt;\n",
       "                &lt;button id=&quot;smartsSearch&quot; class=&quot;search-btn dropdown-item&quot;&gt;SMARTS&lt;/button&gt;\n",
       "              &lt;/div&gt;\n",
       "            &lt;/div&gt;\n",
       "          &lt;/div&gt;\n",
       "        &lt;/div&gt;\n",
       "      &lt;/div&gt;\n",
       "    &lt;/div&gt;\n",
       "    &lt;script&gt;\n",
       "    // list.js\n",
       "var listObj = new List(&#x27;mols2grid&#x27;, {\n",
       "    valueNames: [{data: [&#x27;mols2grid-id&#x27;]}, &#x27;data-img&#x27;, &#x27;data-SMILES&#x27;, &#x27;data-substructure_name&#x27;, &#x27;data-chembl_id&#x27;, {attr: &#x27;data-content&#x27;, name: &#x27;mols2grid-tooltip&#x27;}],\n",
       "    item: &#x27;&lt;div class=&quot;cell&quot; data-mols2grid-id=&quot;0&quot;&gt;&lt;input type=&quot;checkbox&quot; class=&quot;position-relative float-left cached_checkbox&quot;&gt;&lt;a tabindex=&quot;0&quot; class=&quot;data data-img mols2grid-tooltip&quot; data-toggle=&quot;popover&quot; data-content=&quot;.&quot;&gt;&lt;/a&gt;&lt;div class=&quot;data data-chembl_id&quot;&gt;&lt;/div&gt;&lt;div class=&quot;data data-substructure_name&quot; style=&quot;display: none;&quot;&gt;&lt;/div&gt;&lt;div class=&quot;data data-SMILES&quot; style=&quot;display: none;&quot;&gt;&lt;/div&gt;&lt;/div&gt;&#x27;,\n",
       "    page: 12,\n",
       "    pagination: {\n",
       "        name: &quot;pagination&quot;,\n",
       "        item: &#x27;&lt;li class=&quot;page-item&quot;&gt;&lt;a class=&quot;page page-link&quot; href=&quot;#&quot; onclick=&quot;event.preventDefault()&quot;&gt;&lt;/a&gt;&lt;/li&gt;&#x27;,\n",
       "        innerWindow: 1,\n",
       "        outerWindow: 1,\n",
       "    },\n",
       "});\n",
       "listObj.remove(&quot;mols2grid-id&quot;, &quot;0&quot;);\n",
       "listObj.add([{&quot;data-SMILES&quot;: &quot;Brc1cccc(Nc2ncnc3cc4ccccc4cc23)c1&quot;, &quot;data-img&quot;: null, &quot;data-substructure_name&quot;: &quot;Polycyclic-aromatic-hydrocarbon&quot;, &quot;mols2grid-id&quot;: 0, &quot;data-chembl_id&quot;: &quot;CHEMBL63786&quot;, &quot;mols2grid-tooltip&quot;: &quot;&lt;strong&gt;substructure_name&lt;/strong&gt;: Polycyclic-aromatic-hydrocarbon&quot;}, {&quot;data-SMILES&quot;: &quot;C#CCNC/C=C/C(=O)Nc1cc2c(Nc3ccc(F)c(Cl)c3)c(C#N)cnc2cc1OCC&quot;, &quot;data-img&quot;: null, &quot;data-substructure_name&quot;: &quot;Aliphatic-long-chain&quot;, &quot;mols2grid-id&quot;: 1, &quot;data-chembl_id&quot;: &quot;CHEMBL1243316&quot;, &quot;mols2grid-tooltip&quot;: &quot;&lt;strong&gt;substructure_name&lt;/strong&gt;: Aliphatic-long-chain&quot;}, {&quot;data-SMILES&quot;: &quot;C#CCNC/C=C/C(=O)Nc1cc2c(Nc3ccc(F)c(Cl)c3)c(C#N)cnc2cc1OCC&quot;, &quot;data-img&quot;: null, &quot;data-substructure_name&quot;: &quot;Michael-acceptor&quot;, &quot;mols2grid-id&quot;: 2, &quot;data-chembl_id&quot;: &quot;CHEMBL1243316&quot;, &quot;mols2grid-tooltip&quot;: &quot;&lt;strong&gt;substructure_name&lt;/strong&gt;: Michael-acceptor&quot;}, {&quot;data-SMILES&quot;: &quot;C#CCNC/C=C/C(=O)Nc1cc2c(Nc3ccc(F)c(Cl)c3)c(C#N)cnc2cc1OCC&quot;, &quot;data-img&quot;: null, &quot;data-substructure_name&quot;: &quot;triple-bond&quot;, &quot;mols2grid-id&quot;: 3, &quot;data-chembl_id&quot;: &quot;CHEMBL1243316&quot;, &quot;mols2grid-tooltip&quot;: &quot;&lt;strong&gt;substructure_name&lt;/strong&gt;: triple-bond&quot;}, {&quot;data-SMILES&quot;: &quot;C=CC(=O)Nc1ccc2ncnc(Nc3cc(Cl)c(Cl)cc3F)c2c1&quot;, &quot;data-img&quot;: null, &quot;data-substructure_name&quot;: &quot;halogenated-ring&quot;, &quot;mols2grid-id&quot;: 4, &quot;data-chembl_id&quot;: &quot;CHEMBL363815&quot;, &quot;mols2grid-tooltip&quot;: &quot;&lt;strong&gt;substructure_name&lt;/strong&gt;: halogenated-ring&quot;}, {&quot;data-SMILES&quot;: &quot;C=CC(=O)Nc1ccc2ncnc(Nc3cc(Cl)c(Cl)cc3F)c2c1&quot;, &quot;data-img&quot;: null, &quot;data-substructure_name&quot;: &quot;Michael-acceptor&quot;, &quot;mols2grid-id&quot;: 5, &quot;data-chembl_id&quot;: &quot;CHEMBL363815&quot;, &quot;mols2grid-tooltip&quot;: &quot;&lt;strong&gt;substructure_name&lt;/strong&gt;: Michael-acceptor&quot;}, {&quot;data-SMILES&quot;: &quot;C=CC(=O)Nc1ccc2ncnc(Nc3cc(F)c(Cl)c(Cl)c3)c2c1&quot;, &quot;data-img&quot;: null, &quot;data-substructure_name&quot;: &quot;halogenated-ring&quot;, &quot;mols2grid-id&quot;: 6, &quot;data-chembl_id&quot;: &quot;CHEMBL3613702&quot;, &quot;mols2grid-tooltip&quot;: &quot;&lt;strong&gt;substructure_name&lt;/strong&gt;: halogenated-ring&quot;}, {&quot;data-SMILES&quot;: &quot;C=CC(=O)Nc1ccc2ncnc(Nc3cc(F)c(Cl)c(Cl)c3)c2c1&quot;, &quot;data-img&quot;: null, &quot;data-substructure_name&quot;: &quot;Michael-acceptor&quot;, &quot;mols2grid-id&quot;: 7, &quot;data-chembl_id&quot;: &quot;CHEMBL3613702&quot;, &quot;mols2grid-tooltip&quot;: &quot;&lt;strong&gt;substructure_name&lt;/strong&gt;: Michael-acceptor&quot;}, {&quot;data-SMILES&quot;: &quot;O=C(CCl)Nc1ccc2ncnc(Nc3cc(Cl)c(Cl)cc3F)c2c1&quot;, &quot;data-img&quot;: null, &quot;data-substructure_name&quot;: &quot;alkyl-halide&quot;, &quot;mols2grid-id&quot;: 8, &quot;data-chembl_id&quot;: &quot;CHEMBL275762&quot;, &quot;mols2grid-tooltip&quot;: &quot;&lt;strong&gt;substructure_name&lt;/strong&gt;: alkyl-halide&quot;}, {&quot;data-SMILES&quot;: &quot;O=C(CCl)Nc1ccc2ncnc(Nc3cc(Cl)c(Cl)cc3F)c2c1&quot;, &quot;data-img&quot;: null, &quot;data-substructure_name&quot;: &quot;halogenated-ring&quot;, &quot;mols2grid-id&quot;: 9, &quot;data-chembl_id&quot;: &quot;CHEMBL275762&quot;, &quot;mols2grid-tooltip&quot;: &quot;&lt;strong&gt;substructure_name&lt;/strong&gt;: halogenated-ring&quot;}, {&quot;data-SMILES&quot;: &quot;Nc1ccc2c(Nc3cccc(Br)c3)ncnc2c1&quot;, &quot;data-img&quot;: null, &quot;data-substructure_name&quot;: &quot;aniline&quot;, &quot;mols2grid-id&quot;: 10, &quot;data-chembl_id&quot;: &quot;CHEMBL420624&quot;, &quot;mols2grid-tooltip&quot;: &quot;&lt;strong&gt;substructure_name&lt;/strong&gt;: aniline&quot;}, {&quot;data-SMILES&quot;: &quot;Nc1ccc2cncnc2c1&quot;, &quot;data-img&quot;: null, &quot;data-substructure_name&quot;: &quot;aniline&quot;, &quot;mols2grid-id&quot;: 11, &quot;data-chembl_id&quot;: &quot;CHEMBL55729&quot;, &quot;mols2grid-tooltip&quot;: &quot;&lt;strong&gt;substructure_name&lt;/strong&gt;: aniline&quot;}, {&quot;data-SMILES&quot;: &quot;CN(C)C/C=C/C(=O)Nc1ccc2ncnc(Nc3cc(Cl)c(Cl)cc3F)c2c1&quot;, &quot;data-img&quot;: null, &quot;data-substructure_name&quot;: &quot;halogenated-ring&quot;, &quot;mols2grid-id&quot;: 12, &quot;data-chembl_id&quot;: &quot;CHEMBL190094&quot;, &quot;mols2grid-tooltip&quot;: &quot;&lt;strong&gt;substructure_name&lt;/strong&gt;: halogenated-ring&quot;}, {&quot;data-SMILES&quot;: &quot;CN(C)C/C=C/C(=O)Nc1ccc2ncnc(Nc3cc(Cl)c(Cl)cc3F)c2c1&quot;, &quot;data-img&quot;: null, &quot;data-substructure_name&quot;: &quot;Michael-acceptor&quot;, &quot;mols2grid-id&quot;: 13, &quot;data-chembl_id&quot;: &quot;CHEMBL190094&quot;, &quot;mols2grid-tooltip&quot;: &quot;&lt;strong&gt;substructure_name&lt;/strong&gt;: Michael-acceptor&quot;}, {&quot;data-SMILES&quot;: &quot;Nc1cc2ncnc(Nc3cccc(Br)c3)c2cc1N&quot;, &quot;data-img&quot;: null, &quot;data-substructure_name&quot;: &quot;aniline&quot;, &quot;mols2grid-id&quot;: 14, &quot;data-chembl_id&quot;: &quot;CHEMBL328216&quot;, &quot;mols2grid-tooltip&quot;: &quot;&lt;strong&gt;substructure_name&lt;/strong&gt;: aniline&quot;}, {&quot;data-SMILES&quot;: &quot;O=C(CCl)Nc1ccc2ncnc(Nc3cccc(I)c3)c2c1&quot;, &quot;data-img&quot;: null, &quot;data-substructure_name&quot;: &quot;alkyl-halide&quot;, &quot;mols2grid-id&quot;: 15, &quot;data-chembl_id&quot;: &quot;CHEMBL193160&quot;, &quot;mols2grid-tooltip&quot;: &quot;&lt;strong&gt;substructure_name&lt;/strong&gt;: alkyl-halide&quot;}, {&quot;data-SMILES&quot;: &quot;O=C(CCl)Nc1ccc2ncnc(Nc3cccc(I)c3)c2c1&quot;, &quot;data-img&quot;: null, &quot;data-substructure_name&quot;: &quot;iodine&quot;, &quot;mols2grid-id&quot;: 16, &quot;data-chembl_id&quot;: &quot;CHEMBL193160&quot;, &quot;mols2grid-tooltip&quot;: &quot;&lt;strong&gt;substructure_name&lt;/strong&gt;: iodine&quot;}, {&quot;data-SMILES&quot;: &quot;O=C(CCCCCCn1cc(-c2ccc3ncnc(Nc4cccc(Cl)c4F)c3c2)nn1)NO&quot;, &quot;data-img&quot;: null, &quot;data-substructure_name&quot;: &quot;Aliphatic-long-chain&quot;, &quot;mols2grid-id&quot;: 17, &quot;data-chembl_id&quot;: &quot;CHEMBL3930620&quot;, &quot;mols2grid-tooltip&quot;: &quot;&lt;strong&gt;substructure_name&lt;/strong&gt;: Aliphatic-long-chain&quot;}, {&quot;data-SMILES&quot;: &quot;O=C(CCCCCCn1cc(-c2ccc3ncnc(Nc4cccc(Cl)c4F)c3c2)nn1)NO&quot;, &quot;data-img&quot;: null, &quot;data-substructure_name&quot;: &quot;hydroxamic-acid&quot;, &quot;mols2grid-id&quot;: 18, &quot;data-chembl_id&quot;: &quot;CHEMBL3930620&quot;, &quot;mols2grid-tooltip&quot;: &quot;&lt;strong&gt;substructure_name&lt;/strong&gt;: hydroxamic-acid&quot;}, {&quot;data-SMILES&quot;: &quot;O=C(CCCCCCn1cc(-c2ccc3ncnc(Nc4cccc(Cl)c4F)c3c2)nn1)NO&quot;, &quot;data-img&quot;: null, &quot;data-substructure_name&quot;: &quot;Oxygen-nitrogen-single-bond&quot;, &quot;mols2grid-id&quot;: 19, &quot;data-chembl_id&quot;: &quot;CHEMBL3930620&quot;, &quot;mols2grid-tooltip&quot;: &quot;&lt;strong&gt;substructure_name&lt;/strong&gt;: Oxygen-nitrogen-single-bond&quot;}, {&quot;data-SMILES&quot;: &quot;CN(C)C/C=C/C(=O)Nc1cc2c(Nc3ccc(F)c(Cl)c3)ncnc2cc1OCC1C2COCC21&quot;, &quot;data-img&quot;: null, &quot;data-substructure_name&quot;: &quot;Michael-acceptor&quot;, &quot;mols2grid-id&quot;: 20, &quot;data-chembl_id&quot;: &quot;CHEMBL3892310&quot;, &quot;mols2grid-tooltip&quot;: &quot;&lt;strong&gt;substructure_name&lt;/strong&gt;: Michael-acceptor&quot;}, {&quot;data-SMILES&quot;: &quot;C=CC(=O)Nc1nc2c(Nc3ccc(F)c(Cl)c3)ncnc2cc1/C=C/CCN1CCOCC1&quot;, &quot;data-img&quot;: null, &quot;data-substructure_name&quot;: &quot;Michael-acceptor&quot;, &quot;mols2grid-id&quot;: 21, &quot;data-chembl_id&quot;: &quot;CHEMBL417478&quot;, &quot;mols2grid-tooltip&quot;: &quot;&lt;strong&gt;substructure_name&lt;/strong&gt;: Michael-acceptor&quot;}, {&quot;data-SMILES&quot;: &quot;C=CC(=O)Nc1cc2c(Nc3ccc(F)c(Cl)c3)ncnc2cc1OCC&quot;, &quot;data-img&quot;: null, &quot;data-substructure_name&quot;: &quot;Michael-acceptor&quot;, &quot;mols2grid-id&quot;: 22, &quot;data-chembl_id&quot;: &quot;CHEMBL2031302&quot;, &quot;mols2grid-tooltip&quot;: &quot;&lt;strong&gt;substructure_name&lt;/strong&gt;: Michael-acceptor&quot;}, {&quot;data-SMILES&quot;: &quot;COc1cc2ncnc(Nc3cc(Cl)c(Cl)cc3F)c2cc1OC&quot;, &quot;data-img&quot;: null, &quot;data-substructure_name&quot;: &quot;halogenated-ring&quot;, &quot;mols2grid-id&quot;: 23, &quot;data-chembl_id&quot;: &quot;CHEMBL437879&quot;, &quot;mols2grid-tooltip&quot;: &quot;&lt;strong&gt;substructure_name&lt;/strong&gt;: halogenated-ring&quot;}, {&quot;data-SMILES&quot;: &quot;C=CC(=O)Nc1ccc2c(Nc3cccc(Cl)c3)ncnc2c1&quot;, &quot;data-img&quot;: null, &quot;data-substructure_name&quot;: &quot;Michael-acceptor&quot;, &quot;mols2grid-id&quot;: 24, &quot;data-chembl_id&quot;: &quot;CHEMBL52913&quot;, &quot;mols2grid-tooltip&quot;: &quot;&lt;strong&gt;substructure_name&lt;/strong&gt;: Michael-acceptor&quot;}, {&quot;data-SMILES&quot;: &quot;Nc1ccc2c(Nc3cccc(Cl)c3)ncnc2c1&quot;, &quot;data-img&quot;: null, &quot;data-substructure_name&quot;: &quot;aniline&quot;, &quot;mols2grid-id&quot;: 25, &quot;data-chembl_id&quot;: &quot;CHEMBL328955&quot;, &quot;mols2grid-tooltip&quot;: &quot;&lt;strong&gt;substructure_name&lt;/strong&gt;: aniline&quot;}, {&quot;data-SMILES&quot;: &quot;C#Cc1cccc(Nc2ncnc3cc(OCCCCn4ccnc4[N+](=O)[O-])c(OC)cc23)c1&quot;, &quot;data-img&quot;: null, &quot;data-substructure_name&quot;: &quot;Aliphatic-long-chain&quot;, &quot;mols2grid-id&quot;: 26, &quot;data-chembl_id&quot;: &quot;CHEMBL3360608&quot;, &quot;mols2grid-tooltip&quot;: &quot;&lt;strong&gt;substructure_name&lt;/strong&gt;: Aliphatic-long-chain&quot;}, {&quot;data-SMILES&quot;: &quot;C#Cc1cccc(Nc2ncnc3cc(OCCCCn4ccnc4[N+](=O)[O-])c(OC)cc23)c1&quot;, &quot;data-img&quot;: null, &quot;data-substructure_name&quot;: &quot;nitro-group&quot;, &quot;mols2grid-id&quot;: 27, &quot;data-chembl_id&quot;: &quot;CHEMBL3360608&quot;, &quot;mols2grid-tooltip&quot;: &quot;&lt;strong&gt;substructure_name&lt;/strong&gt;: nitro-group&quot;}, {&quot;data-SMILES&quot;: &quot;C#Cc1cccc(Nc2ncnc3cc(OCCCCn4ccnc4[N+](=O)[O-])c(OC)cc23)c1&quot;, &quot;data-img&quot;: null, &quot;data-substructure_name&quot;: &quot;Oxygen-nitrogen-single-bond&quot;, &quot;mols2grid-id&quot;: 28, &quot;data-chembl_id&quot;: &quot;CHEMBL3360608&quot;, &quot;mols2grid-tooltip&quot;: &quot;&lt;strong&gt;substructure_name&lt;/strong&gt;: Oxygen-nitrogen-single-bond&quot;}, {&quot;data-SMILES&quot;: &quot;C#Cc1cccc(Nc2ncnc3cc(OCCCCn4ccnc4[N+](=O)[O-])c(OC)cc23)c1&quot;, &quot;data-img&quot;: null, &quot;data-substructure_name&quot;: &quot;triple-bond&quot;, &quot;mols2grid-id&quot;: 29, &quot;data-chembl_id&quot;: &quot;CHEMBL3360608&quot;, &quot;mols2grid-tooltip&quot;: &quot;&lt;strong&gt;substructure_name&lt;/strong&gt;: triple-bond&quot;}, {&quot;data-SMILES&quot;: &quot;Nc1ccc2sc3c(Nc4cccc(Br)c4)ncnc3c2c1&quot;, &quot;data-img&quot;: null, &quot;data-substructure_name&quot;: &quot;aniline&quot;, &quot;mols2grid-id&quot;: 30, &quot;data-chembl_id&quot;: &quot;CHEMBL152905&quot;, &quot;mols2grid-tooltip&quot;: &quot;&lt;strong&gt;substructure_name&lt;/strong&gt;: aniline&quot;}, {&quot;data-SMILES&quot;: &quot;O=C(CCCCCn1cc(-c2ccc3ncnc(Nc4cccc(Cl)c4F)c3c2)nn1)NO&quot;, &quot;data-img&quot;: null, &quot;data-substructure_name&quot;: &quot;Aliphatic-long-chain&quot;, &quot;mols2grid-id&quot;: 31, &quot;data-chembl_id&quot;: &quot;CHEMBL3929484&quot;, &quot;mols2grid-tooltip&quot;: &quot;&lt;strong&gt;substructure_name&lt;/strong&gt;: Aliphatic-long-chain&quot;}, {&quot;data-SMILES&quot;: &quot;O=C(CCCCCn1cc(-c2ccc3ncnc(Nc4cccc(Cl)c4F)c3c2)nn1)NO&quot;, &quot;data-img&quot;: null, &quot;data-substructure_name&quot;: &quot;hydroxamic-acid&quot;, &quot;mols2grid-id&quot;: 32, &quot;data-chembl_id&quot;: &quot;CHEMBL3929484&quot;, &quot;mols2grid-tooltip&quot;: &quot;&lt;strong&gt;substructure_name&lt;/strong&gt;: hydroxamic-acid&quot;}, {&quot;data-SMILES&quot;: &quot;O=C(CCCCCn1cc(-c2ccc3ncnc(Nc4cccc(Cl)c4F)c3c2)nn1)NO&quot;, &quot;data-img&quot;: null, &quot;data-substructure_name&quot;: &quot;Oxygen-nitrogen-single-bond&quot;, &quot;mols2grid-id&quot;: 33, &quot;data-chembl_id&quot;: &quot;CHEMBL3929484&quot;, &quot;mols2grid-tooltip&quot;: &quot;&lt;strong&gt;substructure_name&lt;/strong&gt;: Oxygen-nitrogen-single-bond&quot;}, {&quot;data-SMILES&quot;: &quot;O=C(O)CCCNc1cc2ncnc(Nc3cccc(Br)c3)c2cn1&quot;, &quot;data-img&quot;: null, &quot;data-substructure_name&quot;: &quot;Aliphatic-long-chain&quot;, &quot;mols2grid-id&quot;: 34, &quot;data-chembl_id&quot;: &quot;CHEMBL128468&quot;, &quot;mols2grid-tooltip&quot;: &quot;&lt;strong&gt;substructure_name&lt;/strong&gt;: Aliphatic-long-chain&quot;}, {&quot;data-SMILES&quot;: &quot;C=C=CC(=O)Nc1cc(Nc2nccc(-c3cn(C)c4ccccc34)n2)c(OC)cc1N1CCN(C)CC1&quot;, &quot;data-img&quot;: null, &quot;data-substructure_name&quot;: &quot;Michael-acceptor&quot;, &quot;mols2grid-id&quot;: 35, &quot;data-chembl_id&quot;: &quot;CHEMBL4290812&quot;, &quot;mols2grid-tooltip&quot;: &quot;&lt;strong&gt;substructure_name&lt;/strong&gt;: Michael-acceptor&quot;}, {&quot;data-SMILES&quot;: &quot;COc1cc2ncnc(Nc3ccc(F)c(Cl)c3)c2cc1NC(=O)/C(F)=C\\\\CN1CCOCC1&quot;, &quot;data-img&quot;: null, &quot;data-substructure_name&quot;: &quot;Michael-acceptor&quot;, &quot;mols2grid-id&quot;: 36, &quot;data-chembl_id&quot;: &quot;CHEMBL3357644&quot;, &quot;mols2grid-tooltip&quot;: &quot;&lt;strong&gt;substructure_name&lt;/strong&gt;: Michael-acceptor&quot;}, {&quot;data-SMILES&quot;: &quot;CC#CC(=O)Nc1cc2c(Nc3ccc(F)c(Cl)c3)ncnc2cn1&quot;, &quot;data-img&quot;: null, &quot;data-substructure_name&quot;: &quot;triple-bond&quot;, &quot;mols2grid-id&quot;: 37, &quot;data-chembl_id&quot;: &quot;CHEMBL203644&quot;, &quot;mols2grid-tooltip&quot;: &quot;&lt;strong&gt;substructure_name&lt;/strong&gt;: triple-bond&quot;}, {&quot;data-SMILES&quot;: &quot;COc1cc2c(Nc3ccc(F)c(Cl)c3)ncnc2cc1OCCCCn1ccnc1[N+](=O)[O-]&quot;, &quot;data-img&quot;: null, &quot;data-substructure_name&quot;: &quot;Aliphatic-long-chain&quot;, &quot;mols2grid-id&quot;: 38, &quot;data-chembl_id&quot;: &quot;CHEMBL3360603&quot;, &quot;mols2grid-tooltip&quot;: &quot;&lt;strong&gt;substructure_name&lt;/strong&gt;: Aliphatic-long-chain&quot;}, {&quot;data-SMILES&quot;: &quot;COc1cc2c(Nc3ccc(F)c(Cl)c3)ncnc2cc1OCCCCn1ccnc1[N+](=O)[O-]&quot;, &quot;data-img&quot;: null, &quot;data-substructure_name&quot;: &quot;nitro-group&quot;, &quot;mols2grid-id&quot;: 39, &quot;data-chembl_id&quot;: &quot;CHEMBL3360603&quot;, &quot;mols2grid-tooltip&quot;: &quot;&lt;strong&gt;substructure_name&lt;/strong&gt;: nitro-group&quot;}, {&quot;data-SMILES&quot;: &quot;COc1cc2c(Nc3ccc(F)c(Cl)c3)ncnc2cc1OCCCCn1ccnc1[N+](=O)[O-]&quot;, &quot;data-img&quot;: null, &quot;data-substructure_name&quot;: &quot;Oxygen-nitrogen-single-bond&quot;, &quot;mols2grid-id&quot;: 40, &quot;data-chembl_id&quot;: &quot;CHEMBL3360603&quot;, &quot;mols2grid-tooltip&quot;: &quot;&lt;strong&gt;substructure_name&lt;/strong&gt;: Oxygen-nitrogen-single-bond&quot;}, {&quot;data-SMILES&quot;: &quot;COc1cc2c(Nc3ccc(F)c(Cl)c3)ncnc2cc1OCCOCCn1ccnc1[N+](=O)[O-]&quot;, &quot;data-img&quot;: null, &quot;data-substructure_name&quot;: &quot;Aliphatic-long-chain&quot;, &quot;mols2grid-id&quot;: 41, &quot;data-chembl_id&quot;: &quot;CHEMBL3360606&quot;, &quot;mols2grid-tooltip&quot;: &quot;&lt;strong&gt;substructure_name&lt;/strong&gt;: Aliphatic-long-chain&quot;}, {&quot;data-SMILES&quot;: &quot;COc1cc2c(Nc3ccc(F)c(Cl)c3)ncnc2cc1OCCOCCn1ccnc1[N+](=O)[O-]&quot;, &quot;data-img&quot;: null, &quot;data-substructure_name&quot;: &quot;nitro-group&quot;, &quot;mols2grid-id&quot;: 42, &quot;data-chembl_id&quot;: &quot;CHEMBL3360606&quot;, &quot;mols2grid-tooltip&quot;: &quot;&lt;strong&gt;substructure_name&lt;/strong&gt;: nitro-group&quot;}, {&quot;data-SMILES&quot;: &quot;COc1cc2c(Nc3ccc(F)c(Cl)c3)ncnc2cc1OCCOCCn1ccnc1[N+](=O)[O-]&quot;, &quot;data-img&quot;: null, &quot;data-substructure_name&quot;: &quot;Oxygen-nitrogen-single-bond&quot;, &quot;mols2grid-id&quot;: 43, &quot;data-chembl_id&quot;: &quot;CHEMBL3360606&quot;, &quot;mols2grid-tooltip&quot;: &quot;&lt;strong&gt;substructure_name&lt;/strong&gt;: Oxygen-nitrogen-single-bond&quot;}, {&quot;data-SMILES&quot;: &quot;OCCN(CCO)CCCNc1cc2c(Nc3cccc(Br)c3)ncnc2cn1&quot;, &quot;data-img&quot;: null, &quot;data-substructure_name&quot;: &quot;Aliphatic-long-chain&quot;, &quot;mols2grid-id&quot;: 44, &quot;data-chembl_id&quot;: &quot;CHEMBL163369&quot;, &quot;mols2grid-tooltip&quot;: &quot;&lt;strong&gt;substructure_name&lt;/strong&gt;: Aliphatic-long-chain&quot;}, {&quot;data-SMILES&quot;: &quot;Nc1ccc2c(Nc3cccc(I)c3)ncnc2c1&quot;, &quot;data-img&quot;: null, &quot;data-substructure_name&quot;: &quot;aniline&quot;, &quot;mols2grid-id&quot;: 45, &quot;data-chembl_id&quot;: &quot;CHEMBL91980&quot;, &quot;mols2grid-tooltip&quot;: &quot;&lt;strong&gt;substructure_name&lt;/strong&gt;: aniline&quot;}, {&quot;data-SMILES&quot;: &quot;Nc1ccc2c(Nc3cccc(I)c3)ncnc2c1&quot;, &quot;data-img&quot;: null, &quot;data-substructure_name&quot;: &quot;iodine&quot;, &quot;mols2grid-id&quot;: 46, &quot;data-chembl_id&quot;: &quot;CHEMBL91980&quot;, &quot;mols2grid-tooltip&quot;: &quot;&lt;strong&gt;substructure_name&lt;/strong&gt;: iodine&quot;}, {&quot;data-SMILES&quot;: &quot;CN(C)C/C=C/C(=O)Nc1cc2c(Nc3ccc(F)c(Cl)c3)ncnc2cc1OCC12COCC1C2&quot;, &quot;data-img&quot;: null, &quot;data-substructure_name&quot;: &quot;Michael-acceptor&quot;, &quot;mols2grid-id&quot;: 47, &quot;data-chembl_id&quot;: &quot;CHEMBL3895468&quot;, &quot;mols2grid-tooltip&quot;: &quot;&lt;strong&gt;substructure_name&lt;/strong&gt;: Michael-acceptor&quot;}, {&quot;data-SMILES&quot;: &quot;C=CC(=O)Nc1cccc(N2C(=O)N(C(C)C)Cc3cnc(Nc4ccc(N5CCN(C)CC5)cc4OC)nc32)c1&quot;, &quot;data-img&quot;: null, &quot;data-substructure_name&quot;: &quot;Michael-acceptor&quot;, &quot;mols2grid-id&quot;: 48, &quot;data-chembl_id&quot;: &quot;CHEMBL2029434&quot;, &quot;mols2grid-tooltip&quot;: &quot;&lt;strong&gt;substructure_name&lt;/strong&gt;: Michael-acceptor&quot;}, {&quot;data-SMILES&quot;: &quot;C=C=CC(=O)Nc1cc(Nc2nccc(-c3cn(C)c4ccccc34)n2)c(OC)cc1OCCN1CCN(C)CC1&quot;, &quot;data-img&quot;: null, &quot;data-substructure_name&quot;: &quot;Michael-acceptor&quot;, &quot;mols2grid-id&quot;: 49, &quot;data-chembl_id&quot;: &quot;CHEMBL4282543&quot;, &quot;mols2grid-tooltip&quot;: &quot;&lt;strong&gt;substructure_name&lt;/strong&gt;: Michael-acceptor&quot;}, {&quot;data-SMILES&quot;: &quot;C=CC(=O)Nc1ccc2ncnc(N3CCc4ccc(Br)cc43)c2c1&quot;, &quot;data-img&quot;: null, &quot;data-substructure_name&quot;: &quot;Michael-acceptor&quot;, &quot;mols2grid-id&quot;: 50, &quot;data-chembl_id&quot;: &quot;CHEMBL51741&quot;, &quot;mols2grid-tooltip&quot;: &quot;&lt;strong&gt;substructure_name&lt;/strong&gt;: Michael-acceptor&quot;}, {&quot;data-SMILES&quot;: &quot;CO[C@@H]1COC2C1OC[C@H]2Oc1cc2ncnc(Nc3ccc(F)c(Cl)c3)c2cc1NC(=O)/C=C/CN(C)C&quot;, &quot;data-img&quot;: null, &quot;data-substructure_name&quot;: &quot;Michael-acceptor&quot;, &quot;mols2grid-id&quot;: 51, &quot;data-chembl_id&quot;: &quot;CHEMBL4112924&quot;, &quot;mols2grid-tooltip&quot;: &quot;&lt;strong&gt;substructure_name&lt;/strong&gt;: Michael-acceptor&quot;}, {&quot;data-SMILES&quot;: &quot;C=CC(=O)Nc1ccc2ncnc(Nc3cccc(C)c3)c2c1&quot;, &quot;data-img&quot;: null, &quot;data-substructure_name&quot;: &quot;Michael-acceptor&quot;, &quot;mols2grid-id&quot;: 52, &quot;data-chembl_id&quot;: &quot;CHEMBL31815&quot;, &quot;mols2grid-tooltip&quot;: &quot;&lt;strong&gt;substructure_name&lt;/strong&gt;: Michael-acceptor&quot;}, {&quot;data-SMILES&quot;: &quot;C=CC(=O)Nc1ccc2c(Nc3cccc(Br)c3)ncnc2c1&quot;, &quot;data-img&quot;: null, &quot;data-substructure_name&quot;: &quot;Michael-acceptor&quot;, &quot;mols2grid-id&quot;: 53, &quot;data-chembl_id&quot;: &quot;CHEMBL443523&quot;, &quot;mols2grid-tooltip&quot;: &quot;&lt;strong&gt;substructure_name&lt;/strong&gt;: Michael-acceptor&quot;}, {&quot;data-SMILES&quot;: &quot;CCN(CC)CC(O)CNC(=O)c1cc(C)c(/C=C2\\\\C(=O)Nc3ncnc(Nc4ccc(F)c(Cl)c4)c32)[nH]1&quot;, &quot;data-img&quot;: null, &quot;data-substructure_name&quot;: &quot;Michael-acceptor&quot;, &quot;mols2grid-id&quot;: 54, &quot;data-chembl_id&quot;: &quot;CHEMBL304271&quot;, &quot;mols2grid-tooltip&quot;: &quot;&lt;strong&gt;substructure_name&lt;/strong&gt;: Michael-acceptor&quot;}, {&quot;data-SMILES&quot;: &quot;C#Cc1cccc(Nc2ncnc3cc(OCCCCCn4ccnc4[N+](=O)[O-])c(OC)cc23)c1&quot;, &quot;data-img&quot;: null, &quot;data-substructure_name&quot;: &quot;Aliphatic-long-chain&quot;, &quot;mols2grid-id&quot;: 55, &quot;data-chembl_id&quot;: &quot;CHEMBL3360609&quot;, &quot;mols2grid-tooltip&quot;: &quot;&lt;strong&gt;substructure_name&lt;/strong&gt;: Aliphatic-long-chain&quot;}, {&quot;data-SMILES&quot;: &quot;C#Cc1cccc(Nc2ncnc3cc(OCCCCCn4ccnc4[N+](=O)[O-])c(OC)cc23)c1&quot;, &quot;data-img&quot;: null, &quot;data-substructure_name&quot;: &quot;nitro-group&quot;, &quot;mols2grid-id&quot;: 56, &quot;data-chembl_id&quot;: &quot;CHEMBL3360609&quot;, &quot;mols2grid-tooltip&quot;: &quot;&lt;strong&gt;substructure_name&lt;/strong&gt;: nitro-group&quot;}, {&quot;data-SMILES&quot;: &quot;C#Cc1cccc(Nc2ncnc3cc(OCCCCCn4ccnc4[N+](=O)[O-])c(OC)cc23)c1&quot;, &quot;data-img&quot;: null, &quot;data-substructure_name&quot;: &quot;Oxygen-nitrogen-single-bond&quot;, &quot;mols2grid-id&quot;: 57, &quot;data-chembl_id&quot;: &quot;CHEMBL3360609&quot;, &quot;mols2grid-tooltip&quot;: &quot;&lt;strong&gt;substructure_name&lt;/strong&gt;: Oxygen-nitrogen-single-bond&quot;}, {&quot;data-SMILES&quot;: &quot;C#Cc1cccc(Nc2ncnc3cc(OCCCCCn4ccnc4[N+](=O)[O-])c(OC)cc23)c1&quot;, &quot;data-img&quot;: null, &quot;data-substructure_name&quot;: &quot;triple-bond&quot;, &quot;mols2grid-id&quot;: 58, &quot;data-chembl_id&quot;: &quot;CHEMBL3360609&quot;, &quot;mols2grid-tooltip&quot;: &quot;&lt;strong&gt;substructure_name&lt;/strong&gt;: triple-bond&quot;}, {&quot;data-SMILES&quot;: &quot;Cl.Nc1ccc2c(c1)sc1c(Nc3cccc(Br)c3)ncnc12&quot;, &quot;data-img&quot;: null, &quot;data-substructure_name&quot;: &quot;aniline&quot;, &quot;mols2grid-id&quot;: 59, &quot;data-chembl_id&quot;: &quot;CHEMBL539822&quot;, &quot;mols2grid-tooltip&quot;: &quot;&lt;strong&gt;substructure_name&lt;/strong&gt;: aniline&quot;}, {&quot;data-SMILES&quot;: &quot;COc1cc2ncnc(Nc3ccc(F)c(Cl)c3)c2cc1OCCCCn1ccnc1[N+](=O)[O-]&quot;, &quot;data-img&quot;: null, &quot;data-substructure_name&quot;: &quot;Aliphatic-long-chain&quot;, &quot;mols2grid-id&quot;: 60, &quot;data-chembl_id&quot;: &quot;CHEMBL3355875&quot;, &quot;mols2grid-tooltip&quot;: &quot;&lt;strong&gt;substructure_name&lt;/strong&gt;: Aliphatic-long-chain&quot;}, {&quot;data-SMILES&quot;: &quot;COc1cc2ncnc(Nc3ccc(F)c(Cl)c3)c2cc1OCCCCn1ccnc1[N+](=O)[O-]&quot;, &quot;data-img&quot;: null, &quot;data-substructure_name&quot;: &quot;nitro-group&quot;, &quot;mols2grid-id&quot;: 61, &quot;data-chembl_id&quot;: &quot;CHEMBL3355875&quot;, &quot;mols2grid-tooltip&quot;: &quot;&lt;strong&gt;substructure_name&lt;/strong&gt;: nitro-group&quot;}, {&quot;data-SMILES&quot;: &quot;COc1cc2ncnc(Nc3ccc(F)c(Cl)c3)c2cc1OCCCCn1ccnc1[N+](=O)[O-]&quot;, &quot;data-img&quot;: null, &quot;data-substructure_name&quot;: &quot;Oxygen-nitrogen-single-bond&quot;, &quot;mols2grid-id&quot;: 62, &quot;data-chembl_id&quot;: &quot;CHEMBL3355875&quot;, &quot;mols2grid-tooltip&quot;: &quot;&lt;strong&gt;substructure_name&lt;/strong&gt;: Oxygen-nitrogen-single-bond&quot;}, {&quot;data-SMILES&quot;: &quot;C=CC(=O)Nc1cc2c(Nc3cccc(C)c3)ncnc2cn1&quot;, &quot;data-img&quot;: null, &quot;data-substructure_name&quot;: &quot;Michael-acceptor&quot;, &quot;mols2grid-id&quot;: 63, &quot;data-chembl_id&quot;: &quot;CHEMBL54088&quot;, &quot;mols2grid-tooltip&quot;: &quot;&lt;strong&gt;substructure_name&lt;/strong&gt;: Michael-acceptor&quot;}, {&quot;data-SMILES&quot;: &quot;COc1cc2c(Nc3cccc(Br)c3)ncnc2cc1OCCCn1ccnc1[N+](=O)[O-]&quot;, &quot;data-img&quot;: null, &quot;data-substructure_name&quot;: &quot;Aliphatic-long-chain&quot;, &quot;mols2grid-id&quot;: 64, &quot;data-chembl_id&quot;: &quot;CHEMBL3360617&quot;, &quot;mols2grid-tooltip&quot;: &quot;&lt;strong&gt;substructure_name&lt;/strong&gt;: Aliphatic-long-chain&quot;}, {&quot;data-SMILES&quot;: &quot;COc1cc2c(Nc3cccc(Br)c3)ncnc2cc1OCCCn1ccnc1[N+](=O)[O-]&quot;, &quot;data-img&quot;: null, &quot;data-substructure_name&quot;: &quot;nitro-group&quot;, &quot;mols2grid-id&quot;: 65, &quot;data-chembl_id&quot;: &quot;CHEMBL3360617&quot;, &quot;mols2grid-tooltip&quot;: &quot;&lt;strong&gt;substructure_name&lt;/strong&gt;: nitro-group&quot;}, {&quot;data-SMILES&quot;: &quot;COc1cc2c(Nc3cccc(Br)c3)ncnc2cc1OCCCn1ccnc1[N+](=O)[O-]&quot;, &quot;data-img&quot;: null, &quot;data-substructure_name&quot;: &quot;Oxygen-nitrogen-single-bond&quot;, &quot;mols2grid-id&quot;: 66, &quot;data-chembl_id&quot;: &quot;CHEMBL3360617&quot;, &quot;mols2grid-tooltip&quot;: &quot;&lt;strong&gt;substructure_name&lt;/strong&gt;: Oxygen-nitrogen-single-bond&quot;}, {&quot;data-SMILES&quot;: &quot;O=C(O)[C@H]1O[C@@H]1C(=O)Nc1ccc2ncnc(Nc3cccc(Br)c3)c2c1&quot;, &quot;data-img&quot;: null, &quot;data-substructure_name&quot;: &quot;Three-membered-heterocycle&quot;, &quot;mols2grid-id&quot;: 67, &quot;data-chembl_id&quot;: &quot;CHEMBL2021576&quot;, &quot;mols2grid-tooltip&quot;: &quot;&lt;strong&gt;substructure_name&lt;/strong&gt;: Three-membered-heterocycle&quot;}, {&quot;data-SMILES&quot;: &quot;C#Cc1cccc(Nc2ncnc3cc(OC)c(OCCCCCn4ccnc4[N+](=O)[O-])cc23)c1&quot;, &quot;data-img&quot;: null, &quot;data-substructure_name&quot;: &quot;Aliphatic-long-chain&quot;, &quot;mols2grid-id&quot;: 68, &quot;data-chembl_id&quot;: &quot;CHEMBL3355881&quot;, &quot;mols2grid-tooltip&quot;: &quot;&lt;strong&gt;substructure_name&lt;/strong&gt;: Aliphatic-long-chain&quot;}, {&quot;data-SMILES&quot;: &quot;C#Cc1cccc(Nc2ncnc3cc(OC)c(OCCCCCn4ccnc4[N+](=O)[O-])cc23)c1&quot;, &quot;data-img&quot;: null, &quot;data-substructure_name&quot;: &quot;nitro-group&quot;, &quot;mols2grid-id&quot;: 69, &quot;data-chembl_id&quot;: &quot;CHEMBL3355881&quot;, &quot;mols2grid-tooltip&quot;: &quot;&lt;strong&gt;substructure_name&lt;/strong&gt;: nitro-group&quot;}, {&quot;data-SMILES&quot;: &quot;C#Cc1cccc(Nc2ncnc3cc(OC)c(OCCCCCn4ccnc4[N+](=O)[O-])cc23)c1&quot;, &quot;data-img&quot;: null, &quot;data-substructure_name&quot;: &quot;Oxygen-nitrogen-single-bond&quot;, &quot;mols2grid-id&quot;: 70, &quot;data-chembl_id&quot;: &quot;CHEMBL3355881&quot;, &quot;mols2grid-tooltip&quot;: &quot;&lt;strong&gt;substructure_name&lt;/strong&gt;: Oxygen-nitrogen-single-bond&quot;}, {&quot;data-SMILES&quot;: &quot;C#Cc1cccc(Nc2ncnc3cc(OC)c(OCCCCCn4ccnc4[N+](=O)[O-])cc23)c1&quot;, &quot;data-img&quot;: null, &quot;data-substructure_name&quot;: &quot;triple-bond&quot;, &quot;mols2grid-id&quot;: 71, &quot;data-chembl_id&quot;: &quot;CHEMBL3355881&quot;, &quot;mols2grid-tooltip&quot;: &quot;&lt;strong&gt;substructure_name&lt;/strong&gt;: triple-bond&quot;}, {&quot;data-SMILES&quot;: &quot;C#Cc1cccc(Nc2ncnc3cc(OC)c(OCCCCCCn4ccnc4[N+](=O)[O-])cc23)c1&quot;, &quot;data-img&quot;: null, &quot;data-substructure_name&quot;: &quot;Aliphatic-long-chain&quot;, &quot;mols2grid-id&quot;: 72, &quot;data-chembl_id&quot;: &quot;CHEMBL3355882&quot;, &quot;mols2grid-tooltip&quot;: &quot;&lt;strong&gt;substructure_name&lt;/strong&gt;: Aliphatic-long-chain&quot;}, {&quot;data-SMILES&quot;: &quot;C#Cc1cccc(Nc2ncnc3cc(OC)c(OCCCCCCn4ccnc4[N+](=O)[O-])cc23)c1&quot;, &quot;data-img&quot;: null, &quot;data-substructure_name&quot;: &quot;nitro-group&quot;, &quot;mols2grid-id&quot;: 73, &quot;data-chembl_id&quot;: &quot;CHEMBL3355882&quot;, &quot;mols2grid-tooltip&quot;: &quot;&lt;strong&gt;substructure_name&lt;/strong&gt;: nitro-group&quot;}, {&quot;data-SMILES&quot;: &quot;C#Cc1cccc(Nc2ncnc3cc(OC)c(OCCCCCCn4ccnc4[N+](=O)[O-])cc23)c1&quot;, &quot;data-img&quot;: null, &quot;data-substructure_name&quot;: &quot;Oxygen-nitrogen-single-bond&quot;, &quot;mols2grid-id&quot;: 74, &quot;data-chembl_id&quot;: &quot;CHEMBL3355882&quot;, &quot;mols2grid-tooltip&quot;: &quot;&lt;strong&gt;substructure_name&lt;/strong&gt;: Oxygen-nitrogen-single-bond&quot;}, {&quot;data-SMILES&quot;: &quot;C#Cc1cccc(Nc2ncnc3cc(OC)c(OCCCCCCn4ccnc4[N+](=O)[O-])cc23)c1&quot;, &quot;data-img&quot;: null, &quot;data-substructure_name&quot;: &quot;triple-bond&quot;, &quot;mols2grid-id&quot;: 75, &quot;data-chembl_id&quot;: &quot;CHEMBL3355882&quot;, &quot;mols2grid-tooltip&quot;: &quot;&lt;strong&gt;substructure_name&lt;/strong&gt;: triple-bond&quot;}, {&quot;data-SMILES&quot;: &quot;CN1CCN(CCC#CC(=O)Nc2cc3c(Nc4ccc(F)c(Cl)c4)ncnc3cn2)CC1&quot;, &quot;data-img&quot;: null, &quot;data-substructure_name&quot;: &quot;triple-bond&quot;, &quot;mols2grid-id&quot;: 76, &quot;data-chembl_id&quot;: &quot;CHEMBL203599&quot;, &quot;mols2grid-tooltip&quot;: &quot;&lt;strong&gt;substructure_name&lt;/strong&gt;: triple-bond&quot;}, {&quot;data-SMILES&quot;: &quot;CN(C)C/C=C/C(=O)Nc1cc2c(Nc3ccc(F)c(Cl)c3)ncnc2cc1O[C@@H]1CCOC1&quot;, &quot;data-img&quot;: null, &quot;data-substructure_name&quot;: &quot;Michael-acceptor&quot;, &quot;mols2grid-id&quot;: 77, &quot;data-chembl_id&quot;: &quot;CHEMBL2347958&quot;, &quot;mols2grid-tooltip&quot;: &quot;&lt;strong&gt;substructure_name&lt;/strong&gt;: Michael-acceptor&quot;}, {&quot;data-SMILES&quot;: &quot;O=C(O)[C@@H]1O[C@H]1C(=O)Nc1ccc2ncnc(Nc3cccc(Br)c3)c2c1&quot;, &quot;data-img&quot;: null, &quot;data-substructure_name&quot;: &quot;Three-membered-heterocycle&quot;, &quot;mols2grid-id&quot;: 78, &quot;data-chembl_id&quot;: &quot;CHEMBL2021575&quot;, &quot;mols2grid-tooltip&quot;: &quot;&lt;strong&gt;substructure_name&lt;/strong&gt;: Three-membered-heterocycle&quot;}, {&quot;data-SMILES&quot;: &quot;CN(C)C/C=C/C(=O)Nc1cc2c(Nc3ccc(F)c(Cl)c3)ncnc2cc1OC[C@@]12COC[C@@H]1C2&quot;, &quot;data-img&quot;: null, &quot;data-substructure_name&quot;: &quot;Michael-acceptor&quot;, &quot;mols2grid-id&quot;: 79, &quot;data-chembl_id&quot;: &quot;CHEMBL3901296&quot;, &quot;mols2grid-tooltip&quot;: &quot;&lt;strong&gt;substructure_name&lt;/strong&gt;: Michael-acceptor&quot;}, {&quot;data-SMILES&quot;: &quot;Brc1cccc(Nc2ncnc3cc(NCCCn4ccnc4)ncc23)c1&quot;, &quot;data-img&quot;: null, &quot;data-substructure_name&quot;: &quot;Aliphatic-long-chain&quot;, &quot;mols2grid-id&quot;: 80, &quot;data-chembl_id&quot;: &quot;CHEMBL126791&quot;, &quot;mols2grid-tooltip&quot;: &quot;&lt;strong&gt;substructure_name&lt;/strong&gt;: Aliphatic-long-chain&quot;}, {&quot;data-SMILES&quot;: &quot;C=CC(=O)Nc1cc2ncnc(Nc3cccc(Br)c3)c2cn1&quot;, &quot;data-img&quot;: null, &quot;data-substructure_name&quot;: &quot;Michael-acceptor&quot;, &quot;mols2grid-id&quot;: 81, &quot;data-chembl_id&quot;: &quot;CHEMBL49986&quot;, &quot;mols2grid-tooltip&quot;: &quot;&lt;strong&gt;substructure_name&lt;/strong&gt;: Michael-acceptor&quot;}, {&quot;data-SMILES&quot;: &quot;C#Cc1cccc(Nc2ncnc3cc(OCCOCCn4ccnc4[N+](=O)[O-])c(OC)cc23)c1&quot;, &quot;data-img&quot;: null, &quot;data-substructure_name&quot;: &quot;Aliphatic-long-chain&quot;, &quot;mols2grid-id&quot;: 82, &quot;data-chembl_id&quot;: &quot;CHEMBL3360611&quot;, &quot;mols2grid-tooltip&quot;: &quot;&lt;strong&gt;substructure_name&lt;/strong&gt;: Aliphatic-long-chain&quot;}, {&quot;data-SMILES&quot;: &quot;C#Cc1cccc(Nc2ncnc3cc(OCCOCCn4ccnc4[N+](=O)[O-])c(OC)cc23)c1&quot;, &quot;data-img&quot;: null, &quot;data-substructure_name&quot;: &quot;nitro-group&quot;, &quot;mols2grid-id&quot;: 83, &quot;data-chembl_id&quot;: &quot;CHEMBL3360611&quot;, &quot;mols2grid-tooltip&quot;: &quot;&lt;strong&gt;substructure_name&lt;/strong&gt;: nitro-group&quot;}, {&quot;data-SMILES&quot;: &quot;C#Cc1cccc(Nc2ncnc3cc(OCCOCCn4ccnc4[N+](=O)[O-])c(OC)cc23)c1&quot;, &quot;data-img&quot;: null, &quot;data-substructure_name&quot;: &quot;Oxygen-nitrogen-single-bond&quot;, &quot;mols2grid-id&quot;: 84, &quot;data-chembl_id&quot;: &quot;CHEMBL3360611&quot;, &quot;mols2grid-tooltip&quot;: &quot;&lt;strong&gt;substructure_name&lt;/strong&gt;: Oxygen-nitrogen-single-bond&quot;}, {&quot;data-SMILES&quot;: &quot;C#Cc1cccc(Nc2ncnc3cc(OCCOCCn4ccnc4[N+](=O)[O-])c(OC)cc23)c1&quot;, &quot;data-img&quot;: null, &quot;data-substructure_name&quot;: &quot;triple-bond&quot;, &quot;mols2grid-id&quot;: 85, &quot;data-chembl_id&quot;: &quot;CHEMBL3360611&quot;, &quot;mols2grid-tooltip&quot;: &quot;&lt;strong&gt;substructure_name&lt;/strong&gt;: triple-bond&quot;}, {&quot;data-SMILES&quot;: &quot;C#Cc1cccc(Nc2ncnc3cc(OC)c(OCCCCn4ccnc4[N+](=O)[O-])cc23)c1&quot;, &quot;data-img&quot;: null, &quot;data-substructure_name&quot;: &quot;Aliphatic-long-chain&quot;, &quot;mols2grid-id&quot;: 86, &quot;data-chembl_id&quot;: &quot;CHEMBL3355880&quot;, &quot;mols2grid-tooltip&quot;: &quot;&lt;strong&gt;substructure_name&lt;/strong&gt;: Aliphatic-long-chain&quot;}, {&quot;data-SMILES&quot;: &quot;C#Cc1cccc(Nc2ncnc3cc(OC)c(OCCCCn4ccnc4[N+](=O)[O-])cc23)c1&quot;, &quot;data-img&quot;: null, &quot;data-substructure_name&quot;: &quot;nitro-group&quot;, &quot;mols2grid-id&quot;: 87, &quot;data-chembl_id&quot;: &quot;CHEMBL3355880&quot;, &quot;mols2grid-tooltip&quot;: &quot;&lt;strong&gt;substructure_name&lt;/strong&gt;: nitro-group&quot;}, {&quot;data-SMILES&quot;: &quot;C#Cc1cccc(Nc2ncnc3cc(OC)c(OCCCCn4ccnc4[N+](=O)[O-])cc23)c1&quot;, &quot;data-img&quot;: null, &quot;data-substructure_name&quot;: &quot;Oxygen-nitrogen-single-bond&quot;, &quot;mols2grid-id&quot;: 88, &quot;data-chembl_id&quot;: &quot;CHEMBL3355880&quot;, &quot;mols2grid-tooltip&quot;: &quot;&lt;strong&gt;substructure_name&lt;/strong&gt;: Oxygen-nitrogen-single-bond&quot;}, {&quot;data-SMILES&quot;: &quot;C#Cc1cccc(Nc2ncnc3cc(OC)c(OCCCCn4ccnc4[N+](=O)[O-])cc23)c1&quot;, &quot;data-img&quot;: null, &quot;data-substructure_name&quot;: &quot;triple-bond&quot;, &quot;mols2grid-id&quot;: 89, &quot;data-chembl_id&quot;: &quot;CHEMBL3355880&quot;, &quot;mols2grid-tooltip&quot;: &quot;&lt;strong&gt;substructure_name&lt;/strong&gt;: triple-bond&quot;}, {&quot;data-SMILES&quot;: &quot;C#Cc1cccc(Nc2ncnc3cc(OCCCCCCn4ccnc4[N+](=O)[O-])c(OC)cc23)c1&quot;, &quot;data-img&quot;: null, &quot;data-substructure_name&quot;: &quot;Aliphatic-long-chain&quot;, &quot;mols2grid-id&quot;: 90, &quot;data-chembl_id&quot;: &quot;CHEMBL3360610&quot;, &quot;mols2grid-tooltip&quot;: &quot;&lt;strong&gt;substructure_name&lt;/strong&gt;: Aliphatic-long-chain&quot;}, {&quot;data-SMILES&quot;: &quot;C#Cc1cccc(Nc2ncnc3cc(OCCCCCCn4ccnc4[N+](=O)[O-])c(OC)cc23)c1&quot;, &quot;data-img&quot;: null, &quot;data-substructure_name&quot;: &quot;nitro-group&quot;, &quot;mols2grid-id&quot;: 91, &quot;data-chembl_id&quot;: &quot;CHEMBL3360610&quot;, &quot;mols2grid-tooltip&quot;: &quot;&lt;strong&gt;substructure_name&lt;/strong&gt;: nitro-group&quot;}, {&quot;data-SMILES&quot;: &quot;C#Cc1cccc(Nc2ncnc3cc(OCCCCCCn4ccnc4[N+](=O)[O-])c(OC)cc23)c1&quot;, &quot;data-img&quot;: null, &quot;data-substructure_name&quot;: &quot;Oxygen-nitrogen-single-bond&quot;, &quot;mols2grid-id&quot;: 92, &quot;data-chembl_id&quot;: &quot;CHEMBL3360610&quot;, &quot;mols2grid-tooltip&quot;: &quot;&lt;strong&gt;substructure_name&lt;/strong&gt;: Oxygen-nitrogen-single-bond&quot;}, {&quot;data-SMILES&quot;: &quot;C#Cc1cccc(Nc2ncnc3cc(OCCCCCCn4ccnc4[N+](=O)[O-])c(OC)cc23)c1&quot;, &quot;data-img&quot;: null, &quot;data-substructure_name&quot;: &quot;triple-bond&quot;, &quot;mols2grid-id&quot;: 93, &quot;data-chembl_id&quot;: &quot;CHEMBL3360610&quot;, &quot;mols2grid-tooltip&quot;: &quot;&lt;strong&gt;substructure_name&lt;/strong&gt;: triple-bond&quot;}, {&quot;data-SMILES&quot;: &quot;C=CC(=O)Nc1cccc(N2C(=O)N(C3CC3)Cc3cnc(Nc4ccc(N5CCN(C)CC5)cc4OC)nc32)c1&quot;, &quot;data-img&quot;: null, &quot;data-substructure_name&quot;: &quot;Michael-acceptor&quot;, &quot;mols2grid-id&quot;: 94, &quot;data-chembl_id&quot;: &quot;CHEMBL2029435&quot;, &quot;mols2grid-tooltip&quot;: &quot;&lt;strong&gt;substructure_name&lt;/strong&gt;: Michael-acceptor&quot;}, {&quot;data-SMILES&quot;: &quot;C=C=CC(=O)Nc1cc(Nc2nccc(-c3cn(C)c4ccccc34)n2)c(OC)cc1N1CCOCC1&quot;, &quot;data-img&quot;: null, &quot;data-substructure_name&quot;: &quot;Michael-acceptor&quot;, &quot;mols2grid-id&quot;: 95, &quot;data-chembl_id&quot;: &quot;CHEMBL4282954&quot;, &quot;mols2grid-tooltip&quot;: &quot;&lt;strong&gt;substructure_name&lt;/strong&gt;: Michael-acceptor&quot;}, {&quot;data-SMILES&quot;: &quot;C=CC(=O)Nc1cc(Cl)cc(-n2c(=O)cc(C)c3cnc(Nc4ccc(N5CCN(C)CC5)cc4OC)nc32)c1&quot;, &quot;data-img&quot;: null, &quot;data-substructure_name&quot;: &quot;Michael-acceptor&quot;, &quot;mols2grid-id&quot;: 96, &quot;data-chembl_id&quot;: &quot;CHEMBL4105621&quot;, &quot;mols2grid-tooltip&quot;: &quot;&lt;strong&gt;substructure_name&lt;/strong&gt;: Michael-acceptor&quot;}, {&quot;data-SMILES&quot;: &quot;C#CC(=O)Nc1cc2c(Nc3cccc(Br)c3)ncnc2cn1&quot;, &quot;data-img&quot;: null, &quot;data-substructure_name&quot;: &quot;triple-bond&quot;, &quot;mols2grid-id&quot;: 97, &quot;data-chembl_id&quot;: &quot;CHEMBL378144&quot;, &quot;mols2grid-tooltip&quot;: &quot;&lt;strong&gt;substructure_name&lt;/strong&gt;: triple-bond&quot;}, {&quot;data-SMILES&quot;: &quot;CCOc1cc2ncnc(Nc3cccc(I)c3)c2cc1OCC.Cl&quot;, &quot;data-img&quot;: null, &quot;data-substructure_name&quot;: &quot;iodine&quot;, &quot;mols2grid-id&quot;: 98, &quot;data-chembl_id&quot;: &quot;CHEMBL1204262&quot;, &quot;mols2grid-tooltip&quot;: &quot;&lt;strong&gt;substructure_name&lt;/strong&gt;: iodine&quot;}, {&quot;data-SMILES&quot;: &quot;O=C(CCCCCn1cc(-c2ccc3ncnc(Nc4ccc(F)c(Cl)c4)c3c2)nn1)NO&quot;, &quot;data-img&quot;: null, &quot;data-substructure_name&quot;: &quot;Aliphatic-long-chain&quot;, &quot;mols2grid-id&quot;: 99, &quot;data-chembl_id&quot;: &quot;CHEMBL3920583&quot;, &quot;mols2grid-tooltip&quot;: &quot;&lt;strong&gt;substructure_name&lt;/strong&gt;: Aliphatic-long-chain&quot;}]);\n",
       "// filter\n",
       "if (window.parent.mols2grid_lists === undefined) {\n",
       "    window.parent.mols2grid_lists = {};\n",
       "}\n",
       "window.parent.mols2grid_lists[&quot;default&quot;] = listObj;\n",
       "\n",
       "\n",
       "// selection\n",
       "class MolStorage extends Map {\n",
       "    multi_set(_id, _smiles) {\n",
       "        for (let i=0; i &lt; _id.length; i++) {\n",
       "            this.set(_id[i], _smiles[i]);\n",
       "        }\n",
       "    }\n",
       "    multi_del(_id) {\n",
       "        for (let i=0; i &lt; _id.length; i++) {\n",
       "            this.delete(_id[i]);\n",
       "        };\n",
       "    }\n",
       "    to_dict() {\n",
       "        var content = &quot;{&quot;;\n",
       "        for (let [key, value] of this) {\n",
       "            content += key + &quot;:&quot; + JSON.stringify(value) + &quot;,&quot;;\n",
       "        }\n",
       "        content = content.length &gt; 1 ? content.slice(0, -1) : content;\n",
       "        content += &quot;}&quot;;\n",
       "        return content\n",
       "    }\n",
       "    download_smi(fileName) {\n",
       "        var content = &quot;SMILES index\\n&quot;;\n",
       "        for (let [key, value] of this) {\n",
       "            content += value + &quot; &quot; + key + &quot;\\n&quot;;\n",
       "        }\n",
       "        var a = document.createElement(&quot;a&quot;);\n",
       "        var file = new Blob([content], {type: &quot;text/plain&quot;});\n",
       "        a.href = URL.createObjectURL(file);\n",
       "        a.download = fileName;\n",
       "        a.click();\n",
       "        a.remove();\n",
       "    }\n",
       "}\n",
       "var SELECTION = new MolStorage();\n",
       "\n",
       "\n",
       "\n",
       "// kernel\n",
       "var kernel_env = null;\n",
       "if (window.parent.IPython !== undefined) {\n",
       "    // Jupyter notebook\n",
       "    kernel_env = &quot;jupyter&quot;;\n",
       "    var kernel = window.parent.IPython.notebook.kernel;\n",
       "    kernel.execute(&#x27;from mols2grid.select import register as _m2g_reg&#x27;)\n",
       "    function add_selection(grid_id, _id, smiles) {\n",
       "        SELECTION.multi_set(_id, smiles);\n",
       "        kernel.execute(&quot;_m2g_reg.add_selection(&#x27;&quot;+grid_id+&quot;&#x27;, &quot;+JSON.stringify(_id)+&quot;,&quot;+JSON.stringify(smiles)+&quot;)&quot;);\n",
       "    }\n",
       "    function del_selection(grid_id, _id) {\n",
       "        SELECTION.multi_del(_id);\n",
       "        kernel.execute(&quot;_m2g_reg.del_selection(&#x27;&quot;+grid_id+&quot;&#x27;, &quot;+JSON.stringify(_id)+&quot;)&quot;);\n",
       "    }\n",
       "} else if (window.parent.google !== undefined) {\n",
       "    // Google colab\n",
       "    kernel_env = &quot;colab&quot;;\n",
       "    var kernel = window.parent.google.colab.kernel;\n",
       "    function add_selection(grid_id, _id, smiles) {\n",
       "        SELECTION.multi_set(_id, smiles);\n",
       "        (async function() {\n",
       "        const result = await kernel.invokeFunction(&#x27;_m2g_reg.add_selection&#x27;,\n",
       "                                                   [grid_id, _id, smiles], {});\n",
       "        })();\n",
       "    }\n",
       "    function del_selection(grid_id, _id) {\n",
       "        SELECTION.multi_del(_id);\n",
       "        (async function() {\n",
       "        const result = await kernel.invokeFunction(&#x27;_m2g_reg.del_selection&#x27;,\n",
       "                                                   [grid_id, _id], {});\n",
       "        })();\n",
       "    }\n",
       "} else {\n",
       "    function add_selection(grid_id, _id, smiles) {\n",
       "        SELECTION.multi_set(_id, smiles);\n",
       "    }\n",
       "    function del_selection(grid_id, _id) {\n",
       "        SELECTION.multi_del(_id);\n",
       "    }\n",
       "}\n",
       "\n",
       "\n",
       "\n",
       "\n",
       "// sort\n",
       "var sort_field = &quot;mols2grid-id&quot;;\n",
       "var sort_order = &quot;asc&quot;;\n",
       "function mols2gridSortFunction(itemA, itemB, options) {\n",
       "    var x = itemA.values()[options.valueName];\n",
       "    var y = itemB.values()[options.valueName];\n",
       "    if (typeof x === &quot;number&quot;) {\n",
       "        if (isFinite(x - y)) {\n",
       "            return x - y; \n",
       "        } else {\n",
       "            return isFinite(x) ? -1 : 1;\n",
       "        }\n",
       "    } else {\n",
       "        x = x.toLowerCase();\n",
       "        y = y.toLowerCase();\n",
       "        return (x &lt; y) ? -1: (x &gt; y) ? 1: 0;\n",
       "    }\n",
       "}\n",
       "function checkboxSort(itemA, itemB, options) {\n",
       "    if (itemA.elm !== undefined) {\n",
       "        var checkedA = itemA.elm.firstChild.checked;\n",
       "        if (itemB.elm !== undefined) {\n",
       "            var checkedB = itemB.elm.firstChild.checked;\n",
       "            if (checkedA &amp;&amp; !checkedB) {\n",
       "                return -1;\n",
       "            } else if (!checkedA &amp;&amp; checkedB) {\n",
       "                return 1;\n",
       "            } else {\n",
       "                return 0;\n",
       "            }\n",
       "        } else {\n",
       "            return -1;\n",
       "        }\n",
       "    } else if (itemB.elm !== undefined) {\n",
       "        return 1;\n",
       "    } else {\n",
       "        return 0;\n",
       "    }\n",
       "}\n",
       "$(&#x27;#mols2grid button.sort-btn&#x27;).click(function(e) {\n",
       "    var _field = $(this).attr(&quot;data-name&quot;);\n",
       "    if (_field == sort_field) {\n",
       "        $(this).removeClass(&quot;arrow-&quot; + sort_order)\n",
       "        sort_order = (sort_order === &quot;desc&quot;) ? &quot;asc&quot; : &quot;desc&quot;;\n",
       "    } else {\n",
       "        $(&#x27;#mols2grid button.sort-btn.active&#x27;).removeClass(&quot;active arrow-&quot; + sort_order);\n",
       "        sort_order = &quot;asc&quot;;\n",
       "        sort_field = _field;\n",
       "        $(this).addClass(&quot;active&quot;);\n",
       "    }\n",
       "    $(this).addClass(&quot;arrow-&quot; + sort_order)\n",
       "    if (sort_field == &quot;checkbox&quot;) {\n",
       "        listObj.sort(&quot;mols2grid-id&quot;, {order: sort_order, sortFunction: checkboxSort});\n",
       "    } else {\n",
       "        listObj.sort(_field, {order: sort_order, sortFunction: mols2gridSortFunction});\n",
       "    }\n",
       "});\n",
       "\n",
       "\n",
       "\n",
       "\n",
       "// tooltips\n",
       "$.fn.tooltip.Constructor.Default.whiteList.span = [&#x27;style&#x27;]\n",
       "listObj.on(&quot;updated&quot;, function (list) {\n",
       "    $(function () {\n",
       "        // hide previous popovers\n",
       "        $(&#x27;#mols2grid a.page-link&#x27;).click(function(e) {\n",
       "            $(&#x27;.mols2grid-tooltip[data-toggle=&quot;popover&quot;]&#x27;).popover(&#x27;hide&#x27;)\n",
       "        });\n",
       "        // create new popover\n",
       "        $(&#x27;.mols2grid-tooltip[data-toggle=&quot;popover&quot;]&#x27;).popover({\n",
       "            placement: &#x27;bottom&#x27;,\n",
       "            trigger: &#x27;click hover&#x27;,\n",
       "            html: true,\n",
       "            sanitize: false,\n",
       "        });\n",
       "    })\n",
       "});\n",
       "\n",
       "\n",
       "\n",
       "// selection modifyers and export options\n",
       "// check all\n",
       "$(&#x27;#btn-chkbox-all&#x27;).click(function (e) {\n",
       "    var _id = [];\n",
       "    var _smiles = [];\n",
       "    listObj.items.forEach(function (item) {\n",
       "        if (item.elm) {\n",
       "            item.elm.getElementsByTagName(&quot;input&quot;)[0].checked = true;\n",
       "        } else {\n",
       "            item.show()\n",
       "            item.elm.getElementsByTagName(&quot;input&quot;)[0].checked = true;\n",
       "            item.hide()\n",
       "        }\n",
       "        _id.push(item.values()[&quot;mols2grid-id&quot;]);\n",
       "        _smiles.push(item.values()[&quot;data-SMILES&quot;]);\n",
       "    });\n",
       "    add_selection(&quot;default&quot;, _id, _smiles);\n",
       "});\n",
       "// check matching\n",
       "$(&#x27;#btn-chkbox-match&#x27;).click(function (e) {\n",
       "    var _id = [];\n",
       "    var _smiles = [];\n",
       "    listObj.matchingItems.forEach(function (item) {\n",
       "        if (item.elm) {\n",
       "            item.elm.getElementsByTagName(&quot;input&quot;)[0].checked = true;\n",
       "        } else {\n",
       "            item.show()\n",
       "            item.elm.getElementsByTagName(&quot;input&quot;)[0].checked = true;\n",
       "            item.hide()\n",
       "        }\n",
       "        _id.push(item.values()[&quot;mols2grid-id&quot;]);\n",
       "        _smiles.push(item.values()[&quot;data-SMILES&quot;]);\n",
       "    });\n",
       "    add_selection(&quot;default&quot;, _id, _smiles);\n",
       "});\n",
       "// uncheck all\n",
       "$(&#x27;#btn-chkbox-none&#x27;).click(function (e) {\n",
       "    var _id = [];\n",
       "    listObj.items.forEach(function (item) {\n",
       "        if (item.elm) {\n",
       "            item.elm.getElementsByTagName(&quot;input&quot;)[0].checked = false;\n",
       "        } else {\n",
       "            item.show()\n",
       "            item.elm.getElementsByTagName(&quot;input&quot;)[0].checked = false;\n",
       "            item.hide()\n",
       "        }\n",
       "        _id.push(item.values()[&quot;mols2grid-id&quot;]);\n",
       "    });\n",
       "    del_selection(&quot;default&quot;, _id);\n",
       "});\n",
       "// invert\n",
       "$(&#x27;#btn-chkbox-invert&#x27;).click(function (e) {\n",
       "    var _id_add = [];\n",
       "    var _id_del = [];\n",
       "    var _smiles = [];\n",
       "    listObj.items.forEach(function (item) {\n",
       "        if (item.elm) {\n",
       "            var chkbox = item.elm.getElementsByTagName(&quot;input&quot;)[0]\n",
       "            chkbox.checked = !chkbox.checked;\n",
       "        } else {\n",
       "            item.show()\n",
       "            var chkbox = item.elm.getElementsByTagName(&quot;input&quot;)[0]\n",
       "            chkbox.checked = !chkbox.checked;\n",
       "            item.hide()\n",
       "        }\n",
       "        if (chkbox.checked) {\n",
       "            _id_add.push(item.values()[&quot;mols2grid-id&quot;]);\n",
       "            _smiles.push(item.values()[&quot;data-SMILES&quot;]);\n",
       "        } else {\n",
       "            _id_del.push(item.values()[&quot;mols2grid-id&quot;]);\n",
       "        }\n",
       "    });\n",
       "    del_selection(&quot;default&quot;, _id_del);\n",
       "    add_selection(&quot;default&quot;, _id_add, _smiles);\n",
       "});\n",
       "// copy to clipboard\n",
       "$(&quot;#btn-chkbox-copy&quot;).click(function(e) {\n",
       "    navigator.clipboard.writeText(SELECTION.to_dict());\n",
       "});\n",
       "// export smiles\n",
       "$(&quot;#btn-chkbox-dlsmi&quot;).click(function(e) {\n",
       "    SELECTION.download_smi(&quot;selection.smi&quot;);\n",
       "});\n",
       "// export CSV\n",
       "$(&quot;#btn-chkbox-dlcsv&quot;).click(function(e) {\n",
       "    var sep = &quot;\\t&quot;\n",
       "    // same order as subset + tooltip\n",
       "    var columns = Array.from(listObj.items[0].elm.querySelectorAll(&quot;div.data&quot;))\n",
       "                       .map(elm =&gt; elm.classList[1]);\n",
       "    // remove &#x27;data-&#x27;\n",
       "    var header = columns.map(name =&gt; name.slice(5));\n",
       "    // csv content\n",
       "    header = [&quot;index&quot;].concat(header).join(sep);\n",
       "    var content = header + &quot;\\n&quot;;\n",
       "    for (let [index, smiles] of SELECTION.entries()) {\n",
       "        var data = listObj.items[index].values();\n",
       "        content += index;\n",
       "        columns.forEach((key) =&gt; {\n",
       "            content += sep + data[key];\n",
       "        })\n",
       "        content += &quot;\\n&quot;;\n",
       "    }\n",
       "    var a = document.createElement(&quot;a&quot;);\n",
       "    var file = new Blob([content], {type: &quot;text/csv&quot;});\n",
       "    a.href = URL.createObjectURL(file);\n",
       "    a.download = &quot;selection.csv&quot;;\n",
       "    a.click();\n",
       "    a.remove();\n",
       "});\n",
       "// update selection on checkbox click\n",
       "listObj.on(&quot;updated&quot;, function (list) {\n",
       "    $(&quot;input:checkbox&quot;).change(function() {\n",
       "        var _id = parseInt($(this).closest(&quot;.cell&quot;).attr(&quot;data-mols2grid-id&quot;));\n",
       "        if (this.checked) {\n",
       "            var _smiles = $($(this).siblings(&quot;.data-SMILES&quot;)[0]).text();\n",
       "            add_selection(&quot;default&quot;, [_id], [_smiles]);\n",
       "        } else {\n",
       "            del_selection(&quot;default&quot;, [_id]);\n",
       "        }\n",
       "    }); \n",
       "});\n",
       "\n",
       "\n",
       "\n",
       "\n",
       "\n",
       "// generate images for the currently displayed molecules\n",
       "var draw_opts = {&quot;smi_col&quot;: null, &quot;width&quot;: 200, &quot;height&quot;: 120};\n",
       "var json_draw_opts = JSON.stringify(draw_opts);\n",
       "\n",
       "var smarts_matches = {};\n",
       "\n",
       "// Load RDKit\n",
       "window\n",
       ".initRDKitModule()\n",
       ".then(function(RDKit) {\n",
       "    console.log(&#x27;RDKit version: &#x27;, RDKit.version());\n",
       "    window.RDKit = RDKit;\n",
       "    window.RDKitModule = RDKit;\n",
       "\n",
       "    // search bar\n",
       "    function SmartsSearch(query, columns) {\n",
       "    var smiles_col = columns[0];\n",
       "    smarts_matches = {};\n",
       "    var query = $(&#x27;#mols2grid #searchbar&#x27;).val();\n",
       "    var qmol = RDKit.get_qmol(query);\n",
       "    if (qmol.is_valid()) {\n",
       "        listObj.items.forEach(function (item) {\n",
       "            var smiles = item.values()[smiles_col]\n",
       "            var mol = RDKit.get_mol(smiles);\n",
       "            if (mol.is_valid()) {\n",
       "                var results = mol.get_substruct_matches(qmol);\n",
       "                if (results === &quot;\\{\\}&quot;) {\n",
       "                    item.found = false;\n",
       "                } else {\n",
       "                    item.found = true;\n",
       "                    \n",
       "                    results = JSON.parse(results);\n",
       "                    \n",
       "                    var highlights = {&quot;atoms&quot;: [], &quot;bonds&quot;: []};\n",
       "                    results.forEach(function (match) {\n",
       "                        highlights[&quot;atoms&quot;].push(...match.atoms)\n",
       "                        highlights[&quot;bonds&quot;].push(...match.bonds)\n",
       "                    });\n",
       "                    \n",
       "                    var index = item.values()[&quot;mols2grid-id&quot;];\n",
       "                    smarts_matches[index] = highlights;\n",
       "                    \n",
       "                }\n",
       "            } else {\n",
       "                item.found = false;\n",
       "            }\n",
       "            mol.delete();\n",
       "        });\n",
       "    }\n",
       "    qmol.delete();\n",
       "}\n",
       "var search_type = &quot;Text&quot;;\n",
       "$(&#x27;#mols2grid .search-btn&#x27;).click(function() {\n",
       "    search_type = $(this).text();\n",
       "    $(&#x27;#mols2grid button.search-btn.active&#x27;).removeClass(&quot;active&quot;);\n",
       "    $(this).addClass(&quot;active&quot;);\n",
       "});\n",
       "$(&#x27;#mols2grid #searchbar&#x27;).on(&quot;keyup&quot;, function(e) {\n",
       "    var query = e.target.value;\n",
       "    if (search_type === &quot;Text&quot;) {\n",
       "        smarts_matches = {};\n",
       "        listObj.search(query, [&#x27;data-chembl_id&#x27;, &#x27;data-substructure_name&#x27;]);\n",
       "    } else {\n",
       "        listObj.search(query, [&quot;data-SMILES&quot;], SmartsSearch);\n",
       "    }\n",
       "});\n",
       "\n",
       "    \n",
       "    // generate images for the currently displayed molecules\n",
       "RDKit.prefer_coordgen(true);\n",
       "function draw_mol(smiles, index, template_mol) {\n",
       "    var mol = RDKit.get_mol(smiles, &#x27;{&quot;removeHs&quot;: false }&#x27;);\n",
       "    var svg = &quot;&quot;;\n",
       "    if (mol.is_valid()) {\n",
       "        var highlights = smarts_matches[index];\n",
       "        if (highlights) {\n",
       "            var details = Object.assign({}, draw_opts, highlights);\n",
       "            details = JSON.stringify(details);\n",
       "            mol.generate_aligned_coords(template_mol, true);\n",
       "        } else {\n",
       "            var details = json_draw_opts;\n",
       "        }\n",
       "        svg = mol.get_svg_with_highlights(details);\n",
       "    }\n",
       "    mol.delete();\n",
       "    if (svg == &quot;&quot;) {\n",
       "        return &#x27;&lt;svg width=&quot;200&quot; height=&quot;120&quot; xmlns=&quot;http://www.w3.org/2000/svg&quot; version=&quot;1.1&quot; viewBox=&quot;0 0 200 120&quot;&gt;&lt;/svg&gt;&#x27;;\n",
       "    }\n",
       "    return svg;\n",
       "}\n",
       "listObj.on(&quot;updated&quot;, function (list) {\n",
       "    var query = $(&#x27;#mols2grid #searchbar&#x27;).val();\n",
       "    var template_mol;\n",
       "    if (query === &quot;&quot;) {\n",
       "        smarts_matches = {};\n",
       "        template_mol = null;\n",
       "    } else {\n",
       "        template_mol = RDKit.get_qmol(query);\n",
       "        template_mol.set_new_coords(true);\n",
       "    }\n",
       "    $(&#x27;#mols2grid .cell&#x27;).each(function() {\n",
       "        var $t = $(this);\n",
       "        var smiles = $t.children(&quot;.data-SMILES&quot;).first().text();\n",
       "        var index = parseInt(this.getAttribute(&quot;data-mols2grid-id&quot;));\n",
       "        var svg = draw_mol(smiles, index, template_mol);\n",
       "        $t.children(&quot;.data-img&quot;).html(svg);\n",
       "    });\n",
       "    if (template_mol) {\n",
       "        template_mol.delete();\n",
       "    }\n",
       "});\n",
       "    \n",
       "\n",
       "    // trigger update to activate tooltips, draw images, setup callbacks...\n",
       "    listObj.update();\n",
       "    // resize iframe to fit content\n",
       "    if (window.frameElement) {\n",
       "        window.parent.fit_height(window.frameElement);\n",
       "    }\n",
       "});\n",
       "    &lt;/script&gt;\n",
       "  &lt;/body&gt;\n",
       "&lt;/html&gt;\">\n",
       "</iframe>"
      ],
      "text/plain": [
       "<IPython.core.display.HTML object>"
      ]
     },
     "execution_count": 14,
     "metadata": {},
     "output_type": "execute_result"
    }
   ],
   "source": [
    "mols2grid.display(matches.iloc[:100], \n",
    "                # specify the column containing the ROMol objects\n",
    "                mol_col = 'rdkit_molecule',\n",
    "                # specify the column containg the SMILES to generate the ROMol is not available\n",
    "                smi_col = None,\n",
    "                # set what's displayed on the grid\n",
    "                subset = [\"img\",\"chembl_id\"],\n",
    "                # set what's displayed on the hover tooltip\n",
    "                tooltip = [\"substructure_name\"],\n",
    "                # number of rows and columns per page\n",
    "                n_cols=4, n_rows=3,\n",
    "                # image size\n",
    "                size=(200, 120),\n",
    ")"
   ]
  },
  {
   "cell_type": "markdown",
   "metadata": {},
   "source": [
    "### Substructure statistics"
   ]
  },
  {
   "cell_type": "markdown",
   "metadata": {},
   "source": [
    "Finally, we want to find the most frequent substructure found in our data set. The Pandas `DataFrame` provides convenient methods to group containing data and to retrieve group sizes."
   ]
  },
  {
   "cell_type": "code",
   "execution_count": 15,
   "metadata": {},
   "outputs": [
    {
     "data": {
      "text/plain": [
       "substructure_name\n",
       "Michael-acceptor               1113\n",
       "Aliphatic-long-chain            489\n",
       "Oxygen-nitrogen-single-bond     367\n",
       "triple-bond                     252\n",
       "nitro-group                     177\n",
       "imine                           150\n",
       "Thiocarbonyl-group              114\n",
       "aniline                          64\n",
       "halogenated-ring                 62\n",
       "conjugated-nitrile-group         59\n",
       "dtype: int64"
      ]
     },
     "execution_count": 15,
     "metadata": {},
     "output_type": "execute_result"
    }
   ],
   "source": [
    "# NBVAL_CHECK_OUTPUT\n",
    "groups = matches.groupby(\"substructure_name\")\n",
    "group_frequencies = groups.size()\n",
    "group_frequencies.sort_values(ascending=False, inplace=True)\n",
    "group_frequencies.head(10)"
   ]
  },
  {
   "cell_type": "markdown",
   "metadata": {},
   "source": [
    "## Discussion\n",
    "In this talktorial we learned two possibilities to perform a search for unwanted substructures with RDKit: \n",
    "\n",
    "* The `FilterCatalog` class can be used to search for predefined collections of substructures, e.g., PAINS.\n",
    "* The `HasSubstructMatch()` function to perform manual substructure searches.\n",
    "\n",
    "Actually, PAINS filtering could also be implemented via manual substructure searches with `HasSubstructMatch()`. Furthermore, the substructures defined by Brenk *et al.* ([_Chem. Med. Chem._ (2008), **3**, 535-44](https://onlinelibrary.wiley.com/doi/full/10.1002/cmdc.200700139)) are already implemented as a `FilterCatalog`. Additional pre-defined collections can be found in the RDKit [documentation](http://rdkit.org/docs/source/rdkit.Chem.rdfiltercatalog.html). \n",
    "\n",
    "So far, we have been using the `HasSubstructMatch()` function, which only yields one match per compound. With the `GetSubstructMatches()` function ([documentation](https://www.rdkit.org/docs/source/rdkit.Chem.rdchem.html)) we have the opportunity to identify all occurrences of a particular substructure in a compound.\n",
    "In case of PAINS, we have only looked at the first match per molecule (`GetFirstMatch()`). If we simply want to filter out all PAINS this is enough. However, we could also use `GetMatches()` in order to see all critical substructures of a molecule.\n",
    "\n",
    "Detected substructures can be handled in two different fashions: \n",
    "\n",
    "* Either, the substructure search is applied as a filter and the compounds are excluded from further testing to save time and money. \n",
    "* Or, they can be used as warnings, since ~5 % of FDA-approved drugs were found to contain PAINS ([_ACS. Chem. Biol._ (2018), **13**, 36-44](https://pubs.acs.org/doi/10.1021/acschembio.7b00903)). In this case experts can judge manually, if an identified substructure is critical or not."
   ]
  },
  {
   "cell_type": "markdown",
   "metadata": {},
   "source": [
    "## Quiz\n",
    "* Why should we consider removing \"PAINS\" from a screening library? What is the issue with these compounds?\n",
    "* Can you find situations when some unwanted substructures would not need to be removed?\n",
    "* How are the substructures we used in this tutorial encoded?"
   ]
  }
 ],
 "metadata": {
  "kernelspec": {
   "display_name": "Python 3",
   "language": "python",
   "name": "python3"
  },
  "language_info": {
   "codemirror_mode": {
    "name": "ipython",
    "version": 3
   },
   "file_extension": ".py",
   "mimetype": "text/x-python",
   "name": "python",
   "nbconvert_exporter": "python",
   "pygments_lexer": "ipython3",
   "version": "3.8.13"
  },
  "toc-autonumbering": true,
  "widgets": {
   "application/vnd.jupyter.widget-state+json": {
    "state": {
     "1f8ab4e1052f44fbb0c08c8103af9cd6": {
      "model_module": "@jupyter-widgets/controls",
      "model_module_version": "1.5.0",
      "model_name": "HTMLModel",
      "state": {
       "layout": "IPY_MODEL_f3867fd7667240bcb9f0cd2c980c756c",
       "style": "IPY_MODEL_3485e31d3ec34586affcdb824d29fa43",
       "value": " 4635/4635 [00:27&lt;00:00, 269.79it/s]"
      }
     },
     "220cac4d9f614ee4a2802d460f9f7b28": {
      "model_module": "@jupyter-widgets/controls",
      "model_module_version": "1.5.0",
      "model_name": "FloatProgressModel",
      "state": {
       "bar_style": "success",
       "layout": "IPY_MODEL_2d52e6a56b38408c9d71bf181fd303a9",
       "max": 4635,
       "style": "IPY_MODEL_7e4b0b18ad1b464cbd396916caa97c2c",
       "value": 4635
      }
     },
     "22b2351a426948d3b7636eee8b863dad": {
      "model_module": "@jupyter-widgets/base",
      "model_module_version": "1.2.0",
      "model_name": "LayoutModel",
      "state": {}
     },
     "2d52e6a56b38408c9d71bf181fd303a9": {
      "model_module": "@jupyter-widgets/base",
      "model_module_version": "1.2.0",
      "model_name": "LayoutModel",
      "state": {}
     },
     "2d77feecd80b42beb3e483923e795583": {
      "model_module": "@jupyter-widgets/base",
      "model_module_version": "1.2.0",
      "model_name": "LayoutModel",
      "state": {}
     },
     "3485e31d3ec34586affcdb824d29fa43": {
      "model_module": "@jupyter-widgets/controls",
      "model_module_version": "1.5.0",
      "model_name": "DescriptionStyleModel",
      "state": {
       "description_width": ""
      }
     },
     "50451bf8f3e9414ba91d8465b936e454": {
      "model_module": "@jupyter-widgets/controls",
      "model_module_version": "1.5.0",
      "model_name": "FloatProgressModel",
      "state": {
       "bar_style": "success",
       "layout": "IPY_MODEL_7a85b484b444480abddc6096263e39dd",
       "max": 4227,
       "style": "IPY_MODEL_d73dfdd68ed248eca3408eccd1797245",
       "value": 4227
      }
     },
     "61549d9bbe834e73818590ad20cb5947": {
      "model_module": "@jupyter-widgets/controls",
      "model_module_version": "1.5.0",
      "model_name": "DescriptionStyleModel",
      "state": {
       "description_width": ""
      }
     },
     "6ad2549622814b28870bc73784527264": {
      "model_module": "@jupyter-widgets/base",
      "model_module_version": "1.2.0",
      "model_name": "LayoutModel",
      "state": {}
     },
     "7a85b484b444480abddc6096263e39dd": {
      "model_module": "@jupyter-widgets/base",
      "model_module_version": "1.2.0",
      "model_name": "LayoutModel",
      "state": {}
     },
     "7e4b0b18ad1b464cbd396916caa97c2c": {
      "model_module": "@jupyter-widgets/controls",
      "model_module_version": "1.5.0",
      "model_name": "ProgressStyleModel",
      "state": {
       "description_width": ""
      }
     },
     "81bf31469aeb442aa720e871d502d8d6": {
      "model_module": "@jupyter-widgets/controls",
      "model_module_version": "1.5.0",
      "model_name": "DescriptionStyleModel",
      "state": {
       "description_width": ""
      }
     },
     "8cfee89eb6b1442caa8ca1970072f944": {
      "model_module": "@jupyter-widgets/base",
      "model_module_version": "1.2.0",
      "model_name": "LayoutModel",
      "state": {}
     },
     "a4409fcdbec641e08512cd46f9b81646": {
      "model_module": "@jupyter-widgets/controls",
      "model_module_version": "1.5.0",
      "model_name": "HBoxModel",
      "state": {
       "children": [
        "IPY_MODEL_e41caae531644dcf9450006d9a995238",
        "IPY_MODEL_220cac4d9f614ee4a2802d460f9f7b28",
        "IPY_MODEL_1f8ab4e1052f44fbb0c08c8103af9cd6"
       ],
       "layout": "IPY_MODEL_2d77feecd80b42beb3e483923e795583"
      }
     },
     "bb3bd89af5774ee9b9e52057c0adfde8": {
      "model_module": "@jupyter-widgets/controls",
      "model_module_version": "1.5.0",
      "model_name": "HBoxModel",
      "state": {
       "children": [
        "IPY_MODEL_d1176b1e6c4541d4bc6993ad307b9ecb",
        "IPY_MODEL_50451bf8f3e9414ba91d8465b936e454",
        "IPY_MODEL_d4cf1bea7ea446f9b17e380bb5bc15df"
       ],
       "layout": "IPY_MODEL_8cfee89eb6b1442caa8ca1970072f944"
      }
     },
     "c344cb6e99d144648471048ebb024b7f": {
      "model_module": "@jupyter-widgets/controls",
      "model_module_version": "1.5.0",
      "model_name": "DescriptionStyleModel",
      "state": {
       "description_width": ""
      }
     },
     "d1176b1e6c4541d4bc6993ad307b9ecb": {
      "model_module": "@jupyter-widgets/controls",
      "model_module_version": "1.5.0",
      "model_name": "HTMLModel",
      "state": {
       "layout": "IPY_MODEL_e82549c17c8f496e9913e0f6472cf179",
       "style": "IPY_MODEL_61549d9bbe834e73818590ad20cb5947",
       "value": "100%"
      }
     },
     "d4cf1bea7ea446f9b17e380bb5bc15df": {
      "model_module": "@jupyter-widgets/controls",
      "model_module_version": "1.5.0",
      "model_name": "HTMLModel",
      "state": {
       "layout": "IPY_MODEL_6ad2549622814b28870bc73784527264",
       "style": "IPY_MODEL_c344cb6e99d144648471048ebb024b7f",
       "value": " 4227/4227 [01:10&lt;00:00, 65.27it/s]"
      }
     },
     "d73dfdd68ed248eca3408eccd1797245": {
      "model_module": "@jupyter-widgets/controls",
      "model_module_version": "1.5.0",
      "model_name": "ProgressStyleModel",
      "state": {
       "description_width": ""
      }
     },
     "e41caae531644dcf9450006d9a995238": {
      "model_module": "@jupyter-widgets/controls",
      "model_module_version": "1.5.0",
      "model_name": "HTMLModel",
      "state": {
       "layout": "IPY_MODEL_22b2351a426948d3b7636eee8b863dad",
       "style": "IPY_MODEL_81bf31469aeb442aa720e871d502d8d6",
       "value": "100%"
      }
     },
     "e82549c17c8f496e9913e0f6472cf179": {
      "model_module": "@jupyter-widgets/base",
      "model_module_version": "1.2.0",
      "model_name": "LayoutModel",
      "state": {}
     },
     "f3867fd7667240bcb9f0cd2c980c756c": {
      "model_module": "@jupyter-widgets/base",
      "model_module_version": "1.2.0",
      "model_name": "LayoutModel",
      "state": {}
     }
    },
    "version_major": 2,
    "version_minor": 0
   }
  }
 },
 "nbformat": 4,
 "nbformat_minor": 4
}
