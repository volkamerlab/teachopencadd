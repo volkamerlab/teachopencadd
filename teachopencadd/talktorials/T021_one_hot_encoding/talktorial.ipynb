{
 "cells": [
  {
   "cell_type": "markdown",
   "metadata": {},
   "source": [
    "# T021 · One-Hot Encoding\n",
    "\n",
    "Developed in the CADD seminar 2020, Volkamer Lab, Charité/FU Berlin \n",
    "\n",
    "**Note:** This talktorial is a part of TeachOpenCADD, a platform that aims to teach domain-specific skills and to provide pipeline templates as starting points for research projects.\n",
    "\n",
    "Authors:\n",
    "\n",
    "- Sakshi Misra, CADD seminar 2020, Charité/FU Berlin\n",
    "- Talia B. Kimber, 2020, [Volkamer lab](https://volkamerlab.org), Charité\n",
    "- Yonghui Chen, 2020, [Volkamer lab](https://volkamerlab.org), Charité\n",
    "- Andrea Volkamer, 2020, [Volkamer lab](https://volkamerlab.org), Charité"
   ]
  },
  {
   "cell_type": "markdown",
   "metadata": {},
   "source": [
    "## Aim of this talktorial\n",
    "\n",
    "The aim of the talktorial is to perform one-hot encoding of SMILES structures on a subset of the ChEMBL data set to gain a deeper understanding on the one-hot encoding concept and why it is useful as a pre-processing step in various machine learning algorithms."
   ]
  },
  {
   "cell_type": "markdown",
   "metadata": {},
   "source": [
    "### Contents in *Theory*\n",
    "\n",
    "- Molecular data and representation\n",
    "    - ChEMBL database\n",
    "    - SMILES structures and rules\n",
    "- What is categorical data?\n",
    "     - What is the problem with categorical data?\n",
    "     - How to convert categorical data to numerical data?\n",
    "- The One-Hot Encoding (OHE) concept\n",
    "     - Why using one-hot encoding?\n",
    "     - Example of one-hot encoding\n",
    "     - Advantages and disadvantages of one-hot encoding\n",
    "- Similar: Integer or label encoding\n",
    "- What is *padding*?\n",
    "- Further readings"
   ]
  },
  {
   "cell_type": "markdown",
   "metadata": {},
   "source": [
    "### Contents in *Practical*\n",
    "\n",
    "- Import necessary packages\n",
    "- Read the input data\n",
    "- Process the data\n",
    "     - Double digit replacement\n",
    "     - Compute longest (& shortest) SMILES\n",
    "- Python one-hot encoding implementation\n",
    "     - One-hot encode (padding=True)\n",
    "     - Visualization\n",
    "          - Shortest SMILES\n",
    "          - Longest SMILES \n",
    "- Supplementary material\n",
    "   - Scikit learn implementation\n",
    "   - Keras implementation"
   ]
  },
  {
   "cell_type": "markdown",
   "metadata": {},
   "source": [
    "## References\n",
    "\n",
    "- Theoretical background:\n",
    "     - ChEMBL database: \"The ChEMBL bioactivity database: an update.\" ([<i>Nucleic acids research<i> (2014), <b>42.D1</b>, D1083-D1090](https://doi.org/10.1093/nar/gkt1031))\n",
    "     - Allen Chieng Hoon Choong, Nung Kion Lee, \"*Evaluation of Convolutionary Neural Networks Modeling of DNA Sequences using Ordinal versus one-hot Encoding Method*\", [bioRxiv, October 25, 2017](https://doi.org/10.1101/186965).\n",
    "     - Patricio Cerda, Gael Varoquaux, \"*Encoding high-cardinality string categorical variables*\", [arXiv:1907, 18 May 2020](https://arxiv.org/pdf/1907.01860v5.pdf).\n",
    "     - Blogpost: Jason Brownlee, *How to One Hot Encode Sequence Data in Python*, [Machine Learning Mastery, accessed November 9th, 2020](https://machinelearningmastery.com/how-to-one-hot-encode-sequence-data-in-python/).\n",
    "     - Blogpost: Krishna Kumar Mahto, *One-Hot-Encoding, Multicollinearity and the Dummy Variable Trap*, towardsdatascience, Available from [one-hot-encoding-multicollinearity](https://towardsdatascience.com/one-hot-encoding-multicollinearity-and-the-dummy-variable-trap-b5840be3c41a/), accessed July 8th, 2019.\n",
    "     - Blogpost: Chris, *What is padding in a neural network?*, archieved from MachineCurve, [Padding](https://github.com/christianversloot/machine-learning-articles/blob/main/what-is-padding-in-a-neural-network.md)\n",
    "     \n",
    "\n",
    "- Packages and functions:\n",
    "     - [**RDKit**](https://www.rdkit.org/docs/GettingStartedInPython.html): Greg Landrum,  *RDKit Documentation*, [PDF](https://buildmedia.readthedocs.org/media/pdf/rdkit/latest/rdkit.pdf), Release on 2019.09.1.\n",
    "     - [**Scikit-learn**](https://scikit-learn.org/stable/): \n",
    "        - [Scikit-learn: Machine Learning in Python](https://jmlr.csail.mit.edu/papers/v12/pedregosa11a.html), Pedregosa *et al.*, JMLR 12, pp. 2825-2830, 2011.\n",
    "        - Jiangang Hao, et al. \"A Review of Scikit-learn Package in Python Programming Language.\" [*Journal of Education and Behavioral Statistics* **Volume: 44 issue: 3** (2019), page(s): 348-361](https://doi.org/10.3102/1076998619832248)\n",
    "     - [**Keras**](https://keras.io/): Book chapter: \"An Introduction to Deep Learning and Keras\" in [*Learn Keras for Deep Neural Networks* (2019), **page(s):1-16**](https://doi.org/10.1007/978-1-4842-4240-7).\n",
    "     - [**Matplotlib**](https://matplotlib.org/)\n",
    "     - `smiles encoder` function: Blogpost by iwatobipen, *encode and decode SMILES strings* , [Wordpress, accessed November 9th, 2020](https://iwatobipen.wordpress.com/2017/01/22/encode-and-decode-smiles-strings/)"
   ]
  },
  {
   "cell_type": "markdown",
   "metadata": {},
   "source": [
    "## Theory"
   ]
  },
  {
   "cell_type": "markdown",
   "metadata": {},
   "source": [
    "### Molecular data and representation"
   ]
  },
  {
   "cell_type": "markdown",
   "metadata": {},
   "source": [
    "#### ChEMBL database\n",
    "\n",
    "- [ChEMBL](https://www.ebi.ac.uk/chembl/) is an open large-scale bioactivity database, containing molecules with drug-like properties. \n",
    "- The recent release (version 25) contains information extracted from  more than $72,000$ documents. In total, there are now more than $1.8$ million compounds and $15$ million bioactivity data points available.\n",
    "- It is maintained by [European Bioinformatics Institute](https://en.wikipedia.org/wiki/European_Bioinformatics_Institute). Please refer to __Talktorial T001__ for more details."
   ]
  },
  {
   "cell_type": "markdown",
   "metadata": {},
   "source": [
    "#### SMILES structures and rules\n",
    "\n",
    "- [SMILES](https://en.wikipedia.org/wiki/Simplified_molecular-input_line-entry_system) (Simplified Molecular Input Line Entry System) notation is a chemical notation that allows a user to represent a chemical structure of a molecule in a linear way that can be read by the computer (see \"Modern Aspects of the Smiles Rearrangement\" (2017), [*Chemistry A European Journal*, **Volume23, Issue38**, 8992-9008](https://doi.org/10.1002/chem.201700353) for further information).\n",
    "- It contains a sequence of letters, numbers and characters that specify a molecule's atoms, their connectivity, bond order and chirality."
   ]
  },
  {
   "cell_type": "markdown",
   "metadata": {},
   "source": [
    "**Some SMILES specification rules**\n",
    "\n",
    "- **Atoms** - are represented by their atomic symbols. Also metal atoms are represented with symbols in square bracket, e.g. Gold `[Au]`.\n",
    "- **Bonds** - single, double and triple bonds are represented by symbols `-`, `=` and `#`, respectively. Single bonds are the default and therefore do not need to be specified. \n",
    "- **Aromaticity** - While atomic symbols are generally used in upper case, such as `C`, `O`, `S` and `N`; to specify aromatic atoms lower case symbols are used instead, such as `c`, `o`, `s` and `n`. Sometimes implicit bonds in rings (alternating `=` and `-`) are also used to describe aromatic atoms such as `C1=CC=CC=C1`.\n",
    "- **Rings** - SMILES allows a user to identify ring structures by using numbers to identify the opening and closing ring atom. For example, in `C1CCCCC1`, the first carbon has a number \"1\" which connects by a single bond with the last carbon which also has a number \"1\". The resulting structure is cyclohexane.\n",
    "- **Branches** - are specified by enclosing them in parentheses, and can be nested or arranged. For example, 2-Propanol is represented by `CC(O)C`."
   ]
  },
  {
   "cell_type": "markdown",
   "metadata": {},
   "source": [
    "### What is categorical data?\n",
    "\n",
    "Categorical data are variables that contain labels rather than numeric values.\n",
    "Some examples include:\n",
    "\n",
    "- A \"pet” variable with the values: \"dog” and \"cat\".\n",
    "- A \"color” variable with the values: \"red\", \"green” and \"blue\".\n",
    "- A \"place” variable with the values: \"first”, \"second” and \"third\"."
   ]
  },
  {
   "cell_type": "markdown",
   "metadata": {},
   "source": [
    "#### What is the problem with categorical data?\n",
    "\n",
    "Machine learning consists of mathematical operations translated to a computer via low-level programming languages. Computers are brilliant when dealing with numbers. So we must somehow convert our input data to numbers. \n",
    "There are many machine learning algorithms which cannot operate on categorical data directly. Thus, categorical data must be converted to a numerical form, that all input and output variables are numeric (see [**Blogpost**](https://www.analyticsvidhya.com/blog/2020/03/one-hot-encoding-vs-label-encoding-using-scikit-learn/): Alakh Sethi, *One-Hot Encoding vs. Label Encoding using Scikit-Learn* , Analytics Vidya, accessed March 6th, 2020 for further information).\n",
    "\n",
    "![Computer data](./images/computer_data.jpeg)\n",
    "\n",
    "*Figure 1*: Displays the categorical encoding required for computers to understand the input. The figure comes from this [blogpost](https://www.analyticsvidhya.com/blog/2020/03/one-hot-encoding-vs-label-encoding-using-scikit-learn/)."
   ]
  },
  {
   "cell_type": "markdown",
   "metadata": {},
   "source": [
    "#### How to convert categorical data to numerical data?\n",
    "\n",
    "There are many ways to convert categorical values into numerical values. Each approach has its own positive and negative impact on the feature set. Hereby, two main methods will be the focus: *One-hot* encoding and *Label* encoding.\n",
    "Both of these encoders are part of the [scikit-learn](https://scikit-learn.org/stable/modules/generated/sklearn.preprocessing.LabelEncoder.html) library (one of the most widely used Python libraries) and are used to convert text or categorical data into numerical data which the model expects and and can work with."
   ]
  },
  {
   "cell_type": "markdown",
   "metadata": {},
   "source": [
    "### The *One-Hot Encoding* (OHE) concept\n",
    "\n",
    "The one-hot encoding is a vector representation where all the elements of the vector are set to `0` except one, which has `1` as its value. For example, `[0 0 0 1 0 0]` is a one-hot vector.\n",
    "Simply put, one-hot encoding, also known as binary encoding, is a binary representation of categorical variables as binary vectors. \n",
    "\n",
    "The figure shown below helps us gain an overall idea of the one-hot encoding concept. \n",
    "\n",
    "![One Hot encoding](./images/OneHotEncoding.png)\n",
    "\n",
    "*Figure 2* : Displays the one-hot encoding of the toluene molecule. Figure taken from the article [<i>BMC Bioinformatics.</i> (2018), <b>19</b>,526](https://doi.org/10.1186/s12859-018-2523-5), more information can be found there.\n",
    " \n",
    "\n",
    "Let us take a deeper look into the concept with the help of a simple example that will describe the basic concept of one-hot encoding, why it is useful and how one can approach it."
   ]
  },
  {
   "cell_type": "markdown",
   "metadata": {},
   "source": [
    "#### Why using one-hot encoding?\n",
    "\n",
    "One-hot encoding allows the representation of categorical data to be more expressive.\n",
    "It is difficult for many machine learning algorithms to work with categorical data directly that's why the label values which are categorical must be converted into numbers first as a preprocessing step. This is required for both input and output variables that are categorical.\n",
    "\n",
    "We could also use an *integer encoding* directly. This may work for problems where there is a natural ordinal relationship between the categories, and in turn the integer values, such as labels for temperature \"cold\", \"warm\", and \"hot\".\n",
    "There may be problems when there is no ordinal relationship and allowing the representation to lean on any such relationship by using integer encoding might be not useful to solve the problem. An example might be the labels \"dog\" and \"cat\"."
   ]
  },
  {
   "cell_type": "markdown",
   "metadata": {},
   "source": [
    "#### Example of one-hot encoding\n",
    "\n",
    "Let us take a look at a very simple example to understand this concept. Assume we have the \"color\" variable which has three labels `red` , `blue` and `green`.\n",
    "All these labels must be converted into numeric form in order to work with our machine learning algorithm. This can be done by creating three new columns having all three labels and use `1` for the color of the respective label and `0` for the other colors as shown in Figure 4.\n",
    "\n",
    "![One Hot Encoding](images/OneHotEncoding_eg.png)\n",
    "\n",
    "*Figure 3* : The visual demonstration of one-hot encoding done on the variable \"color\". Figure taken from the article: \"*Building a One Hot Encoding Layer with TensorFlow*\", George Novack, [towardsdatascience](https://towardsdatascience.com/building-a-one-hot-encoding-layer-with-tensorflow-f907d686bf39), more details can be found there."
   ]
  },
  {
   "cell_type": "markdown",
   "metadata": {},
   "source": [
    "####  Advantages and disadvantages of one-hot encoding \n",
    "\n",
    "**Advantages**\n",
    "-  If the cardinality (the number of categories) of the categorical features is low (relative to the amount of data), one-hot encoding will work best.\n",
    "-  One-hot encoding has the advantage that the result is binary rather than ordinal and that everything sits in an orthogonal vector space.\n",
    "\n",
    "**Disadvantages**\n",
    "-  Increase in dimensionality, after adding several columns based on categorical variables which may result in an increase in the computational cost.\n",
    "- There is a high chance of multi-collinearity due to dummy variables (unique category added as a feature) which can affect the performance of the model.\n",
    "-  One-hot encoding can result in increasing the [sparsity](https://en.wikipedia.org/wiki/Sparse_matrix) of a data set (a sparse matrix is a matrix in which most of the elements are zero)."
   ]
  },
  {
   "cell_type": "markdown",
   "metadata": {},
   "source": [
    "### Similar: Integer or label encoding\n",
    "\n",
    "[Label Encoding](https://scikit-learn.org/stable/modules/generated/sklearn.preprocessing.LabelEncoder.html), or integer encoding, is a popular encoding technique for handling categorical variables and is easily reversible. In this technique, each label is assigned a unique integer based on alphabetical ordering, so that machines can work with it properly.\n",
    "Machine learning algorithms can then decide in a better way on how labels must be operated on.\n",
    "It is an important preprocessing step for structured data sets in supervised learning."
   ]
  },
  {
   "cell_type": "markdown",
   "metadata": {},
   "source": [
    "**Example of integer encoding**\n",
    "\n",
    "Let us use a similar example as above: We have a color variable and we can assign `red` as `0`, `green` as `1`, and `blue` as `2` as shown in Figure 5.\n",
    "\n",
    "![OneHotEncoding Example](./images/label_encoding_example.png)\n",
    "\n",
    "*Figure 5* : The visual demonstration of label encoding done on the variable \"color\". Figure taken from the article: \"*Know about Categorical Encoding, even New Ones!*\", Ahmed Othmen, [towardsdatascience](https://towardsdatascience.com/know-about-categorical-encoding-even-new-ones-c266227b9cbd), more details can be found there.\n"
   ]
  },
  {
   "cell_type": "markdown",
   "metadata": {},
   "source": [
    "**Difference between label and one-hot encoding**\n",
    "\n",
    "There is not much difference between these two encoding techniques, it mainly depends on the type of data and model used. For example, if we have categorical features which are not ordinal (dog or cat) then we can use one-hot encoding. Label encoding works best with ordinal data like `good=0, better=1, best=2`.\n",
    "Also when there are many categorical variables then it might be good to choose label encoding just to avoid high memory consumption and sparsity."
   ]
  },
  {
   "cell_type": "markdown",
   "metadata": {},
   "source": [
    "### What is *padding*? \n",
    "\n",
    "Padding is used to add zeros to the resulted one-hot encoded matrix. There are different types of padding, we chose to performed zero padding in here. For more details, please refer to this [Article](https://github.com/christianversloot/machine-learning-articles/blob/main/what-is-padding-in-a-neural-network.md).\n",
    "\n",
    "**Why is it performed?**\n",
    "\n",
    "Padding is performed to make the dimensions of the matrix equal - or to preserve the height and the width - and to not have to worry too much about tensor dimensions when used as an input for the deep learning models.\n",
    "\n",
    "\n",
    "**How is it performed?**\n",
    "\n",
    "Padding can be performed by using the [numpy.pad](https://numpy.org/doc/stable/reference/generated/numpy.pad.html) function which takes several parameters like the `array` which needs to be padded, `pad_width` which is number of values added to the edges of each axis and `mode` which by default is \"constant\".\n",
    "\n",
    "In this talktorial, *padding* is performed\n",
    "\n",
    "- *implicitly*: when applying one-hot encoding using a python implementation on the preprocessed data, where we have given the maximum length of the string as the parameter so that all the resulting one-hot encoded matrices are of the same dimension\n",
    "- *explicitly*: More info on this can be found in the **supplementary section**, where we apply one-hot encoding using *keras* and *scikit-learn* implementations."
   ]
  },
  {
   "cell_type": "markdown",
   "metadata": {},
   "source": [
    "### Further readings\n",
    "\n",
    "This section lists some resources for further reading:\n",
    "\n",
    "- [What is one-hot encoding and when is it used in data science?](https://www.quora.com/What-is-one-hot-encoding-and-when-is-it-used-in-data-science)\n",
    "- [Categorical encoding using Label-Encoding and One-Hot-Encoder](https://towardsdatascience.com/categorical-encoding-using-label-encoding-and-one-hot-encoder-911ef77fb5bd#:~:text=One%2DHot%20Encoding%20in%20Python&text=OneHotEncoder%20from%20SciKit%20library%20only,apply%20OneHotEncoder%20on%20column%20Bridge_Types_Cat.)\n",
    "- Hirohara, M., Saito, Y., Koda, Y. et al. Convolutional neural network based on SMILES representation of compounds for detecting chemical motif. [_BMC Bioinformatics_ **19**, 526 (2018)](https://doi.org/10.1186/s12859-018-2523-5)\n",
    "- [How one can use matplotlib.pyplot.imshow() in Python](https://www.geeksforgeeks.org/matplotlib-pyplot-imshow-in-python/)"
   ]
  },
  {
   "cell_type": "markdown",
   "metadata": {},
   "source": [
    "## Practical"
   ]
  },
  {
   "cell_type": "markdown",
   "metadata": {},
   "source": [
    "### Import necessary packages"
   ]
  },
  {
   "cell_type": "code",
   "execution_count": 1,
   "metadata": {
    "tags": []
   },
   "outputs": [],
   "source": [
    "from pathlib import Path\n",
    "from warnings import filterwarnings\n",
    "\n",
    "import pandas as pd\n",
    "import numpy as np\n",
    "from rdkit import Chem\n",
    "from rdkit.Chem import Draw, PandasTools\n",
    "from sklearn.preprocessing import LabelEncoder\n",
    "from sklearn.preprocessing import OneHotEncoder\n",
    "from tensorflow import keras\n",
    "from tensorflow.keras.utils import to_categorical\n",
    "from tensorflow.keras.preprocessing.text import Tokenizer\n",
    "import matplotlib.pyplot as plt\n",
    "\n",
    "# Silence some expected warnings\n",
    "filterwarnings(\"ignore\")"
   ]
  },
  {
   "cell_type": "code",
   "execution_count": 2,
   "metadata": {
    "tags": []
   },
   "outputs": [],
   "source": [
    "# Set path to this notebook\n",
    "HERE = Path(_dh[-1])\n",
    "DATA = HERE / \"data\""
   ]
  },
  {
   "cell_type": "markdown",
   "metadata": {},
   "source": [
    "### Read the input data\n",
    "\n",
    "Using the Pandas library, we first load the subset of the ChEMBL data set and draw the molecules using the `rdkit.draw` function. We then preprocess the data and apply our `one-hot encoding` python implementation.\n",
    "\n",
    "Let's load the data and quickly analyze its column values and check if there are any missing values:"
   ]
  },
  {
   "cell_type": "code",
   "execution_count": 3,
   "metadata": {
    "tags": []
   },
   "outputs": [
    {
     "name": "stdout",
     "output_type": "stream",
     "text": [
      "Shape of dataframe: (3905, 5)\n",
      "\n"
     ]
    }
   ],
   "source": [
    "df = pd.read_csv(DATA / \"CHEMBL25_activities_EGFR.csv\", index_col=0).reset_index(drop=True)\n",
    "print(f\"Shape of dataframe: {df.shape}\\n\")\n",
    "# NBVAL_CHECK_OUTPUT"
   ]
  },
  {
   "cell_type": "markdown",
   "metadata": {},
   "source": [
    "Check the dimension and missing value of the data"
   ]
  },
  {
   "cell_type": "code",
   "execution_count": 4,
   "metadata": {
    "tags": []
   },
   "outputs": [
    {
     "name": "stdout",
     "output_type": "stream",
     "text": [
      "<class 'pandas.core.frame.DataFrame'>\n",
      "RangeIndex: 3905 entries, 0 to 3904\n",
      "Data columns (total 5 columns):\n",
      " #   Column            Non-Null Count  Dtype  \n",
      "---  ------            --------------  -----  \n",
      " 0   chembl_id         3905 non-null   object \n",
      " 1   IC50              3905 non-null   float64\n",
      " 2   units             3905 non-null   object \n",
      " 3   canonical_smiles  3905 non-null   object \n",
      " 4   pIC50             3905 non-null   float64\n",
      "dtypes: float64(2), object(3)\n",
      "memory usage: 152.7+ KB\n"
     ]
    }
   ],
   "source": [
    "df.info()"
   ]
  },
  {
   "cell_type": "markdown",
   "metadata": {},
   "source": [
    "Look at the first 3 rows"
   ]
  },
  {
   "cell_type": "code",
   "execution_count": 5,
   "metadata": {
    "tags": []
   },
   "outputs": [
    {
     "data": {
      "text/html": [
       "<div>\n",
       "<style scoped>\n",
       "    .dataframe tbody tr th:only-of-type {\n",
       "        vertical-align: middle;\n",
       "    }\n",
       "\n",
       "    .dataframe tbody tr th {\n",
       "        vertical-align: top;\n",
       "    }\n",
       "\n",
       "    .dataframe thead th {\n",
       "        text-align: right;\n",
       "    }\n",
       "</style>\n",
       "<table border=\"1\" class=\"dataframe\">\n",
       "  <thead>\n",
       "    <tr style=\"text-align: right;\">\n",
       "      <th></th>\n",
       "      <th>chembl_id</th>\n",
       "      <th>IC50</th>\n",
       "      <th>units</th>\n",
       "      <th>canonical_smiles</th>\n",
       "      <th>pIC50</th>\n",
       "    </tr>\n",
       "  </thead>\n",
       "  <tbody>\n",
       "    <tr>\n",
       "      <th>0</th>\n",
       "      <td>CHEMBL207869</td>\n",
       "      <td>77.0</td>\n",
       "      <td>nM</td>\n",
       "      <td>Clc1c(OCc2cc(F)ccc2)ccc(Nc2c(C#Cc3ncccn3)cncn2)c1</td>\n",
       "      <td>7.113509</td>\n",
       "    </tr>\n",
       "    <tr>\n",
       "      <th>1</th>\n",
       "      <td>CHEMBL3940060</td>\n",
       "      <td>330.0</td>\n",
       "      <td>nM</td>\n",
       "      <td>ClCC(=O)OCCN1C(=O)Oc2c1cc1c(Nc3cc(Cl)c(F)cc3)n...</td>\n",
       "      <td>6.481486</td>\n",
       "    </tr>\n",
       "    <tr>\n",
       "      <th>2</th>\n",
       "      <td>CHEMBL3678951</td>\n",
       "      <td>1.0</td>\n",
       "      <td>nM</td>\n",
       "      <td>FC(F)(F)c1cc(Nc2n(C(C)C)c3nc(Nc4ccc(N5CC[NH+](...</td>\n",
       "      <td>9.000000</td>\n",
       "    </tr>\n",
       "  </tbody>\n",
       "</table>\n",
       "</div>"
      ],
      "text/plain": [
       "       chembl_id   IC50 units  \\\n",
       "0   CHEMBL207869   77.0    nM   \n",
       "1  CHEMBL3940060  330.0    nM   \n",
       "2  CHEMBL3678951    1.0    nM   \n",
       "\n",
       "                                    canonical_smiles     pIC50  \n",
       "0  Clc1c(OCc2cc(F)ccc2)ccc(Nc2c(C#Cc3ncccn3)cncn2)c1  7.113509  \n",
       "1  ClCC(=O)OCCN1C(=O)Oc2c1cc1c(Nc3cc(Cl)c(F)cc3)n...  6.481486  \n",
       "2  FC(F)(F)c1cc(Nc2n(C(C)C)c3nc(Nc4ccc(N5CC[NH+](...  9.000000  "
      ]
     },
     "execution_count": 5,
     "metadata": {},
     "output_type": "execute_result"
    }
   ],
   "source": [
    "df.head(3)\n",
    "# NBVAL_CHECK_OUTPUT"
   ]
  },
  {
   "cell_type": "markdown",
   "metadata": {},
   "source": [
    "Select the columns which are necessary for our study"
   ]
  },
  {
   "cell_type": "code",
   "execution_count": 6,
   "metadata": {
    "tags": []
   },
   "outputs": [],
   "source": [
    "df = df[[\"chembl_id\", \"canonical_smiles\"]]"
   ]
  },
  {
   "cell_type": "markdown",
   "metadata": {},
   "source": [
    "We can visualize the molecules with their ChEMBL ID using pandas tools and the `draw` method as shown below."
   ]
  },
  {
   "cell_type": "code",
   "execution_count": 7,
   "metadata": {
    "tags": [
     "nbsphinx-thumbnail"
    ]
   },
   "outputs": [
    {
     "data": {
      "image/png": "[encoded data removed]",
      "text/plain": [
       "<IPython.core.display.Image object>"
      ]
     },
     "execution_count": 7,
     "metadata": {},
     "output_type": "execute_result"
    }
   ],
   "source": [
    "# Using PandasTools and the respective Draw method\n",
    "PandasTools.AddMoleculeColumnToFrame(df, smilesCol=\"canonical_smiles\", molCol=\"Mol2D\")\n",
    "Draw.MolsToGridImage(list(df.Mol2D[0:10]), legends=list(df.chembl_id[0:20]), molsPerRow=5)"
   ]
  },
  {
   "cell_type": "markdown",
   "metadata": {},
   "source": [
    "### Process the data\n",
    "\n",
    "SMILES preprocessing: Since in SMILES representation, atoms can be described by one or two characters (depending on the periodic element they represent) while the machine will read the input position-wise, we convert the SMILES in a chemical-aware representation.\n",
    "\n",
    "- First, we search for all unique characters present in the current data set, which allows us to remove the characters which are not present in the current data.\n",
    "\n",
    "- Second, we search for all double-character elements in our SMILES data set by comparing the atoms present in our strings with all the possible elements present in the periodic table and replacing all the two alphabetic elements by *artificially* selected characters, for example changing `Cl` to `L`.\n",
    "\n",
    "For padding:\n",
    "\n",
    "- SMILES strings have unequal dimension since their string length differ. For machine learning application, having equal dimension throughout the data set is required. In order to achieve this, we can first search for the SMILES string with the maximum length (e.g. [len()](https://www.geeksforgeeks.org/python-string-length-len/) method) and pass it as an argument in our function for all the strings."
   ]
  },
  {
   "cell_type": "markdown",
   "metadata": {},
   "source": [
    "#### Double digit replacement"
   ]
  },
  {
   "cell_type": "code",
   "execution_count": 8,
   "metadata": {
    "tags": []
   },
   "outputs": [],
   "source": [
    "def assess_two_letter_elements(df):\n",
    "    \"\"\"\n",
    "    Find the two letter elements in dataframe.\n",
    "\n",
    "    Parameters\n",
    "    ----------\n",
    "    df : pandas.DataFrame\n",
    "        Dataframe which requires preprocessing.\n",
    "\n",
    "    Returns\n",
    "    -------\n",
    "    two_letter_elements : list\n",
    "        List with found two letter elements\n",
    "    \"\"\"\n",
    "\n",
    "    # Search for unique characters in SMILES strings\n",
    "    unique_chars = set(df.canonical_smiles.apply(list).sum())\n",
    "    # Get upper and lower case letters only\n",
    "    upper_chars = []\n",
    "    lower_chars = []\n",
    "    for entry in unique_chars:\n",
    "        if entry.isalpha():\n",
    "            if entry.isupper():\n",
    "                upper_chars.append(entry)\n",
    "            elif entry.islower():\n",
    "                lower_chars.append(entry)\n",
    "    print(f\"Upper letter characters {sorted(upper_chars)}\")\n",
    "    print(f\"Lower letter characters {sorted(lower_chars)}\")\n",
    "\n",
    "    # List of all possible periodic elements\n",
    "    periodic_elements = [\n",
    "        \"Ac\",\n",
    "        \"Al\",\n",
    "        \"Am\",\n",
    "        \"Sb\",\n",
    "        \"Ar\",\n",
    "        \"As\",\n",
    "        \"At\",\n",
    "        \"Ba\",\n",
    "        \"Bk\",\n",
    "        \"Be\",\n",
    "        \"Bi\",\n",
    "        \"Bh\",\n",
    "        \"B\",\n",
    "        \"Br\",\n",
    "        \"Cd\",\n",
    "        \"Ca\",\n",
    "        \"Cf\",\n",
    "        \"C\",\n",
    "        \"Ce\",\n",
    "        \"Cs\",\n",
    "        \"Cl\",\n",
    "        \"Cr\",\n",
    "        \"Co\",\n",
    "        \"Cn\",\n",
    "        \"Cu\",\n",
    "        \"Cm\",\n",
    "        \"Ds\",\n",
    "        \"Db\",\n",
    "        \"Dy\",\n",
    "        \"Es\",\n",
    "        \"Er\",\n",
    "        \"Eu\",\n",
    "        \"Fm\",\n",
    "        \"Fl\",\n",
    "        \"F\",\n",
    "        \"Fr\",\n",
    "        \"Gd\",\n",
    "        \"Ga\",\n",
    "        \"Ge\",\n",
    "        \"Au\",\n",
    "        \"Hf\",\n",
    "        \"Hs\",\n",
    "        \"He\",\n",
    "        \"Ho\",\n",
    "        \"H\",\n",
    "        \"In\",\n",
    "        \"I\",\n",
    "        \"Ir\",\n",
    "        \"Fe\",\n",
    "        \"Kr\",\n",
    "        \"La\",\n",
    "        \"Lr\",\n",
    "        \"Pb\",\n",
    "        \"Li\",\n",
    "        \"Lv\",\n",
    "        \"Lu\",\n",
    "        \"Mg\",\n",
    "        \"Mn\",\n",
    "        \"Mt\",\n",
    "        \"Md\",\n",
    "        \"Hg\",\n",
    "        \"Mo\",\n",
    "        \"Mc\",\n",
    "        \"Nd\",\n",
    "        \"Ne\",\n",
    "        \"Np\",\n",
    "        \"Ni\",\n",
    "        \"Nh\",\n",
    "        \"Nb\",\n",
    "        \"N\",\n",
    "        \"No\",\n",
    "        \"Og\",\n",
    "        \"Os\",\n",
    "        \"O\",\n",
    "        \"Pd\",\n",
    "        \"P\",\n",
    "        \"Pt\",\n",
    "        \"Pu\",\n",
    "        \"Po\",\n",
    "        \"K\",\n",
    "        \"Pr\",\n",
    "        \"Pm\",\n",
    "        \"Pa\",\n",
    "        \"Ra\",\n",
    "        \"Rn\",\n",
    "        \"Re\",\n",
    "        \"Rh\",\n",
    "        \"Rg\",\n",
    "        \"Rb\",\n",
    "        \"Ru\",\n",
    "        \"Rf\",\n",
    "        \"Sm\",\n",
    "        \"Sc\",\n",
    "        \"Sg\",\n",
    "        \"Se\",\n",
    "        \"Si\",\n",
    "        \"Ag\",\n",
    "        \"Na\",\n",
    "        \"Sr\",\n",
    "        \"S\",\n",
    "        \"Ta\",\n",
    "        \"Tc\",\n",
    "        \"Te\",\n",
    "        \"Ts\",\n",
    "        \"Tb\",\n",
    "        \"Tl\",\n",
    "        \"Th\",\n",
    "        \"Tm\",\n",
    "        \"Sn\",\n",
    "        \"Ti\",\n",
    "        \"W\",\n",
    "        \"U\",\n",
    "        \"V\",\n",
    "        \"Xe\",\n",
    "        \"Yb\",\n",
    "        \"Y\",\n",
    "        \"Zn\",\n",
    "        \"Zr\",\n",
    "    ]\n",
    "\n",
    "    # The two_char_elements list contains all two letter elements\n",
    "    # which can be generated by all possible combination of upper x lower characters\n",
    "    # and are valid periodic elements.\n",
    "    two_char_elements = []\n",
    "    for upper in upper_chars:\n",
    "        for lower in lower_chars:\n",
    "            ch = upper + lower\n",
    "            if ch in periodic_elements:\n",
    "                two_char_elements.append(ch)\n",
    "\n",
    "    # This list is then reduced to the subset of two-letter elements\n",
    "    # that actually appear in the SMILES strings, specific to our data set.\n",
    "    two_char_elements_smiles = set()\n",
    "    for char in two_char_elements:\n",
    "        if df.canonical_smiles.str.contains(char).any():\n",
    "            two_char_elements_smiles.add(char)\n",
    "\n",
    "    return two_char_elements_smiles"
   ]
  },
  {
   "cell_type": "code",
   "execution_count": 9,
   "metadata": {
    "tags": []
   },
   "outputs": [
    {
     "name": "stdout",
     "output_type": "stream",
     "text": [
      "Upper letter characters ['B', 'C', 'F', 'H', 'I', 'N', 'O', 'P', 'S']\n",
      "Lower letter characters ['c', 'e', 'l', 'n', 'o', 'r', 's']\n",
      "\n",
      "Two letter elements found in the data set: ['Br', 'Cl', 'Cn', 'Sc', 'Se']\n"
     ]
    }
   ],
   "source": [
    "elements_found = assess_two_letter_elements(df)\n",
    "print(f\"\\nTwo letter elements found in the data set: {sorted(elements_found)}\")\n",
    "# NBVAL_CHECK_OUTPUT"
   ]
  },
  {
   "cell_type": "markdown",
   "metadata": {},
   "source": [
    "Based on this finding, we defined our own dictionary for replacement. Note that their are several shortcomings with this *simple* implementation that we (partially) manually address here:\n",
    "\n",
    "- We exclude `Sc` and `Cn` from the replacement, since it is more likely that sulfur `S` and an aromatic carbon `c` are contained in a molecule than scandium `Sc`, same for carbon `C` and an aromatic nitrogen `n` over Copernicium `Cn`. Thus, only the elements chlorine `Cl`, bromine `Br` and selenium `Se` are replaced. \n",
    "- In isomeric SMILES `@` and `@@` are used to describe enantiomers, thus we also need to replace the latter by a one letter code.\n",
    "- If you are working wit a different data set, you may want to adapt the below mapping dictionary."
   ]
  },
  {
   "cell_type": "markdown",
   "metadata": {},
   "source": [
    "This resulted in the following dictionary to replace the two letter elements found in this data set"
   ]
  },
  {
   "cell_type": "code",
   "execution_count": 10,
   "metadata": {
    "tags": []
   },
   "outputs": [],
   "source": [
    "replace_dict = {\"Cl\": \"L\", \"Br\": \"R\", \"Se\": \"X\", \"@@\": \"Z\"}"
   ]
  },
  {
   "cell_type": "markdown",
   "metadata": {},
   "source": [
    "Based on this dictionary, we define a function to create the preprocessed data."
   ]
  },
  {
   "cell_type": "code",
   "execution_count": 11,
   "metadata": {
    "tags": []
   },
   "outputs": [],
   "source": [
    "def preprocessing_data(df, replacement):\n",
    "    \"\"\"\n",
    "    Preprocess the SMILES structures in a data set.\n",
    "\n",
    "    Parameters\n",
    "    ----------\n",
    "    df : pandas.DataFrame\n",
    "      Dataframe which requires preprocessing.\n",
    "    replacement : dict\n",
    "      Dictionary with mapping for replacement.\n",
    "\n",
    "    Returns\n",
    "    -------\n",
    "    df : pandas.DataFrame\n",
    "        Dataframe with new processed canonical SMILES column.\n",
    "    unique_char : list\n",
    "        List with unique characters present in SMILES.\n",
    "    \"\"\"\n",
    "    # Print warning if the data set has a 'Sc' element\n",
    "    if df.canonical_smiles.str.contains(\"Sc\").any():\n",
    "        print(\n",
    "            'Warning: \"Sc\" element is found in the data set, since the element is rarely found '\n",
    "            \"in the drugs so we are not converting  \"\n",
    "            'it to single letter element, instead considering \"S\" '\n",
    "            'and \"c\" as separate elements. '\n",
    "        )\n",
    "\n",
    "    # Create a new column having processed canonical SMILES\n",
    "    df[\"processed_canonical_smiles\"] = df[\"canonical_smiles\"].copy()\n",
    "\n",
    "    # Replace the two letter elements found with one character\n",
    "    for pattern, repl in replacement.items():\n",
    "        df[\"processed_canonical_smiles\"] = df[\"processed_canonical_smiles\"].str.replace(\n",
    "            pattern, repl\n",
    "        )\n",
    "\n",
    "    unique_char = set(df.processed_canonical_smiles.apply(list).sum())\n",
    "    return df, unique_char"
   ]
  },
  {
   "cell_type": "code",
   "execution_count": 12,
   "metadata": {
    "tags": []
   },
   "outputs": [
    {
     "name": "stdout",
     "output_type": "stream",
     "text": [
      "Warning: \"Sc\" element is found in the data set, since the element is rarely found in the drugs so we are not converting  it to single letter element, instead considering \"S\" and \"c\" as separate elements. \n"
     ]
    },
    {
     "data": {
      "text/html": [
       "<div>\n",
       "<style scoped>\n",
       "    .dataframe tbody tr th:only-of-type {\n",
       "        vertical-align: middle;\n",
       "    }\n",
       "\n",
       "    .dataframe tbody tr th {\n",
       "        vertical-align: top;\n",
       "    }\n",
       "\n",
       "    .dataframe thead th {\n",
       "        text-align: right;\n",
       "    }\n",
       "</style>\n",
       "<table border=\"1\" class=\"dataframe\">\n",
       "  <thead>\n",
       "    <tr style=\"text-align: right;\">\n",
       "      <th></th>\n",
       "      <th>chembl_id</th>\n",
       "      <th>canonical_smiles</th>\n",
       "      <th>Mol2D</th>\n",
       "      <th>processed_canonical_smiles</th>\n",
       "    </tr>\n",
       "  </thead>\n",
       "  <tbody>\n",
       "    <tr>\n",
       "      <th>0</th>\n",
       "      <td>CHEMBL207869</td>\n",
       "      <td>Clc1c(OCc2cc(F)ccc2)ccc(Nc2c(C#Cc3ncccn3)cncn2)c1</td>\n",
       "      <td>&lt;rdkit.Chem.rdchem.Mol object at 0x7f824651b200&gt;</td>\n",
       "      <td>Lc1c(OCc2cc(F)ccc2)ccc(Nc2c(C#Cc3ncccn3)cncn2)c1</td>\n",
       "    </tr>\n",
       "    <tr>\n",
       "      <th>1</th>\n",
       "      <td>CHEMBL3940060</td>\n",
       "      <td>ClCC(=O)OCCN1C(=O)Oc2c1cc1c(Nc3cc(Cl)c(F)cc3)n...</td>\n",
       "      <td>&lt;rdkit.Chem.rdchem.Mol object at 0x7f824651b580&gt;</td>\n",
       "      <td>LCC(=O)OCCN1C(=O)Oc2c1cc1c(Nc3cc(L)c(F)cc3)ncn...</td>\n",
       "    </tr>\n",
       "    <tr>\n",
       "      <th>2</th>\n",
       "      <td>CHEMBL3678951</td>\n",
       "      <td>FC(F)(F)c1cc(Nc2n(C(C)C)c3nc(Nc4ccc(N5CC[NH+](...</td>\n",
       "      <td>&lt;rdkit.Chem.rdchem.Mol object at 0x7f824651b6d0&gt;</td>\n",
       "      <td>FC(F)(F)c1cc(Nc2n(C(C)C)c3nc(Nc4ccc(N5CC[NH+](...</td>\n",
       "    </tr>\n",
       "  </tbody>\n",
       "</table>\n",
       "</div>"
      ],
      "text/plain": [
       "       chembl_id                                   canonical_smiles  \\\n",
       "0   CHEMBL207869  Clc1c(OCc2cc(F)ccc2)ccc(Nc2c(C#Cc3ncccn3)cncn2)c1   \n",
       "1  CHEMBL3940060  ClCC(=O)OCCN1C(=O)Oc2c1cc1c(Nc3cc(Cl)c(F)cc3)n...   \n",
       "2  CHEMBL3678951  FC(F)(F)c1cc(Nc2n(C(C)C)c3nc(Nc4ccc(N5CC[NH+](...   \n",
       "\n",
       "                                              Mol2D  \\\n",
       "0  <rdkit.Chem.rdchem.Mol object at 0x7f824651b200>   \n",
       "1  <rdkit.Chem.rdchem.Mol object at 0x7f824651b580>   \n",
       "2  <rdkit.Chem.rdchem.Mol object at 0x7f824651b6d0>   \n",
       "\n",
       "                          processed_canonical_smiles  \n",
       "0   Lc1c(OCc2cc(F)ccc2)ccc(Nc2c(C#Cc3ncccn3)cncn2)c1  \n",
       "1  LCC(=O)OCCN1C(=O)Oc2c1cc1c(Nc3cc(L)c(F)cc3)ncn...  \n",
       "2  FC(F)(F)c1cc(Nc2n(C(C)C)c3nc(Nc4ccc(N5CC[NH+](...  "
      ]
     },
     "execution_count": 12,
     "metadata": {},
     "output_type": "execute_result"
    }
   ],
   "source": [
    "# Calling function\n",
    "df, unique_char = preprocessing_data(df, replace_dict)\n",
    "df.head(3)"
   ]
  },
  {
   "cell_type": "code",
   "execution_count": 13,
   "metadata": {
    "tags": []
   },
   "outputs": [
    {
     "name": "stdout",
     "output_type": "stream",
     "text": [
      "All unique characters found in the preprocessed data set:\n",
      "['#', '(', ')', '+', '-', '/', '0', '1', '2', '3', '4', '5', '6', '7', '=', '@', 'B', 'C', 'F', 'H', 'I', 'L', 'N', 'O', 'P', 'R', 'S', 'X', 'Z', '[', '\\\\', ']', 'c', 'n', 'o', 's']\n"
     ]
    }
   ],
   "source": [
    "# Print unique characters\n",
    "print(f\"All unique characters found in the preprocessed data set:\\n{sorted(unique_char)}\")\n",
    "# NBVAL_CHECK_OUTPUT"
   ]
  },
  {
   "cell_type": "markdown",
   "metadata": {},
   "source": [
    "#### Compute longest (& shortest) SMILES\n",
    "\n",
    "Here, we compute the length and the indices in the data frame of the longest and shortest SMILES, which we will use later in the sections for visualization purpose."
   ]
  },
  {
   "cell_type": "code",
   "execution_count": 14,
   "metadata": {
    "tags": []
   },
   "outputs": [
    {
     "name": "stdout",
     "output_type": "stream",
     "text": [
      "Longest SMILES: O=C(N[C@@H]1C(=O)N[C@H](CCC[NH3+])C(=O)N[C@@H]([C@H](CC)C)C(=O)N[C@H](Cc2ccccc2)C(=O)N[C@@H](Cc2[nH]cnc2)C(=O)N[C@H](CC(=O)[O-])C(=O)N[C@@H](CC(=O)N)C(=O)NCCCC1)[C@@H](NC(=O)[C@H](NC(=O)[C@@H](NC(=O)[C@H]1N=C([C@@H]([NH3+])[C@H](CC)C)SC1)CC(C)C)CCC(=O)[O-])[C@H](CC)C\n",
      "Contains 267 characters, index in dataframe: 2704.\n"
     ]
    }
   ],
   "source": [
    "# Index of the longest SMILES string\n",
    "longest_smiles = max(df[\"canonical_smiles\"], key=len)\n",
    "longest_smiles_index = df.canonical_smiles[df.canonical_smiles == longest_smiles].index.tolist()\n",
    "print(f\"Longest SMILES: {longest_smiles}\")\n",
    "print(f\"Contains {len(longest_smiles)} characters, index in dataframe: {longest_smiles_index[0]}.\")\n",
    "smiles_maxlen = len(longest_smiles)\n",
    "# NBVAL_CHECK_OUTPUT"
   ]
  },
  {
   "cell_type": "code",
   "execution_count": 15,
   "metadata": {
    "tags": []
   },
   "outputs": [
    {
     "name": "stdout",
     "output_type": "stream",
     "text": [
      "Shortest SMILES: Oc1c(O)cccc1\n",
      "Contains 12 characters, index in dataframe: 3428.\n"
     ]
    }
   ],
   "source": [
    "# Index of the shortest SMILES string\n",
    "shortest_smiles = min(df[\"canonical_smiles\"], key=len)\n",
    "shortest_smiles_index = df.canonical_smiles[df.canonical_smiles == shortest_smiles].index.tolist()\n",
    "print(f\"Shortest SMILES: {shortest_smiles}\")\n",
    "print(\n",
    "    f\"Contains {len(shortest_smiles)} characters, index in dataframe: {shortest_smiles_index[0]}.\"\n",
    ")\n",
    "# NBVAL_CHECK_OUTPUT"
   ]
  },
  {
   "cell_type": "markdown",
   "metadata": {},
   "source": [
    "### Python one-hot encoding implementation"
   ]
  },
  {
   "cell_type": "markdown",
   "metadata": {},
   "source": [
    "#### One-hot encode (padding=True)\n",
    "\n",
    "We define a function `smiles_encoder` that takes SMILES, the maximum length of the SMILES string (`max_len`) for padding and the list of unique characters (`unique_char`) present in the `processed_canonical_smiles` column; and returns the one-hot encoded matrix of fixed shape."
   ]
  },
  {
   "cell_type": "code",
   "execution_count": 16,
   "metadata": {
    "tags": []
   },
   "outputs": [],
   "source": [
    "# Function defined to create one-hot encoded matrix\n",
    "def smiles_encoder(smiles, max_len, unique_char):\n",
    "    \"\"\"\n",
    "    Function defined using all unique characters in our\n",
    "    processed canonical SMILES structures created\n",
    "    with the preprocessing_data function.\n",
    "\n",
    "    Parameters\n",
    "    ----------\n",
    "    smiles : str\n",
    "         SMILES of a molecule in string format.\n",
    "    unique_char : list\n",
    "         List of unique characters in the string data set.\n",
    "    max_len : int\n",
    "         Maximum length of the SMILES string.\n",
    "\n",
    "    Returns\n",
    "    -------\n",
    "    smiles_matrix : numpy.ndarray\n",
    "         One-hot encoded matrix of fixed shape\n",
    "         (unique char in smiles, max SMILES length).\n",
    "    \"\"\"\n",
    "    # create dictionary of the unique char data set\n",
    "    smi2index = {char: index for index, char in enumerate(unique_char)}\n",
    "    # one-hot encoding\n",
    "    # zero padding to max_len\n",
    "    smiles_matrix = np.zeros((len(unique_char), max_len))\n",
    "    for index, char in enumerate(smiles):\n",
    "        smiles_matrix[smi2index[char], index] = 1\n",
    "    return smiles_matrix"
   ]
  },
  {
   "cell_type": "code",
   "execution_count": 17,
   "metadata": {
    "tags": []
   },
   "outputs": [
    {
     "data": {
      "text/html": [
       "<div>\n",
       "<style scoped>\n",
       "    .dataframe tbody tr th:only-of-type {\n",
       "        vertical-align: middle;\n",
       "    }\n",
       "\n",
       "    .dataframe tbody tr th {\n",
       "        vertical-align: top;\n",
       "    }\n",
       "\n",
       "    .dataframe thead th {\n",
       "        text-align: right;\n",
       "    }\n",
       "</style>\n",
       "<table border=\"1\" class=\"dataframe\">\n",
       "  <thead>\n",
       "    <tr style=\"text-align: right;\">\n",
       "      <th></th>\n",
       "      <th>chembl_id</th>\n",
       "      <th>canonical_smiles</th>\n",
       "      <th>Mol2D</th>\n",
       "      <th>processed_canonical_smiles</th>\n",
       "      <th>unique_char_ohe_matrix</th>\n",
       "    </tr>\n",
       "  </thead>\n",
       "  <tbody>\n",
       "    <tr>\n",
       "      <th>0</th>\n",
       "      <td>CHEMBL207869</td>\n",
       "      <td>Clc1c(OCc2cc(F)ccc2)ccc(Nc2c(C#Cc3ncccn3)cncn2)c1</td>\n",
       "      <td>&lt;rdkit.Chem.rdchem.Mol object at 0x7f824651b200&gt;</td>\n",
       "      <td>Lc1c(OCc2cc(F)ccc2)ccc(Nc2c(C#Cc3ncccn3)cncn2)c1</td>\n",
       "      <td>[[0.0, 0.0, 0.0, 0.0, 0.0, 0.0, 0.0, 0.0, 0.0,...</td>\n",
       "    </tr>\n",
       "    <tr>\n",
       "      <th>1</th>\n",
       "      <td>CHEMBL3940060</td>\n",
       "      <td>ClCC(=O)OCCN1C(=O)Oc2c1cc1c(Nc3cc(Cl)c(F)cc3)n...</td>\n",
       "      <td>&lt;rdkit.Chem.rdchem.Mol object at 0x7f824651b580&gt;</td>\n",
       "      <td>LCC(=O)OCCN1C(=O)Oc2c1cc1c(Nc3cc(L)c(F)cc3)ncn...</td>\n",
       "      <td>[[0.0, 0.0, 0.0, 0.0, 0.0, 0.0, 0.0, 0.0, 0.0,...</td>\n",
       "    </tr>\n",
       "    <tr>\n",
       "      <th>2</th>\n",
       "      <td>CHEMBL3678951</td>\n",
       "      <td>FC(F)(F)c1cc(Nc2n(C(C)C)c3nc(Nc4ccc(N5CC[NH+](...</td>\n",
       "      <td>&lt;rdkit.Chem.rdchem.Mol object at 0x7f824651b6d0&gt;</td>\n",
       "      <td>FC(F)(F)c1cc(Nc2n(C(C)C)c3nc(Nc4ccc(N5CC[NH+](...</td>\n",
       "      <td>[[0.0, 0.0, 0.0, 0.0, 0.0, 0.0, 0.0, 0.0, 0.0,...</td>\n",
       "    </tr>\n",
       "  </tbody>\n",
       "</table>\n",
       "</div>"
      ],
      "text/plain": [
       "       chembl_id                                   canonical_smiles  \\\n",
       "0   CHEMBL207869  Clc1c(OCc2cc(F)ccc2)ccc(Nc2c(C#Cc3ncccn3)cncn2)c1   \n",
       "1  CHEMBL3940060  ClCC(=O)OCCN1C(=O)Oc2c1cc1c(Nc3cc(Cl)c(F)cc3)n...   \n",
       "2  CHEMBL3678951  FC(F)(F)c1cc(Nc2n(C(C)C)c3nc(Nc4ccc(N5CC[NH+](...   \n",
       "\n",
       "                                              Mol2D  \\\n",
       "0  <rdkit.Chem.rdchem.Mol object at 0x7f824651b200>   \n",
       "1  <rdkit.Chem.rdchem.Mol object at 0x7f824651b580>   \n",
       "2  <rdkit.Chem.rdchem.Mol object at 0x7f824651b6d0>   \n",
       "\n",
       "                          processed_canonical_smiles  \\\n",
       "0   Lc1c(OCc2cc(F)ccc2)ccc(Nc2c(C#Cc3ncccn3)cncn2)c1   \n",
       "1  LCC(=O)OCCN1C(=O)Oc2c1cc1c(Nc3cc(L)c(F)cc3)ncn...   \n",
       "2  FC(F)(F)c1cc(Nc2n(C(C)C)c3nc(Nc4ccc(N5CC[NH+](...   \n",
       "\n",
       "                              unique_char_ohe_matrix  \n",
       "0  [[0.0, 0.0, 0.0, 0.0, 0.0, 0.0, 0.0, 0.0, 0.0,...  \n",
       "1  [[0.0, 0.0, 0.0, 0.0, 0.0, 0.0, 0.0, 0.0, 0.0,...  \n",
       "2  [[0.0, 0.0, 0.0, 0.0, 0.0, 0.0, 0.0, 0.0, 0.0,...  "
      ]
     },
     "execution_count": 17,
     "metadata": {},
     "output_type": "execute_result"
    }
   ],
   "source": [
    "# Apply the function to the processed canonical SMILES strings\n",
    "df[\"unique_char_ohe_matrix\"] = df[\"processed_canonical_smiles\"].apply(\n",
    "    smiles_encoder, max_len=smiles_maxlen, unique_char=unique_char\n",
    ")\n",
    "df.head(3)"
   ]
  },
  {
   "cell_type": "markdown",
   "metadata": {},
   "source": [
    "#### Visualization"
   ]
  },
  {
   "cell_type": "markdown",
   "metadata": {},
   "source": [
    "Matplotlib is a plotting library for the python programming language and Pyplot is a state-based interface to a matplotlib module which provides a MATLAB-like interface.\n",
    "The [imshow](https://matplotlib.org/3.2.1/api/_as_gen/matplotlib.pyplot.imshow.html) function in the pyplot module of the matplotlib library is used to display data as an image i.e. on a 2D space.\n",
    "\n",
    "We now visualize our one-hot encoded matrix using `imshow` by defining the `one_hot_matrix_plot` function as shown below."
   ]
  },
  {
   "cell_type": "code",
   "execution_count": 18,
   "metadata": {
    "tags": []
   },
   "outputs": [],
   "source": [
    "def one_hot_matrix_plot(ohe_matrix, smiles_char, smiles):\n",
    "    \"\"\"\n",
    "    Visualize one-hot encoded matrix\n",
    "    using matplotlib imshow() function.\n",
    "\n",
    "    Parameters\n",
    "    ----------\n",
    "    ohe_matrix : numpy.ndarray\n",
    "       One-hot encoded (ohe) matrix of shape\n",
    "       (`smiles_char`, `len(smiles)`).\n",
    "    smiles_char : list\n",
    "        List of all possible SMILES characters.\n",
    "    smiles : string\n",
    "        Original SMILES string of respective molecule.\n",
    "\n",
    "    Returns\n",
    "    ------\n",
    "    None\n",
    "\n",
    "    \"\"\"\n",
    "    im = plt.imshow(ohe_matrix, cmap=\"hot\", interpolation=\"None\")\n",
    "    plt.xlabel(\"Length of SMILES string\")\n",
    "    plt.ylabel(f\"Char in SMILES ({len(smiles_char)})\")\n",
    "    plt.title(\"Visualization of one-hot encoded matrix\")\n",
    "    plt.show()\n",
    "    print(\"Shape of one-hot matrix : \", ohe_matrix.shape)\n",
    "    print(\"Associated canonical SMILES: \", smiles)\n",
    "    return None"
   ]
  },
  {
   "cell_type": "code",
   "execution_count": 19,
   "metadata": {
    "tags": []
   },
   "outputs": [
    {
     "data": {
      "image/png": "[encoded data removed]",
      "text/plain": [
       "<Figure size 640x480 with 1 Axes>"
      ]
     },
     "metadata": {},
     "output_type": "display_data"
    },
    {
     "name": "stdout",
     "output_type": "stream",
     "text": [
      "Shape of one-hot matrix :  (36, 267)\n",
      "Associated canonical SMILES:  O=C(N[C@@H]1C(=O)N[C@H](CCC[NH3+])C(=O)N[C@@H]([C@H](CC)C)C(=O)N[C@H](Cc2ccccc2)C(=O)N[C@@H](Cc2[nH]cnc2)C(=O)N[C@H](CC(=O)[O-])C(=O)N[C@@H](CC(=O)N)C(=O)NCCCC1)[C@@H](NC(=O)[C@H](NC(=O)[C@@H](NC(=O)[C@H]1N=C([C@@H]([NH3+])[C@H](CC)C)SC1)CC(C)C)CCC(=O)[O-])[C@H](CC)C\n"
     ]
    }
   ],
   "source": [
    "# Pass the index of the longest SMILES string to visualize the matrix\n",
    "one_hot_matrix_plot(\n",
    "    df.iloc[longest_smiles_index[0]][\"unique_char_ohe_matrix\"], unique_char, longest_smiles\n",
    ")"
   ]
  },
  {
   "cell_type": "code",
   "execution_count": 20,
   "metadata": {
    "tags": []
   },
   "outputs": [
    {
     "data": {
      "image/png": "[encoded data removed]",
      "text/plain": [
       "<rdkit.Chem.rdchem.Mol at 0x7f8246467270>"
      ]
     },
     "execution_count": 20,
     "metadata": {},
     "output_type": "execute_result"
    }
   ],
   "source": [
    "# Draw the molecules with the longest SMILES\n",
    "longest_smiles_mol = Chem.MolFromSmiles(longest_smiles)\n",
    "longest_smiles_mol"
   ]
  },
  {
   "cell_type": "code",
   "execution_count": 21,
   "metadata": {
    "tags": []
   },
   "outputs": [
    {
     "data": {
      "image/png": "[encoded data removed]",
      "text/plain": [
       "<Figure size 640x480 with 1 Axes>"
      ]
     },
     "metadata": {},
     "output_type": "display_data"
    },
    {
     "name": "stdout",
     "output_type": "stream",
     "text": [
      "Shape of one-hot matrix :  (36, 267)\n",
      "Associated canonical SMILES:  Oc1c(O)cccc1\n"
     ]
    }
   ],
   "source": [
    "# Pass the index of the shortest SMILES string to visualize the matrix\n",
    "one_hot_matrix_plot(\n",
    "    df.iloc[shortest_smiles_index[0]][\"unique_char_ohe_matrix\"], unique_char, shortest_smiles\n",
    ")"
   ]
  },
  {
   "cell_type": "markdown",
   "metadata": {},
   "source": [
    "From above, the matrix visualization was performed using matplotlib `imshow` function, we can also visualize the entire matrix using the `numpy.matrix` function, e.g. the one-hot encoded matrix of the longest SMILES string as shown below."
   ]
  },
  {
   "cell_type": "code",
   "execution_count": 22,
   "metadata": {
    "tags": []
   },
   "outputs": [
    {
     "data": {
      "image/png": "[encoded data removed]",
      "text/plain": [
       "<rdkit.Chem.rdchem.Mol at 0x7f8245a5ef20>"
      ]
     },
     "execution_count": 22,
     "metadata": {},
     "output_type": "execute_result"
    }
   ],
   "source": [
    "# Draw the molecules with the shortest SMILES\n",
    "shortest_smiles_mol = Chem.MolFromSmiles(shortest_smiles)\n",
    "shortest_smiles_mol"
   ]
  },
  {
   "cell_type": "code",
   "execution_count": 23,
   "metadata": {
    "tags": []
   },
   "outputs": [
    {
     "name": "stdout",
     "output_type": "stream",
     "text": [
      "First 3 rows of the ohe matrix, representing the characters ['-', ')', 'L']\n",
      "\n",
      "[[0. 0. 0. 0. 0. 0. 0. 0. 0. 0. 0. 0. 0. 0. 0. 0. 0. 0. 0. 0. 0. 0. 0. 0.\n",
      "  0. 0. 0. 0. 0. 0. 0. 0. 0. 0. 0. 0. 0. 0. 0. 0. 0. 0. 0. 0. 0. 0. 0. 0.\n",
      "  0. 0. 0. 0. 0. 0. 0. 0. 0. 0. 0. 0. 0. 0. 0. 0. 0. 0. 0. 0. 0. 0. 0. 0.\n",
      "  0. 0. 0. 0. 0. 0. 0. 0. 0. 0. 0. 0. 0. 0. 0. 0. 0. 0. 0. 0. 0. 0. 0. 0.\n",
      "  0. 0. 0. 0. 0. 0. 0. 0. 0. 0. 0. 0. 0. 0. 0. 0. 0. 0. 0. 0. 0. 0. 0. 0.\n",
      "  0. 0. 1. 0. 0. 0. 0. 0. 0. 0. 0. 0. 0. 0. 0. 0. 0. 0. 0. 0. 0. 0. 0. 0.\n",
      "  0. 0. 0. 0. 0. 0. 0. 0. 0. 0. 0. 0. 0. 0. 0. 0. 0. 0. 0. 0. 0. 0. 0. 0.\n",
      "  0. 0. 0. 0. 0. 0. 0. 0. 0. 0. 0. 0. 0. 0. 0. 0. 0. 0. 0. 0. 0. 0. 0. 0.\n",
      "  0. 0. 0. 0. 0. 0. 0. 0. 0. 0. 0. 0. 0. 0. 0. 0. 0. 0. 0. 0. 0. 0. 0. 0.\n",
      "  0. 0. 0. 0. 0. 0. 0. 0. 0. 0. 0. 0. 0. 0. 0. 0. 0. 0. 0. 0. 0. 0. 0. 0.\n",
      "  0. 0. 0. 0. 0. 0. 0. 1. 0. 0. 0. 0. 0. 0. 0. 0. 0. 0. 0. 0. 0. 0. 0. 0.\n",
      "  0. 0. 0.]\n",
      " [0. 0. 0. 0. 0. 0. 0. 0. 0. 0. 0. 0. 0. 0. 0. 1. 0. 0. 0. 0. 0. 0. 0. 0.\n",
      "  0. 0. 0. 0. 0. 0. 0. 0. 1. 0. 0. 0. 0. 1. 0. 0. 0. 0. 0. 0. 0. 0. 0. 0.\n",
      "  0. 0. 0. 0. 0. 1. 0. 1. 0. 0. 0. 0. 1. 0. 0. 0. 0. 0. 0. 0. 0. 0. 0. 0.\n",
      "  0. 0. 0. 0. 0. 1. 0. 0. 0. 0. 1. 0. 0. 0. 0. 0. 0. 0. 0. 0. 0. 0. 0. 0.\n",
      "  0. 0. 0. 0. 0. 1. 0. 0. 0. 0. 1. 0. 0. 0. 0. 0. 0. 0. 0. 0. 0. 0. 0. 1.\n",
      "  0. 0. 0. 0. 1. 0. 0. 0. 0. 1. 0. 0. 0. 0. 0. 0. 0. 0. 0. 0. 0. 0. 1. 0.\n",
      "  1. 0. 0. 0. 0. 1. 0. 0. 0. 0. 0. 0. 1. 0. 0. 0. 0. 0. 0. 0. 0. 0. 0. 0.\n",
      "  1. 0. 0. 0. 0. 0. 0. 0. 0. 0. 0. 0. 1. 0. 0. 0. 0. 0. 0. 0. 0. 0. 0. 0.\n",
      "  1. 0. 0. 0. 0. 0. 0. 0. 0. 0. 0. 0. 0. 0. 0. 0. 0. 0. 0. 0. 0. 0. 0. 1.\n",
      "  0. 0. 0. 0. 0. 0. 0. 0. 1. 0. 1. 0. 0. 0. 1. 0. 0. 0. 0. 1. 0. 1. 0. 0.\n",
      "  0. 0. 0. 0. 1. 0. 0. 0. 0. 1. 0. 0. 0. 0. 0. 0. 0. 0. 1. 0. 0. 0. 0. 0.\n",
      "  0. 0. 0.]\n",
      " [0. 0. 0. 0. 0. 0. 0. 0. 0. 0. 0. 0. 0. 0. 0. 0. 0. 0. 0. 0. 0. 0. 0. 0.\n",
      "  0. 0. 0. 0. 0. 0. 0. 0. 0. 0. 0. 0. 0. 0. 0. 0. 0. 0. 0. 0. 0. 0. 0. 0.\n",
      "  0. 0. 0. 0. 0. 0. 0. 0. 0. 0. 0. 0. 0. 0. 0. 0. 0. 0. 0. 0. 0. 0. 0. 0.\n",
      "  0. 0. 0. 0. 0. 0. 0. 0. 0. 0. 0. 0. 0. 0. 0. 0. 0. 0. 0. 0. 0. 0. 0. 0.\n",
      "  0. 0. 0. 0. 0. 0. 0. 0. 0. 0. 0. 0. 0. 0. 0. 0. 0. 0. 0. 0. 0. 0. 0. 0.\n",
      "  0. 0. 0. 0. 0. 0. 0. 0. 0. 0. 0. 0. 0. 0. 0. 0. 0. 0. 0. 0. 0. 0. 0. 0.\n",
      "  0. 0. 0. 0. 0. 0. 0. 0. 0. 0. 0. 0. 0. 0. 0. 0. 0. 0. 0. 0. 0. 0. 0. 0.\n",
      "  0. 0. 0. 0. 0. 0. 0. 0. 0. 0. 0. 0. 0. 0. 0. 0. 0. 0. 0. 0. 0. 0. 0. 0.\n",
      "  0. 0. 0. 0. 0. 0. 0. 0. 0. 0. 0. 0. 0. 0. 0. 0. 0. 0. 0. 0. 0. 0. 0. 0.\n",
      "  0. 0. 0. 0. 0. 0. 0. 0. 0. 0. 0. 0. 0. 0. 0. 0. 0. 0. 0. 0. 0. 0. 0. 0.\n",
      "  0. 0. 0. 0. 0. 0. 0. 0. 0. 0. 0. 0. 0. 0. 0. 0. 0. 0. 0. 0. 0. 0. 0. 0.\n",
      "  0. 0. 0.]]\n"
     ]
    }
   ],
   "source": [
    "# Print the some rows of the matrix for the molecule with the longest smiles\n",
    "np.set_printoptions(threshold=np.inf)\n",
    "subset = 3\n",
    "unique_char = list(unique_char)\n",
    "print(\n",
    "    f\"First {subset} rows of the ohe matrix, representing the characters {unique_char[0:subset]}\\n\"\n",
    ")\n",
    "print(np.matrix(df.iloc[longest_smiles_index[0]][\"unique_char_ohe_matrix\"])[0:subset, :])"
   ]
  },
  {
   "cell_type": "markdown",
   "metadata": {},
   "source": [
    "## Discussion\n",
    "\n",
    "In the fields of computer aided drug discovery and development, machine learning techniques have been used for the development of novel drug candidates. The methods for designing drug targets and novel drug discovery now oftenly combine machine learning and deep learning algorithms to enhance the efficiency, efficacy, and quality of developed outputs. \n",
    "\n",
    "But to work with any machine learning or deep learning algorithms, the input data should be in machine readable format. In computed-aided drug design, we mainly deal with the categorical or textual data where we work with drug molecules which are represented in SMILES string format, therefore we have to convert these categorical data to a numerical format. \n",
    "\n",
    "**One-hot encoding** is one of the popular and efficient encoding technique which converts the data to a numerical format. It can be used an important preprocessing steps before applying any machine learning or deep learning algorithms.\n",
    "\n",
    "In this talktorial, we have applied one hot encoding after preprocessing the data to overcome some of the shortcomings such as:\n",
    "\n",
    "- Make equal dimension of the one-hot encoded matrices because SMILES strings could have unequal dimension since their string length might differ and for most machine learning application having equal dimension throughout the data set is required.\n",
    "\n",
    "- Replacing two character element such as `Cl` to a single character because while one-hot encoding, it would split `Cl` into two characters, namely `C` and `l`, and that could lead to discrepancies.  \n",
    "\n",
    "- Looking for unique characters in the data set to produce less sparse one-hot encoded matrices.\n",
    "\n",
    "\n",
    "One-hot encoding has several applications in various fields such as:\n",
    "\n",
    "- __Machine learning (neural networks)__: In machine learning , one-hot encoding is a frequently used method to deal with categorical data because many machine learning models need their input variables to be numeric.\n",
    "\n",
    "- __Natural language processing (NLP)__: For NLP, most of the times data consists of corpus of words which is categorical in nature. Consider we have vocabulary of size $N$. In the one-hot encoding technique, we map the words to the vectors of length $n$, where the $n$th digit is an indicator of the presence of the particular word. The $n$th bit of each vector indicates the presence of the $n$th word in the vocabulary. For example if we are converting words to the one-hot encoding format, then we will see vectors such as $[0000\\dots 100], [0000\\dots 010], [0000\\dots 001]$, and so on. Using this technique normal sentences can be represented as vectors and numerical operations can be then performed on this vector form."
   ]
  },
  {
   "cell_type": "markdown",
   "metadata": {},
   "source": [
    "## Quiz"
   ]
  },
  {
   "cell_type": "markdown",
   "metadata": {},
   "source": [
    "- Why is it required to have equal dimensions of the one-hot encoded matrix?\n",
    "- Is there any other way to pre-process the data?\n",
    "- How and which machine learning models can be applied on the above data set?"
   ]
  },
  {
   "cell_type": "markdown",
   "metadata": {},
   "source": [
    "## Supplementary material \n",
    "\n",
    "If you are interested in other implementations of one-hot encoding, please keep reading this section. This includes:\n",
    "\n",
    "* Exploring **scikit-learn** and **keras** implementations of one-hot encoding.\n",
    "* Performing **padding** before and after one-hot encoding."
   ]
  },
  {
   "cell_type": "markdown",
   "metadata": {},
   "source": [
    "### Scikit-learn implementation of one-hot encoding"
   ]
  },
  {
   "cell_type": "markdown",
   "metadata": {},
   "source": [
    "Before implementing one-hot encoding using scikit-learn, we have defined the functions named \n",
    "\n",
    "* `later_padding`, which adds horizontal and vertical padding to the given matrix,\n",
    "* and `initial_padding` which adds zeros to the character list after they are label encoded.\n",
    "\n",
    "Both using the `numpy.pad` function as discussed in the theory section.\n",
    "\n",
    "These functions are later used as a boolean parameter (`islaterpadding` and `isinitialpadding`) in the scikit-learn and keras implementations to choose if later padding or initial padding is required."
   ]
  },
  {
   "cell_type": "code",
   "execution_count": 24,
   "metadata": {
    "tags": []
   },
   "outputs": [],
   "source": [
    "# Function to add padding after one-hot encoding\n",
    "def later_padding(ohe_matrix, smiles_maxlen, unique_char):\n",
    "    \"\"\"\n",
    "    Add horizontal and vertical padding\n",
    "    to the given matrix using numpy.pad() function.\n",
    "\n",
    "    Parameters\n",
    "    ----------\n",
    "    ohe_matrix : ndarray\n",
    "        Character array.\n",
    "    smiles_max_len : int\n",
    "        Maximum length of the SMILES string.\n",
    "    unique_char : list\n",
    "        List of unique characters in the string data set.\n",
    "\n",
    "    Returns\n",
    "    -------\n",
    "    padded_matrix : numpy.ndarray\n",
    "           Padded one-hot encoded matrix of\n",
    "           shape (unique char in smiles, max smile_length).\n",
    "    \"\"\"\n",
    "\n",
    "    padded_matrix = np.pad(\n",
    "        ohe_matrix,\n",
    "        ((0, smiles_maxlen - len(ohe_matrix)), (0, len(unique_char) - len(ohe_matrix[0]))),\n",
    "        \"constant\",\n",
    "    )\n",
    "    return padded_matrix"
   ]
  },
  {
   "cell_type": "code",
   "execution_count": 25,
   "metadata": {
    "tags": []
   },
   "outputs": [],
   "source": [
    "# Function to add padding before one-hot encoding\n",
    "# after label (integer) encoding\n",
    "def initial_padding(smiles, max_len):\n",
    "    \"\"\"\n",
    "    Add zeroes to the list of characters\n",
    "    after integer encoding them\n",
    "\n",
    "    Parameters\n",
    "    ----------\n",
    "    smiles : str\n",
    "       SMILES string.\n",
    "    max_len : int\n",
    "       Maximum length of the SMILES string\n",
    "\n",
    "    Returns\n",
    "    -------\n",
    "    canonical_char_padded : numpy.ndarray\n",
    "      Canonical character array padded to max_len.\n",
    "    \"\"\"\n",
    "    canonical_char = list(smiles)\n",
    "    # Perform padding on the list of characters\n",
    "    canonical_char_padded = np.pad(canonical_char, (0, max_len - len(canonical_char)), \"constant\")\n",
    "    return canonical_char_padded"
   ]
  },
  {
   "cell_type": "markdown",
   "metadata": {},
   "source": [
    "**One-hot encoding using scikit-learn**\n",
    "\n",
    "Now, we proceed with our second implementation of one-hot encoding from scikit-learn. We can use the [OneHotEncoder](https://scikit-learn.org/stable/modules/generated/sklearn.preprocessing.OneHotEncoder.html) from the `sklearn` library. \n",
    "\n",
    "* The function takes only numerical categorical values, hence any value of type string should be [label_encoded](https://scikit-learn.org/stable/modules/generated/sklearn.preprocessing.LabelEncoder.html) first before one-hot encoding.\n",
    "* Thus, in the functions below first label (integer) encoded SMILES are produced, then the integer encoded SMILES are transformed to one-hot encoded matrices.\n",
    "* By default, the OneHotEncoder class returns a more efficient sparse encoding, which we disabled by setting the `sparse=False` argument."
   ]
  },
  {
   "cell_type": "code",
   "execution_count": 26,
   "metadata": {
    "tags": []
   },
   "outputs": [],
   "source": [
    "# Use Scikit-learn implementation of one-hot encoding\n",
    "def sklearn_one_hot_encoded_matrix(\n",
    "    smiles, islaterpadding, isinitialpadding, smiles_maxlen, unique_char\n",
    "):\n",
    "    \"\"\"\n",
    "    Label and one-hot encodes the SMILES\n",
    "    using sklearn LabelEncoder and OneHotEncoder implementation.\n",
    "\n",
    "    Parameters\n",
    "    ----------\n",
    "    smiles : str\n",
    "        SMILES string of a compound.\n",
    "    islaterpadding : bool\n",
    "        Paramater is `True` if `later_padding` is required,\n",
    "        `False` otherwise.\n",
    "    isinitialpadding : bool\n",
    "        Paramater is `True` if `initial_padding` is required,\n",
    "        `False` otherwise.\n",
    "    smile_maxlen : int\n",
    "       Maximum length of the SMILES string\n",
    "    unique_char : list\n",
    "        List of unique characters in the string data set.\n",
    "\n",
    "    Returns\n",
    "    -------\n",
    "    onehot_encoded : numpy.ndarray\n",
    "        One-hot encoded matrix of shape\n",
    "        (chars in individual SMILES, length of individual SMILES).\n",
    "    \"\"\"\n",
    "    # Integer encoding\n",
    "    canonical_char = list(smiles)\n",
    "    label_encoder = LabelEncoder()\n",
    "    # Fit_transform function is used to first fit the data and then transform it\n",
    "    integer_encoded = label_encoder.fit_transform(canonical_char)\n",
    "\n",
    "    # If initial padding, add zeros to vector (columns in matrix)\n",
    "    if isinitialpadding:\n",
    "        integer_encoded = initial_padding(integer_encoded, smiles_maxlen)\n",
    "\n",
    "    # One-hot encoding\n",
    "    onehot_encoder = OneHotEncoder(sparse=False)\n",
    "    # Reshape the integer encoded data\n",
    "    integer_encoded = integer_encoded.reshape(len(integer_encoded), 1)\n",
    "    onehot_encoded = onehot_encoder.fit_transform(integer_encoded)\n",
    "\n",
    "    # If later padding, add zeros to ohe matrix\n",
    "    if islaterpadding:\n",
    "        onehot_encoded = later_padding(onehot_encoded, smiles_maxlen, unique_char)\n",
    "\n",
    "    onehot_encoded = onehot_encoded.transpose()\n",
    "\n",
    "    # If initial padding, add zeros to rows\n",
    "    if isinitialpadding:\n",
    "        row_padding = np.zeros(shape=(len(unique_char) - len(onehot_encoded), smiles_maxlen))\n",
    "        onehot_encoded = np.append(onehot_encoded, row_padding, axis=0)\n",
    "    return onehot_encoded"
   ]
  },
  {
   "cell_type": "markdown",
   "metadata": {},
   "source": [
    "#### Without padding (unequal dimension)\n",
    "\n",
    "We can use the `sklearn_one_hot_encoded_matrix` function defined above to create the one-hot encoded matrix without padding. \n",
    "This will create matrices with unequal dimensions, because it will first label encode all the characters present in the SMILES strings (individually) and then one-hot encode them."
   ]
  },
  {
   "cell_type": "code",
   "execution_count": 27,
   "metadata": {
    "tags": []
   },
   "outputs": [
    {
     "data": {
      "text/html": [
       "<div>\n",
       "<style scoped>\n",
       "    .dataframe tbody tr th:only-of-type {\n",
       "        vertical-align: middle;\n",
       "    }\n",
       "\n",
       "    .dataframe tbody tr th {\n",
       "        vertical-align: top;\n",
       "    }\n",
       "\n",
       "    .dataframe thead th {\n",
       "        text-align: right;\n",
       "    }\n",
       "</style>\n",
       "<table border=\"1\" class=\"dataframe\">\n",
       "  <thead>\n",
       "    <tr style=\"text-align: right;\">\n",
       "      <th></th>\n",
       "      <th>chembl_id</th>\n",
       "      <th>canonical_smiles</th>\n",
       "      <th>Mol2D</th>\n",
       "      <th>processed_canonical_smiles</th>\n",
       "      <th>unique_char_ohe_matrix</th>\n",
       "      <th>sklearn_ohe_matrix_no_padding</th>\n",
       "    </tr>\n",
       "  </thead>\n",
       "  <tbody>\n",
       "    <tr>\n",
       "      <th>0</th>\n",
       "      <td>CHEMBL207869</td>\n",
       "      <td>Clc1c(OCc2cc(F)ccc2)ccc(Nc2c(C#Cc3ncccn3)cncn2)c1</td>\n",
       "      <td>&lt;rdkit.Chem.rdchem.Mol object at 0x7f824651b200&gt;</td>\n",
       "      <td>Lc1c(OCc2cc(F)ccc2)ccc(Nc2c(C#Cc3ncccn3)cncn2)c1</td>\n",
       "      <td>[[0.0, 0.0, 0.0, 0.0, 0.0, 0.0, 0.0, 0.0, 0.0,...</td>\n",
       "      <td>[[0.0, 0.0, 0.0, 0.0, 0.0, 0.0, 0.0, 0.0, 0.0,...</td>\n",
       "    </tr>\n",
       "    <tr>\n",
       "      <th>1</th>\n",
       "      <td>CHEMBL3940060</td>\n",
       "      <td>ClCC(=O)OCCN1C(=O)Oc2c1cc1c(Nc3cc(Cl)c(F)cc3)n...</td>\n",
       "      <td>&lt;rdkit.Chem.rdchem.Mol object at 0x7f824651b580&gt;</td>\n",
       "      <td>LCC(=O)OCCN1C(=O)Oc2c1cc1c(Nc3cc(L)c(F)cc3)ncn...</td>\n",
       "      <td>[[0.0, 0.0, 0.0, 0.0, 0.0, 0.0, 0.0, 0.0, 0.0,...</td>\n",
       "      <td>[[0.0, 0.0, 0.0, 1.0, 0.0, 0.0, 0.0, 0.0, 0.0,...</td>\n",
       "    </tr>\n",
       "  </tbody>\n",
       "</table>\n",
       "</div>"
      ],
      "text/plain": [
       "       chembl_id                                   canonical_smiles  \\\n",
       "0   CHEMBL207869  Clc1c(OCc2cc(F)ccc2)ccc(Nc2c(C#Cc3ncccn3)cncn2)c1   \n",
       "1  CHEMBL3940060  ClCC(=O)OCCN1C(=O)Oc2c1cc1c(Nc3cc(Cl)c(F)cc3)n...   \n",
       "\n",
       "                                              Mol2D  \\\n",
       "0  <rdkit.Chem.rdchem.Mol object at 0x7f824651b200>   \n",
       "1  <rdkit.Chem.rdchem.Mol object at 0x7f824651b580>   \n",
       "\n",
       "                          processed_canonical_smiles  \\\n",
       "0   Lc1c(OCc2cc(F)ccc2)ccc(Nc2c(C#Cc3ncccn3)cncn2)c1   \n",
       "1  LCC(=O)OCCN1C(=O)Oc2c1cc1c(Nc3cc(L)c(F)cc3)ncn...   \n",
       "\n",
       "                              unique_char_ohe_matrix  \\\n",
       "0  [[0.0, 0.0, 0.0, 0.0, 0.0, 0.0, 0.0, 0.0, 0.0,...   \n",
       "1  [[0.0, 0.0, 0.0, 0.0, 0.0, 0.0, 0.0, 0.0, 0.0,...   \n",
       "\n",
       "                       sklearn_ohe_matrix_no_padding  \n",
       "0  [[0.0, 0.0, 0.0, 0.0, 0.0, 0.0, 0.0, 0.0, 0.0,...  \n",
       "1  [[0.0, 0.0, 0.0, 1.0, 0.0, 0.0, 0.0, 0.0, 0.0,...  "
      ]
     },
     "execution_count": 27,
     "metadata": {},
     "output_type": "execute_result"
    }
   ],
   "source": [
    "# Apply the function over the processed canonical SMILES strings\n",
    "df[\"sklearn_ohe_matrix_no_padding\"] = df[\"processed_canonical_smiles\"].apply(\n",
    "    sklearn_one_hot_encoded_matrix,\n",
    "    islaterpadding=False,\n",
    "    isinitialpadding=False,\n",
    "    smiles_maxlen=smiles_maxlen,\n",
    "    unique_char=unique_char,\n",
    ")\n",
    "df.head(2)"
   ]
  },
  {
   "cell_type": "markdown",
   "metadata": {},
   "source": [
    "**Visualization of one-hot encoded matrix (unequal dimension)**"
   ]
  },
  {
   "cell_type": "code",
   "execution_count": 28,
   "metadata": {
    "tags": []
   },
   "outputs": [
    {
     "data": {
      "image/png": "[encoded data removed]",
      "text/plain": [
       "<Figure size 640x480 with 1 Axes>"
      ]
     },
     "metadata": {},
     "output_type": "display_data"
    },
    {
     "name": "stdout",
     "output_type": "stream",
     "text": [
      "Shape of one-hot matrix :  (15, 43)\n",
      "Associated canonical SMILES:  N([C@H](C)c1ccccc1)c1ncnc2oc(-c3ccccc3)cc12\n"
     ]
    }
   ],
   "source": [
    "# Choose index of the compound for which the OHE matrix is visualised\n",
    "index = 100\n",
    "one_hot_matrix_plot(\n",
    "    df.iloc[index][\"sklearn_ohe_matrix_no_padding\"],\n",
    "    df.iloc[index][\"sklearn_ohe_matrix_no_padding\"],\n",
    "    df.iloc[index][\"processed_canonical_smiles\"],\n",
    ")"
   ]
  },
  {
   "cell_type": "markdown",
   "metadata": {},
   "source": [
    "#### With padding (equal dimension)\n",
    "Padding can either be done before or after one-hot encoding is performed on the SMILES strings, meaning after we label encode the SMILES characters. \n",
    "We discuss both scenarios in the next sections."
   ]
  },
  {
   "cell_type": "markdown",
   "metadata": {},
   "source": [
    "##### Padding after one-hot encoding is performed\n",
    "\n",
    "We simply pass **True** to the `islaterpadding` boolean parameter to the `sklearn_one_hot_encoded_matrix` function as shown below to pad the matrix after one-hot encoding is performed,"
   ]
  },
  {
   "cell_type": "code",
   "execution_count": 29,
   "metadata": {
    "tags": []
   },
   "outputs": [
    {
     "data": {
      "text/html": [
       "<div>\n",
       "<style scoped>\n",
       "    .dataframe tbody tr th:only-of-type {\n",
       "        vertical-align: middle;\n",
       "    }\n",
       "\n",
       "    .dataframe tbody tr th {\n",
       "        vertical-align: top;\n",
       "    }\n",
       "\n",
       "    .dataframe thead th {\n",
       "        text-align: right;\n",
       "    }\n",
       "</style>\n",
       "<table border=\"1\" class=\"dataframe\">\n",
       "  <thead>\n",
       "    <tr style=\"text-align: right;\">\n",
       "      <th></th>\n",
       "      <th>chembl_id</th>\n",
       "      <th>canonical_smiles</th>\n",
       "      <th>Mol2D</th>\n",
       "      <th>processed_canonical_smiles</th>\n",
       "      <th>unique_char_ohe_matrix</th>\n",
       "      <th>sklearn_ohe_matrix_no_padding</th>\n",
       "      <th>sklearn_ohe_matrix_later_padding</th>\n",
       "    </tr>\n",
       "  </thead>\n",
       "  <tbody>\n",
       "    <tr>\n",
       "      <th>0</th>\n",
       "      <td>CHEMBL207869</td>\n",
       "      <td>Clc1c(OCc2cc(F)ccc2)ccc(Nc2c(C#Cc3ncccn3)cncn2)c1</td>\n",
       "      <td>&lt;rdkit.Chem.rdchem.Mol object at 0x7f824651b200&gt;</td>\n",
       "      <td>Lc1c(OCc2cc(F)ccc2)ccc(Nc2c(C#Cc3ncccn3)cncn2)c1</td>\n",
       "      <td>[[0.0, 0.0, 0.0, 0.0, 0.0, 0.0, 0.0, 0.0, 0.0,...</td>\n",
       "      <td>[[0.0, 0.0, 0.0, 0.0, 0.0, 0.0, 0.0, 0.0, 0.0,...</td>\n",
       "      <td>[[0.0, 0.0, 0.0, 0.0, 0.0, 0.0, 0.0, 0.0, 0.0,...</td>\n",
       "    </tr>\n",
       "    <tr>\n",
       "      <th>1</th>\n",
       "      <td>CHEMBL3940060</td>\n",
       "      <td>ClCC(=O)OCCN1C(=O)Oc2c1cc1c(Nc3cc(Cl)c(F)cc3)n...</td>\n",
       "      <td>&lt;rdkit.Chem.rdchem.Mol object at 0x7f824651b580&gt;</td>\n",
       "      <td>LCC(=O)OCCN1C(=O)Oc2c1cc1c(Nc3cc(L)c(F)cc3)ncn...</td>\n",
       "      <td>[[0.0, 0.0, 0.0, 0.0, 0.0, 0.0, 0.0, 0.0, 0.0,...</td>\n",
       "      <td>[[0.0, 0.0, 0.0, 1.0, 0.0, 0.0, 0.0, 0.0, 0.0,...</td>\n",
       "      <td>[[0.0, 0.0, 0.0, 1.0, 0.0, 0.0, 0.0, 0.0, 0.0,...</td>\n",
       "    </tr>\n",
       "  </tbody>\n",
       "</table>\n",
       "</div>"
      ],
      "text/plain": [
       "       chembl_id                                   canonical_smiles  \\\n",
       "0   CHEMBL207869  Clc1c(OCc2cc(F)ccc2)ccc(Nc2c(C#Cc3ncccn3)cncn2)c1   \n",
       "1  CHEMBL3940060  ClCC(=O)OCCN1C(=O)Oc2c1cc1c(Nc3cc(Cl)c(F)cc3)n...   \n",
       "\n",
       "                                              Mol2D  \\\n",
       "0  <rdkit.Chem.rdchem.Mol object at 0x7f824651b200>   \n",
       "1  <rdkit.Chem.rdchem.Mol object at 0x7f824651b580>   \n",
       "\n",
       "                          processed_canonical_smiles  \\\n",
       "0   Lc1c(OCc2cc(F)ccc2)ccc(Nc2c(C#Cc3ncccn3)cncn2)c1   \n",
       "1  LCC(=O)OCCN1C(=O)Oc2c1cc1c(Nc3cc(L)c(F)cc3)ncn...   \n",
       "\n",
       "                              unique_char_ohe_matrix  \\\n",
       "0  [[0.0, 0.0, 0.0, 0.0, 0.0, 0.0, 0.0, 0.0, 0.0,...   \n",
       "1  [[0.0, 0.0, 0.0, 0.0, 0.0, 0.0, 0.0, 0.0, 0.0,...   \n",
       "\n",
       "                       sklearn_ohe_matrix_no_padding  \\\n",
       "0  [[0.0, 0.0, 0.0, 0.0, 0.0, 0.0, 0.0, 0.0, 0.0,...   \n",
       "1  [[0.0, 0.0, 0.0, 1.0, 0.0, 0.0, 0.0, 0.0, 0.0,...   \n",
       "\n",
       "                    sklearn_ohe_matrix_later_padding  \n",
       "0  [[0.0, 0.0, 0.0, 0.0, 0.0, 0.0, 0.0, 0.0, 0.0,...  \n",
       "1  [[0.0, 0.0, 0.0, 1.0, 0.0, 0.0, 0.0, 0.0, 0.0,...  "
      ]
     },
     "execution_count": 29,
     "metadata": {},
     "output_type": "execute_result"
    }
   ],
   "source": [
    "# Apply the function over the processed canonical SMILES strings\n",
    "df[\"sklearn_ohe_matrix_later_padding\"] = df[\"processed_canonical_smiles\"].apply(\n",
    "    sklearn_one_hot_encoded_matrix,\n",
    "    islaterpadding=True,\n",
    "    isinitialpadding=False,\n",
    "    smiles_maxlen=smiles_maxlen,\n",
    "    unique_char=unique_char,\n",
    ")\n",
    "df.head(2)"
   ]
  },
  {
   "cell_type": "markdown",
   "metadata": {},
   "source": [
    "**Visualization of one-hot encoded matrix (equal dimension)**"
   ]
  },
  {
   "cell_type": "code",
   "execution_count": 30,
   "metadata": {
    "tags": []
   },
   "outputs": [
    {
     "data": {
      "image/png": "[encoded data removed]",
      "text/plain": [
       "<Figure size 640x480 with 1 Axes>"
      ]
     },
     "metadata": {},
     "output_type": "display_data"
    },
    {
     "name": "stdout",
     "output_type": "stream",
     "text": [
      "Shape of one-hot matrix :  (36, 267)\n",
      "Associated canonical SMILES:  O(C)c1c(C(=Cc2c3c(N)nc(N)nc3oc2)CCCC)cccc1\n"
     ]
    }
   ],
   "source": [
    "# Choose index of the compound for which the OHE matrix is visualised\n",
    "index = 2705\n",
    "one_hot_matrix_plot(\n",
    "    df.iloc[index][\"sklearn_ohe_matrix_later_padding\"],\n",
    "    unique_char,\n",
    "    df.iloc[index][\"processed_canonical_smiles\"],\n",
    ")"
   ]
  },
  {
   "cell_type": "markdown",
   "metadata": {},
   "source": [
    "##### Padding before one-hot encoding is performed\n",
    "\n",
    "In this case, padding is performed before OHE - but after integer encoding - the list of SMILES characters by passing **True** to the `initial_padding` boolean parameter to the `sklearn_one_hot_encoded_matrix` function."
   ]
  },
  {
   "cell_type": "code",
   "execution_count": 31,
   "metadata": {
    "tags": []
   },
   "outputs": [
    {
     "data": {
      "text/html": [
       "<div>\n",
       "<style scoped>\n",
       "    .dataframe tbody tr th:only-of-type {\n",
       "        vertical-align: middle;\n",
       "    }\n",
       "\n",
       "    .dataframe tbody tr th {\n",
       "        vertical-align: top;\n",
       "    }\n",
       "\n",
       "    .dataframe thead th {\n",
       "        text-align: right;\n",
       "    }\n",
       "</style>\n",
       "<table border=\"1\" class=\"dataframe\">\n",
       "  <thead>\n",
       "    <tr style=\"text-align: right;\">\n",
       "      <th></th>\n",
       "      <th>chembl_id</th>\n",
       "      <th>canonical_smiles</th>\n",
       "      <th>Mol2D</th>\n",
       "      <th>processed_canonical_smiles</th>\n",
       "      <th>unique_char_ohe_matrix</th>\n",
       "      <th>sklearn_ohe_matrix_no_padding</th>\n",
       "      <th>sklearn_ohe_matrix_later_padding</th>\n",
       "      <th>sklearn_ohe_matrix_initial_padding</th>\n",
       "    </tr>\n",
       "  </thead>\n",
       "  <tbody>\n",
       "    <tr>\n",
       "      <th>0</th>\n",
       "      <td>CHEMBL207869</td>\n",
       "      <td>Clc1c(OCc2cc(F)ccc2)ccc(Nc2c(C#Cc3ncccn3)cncn2)c1</td>\n",
       "      <td>&lt;rdkit.Chem.rdchem.Mol object at 0x7f824651b200&gt;</td>\n",
       "      <td>Lc1c(OCc2cc(F)ccc2)ccc(Nc2c(C#Cc3ncccn3)cncn2)c1</td>\n",
       "      <td>[[0.0, 0.0, 0.0, 0.0, 0.0, 0.0, 0.0, 0.0, 0.0,...</td>\n",
       "      <td>[[0.0, 0.0, 0.0, 0.0, 0.0, 0.0, 0.0, 0.0, 0.0,...</td>\n",
       "      <td>[[0.0, 0.0, 0.0, 0.0, 0.0, 0.0, 0.0, 0.0, 0.0,...</td>\n",
       "      <td>[[0.0, 0.0, 0.0, 0.0, 0.0, 0.0, 0.0, 0.0, 0.0,...</td>\n",
       "    </tr>\n",
       "    <tr>\n",
       "      <th>1</th>\n",
       "      <td>CHEMBL3940060</td>\n",
       "      <td>ClCC(=O)OCCN1C(=O)Oc2c1cc1c(Nc3cc(Cl)c(F)cc3)n...</td>\n",
       "      <td>&lt;rdkit.Chem.rdchem.Mol object at 0x7f824651b580&gt;</td>\n",
       "      <td>LCC(=O)OCCN1C(=O)Oc2c1cc1c(Nc3cc(L)c(F)cc3)ncn...</td>\n",
       "      <td>[[0.0, 0.0, 0.0, 0.0, 0.0, 0.0, 0.0, 0.0, 0.0,...</td>\n",
       "      <td>[[0.0, 0.0, 0.0, 1.0, 0.0, 0.0, 0.0, 0.0, 0.0,...</td>\n",
       "      <td>[[0.0, 0.0, 0.0, 1.0, 0.0, 0.0, 0.0, 0.0, 0.0,...</td>\n",
       "      <td>[[0.0, 0.0, 0.0, 1.0, 0.0, 0.0, 0.0, 0.0, 0.0,...</td>\n",
       "    </tr>\n",
       "  </tbody>\n",
       "</table>\n",
       "</div>"
      ],
      "text/plain": [
       "       chembl_id                                   canonical_smiles  \\\n",
       "0   CHEMBL207869  Clc1c(OCc2cc(F)ccc2)ccc(Nc2c(C#Cc3ncccn3)cncn2)c1   \n",
       "1  CHEMBL3940060  ClCC(=O)OCCN1C(=O)Oc2c1cc1c(Nc3cc(Cl)c(F)cc3)n...   \n",
       "\n",
       "                                              Mol2D  \\\n",
       "0  <rdkit.Chem.rdchem.Mol object at 0x7f824651b200>   \n",
       "1  <rdkit.Chem.rdchem.Mol object at 0x7f824651b580>   \n",
       "\n",
       "                          processed_canonical_smiles  \\\n",
       "0   Lc1c(OCc2cc(F)ccc2)ccc(Nc2c(C#Cc3ncccn3)cncn2)c1   \n",
       "1  LCC(=O)OCCN1C(=O)Oc2c1cc1c(Nc3cc(L)c(F)cc3)ncn...   \n",
       "\n",
       "                              unique_char_ohe_matrix  \\\n",
       "0  [[0.0, 0.0, 0.0, 0.0, 0.0, 0.0, 0.0, 0.0, 0.0,...   \n",
       "1  [[0.0, 0.0, 0.0, 0.0, 0.0, 0.0, 0.0, 0.0, 0.0,...   \n",
       "\n",
       "                       sklearn_ohe_matrix_no_padding  \\\n",
       "0  [[0.0, 0.0, 0.0, 0.0, 0.0, 0.0, 0.0, 0.0, 0.0,...   \n",
       "1  [[0.0, 0.0, 0.0, 1.0, 0.0, 0.0, 0.0, 0.0, 0.0,...   \n",
       "\n",
       "                    sklearn_ohe_matrix_later_padding  \\\n",
       "0  [[0.0, 0.0, 0.0, 0.0, 0.0, 0.0, 0.0, 0.0, 0.0,...   \n",
       "1  [[0.0, 0.0, 0.0, 1.0, 0.0, 0.0, 0.0, 0.0, 0.0,...   \n",
       "\n",
       "                  sklearn_ohe_matrix_initial_padding  \n",
       "0  [[0.0, 0.0, 0.0, 0.0, 0.0, 0.0, 0.0, 0.0, 0.0,...  \n",
       "1  [[0.0, 0.0, 0.0, 1.0, 0.0, 0.0, 0.0, 0.0, 0.0,...  "
      ]
     },
     "execution_count": 31,
     "metadata": {},
     "output_type": "execute_result"
    }
   ],
   "source": [
    "# Apply the function over the processed canonical SMILES strings\n",
    "df[\"sklearn_ohe_matrix_initial_padding\"] = df[\"processed_canonical_smiles\"].apply(\n",
    "    sklearn_one_hot_encoded_matrix,\n",
    "    islaterpadding=False,\n",
    "    isinitialpadding=True,\n",
    "    smiles_maxlen=smiles_maxlen,\n",
    "    unique_char=unique_char,\n",
    ")\n",
    "\n",
    "df.head(2)"
   ]
  },
  {
   "cell_type": "markdown",
   "metadata": {},
   "source": [
    "**Visualization of one-hot encoded matrix (equal dimension)**"
   ]
  },
  {
   "cell_type": "code",
   "execution_count": 32,
   "metadata": {
    "tags": []
   },
   "outputs": [
    {
     "data": {
      "image/png": "[encoded data removed]",
      "text/plain": [
       "<Figure size 640x480 with 1 Axes>"
      ]
     },
     "metadata": {},
     "output_type": "display_data"
    },
    {
     "name": "stdout",
     "output_type": "stream",
     "text": [
      "Shape of one-hot matrix :  (36, 267)\n",
      "Associated canonical SMILES:  O(C)c1c(C(=Cc2c3c(N)nc(N)nc3oc2)CCCC)cccc1\n"
     ]
    }
   ],
   "source": [
    "# Choose index of the compound for which the OHE matrix is visualised\n",
    "index = 2705\n",
    "one_hot_matrix_plot(\n",
    "    df.iloc[index][\"sklearn_ohe_matrix_later_padding\"],\n",
    "    unique_char,\n",
    "    df.iloc[index][\"processed_canonical_smiles\"],\n",
    ")"
   ]
  },
  {
   "cell_type": "markdown",
   "metadata": {},
   "source": [
    "### Keras implementation of one-hot encoding"
   ]
  },
  {
   "cell_type": "markdown",
   "metadata": {},
   "source": [
    "Keras is also a very powerful and intensively used library, especially employed in deep learning tasks. \n",
    "There may be a case where we have sequences or strings that are already integer encoded, then we can use the function called [to_categorical()](https://keras.io/api/utils/), provided by the keras library, to one-hot encode integer data directly, otherwise we can use [Tokenizer](https://keras.io/api/preprocessing/text/) to first integer encode the string data and then use the `to_categorical` function to one-hot encode the data."
   ]
  },
  {
   "cell_type": "code",
   "execution_count": 33,
   "metadata": {
    "tags": []
   },
   "outputs": [],
   "source": [
    "# Use keras implementation of one-hot encoding\n",
    "def keras_one_hot_encoded_matrix(smiles, islaterpadding, smiles_maxlen, unique_char):\n",
    "    \"\"\"\n",
    "    One-hot encodes the SMILES using keras\n",
    "    implementation.\n",
    "\n",
    "    Parameters\n",
    "    ----------\n",
    "    canonical_char : array\n",
    "        Canonical character array.\n",
    "    islaterpadding : bool\n",
    "        The paramater is `True` if later_padding is required,\n",
    "        `False` otherwise.\n",
    "    smiles_maxlen : int\n",
    "        Maximum length of the SMILES string.\n",
    "    unique_char : list\n",
    "        List of unique characters in the string data set.\n",
    "\n",
    "    Returns\n",
    "    -------\n",
    "    encoded : numpy.ndarray\n",
    "        One-hot encoded matrix of shape\n",
    "        (chars in SMILES, length of SMILES).\n",
    "    \"\"\"\n",
    "\n",
    "    # Integer encoding using Tokenizer\n",
    "    input_smiles = smiles\n",
    "    tokenizer = Tokenizer(char_level=True)\n",
    "    tokenizer.fit_on_texts([input_smiles])\n",
    "    integer_encoded = tokenizer.texts_to_sequences([input_smiles])[0]\n",
    "\n",
    "    # One-hot encoding using to_categorical function\n",
    "    encoded = to_categorical(integer_encoded)\n",
    "    if islaterpadding:\n",
    "        encoded = later_padding(encoded, smiles_maxlen, unique_char)\n",
    "    encoded = encoded.transpose()\n",
    "    return encoded"
   ]
  },
  {
   "cell_type": "markdown",
   "metadata": {},
   "source": [
    "Next, we implement two scenarios: \n",
    "\n",
    "- OHE without padding, which will result in unequal dimensions of the produced one-hot encoded matrix and \n",
    "- OHE with later padding by passing `True` to the boolean parameter `islaterpadding` in the `keras_one_hot_encoded_matrix` function."
   ]
  },
  {
   "cell_type": "markdown",
   "metadata": {},
   "source": [
    "#### Without padding (unequal dimension)"
   ]
  },
  {
   "cell_type": "code",
   "execution_count": 34,
   "metadata": {
    "tags": []
   },
   "outputs": [
    {
     "data": {
      "text/html": [
       "<div>\n",
       "<style scoped>\n",
       "    .dataframe tbody tr th:only-of-type {\n",
       "        vertical-align: middle;\n",
       "    }\n",
       "\n",
       "    .dataframe tbody tr th {\n",
       "        vertical-align: top;\n",
       "    }\n",
       "\n",
       "    .dataframe thead th {\n",
       "        text-align: right;\n",
       "    }\n",
       "</style>\n",
       "<table border=\"1\" class=\"dataframe\">\n",
       "  <thead>\n",
       "    <tr style=\"text-align: right;\">\n",
       "      <th></th>\n",
       "      <th>chembl_id</th>\n",
       "      <th>canonical_smiles</th>\n",
       "      <th>Mol2D</th>\n",
       "      <th>processed_canonical_smiles</th>\n",
       "      <th>unique_char_ohe_matrix</th>\n",
       "      <th>sklearn_ohe_matrix_no_padding</th>\n",
       "      <th>sklearn_ohe_matrix_later_padding</th>\n",
       "      <th>sklearn_ohe_matrix_initial_padding</th>\n",
       "      <th>keras_ohe_matrix_without_padding</th>\n",
       "    </tr>\n",
       "  </thead>\n",
       "  <tbody>\n",
       "    <tr>\n",
       "      <th>0</th>\n",
       "      <td>CHEMBL207869</td>\n",
       "      <td>Clc1c(OCc2cc(F)ccc2)ccc(Nc2c(C#Cc3ncccn3)cncn2)c1</td>\n",
       "      <td>&lt;rdkit.Chem.rdchem.Mol object at 0x7f824651b200&gt;</td>\n",
       "      <td>Lc1c(OCc2cc(F)ccc2)ccc(Nc2c(C#Cc3ncccn3)cncn2)c1</td>\n",
       "      <td>[[0.0, 0.0, 0.0, 0.0, 0.0, 0.0, 0.0, 0.0, 0.0,...</td>\n",
       "      <td>[[0.0, 0.0, 0.0, 0.0, 0.0, 0.0, 0.0, 0.0, 0.0,...</td>\n",
       "      <td>[[0.0, 0.0, 0.0, 0.0, 0.0, 0.0, 0.0, 0.0, 0.0,...</td>\n",
       "      <td>[[0.0, 0.0, 0.0, 0.0, 0.0, 0.0, 0.0, 0.0, 0.0,...</td>\n",
       "      <td>[[0.0, 0.0, 0.0, 0.0, 0.0, 0.0, 0.0, 0.0, 0.0,...</td>\n",
       "    </tr>\n",
       "    <tr>\n",
       "      <th>1</th>\n",
       "      <td>CHEMBL3940060</td>\n",
       "      <td>ClCC(=O)OCCN1C(=O)Oc2c1cc1c(Nc3cc(Cl)c(F)cc3)n...</td>\n",
       "      <td>&lt;rdkit.Chem.rdchem.Mol object at 0x7f824651b580&gt;</td>\n",
       "      <td>LCC(=O)OCCN1C(=O)Oc2c1cc1c(Nc3cc(L)c(F)cc3)ncn...</td>\n",
       "      <td>[[0.0, 0.0, 0.0, 0.0, 0.0, 0.0, 0.0, 0.0, 0.0,...</td>\n",
       "      <td>[[0.0, 0.0, 0.0, 1.0, 0.0, 0.0, 0.0, 0.0, 0.0,...</td>\n",
       "      <td>[[0.0, 0.0, 0.0, 1.0, 0.0, 0.0, 0.0, 0.0, 0.0,...</td>\n",
       "      <td>[[0.0, 0.0, 0.0, 1.0, 0.0, 0.0, 0.0, 0.0, 0.0,...</td>\n",
       "      <td>[[0.0, 0.0, 0.0, 0.0, 0.0, 0.0, 0.0, 0.0, 0.0,...</td>\n",
       "    </tr>\n",
       "  </tbody>\n",
       "</table>\n",
       "</div>"
      ],
      "text/plain": [
       "       chembl_id                                   canonical_smiles  \\\n",
       "0   CHEMBL207869  Clc1c(OCc2cc(F)ccc2)ccc(Nc2c(C#Cc3ncccn3)cncn2)c1   \n",
       "1  CHEMBL3940060  ClCC(=O)OCCN1C(=O)Oc2c1cc1c(Nc3cc(Cl)c(F)cc3)n...   \n",
       "\n",
       "                                              Mol2D  \\\n",
       "0  <rdkit.Chem.rdchem.Mol object at 0x7f824651b200>   \n",
       "1  <rdkit.Chem.rdchem.Mol object at 0x7f824651b580>   \n",
       "\n",
       "                          processed_canonical_smiles  \\\n",
       "0   Lc1c(OCc2cc(F)ccc2)ccc(Nc2c(C#Cc3ncccn3)cncn2)c1   \n",
       "1  LCC(=O)OCCN1C(=O)Oc2c1cc1c(Nc3cc(L)c(F)cc3)ncn...   \n",
       "\n",
       "                              unique_char_ohe_matrix  \\\n",
       "0  [[0.0, 0.0, 0.0, 0.0, 0.0, 0.0, 0.0, 0.0, 0.0,...   \n",
       "1  [[0.0, 0.0, 0.0, 0.0, 0.0, 0.0, 0.0, 0.0, 0.0,...   \n",
       "\n",
       "                       sklearn_ohe_matrix_no_padding  \\\n",
       "0  [[0.0, 0.0, 0.0, 0.0, 0.0, 0.0, 0.0, 0.0, 0.0,...   \n",
       "1  [[0.0, 0.0, 0.0, 1.0, 0.0, 0.0, 0.0, 0.0, 0.0,...   \n",
       "\n",
       "                    sklearn_ohe_matrix_later_padding  \\\n",
       "0  [[0.0, 0.0, 0.0, 0.0, 0.0, 0.0, 0.0, 0.0, 0.0,...   \n",
       "1  [[0.0, 0.0, 0.0, 1.0, 0.0, 0.0, 0.0, 0.0, 0.0,...   \n",
       "\n",
       "                  sklearn_ohe_matrix_initial_padding  \\\n",
       "0  [[0.0, 0.0, 0.0, 0.0, 0.0, 0.0, 0.0, 0.0, 0.0,...   \n",
       "1  [[0.0, 0.0, 0.0, 1.0, 0.0, 0.0, 0.0, 0.0, 0.0,...   \n",
       "\n",
       "                    keras_ohe_matrix_without_padding  \n",
       "0  [[0.0, 0.0, 0.0, 0.0, 0.0, 0.0, 0.0, 0.0, 0.0,...  \n",
       "1  [[0.0, 0.0, 0.0, 0.0, 0.0, 0.0, 0.0, 0.0, 0.0,...  "
      ]
     },
     "execution_count": 34,
     "metadata": {},
     "output_type": "execute_result"
    }
   ],
   "source": [
    "# Apply the function over the processed canonical SMILES strings\n",
    "df[\"keras_ohe_matrix_without_padding\"] = df[\"processed_canonical_smiles\"].apply(\n",
    "    keras_one_hot_encoded_matrix,\n",
    "    smiles_maxlen=smiles_maxlen,\n",
    "    unique_char=unique_char,\n",
    "    islaterpadding=False,\n",
    ")\n",
    "df.head(2)"
   ]
  },
  {
   "cell_type": "markdown",
   "metadata": {},
   "source": [
    "**Visualization of one-hot encoded matrix (unequal dimension)**"
   ]
  },
  {
   "cell_type": "code",
   "execution_count": 35,
   "metadata": {
    "tags": []
   },
   "outputs": [
    {
     "data": {
      "image/png": "[encoded data removed]",
      "text/plain": [
       "<Figure size 640x480 with 1 Axes>"
      ]
     },
     "metadata": {},
     "output_type": "display_data"
    },
    {
     "name": "stdout",
     "output_type": "stream",
     "text": [
      "Shape of one-hot matrix :  (14, 43)\n",
      "Associated canonical SMILES:  N([C@H](C)c1ccccc1)c1ncnc2oc(-c3ccccc3)cc12\n"
     ]
    }
   ],
   "source": [
    "# Choose index of the compound for which the OHE matrix is visualised\n",
    "index = 100\n",
    "one_hot_matrix_plot(\n",
    "    df.iloc[index][\"keras_ohe_matrix_without_padding\"],\n",
    "    df.iloc[index][\"keras_ohe_matrix_without_padding\"],\n",
    "    df.iloc[index][\"processed_canonical_smiles\"],\n",
    ")"
   ]
  },
  {
   "cell_type": "markdown",
   "metadata": {},
   "source": [
    "#### With padding (equal dimension)"
   ]
  },
  {
   "cell_type": "code",
   "execution_count": 36,
   "metadata": {
    "tags": []
   },
   "outputs": [
    {
     "data": {
      "text/html": [
       "<div>\n",
       "<style scoped>\n",
       "    .dataframe tbody tr th:only-of-type {\n",
       "        vertical-align: middle;\n",
       "    }\n",
       "\n",
       "    .dataframe tbody tr th {\n",
       "        vertical-align: top;\n",
       "    }\n",
       "\n",
       "    .dataframe thead th {\n",
       "        text-align: right;\n",
       "    }\n",
       "</style>\n",
       "<table border=\"1\" class=\"dataframe\">\n",
       "  <thead>\n",
       "    <tr style=\"text-align: right;\">\n",
       "      <th></th>\n",
       "      <th>chembl_id</th>\n",
       "      <th>canonical_smiles</th>\n",
       "      <th>Mol2D</th>\n",
       "      <th>processed_canonical_smiles</th>\n",
       "      <th>unique_char_ohe_matrix</th>\n",
       "      <th>sklearn_ohe_matrix_no_padding</th>\n",
       "      <th>sklearn_ohe_matrix_later_padding</th>\n",
       "      <th>sklearn_ohe_matrix_initial_padding</th>\n",
       "      <th>keras_ohe_matrix_without_padding</th>\n",
       "      <th>keras_ohe_matrix_padding</th>\n",
       "    </tr>\n",
       "  </thead>\n",
       "  <tbody>\n",
       "    <tr>\n",
       "      <th>0</th>\n",
       "      <td>CHEMBL207869</td>\n",
       "      <td>Clc1c(OCc2cc(F)ccc2)ccc(Nc2c(C#Cc3ncccn3)cncn2)c1</td>\n",
       "      <td>&lt;rdkit.Chem.rdchem.Mol object at 0x7f824651b200&gt;</td>\n",
       "      <td>Lc1c(OCc2cc(F)ccc2)ccc(Nc2c(C#Cc3ncccn3)cncn2)c1</td>\n",
       "      <td>[[0.0, 0.0, 0.0, 0.0, 0.0, 0.0, 0.0, 0.0, 0.0,...</td>\n",
       "      <td>[[0.0, 0.0, 0.0, 0.0, 0.0, 0.0, 0.0, 0.0, 0.0,...</td>\n",
       "      <td>[[0.0, 0.0, 0.0, 0.0, 0.0, 0.0, 0.0, 0.0, 0.0,...</td>\n",
       "      <td>[[0.0, 0.0, 0.0, 0.0, 0.0, 0.0, 0.0, 0.0, 0.0,...</td>\n",
       "      <td>[[0.0, 0.0, 0.0, 0.0, 0.0, 0.0, 0.0, 0.0, 0.0,...</td>\n",
       "      <td>[[0.0, 0.0, 0.0, 0.0, 0.0, 0.0, 0.0, 0.0, 0.0,...</td>\n",
       "    </tr>\n",
       "    <tr>\n",
       "      <th>1</th>\n",
       "      <td>CHEMBL3940060</td>\n",
       "      <td>ClCC(=O)OCCN1C(=O)Oc2c1cc1c(Nc3cc(Cl)c(F)cc3)n...</td>\n",
       "      <td>&lt;rdkit.Chem.rdchem.Mol object at 0x7f824651b580&gt;</td>\n",
       "      <td>LCC(=O)OCCN1C(=O)Oc2c1cc1c(Nc3cc(L)c(F)cc3)ncn...</td>\n",
       "      <td>[[0.0, 0.0, 0.0, 0.0, 0.0, 0.0, 0.0, 0.0, 0.0,...</td>\n",
       "      <td>[[0.0, 0.0, 0.0, 1.0, 0.0, 0.0, 0.0, 0.0, 0.0,...</td>\n",
       "      <td>[[0.0, 0.0, 0.0, 1.0, 0.0, 0.0, 0.0, 0.0, 0.0,...</td>\n",
       "      <td>[[0.0, 0.0, 0.0, 1.0, 0.0, 0.0, 0.0, 0.0, 0.0,...</td>\n",
       "      <td>[[0.0, 0.0, 0.0, 0.0, 0.0, 0.0, 0.0, 0.0, 0.0,...</td>\n",
       "      <td>[[0.0, 0.0, 0.0, 0.0, 0.0, 0.0, 0.0, 0.0, 0.0,...</td>\n",
       "    </tr>\n",
       "  </tbody>\n",
       "</table>\n",
       "</div>"
      ],
      "text/plain": [
       "       chembl_id                                   canonical_smiles  \\\n",
       "0   CHEMBL207869  Clc1c(OCc2cc(F)ccc2)ccc(Nc2c(C#Cc3ncccn3)cncn2)c1   \n",
       "1  CHEMBL3940060  ClCC(=O)OCCN1C(=O)Oc2c1cc1c(Nc3cc(Cl)c(F)cc3)n...   \n",
       "\n",
       "                                              Mol2D  \\\n",
       "0  <rdkit.Chem.rdchem.Mol object at 0x7f824651b200>   \n",
       "1  <rdkit.Chem.rdchem.Mol object at 0x7f824651b580>   \n",
       "\n",
       "                          processed_canonical_smiles  \\\n",
       "0   Lc1c(OCc2cc(F)ccc2)ccc(Nc2c(C#Cc3ncccn3)cncn2)c1   \n",
       "1  LCC(=O)OCCN1C(=O)Oc2c1cc1c(Nc3cc(L)c(F)cc3)ncn...   \n",
       "\n",
       "                              unique_char_ohe_matrix  \\\n",
       "0  [[0.0, 0.0, 0.0, 0.0, 0.0, 0.0, 0.0, 0.0, 0.0,...   \n",
       "1  [[0.0, 0.0, 0.0, 0.0, 0.0, 0.0, 0.0, 0.0, 0.0,...   \n",
       "\n",
       "                       sklearn_ohe_matrix_no_padding  \\\n",
       "0  [[0.0, 0.0, 0.0, 0.0, 0.0, 0.0, 0.0, 0.0, 0.0,...   \n",
       "1  [[0.0, 0.0, 0.0, 1.0, 0.0, 0.0, 0.0, 0.0, 0.0,...   \n",
       "\n",
       "                    sklearn_ohe_matrix_later_padding  \\\n",
       "0  [[0.0, 0.0, 0.0, 0.0, 0.0, 0.0, 0.0, 0.0, 0.0,...   \n",
       "1  [[0.0, 0.0, 0.0, 1.0, 0.0, 0.0, 0.0, 0.0, 0.0,...   \n",
       "\n",
       "                  sklearn_ohe_matrix_initial_padding  \\\n",
       "0  [[0.0, 0.0, 0.0, 0.0, 0.0, 0.0, 0.0, 0.0, 0.0,...   \n",
       "1  [[0.0, 0.0, 0.0, 1.0, 0.0, 0.0, 0.0, 0.0, 0.0,...   \n",
       "\n",
       "                    keras_ohe_matrix_without_padding  \\\n",
       "0  [[0.0, 0.0, 0.0, 0.0, 0.0, 0.0, 0.0, 0.0, 0.0,...   \n",
       "1  [[0.0, 0.0, 0.0, 0.0, 0.0, 0.0, 0.0, 0.0, 0.0,...   \n",
       "\n",
       "                            keras_ohe_matrix_padding  \n",
       "0  [[0.0, 0.0, 0.0, 0.0, 0.0, 0.0, 0.0, 0.0, 0.0,...  \n",
       "1  [[0.0, 0.0, 0.0, 0.0, 0.0, 0.0, 0.0, 0.0, 0.0,...  "
      ]
     },
     "execution_count": 36,
     "metadata": {},
     "output_type": "execute_result"
    }
   ],
   "source": [
    "# Apply the function over the Processed_canonical_smiles strings\n",
    "df[\"keras_ohe_matrix_padding\"] = df[\"processed_canonical_smiles\"].apply(\n",
    "    keras_one_hot_encoded_matrix,\n",
    "    smiles_maxlen=smiles_maxlen,\n",
    "    unique_char=unique_char,\n",
    "    islaterpadding=True,\n",
    ")\n",
    "df.head(2)"
   ]
  },
  {
   "cell_type": "markdown",
   "metadata": {},
   "source": [
    "**Visualization of one-hot encoded matrix (unequal dimension)**"
   ]
  },
  {
   "cell_type": "code",
   "execution_count": 37,
   "metadata": {
    "tags": []
   },
   "outputs": [
    {
     "data": {
      "image/png": "[encoded data removed]",
      "text/plain": [
       "<Figure size 640x480 with 1 Axes>"
      ]
     },
     "metadata": {},
     "output_type": "display_data"
    },
    {
     "name": "stdout",
     "output_type": "stream",
     "text": [
      "Shape of one-hot matrix :  (36, 267)\n",
      "Associated canonical SMILES:  O(C)c1c(C(=Cc2c3c(N)nc(N)nc3oc2)CCCC)cccc1\n"
     ]
    }
   ],
   "source": [
    "# Choose index of the compound for which the OHE matrix is visualised\n",
    "index = 2705\n",
    "one_hot_matrix_plot(\n",
    "    df.iloc[index][\"keras_ohe_matrix_padding\"],\n",
    "    unique_char,\n",
    "    df.iloc[index][\"processed_canonical_smiles\"],\n",
    ")"
   ]
  }
 ],
 "metadata": {
  "kernelspec": {
   "display_name": "Python 3 (ipykernel)",
   "language": "python",
   "name": "python3"
  },
  "language_info": {
   "codemirror_mode": {
    "name": "ipython",
    "version": 3
   },
   "file_extension": ".py",
   "mimetype": "text/x-python",
   "name": "python",
   "nbconvert_exporter": "python",
   "pygments_lexer": "ipython3",
   "version": "3.9.16"
  },
  "toc-autonumbering": true,
  "widgets": {
   "application/vnd.jupyter.widget-state+json": {
    "state": {},
    "version_major": 2,
    "version_minor": 0
   }
  }
 },
 "nbformat": 4,
 "nbformat_minor": 4
}
